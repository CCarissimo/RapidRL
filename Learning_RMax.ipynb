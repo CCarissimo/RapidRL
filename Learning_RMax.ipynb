{
 "cells": [
  {
   "cell_type": "code",
   "execution_count": 1,
   "metadata": {},
   "outputs": [],
   "source": [
    "from MDP import *\n",
    "import matplotlib.pyplot as plt\n",
    "import numpy as np\n",
    "from tqdm.auto import tqdm\n",
    "from math import floor"
   ]
  },
  {
   "cell_type": "code",
   "execution_count": 2,
   "metadata": {},
   "outputs": [
    {
     "name": "stdout",
     "output_type": "stream",
     "text": [
      "(Creating Willemsen Gridworld)\n"
     ]
    }
   ],
   "source": [
    "# Create the gridworld, and set cell values to equal rewards\n",
    "print('(Creating Willemsen Gridworld)')\n",
    "grid = np.ones((3, 9)) * -1\n",
    "grid[1,:8] = 0\n",
    "grid[1, 8] = 1\n",
    "grid[2, :8] = 0\n",
    "terminal_state = []\n",
    "for i in [0,2]:\n",
    "    for j in range(8):\n",
    "        terminal_state.append([i,j])\n",
    "terminal_state.append([1,8])\n",
    "terminal_state = np.array(terminal_state)\n",
    "initial_state = np.array([1, 0])\n",
    "blacked_state = np.array([[0, 8],[2, 8]])\n",
    "\n",
    "# fig, ax, im, cb = plot_gridworld(grid, terminal_state, initial_state, blacked_state, fig=None, ax=None, show=True)"
   ]
  },
  {
   "cell_type": "code",
   "execution_count": 3,
   "metadata": {},
   "outputs": [],
   "source": [
    "n_episodes = 100\n",
    "max_steps = 1000\n",
    "episode_timeout = 40\n",
    "gamma = 0.8\n",
    "alpha = 0.1\n",
    "n_batches = 1\n",
    "\n",
    "EXPLORATION_TYPE = 'PHASED'\n",
    "\n",
    "if EXPLORATION_TYPE == 'RANDOM':\n",
    "    epsilons = np.ones(n_episodes)\n",
    "elif EXPLORATION_TYPE == 'GRADUAL':\n",
    "    epsilons = np.flip(np.linspace(0.05, 1, n_episodes))\n",
    "elif EXPLORATION_TYPE == 'GREEDY':\n",
    "    epsilons = np.zeros(n_episodes)\n",
    "elif EXPLORATION_TYPE == 'GLOBAL':\n",
    "    epsilons = np.ones(n_episodes)\n",
    "elif EXPLORATION_TYPE == \"PHASED\":\n",
    "    epsilons = np.zeros(n_episodes)\n",
    "\n",
    "Learn = True\n",
    "batch_size = 10\n",
    "FILE_SIG = f\"Results_n={n_episodes}, nB={batch_size}, exp={EXPLORATION_TYPE} WG, N_init_1\"\n",
    "\n",
    "\n",
    "env = Gridworld(grid, terminal_state, initial_state, blacked_state, episode_timeout)\n",
    "env_greedy = Gridworld(grid, terminal_state, initial_state, blacked_state, episode_timeout)"
   ]
  },
  {
   "cell_type": "markdown",
   "metadata": {},
   "source": [
    "## Batch Run Exploration followed by Exploitation"
   ]
  },
  {
   "cell_type": "code",
   "execution_count": 12,
   "metadata": {},
   "outputs": [
    {
     "data": {
      "application/vnd.jupyter.widget-view+json": {
       "model_id": "d61405d94fc7414785294d7665c335af",
       "version_major": 2,
       "version_minor": 0
      },
      "text/plain": [
       "  0%|          | 0/1 [00:00<?, ?it/s]"
      ]
     },
     "metadata": {},
     "output_type": "display_data"
    }
   ],
   "source": [
    "M = []\n",
    "for n in tqdm(range(n_batches)):\n",
    "    agent = eGreedy(estimators = [Estimator(approximator=bellman_RMax(alpha=0.1, gamma=0.8), mask=identity())],\n",
    "                    buffer = ReplayMemory(max_size=10000),\n",
    "                    targets = [Target()],\n",
    "                    counter = state_table(),\n",
    "                    batch_size=batch_size)\n",
    "     \n",
    "    trajectories = []\n",
    "    metrics = []\n",
    "    epilen = []\n",
    "    Gn = []\n",
    "    step = 0\n",
    "    while step < max_steps:\n",
    "        # set action selection to be explorative: \"novelty\"\n",
    "        agent.action_selection = \"exploratory\"\n",
    "        agent.epsilon = 0.33\n",
    "        action = agent.select_action(env.transition)\n",
    "        transition = env.step(action)\n",
    "        agent.observe(transition)\n",
    "        Gn.append(transition.reward)\n",
    "        agent.train()\n",
    "\n",
    "        # set action selection to be exploitative: \"greedy\"\n",
    "        agent.action_selection = \"greedy\"\n",
    "        agent.epsilon = 0\n",
    "        Gg = []\n",
    "        \n",
    "        # set greedy env to the arrival state of the last transition\n",
    "        env_greedy.reset()\n",
    "\n",
    "        while not env_greedy.terminal and not env_greedy.timeout:\n",
    "            action = agent.select_action(env_greedy.transition)\n",
    "            transition = env_greedy.step(action)\n",
    "            Gg.append(transition.reward)\n",
    "\n",
    "        step += 1\n",
    "\n",
    "        metrics.append({\n",
    "            'Q': dict(agent.estimators[0].approximator.table), \n",
    "            'V': dict(agent.counter.table),\n",
    "            'U': dict(agent.estimators[0].visits),\n",
    "            'Gn': Gn,\n",
    "            'Gg': Gg,\n",
    "            'steps': step\n",
    "            })\n",
    "        \n",
    "        if env.terminal or env.timeout:\n",
    "            trajectories.append(agent.trajectory)\n",
    "            epilen.append([len(agent.trajectory), len(Gg)])\n",
    "            \n",
    "            env.reset()\n",
    "            agent.reset_trajectory()\n",
    "            Gn = []\n",
    "            \n",
    "    M.append(metrics)"
   ]
  },
  {
   "cell_type": "code",
   "execution_count": 13,
   "metadata": {},
   "outputs": [],
   "source": [
    "x = np.arange(0, M[0][-1]['steps'])\n",
    "yn = []\n",
    "yg = []\n",
    "for i, metrics in enumerate(M[0]):\n",
    "    Yn = 0\n",
    "    Yg = 0\n",
    "    for j, g in enumerate(metrics['Gn']):\n",
    "        Yn += gamma**j*g\n",
    "    for j, g in enumerate(metrics['Gg']):\n",
    "        Yg += gamma**j*g\n",
    "    \n",
    "    yn.append(Yn)\n",
    "    yg.append(Yg)"
   ]
  },
  {
   "cell_type": "code",
   "execution_count": 14,
   "metadata": {},
   "outputs": [],
   "source": [
    "cumEpilen = np.cumsum([ele[0] for ele in epilen])\n",
    "cumEpiG = np.cumsum([ele[1] for ele in epilen])"
   ]
  },
  {
   "cell_type": "code",
   "execution_count": 15,
   "metadata": {},
   "outputs": [
    {
     "data": {
      "text/plain": [
       "<matplotlib.collections.PathCollection at 0x1a1da080e50>"
      ]
     },
     "execution_count": 15,
     "metadata": {},
     "output_type": "execute_result"
    },
    {
     "data": {
      "image/png": "[encoded data removed]",
      "text/plain": [
       "<Figure size 576x360 with 2 Axes>"
      ]
     },
     "metadata": {
      "needs_background": "light"
     },
     "output_type": "display_data"
    }
   ],
   "source": [
    "%matplotlib inline\n",
    "\n",
    "fig, (ax1, ax2) = plt.subplots(nrows=2, figsize=(8,5))\n",
    "ax1.plot(x, yn, label='exploring')\n",
    "\n",
    "ax1.plot(x, yg, label='exploiting')\n",
    "\n",
    "ax1.set_ylabel('cumulative discounted reward')\n",
    "plt.xlabel('steps')\n",
    "\n",
    "ax1.legend()\n",
    "\n",
    "ax2.scatter(cumEpilen, [ele[0] for ele in epilen], s=5)\n",
    "ax2.scatter(cumEpiG, [ele[1] for ele in epilen], s=5)"
   ]
  },
  {
   "cell_type": "markdown",
   "metadata": {},
   "source": [
    "## Empirical Bootstrap Code"
   ]
  },
  {
   "cell_type": "code",
   "execution_count": 5,
   "metadata": {},
   "outputs": [],
   "source": [
    "# percentile based on\n",
    "# http://www.jtrive.com/the-empirical-bootstrap-for-confidence-intervals-in-python.html\n",
    "\n",
    "# adapted according to empirical on\n",
    "# https://github.com/LizaLebedeva/bootstrap-experiments/blob/master/bootstrap_methods.ipynb\n",
    "\n",
    "def bootstrap_empirical(data, n=1000, func=np.mean):\n",
    "    \"\"\"\n",
    "    Generate `n` bootstrap samples, evaluating `func`\n",
    "    at each resampling. `bootstrap` returns a function,\n",
    "    which can be called to obtain confidence intervals\n",
    "    of interest.\n",
    "    \"\"\"\n",
    "    simulations = list()\n",
    "    sample_size = len(data)\n",
    "    for c in range(n):\n",
    "        itersample = np.random.choice(data, size=sample_size, replace=True)\n",
    "        simulations.append(func(itersample))\n",
    "    simulations.sort()\n",
    "    obs_metric = func(data) # compute CI center from data directly\n",
    "#     simulations = simulations - obs_metric # now move bootstrap to differences\n",
    "    def ci(p):\n",
    "        \"\"\"\n",
    "        Return 2-sided symmetric confidence interval specified\n",
    "        by p.\n",
    "        \"\"\"\n",
    "        u_pval = (1+p)/2.\n",
    "        l_pval = (1-u_pval)\n",
    "        l_indx = int(np.floor(n*l_pval))\n",
    "        u_indx = int(np.floor(n*u_pval))\n",
    "        percentile_upper = simulations[l_indx]\n",
    "        percentile_lower = simulations[u_indx]\n",
    "        empirical_lower = 2*obs_metric - percentile_lower\n",
    "        empirical_upper = 2*obs_metric - percentile_upper\n",
    "        return(empirical_lower,empirical_upper)\n",
    "    return(ci)"
   ]
  },
  {
   "cell_type": "code",
   "execution_count": 6,
   "metadata": {},
   "outputs": [],
   "source": [
    "Rn = np.zeros((n_batches, n_episodes))\n",
    "Rg = np.zeros((n_batches, n_episodes))\n",
    "\n",
    "x = []\n",
    "steps = []\n",
    "\n",
    "for i, batch in enumerate(M):\n",
    "    for j, metrics in enumerate(batch):\n",
    "        for exp, g in enumerate(metrics['Gn']):\n",
    "            Rn[i,j] += gamma**exp*g\n",
    "        for exp, g in enumerate(metrics['Gg']):\n",
    "            Rg[i,j] += gamma**exp*g\n",
    "    if i == 0:\n",
    "        x.append(metrics['steps'])\n",
    "    else:\n",
    "        x.append(x[i-1]+metrics['steps'])\n",
    "    steps.append(metrics['steps'])"
   ]
  },
  {
   "cell_type": "code",
   "execution_count": 7,
   "metadata": {},
   "outputs": [],
   "source": [
    "yn = np.mean(Rn, axis=0)\n",
    "yg = np.mean(Rg, axis=0)\n",
    "ynCI = list(map(lambda p: bootstrap_empirical(p)(0.95), Rn.T))\n",
    "ygCI = list(map(lambda p: bootstrap_empirical(p)(0.95), Rg.T))\n",
    "Yn = np.transpose(ynCI)\n",
    "Yg = np.transpose(ygCI)"
   ]
  },
  {
   "cell_type": "code",
   "execution_count": 10,
   "metadata": {},
   "outputs": [
    {
     "data": {
      "application/javascript": [
       "/* Put everything inside the global mpl namespace */\n",
       "/* global mpl */\n",
       "window.mpl = {};\n",
       "\n",
       "mpl.get_websocket_type = function () {\n",
       "    if (typeof WebSocket !== 'undefined') {\n",
       "        return WebSocket;\n",
       "    } else if (typeof MozWebSocket !== 'undefined') {\n",
       "        return MozWebSocket;\n",
       "    } else {\n",
       "        alert(\n",
       "            'Your browser does not have WebSocket support. ' +\n",
       "                'Please try Chrome, Safari or Firefox ≥ 6. ' +\n",
       "                'Firefox 4 and 5 are also supported but you ' +\n",
       "                'have to enable WebSockets in about:config.'\n",
       "        );\n",
       "    }\n",
       "};\n",
       "\n",
       "mpl.figure = function (figure_id, websocket, ondownload, parent_element) {\n",
       "    this.id = figure_id;\n",
       "\n",
       "    this.ws = websocket;\n",
       "\n",
       "    this.supports_binary = this.ws.binaryType !== undefined;\n",
       "\n",
       "    if (!this.supports_binary) {\n",
       "        var warnings = document.getElementById('mpl-warnings');\n",
       "        if (warnings) {\n",
       "            warnings.style.display = 'block';\n",
       "            warnings.textContent =\n",
       "                'This browser does not support binary websocket messages. ' +\n",
       "                'Performance may be slow.';\n",
       "        }\n",
       "    }\n",
       "\n",
       "    this.imageObj = new Image();\n",
       "\n",
       "    this.context = undefined;\n",
       "    this.message = undefined;\n",
       "    this.canvas = undefined;\n",
       "    this.rubberband_canvas = undefined;\n",
       "    this.rubberband_context = undefined;\n",
       "    this.format_dropdown = undefined;\n",
       "\n",
       "    this.image_mode = 'full';\n",
       "\n",
       "    this.root = document.createElement('div');\n",
       "    this.root.setAttribute('style', 'display: inline-block');\n",
       "    this._root_extra_style(this.root);\n",
       "\n",
       "    parent_element.appendChild(this.root);\n",
       "\n",
       "    this._init_header(this);\n",
       "    this._init_canvas(this);\n",
       "    this._init_toolbar(this);\n",
       "\n",
       "    var fig = this;\n",
       "\n",
       "    this.waiting = false;\n",
       "\n",
       "    this.ws.onopen = function () {\n",
       "        fig.send_message('supports_binary', { value: fig.supports_binary });\n",
       "        fig.send_message('send_image_mode', {});\n",
       "        if (fig.ratio !== 1) {\n",
       "            fig.send_message('set_dpi_ratio', { dpi_ratio: fig.ratio });\n",
       "        }\n",
       "        fig.send_message('refresh', {});\n",
       "    };\n",
       "\n",
       "    this.imageObj.onload = function () {\n",
       "        if (fig.image_mode === 'full') {\n",
       "            // Full images could contain transparency (where diff images\n",
       "            // almost always do), so we need to clear the canvas so that\n",
       "            // there is no ghosting.\n",
       "            fig.context.clearRect(0, 0, fig.canvas.width, fig.canvas.height);\n",
       "        }\n",
       "        fig.context.drawImage(fig.imageObj, 0, 0);\n",
       "    };\n",
       "\n",
       "    this.imageObj.onunload = function () {\n",
       "        fig.ws.close();\n",
       "    };\n",
       "\n",
       "    this.ws.onmessage = this._make_on_message_function(this);\n",
       "\n",
       "    this.ondownload = ondownload;\n",
       "};\n",
       "\n",
       "mpl.figure.prototype._init_header = function () {\n",
       "    var titlebar = document.createElement('div');\n",
       "    titlebar.classList =\n",
       "        'ui-dialog-titlebar ui-widget-header ui-corner-all ui-helper-clearfix';\n",
       "    var titletext = document.createElement('div');\n",
       "    titletext.classList = 'ui-dialog-title';\n",
       "    titletext.setAttribute(\n",
       "        'style',\n",
       "        'width: 100%; text-align: center; padding: 3px;'\n",
       "    );\n",
       "    titlebar.appendChild(titletext);\n",
       "    this.root.appendChild(titlebar);\n",
       "    this.header = titletext;\n",
       "};\n",
       "\n",
       "mpl.figure.prototype._canvas_extra_style = function (_canvas_div) {};\n",
       "\n",
       "mpl.figure.prototype._root_extra_style = function (_canvas_div) {};\n",
       "\n",
       "mpl.figure.prototype._init_canvas = function () {\n",
       "    var fig = this;\n",
       "\n",
       "    var canvas_div = (this.canvas_div = document.createElement('div'));\n",
       "    canvas_div.setAttribute(\n",
       "        'style',\n",
       "        'border: 1px solid #ddd;' +\n",
       "            'box-sizing: content-box;' +\n",
       "            'clear: both;' +\n",
       "            'min-height: 1px;' +\n",
       "            'min-width: 1px;' +\n",
       "            'outline: 0;' +\n",
       "            'overflow: hidden;' +\n",
       "            'position: relative;' +\n",
       "            'resize: both;'\n",
       "    );\n",
       "\n",
       "    function on_keyboard_event_closure(name) {\n",
       "        return function (event) {\n",
       "            return fig.key_event(event, name);\n",
       "        };\n",
       "    }\n",
       "\n",
       "    canvas_div.addEventListener(\n",
       "        'keydown',\n",
       "        on_keyboard_event_closure('key_press')\n",
       "    );\n",
       "    canvas_div.addEventListener(\n",
       "        'keyup',\n",
       "        on_keyboard_event_closure('key_release')\n",
       "    );\n",
       "\n",
       "    this._canvas_extra_style(canvas_div);\n",
       "    this.root.appendChild(canvas_div);\n",
       "\n",
       "    var canvas = (this.canvas = document.createElement('canvas'));\n",
       "    canvas.classList.add('mpl-canvas');\n",
       "    canvas.setAttribute('style', 'box-sizing: content-box;');\n",
       "\n",
       "    this.context = canvas.getContext('2d');\n",
       "\n",
       "    var backingStore =\n",
       "        this.context.backingStorePixelRatio ||\n",
       "        this.context.webkitBackingStorePixelRatio ||\n",
       "        this.context.mozBackingStorePixelRatio ||\n",
       "        this.context.msBackingStorePixelRatio ||\n",
       "        this.context.oBackingStorePixelRatio ||\n",
       "        this.context.backingStorePixelRatio ||\n",
       "        1;\n",
       "\n",
       "    this.ratio = (window.devicePixelRatio || 1) / backingStore;\n",
       "    if (this.ratio !== 1) {\n",
       "        fig.send_message('set_dpi_ratio', { dpi_ratio: this.ratio });\n",
       "    }\n",
       "\n",
       "    var rubberband_canvas = (this.rubberband_canvas = document.createElement(\n",
       "        'canvas'\n",
       "    ));\n",
       "    rubberband_canvas.setAttribute(\n",
       "        'style',\n",
       "        'box-sizing: content-box; position: absolute; left: 0; top: 0; z-index: 1;'\n",
       "    );\n",
       "\n",
       "    var resizeObserver = new ResizeObserver(function (entries) {\n",
       "        var nentries = entries.length;\n",
       "        for (var i = 0; i < nentries; i++) {\n",
       "            var entry = entries[i];\n",
       "            var width, height;\n",
       "            if (entry.contentBoxSize) {\n",
       "                if (entry.contentBoxSize instanceof Array) {\n",
       "                    // Chrome 84 implements new version of spec.\n",
       "                    width = entry.contentBoxSize[0].inlineSize;\n",
       "                    height = entry.contentBoxSize[0].blockSize;\n",
       "                } else {\n",
       "                    // Firefox implements old version of spec.\n",
       "                    width = entry.contentBoxSize.inlineSize;\n",
       "                    height = entry.contentBoxSize.blockSize;\n",
       "                }\n",
       "            } else {\n",
       "                // Chrome <84 implements even older version of spec.\n",
       "                width = entry.contentRect.width;\n",
       "                height = entry.contentRect.height;\n",
       "            }\n",
       "\n",
       "            // Keep the size of the canvas and rubber band canvas in sync with\n",
       "            // the canvas container.\n",
       "            if (entry.devicePixelContentBoxSize) {\n",
       "                // Chrome 84 implements new version of spec.\n",
       "                canvas.setAttribute(\n",
       "                    'width',\n",
       "                    entry.devicePixelContentBoxSize[0].inlineSize\n",
       "                );\n",
       "                canvas.setAttribute(\n",
       "                    'height',\n",
       "                    entry.devicePixelContentBoxSize[0].blockSize\n",
       "                );\n",
       "            } else {\n",
       "                canvas.setAttribute('width', width * fig.ratio);\n",
       "                canvas.setAttribute('height', height * fig.ratio);\n",
       "            }\n",
       "            canvas.setAttribute(\n",
       "                'style',\n",
       "                'width: ' + width + 'px; height: ' + height + 'px;'\n",
       "            );\n",
       "\n",
       "            rubberband_canvas.setAttribute('width', width);\n",
       "            rubberband_canvas.setAttribute('height', height);\n",
       "\n",
       "            // And update the size in Python. We ignore the initial 0/0 size\n",
       "            // that occurs as the element is placed into the DOM, which should\n",
       "            // otherwise not happen due to the minimum size styling.\n",
       "            if (width != 0 && height != 0) {\n",
       "                fig.request_resize(width, height);\n",
       "            }\n",
       "        }\n",
       "    });\n",
       "    resizeObserver.observe(canvas_div);\n",
       "\n",
       "    function on_mouse_event_closure(name) {\n",
       "        return function (event) {\n",
       "            return fig.mouse_event(event, name);\n",
       "        };\n",
       "    }\n",
       "\n",
       "    rubberband_canvas.addEventListener(\n",
       "        'mousedown',\n",
       "        on_mouse_event_closure('button_press')\n",
       "    );\n",
       "    rubberband_canvas.addEventListener(\n",
       "        'mouseup',\n",
       "        on_mouse_event_closure('button_release')\n",
       "    );\n",
       "    // Throttle sequential mouse events to 1 every 20ms.\n",
       "    rubberband_canvas.addEventListener(\n",
       "        'mousemove',\n",
       "        on_mouse_event_closure('motion_notify')\n",
       "    );\n",
       "\n",
       "    rubberband_canvas.addEventListener(\n",
       "        'mouseenter',\n",
       "        on_mouse_event_closure('figure_enter')\n",
       "    );\n",
       "    rubberband_canvas.addEventListener(\n",
       "        'mouseleave',\n",
       "        on_mouse_event_closure('figure_leave')\n",
       "    );\n",
       "\n",
       "    canvas_div.addEventListener('wheel', function (event) {\n",
       "        if (event.deltaY < 0) {\n",
       "            event.step = 1;\n",
       "        } else {\n",
       "            event.step = -1;\n",
       "        }\n",
       "        on_mouse_event_closure('scroll')(event);\n",
       "    });\n",
       "\n",
       "    canvas_div.appendChild(canvas);\n",
       "    canvas_div.appendChild(rubberband_canvas);\n",
       "\n",
       "    this.rubberband_context = rubberband_canvas.getContext('2d');\n",
       "    this.rubberband_context.strokeStyle = '#000000';\n",
       "\n",
       "    this._resize_canvas = function (width, height, forward) {\n",
       "        if (forward) {\n",
       "            canvas_div.style.width = width + 'px';\n",
       "            canvas_div.style.height = height + 'px';\n",
       "        }\n",
       "    };\n",
       "\n",
       "    // Disable right mouse context menu.\n",
       "    this.rubberband_canvas.addEventListener('contextmenu', function (_e) {\n",
       "        event.preventDefault();\n",
       "        return false;\n",
       "    });\n",
       "\n",
       "    function set_focus() {\n",
       "        canvas.focus();\n",
       "        canvas_div.focus();\n",
       "    }\n",
       "\n",
       "    window.setTimeout(set_focus, 100);\n",
       "};\n",
       "\n",
       "mpl.figure.prototype._init_toolbar = function () {\n",
       "    var fig = this;\n",
       "\n",
       "    var toolbar = document.createElement('div');\n",
       "    toolbar.classList = 'mpl-toolbar';\n",
       "    this.root.appendChild(toolbar);\n",
       "\n",
       "    function on_click_closure(name) {\n",
       "        return function (_event) {\n",
       "            return fig.toolbar_button_onclick(name);\n",
       "        };\n",
       "    }\n",
       "\n",
       "    function on_mouseover_closure(tooltip) {\n",
       "        return function (event) {\n",
       "            if (!event.currentTarget.disabled) {\n",
       "                return fig.toolbar_button_onmouseover(tooltip);\n",
       "            }\n",
       "        };\n",
       "    }\n",
       "\n",
       "    fig.buttons = {};\n",
       "    var buttonGroup = document.createElement('div');\n",
       "    buttonGroup.classList = 'mpl-button-group';\n",
       "    for (var toolbar_ind in mpl.toolbar_items) {\n",
       "        var name = mpl.toolbar_items[toolbar_ind][0];\n",
       "        var tooltip = mpl.toolbar_items[toolbar_ind][1];\n",
       "        var image = mpl.toolbar_items[toolbar_ind][2];\n",
       "        var method_name = mpl.toolbar_items[toolbar_ind][3];\n",
       "\n",
       "        if (!name) {\n",
       "            /* Instead of a spacer, we start a new button group. */\n",
       "            if (buttonGroup.hasChildNodes()) {\n",
       "                toolbar.appendChild(buttonGroup);\n",
       "            }\n",
       "            buttonGroup = document.createElement('div');\n",
       "            buttonGroup.classList = 'mpl-button-group';\n",
       "            continue;\n",
       "        }\n",
       "\n",
       "        var button = (fig.buttons[name] = document.createElement('button'));\n",
       "        button.classList = 'mpl-widget';\n",
       "        button.setAttribute('role', 'button');\n",
       "        button.setAttribute('aria-disabled', 'false');\n",
       "        button.addEventListener('click', on_click_closure(method_name));\n",
       "        button.addEventListener('mouseover', on_mouseover_closure(tooltip));\n",
       "\n",
       "        var icon_img = document.createElement('img');\n",
       "        icon_img.src = '_images/' + image + '.png';\n",
       "        icon_img.srcset = '_images/' + image + '_large.png 2x';\n",
       "        icon_img.alt = tooltip;\n",
       "        button.appendChild(icon_img);\n",
       "\n",
       "        buttonGroup.appendChild(button);\n",
       "    }\n",
       "\n",
       "    if (buttonGroup.hasChildNodes()) {\n",
       "        toolbar.appendChild(buttonGroup);\n",
       "    }\n",
       "\n",
       "    var fmt_picker = document.createElement('select');\n",
       "    fmt_picker.classList = 'mpl-widget';\n",
       "    toolbar.appendChild(fmt_picker);\n",
       "    this.format_dropdown = fmt_picker;\n",
       "\n",
       "    for (var ind in mpl.extensions) {\n",
       "        var fmt = mpl.extensions[ind];\n",
       "        var option = document.createElement('option');\n",
       "        option.selected = fmt === mpl.default_extension;\n",
       "        option.innerHTML = fmt;\n",
       "        fmt_picker.appendChild(option);\n",
       "    }\n",
       "\n",
       "    var status_bar = document.createElement('span');\n",
       "    status_bar.classList = 'mpl-message';\n",
       "    toolbar.appendChild(status_bar);\n",
       "    this.message = status_bar;\n",
       "};\n",
       "\n",
       "mpl.figure.prototype.request_resize = function (x_pixels, y_pixels) {\n",
       "    // Request matplotlib to resize the figure. Matplotlib will then trigger a resize in the client,\n",
       "    // which will in turn request a refresh of the image.\n",
       "    this.send_message('resize', { width: x_pixels, height: y_pixels });\n",
       "};\n",
       "\n",
       "mpl.figure.prototype.send_message = function (type, properties) {\n",
       "    properties['type'] = type;\n",
       "    properties['figure_id'] = this.id;\n",
       "    this.ws.send(JSON.stringify(properties));\n",
       "};\n",
       "\n",
       "mpl.figure.prototype.send_draw_message = function () {\n",
       "    if (!this.waiting) {\n",
       "        this.waiting = true;\n",
       "        this.ws.send(JSON.stringify({ type: 'draw', figure_id: this.id }));\n",
       "    }\n",
       "};\n",
       "\n",
       "mpl.figure.prototype.handle_save = function (fig, _msg) {\n",
       "    var format_dropdown = fig.format_dropdown;\n",
       "    var format = format_dropdown.options[format_dropdown.selectedIndex].value;\n",
       "    fig.ondownload(fig, format);\n",
       "};\n",
       "\n",
       "mpl.figure.prototype.handle_resize = function (fig, msg) {\n",
       "    var size = msg['size'];\n",
       "    if (size[0] !== fig.canvas.width || size[1] !== fig.canvas.height) {\n",
       "        fig._resize_canvas(size[0], size[1], msg['forward']);\n",
       "        fig.send_message('refresh', {});\n",
       "    }\n",
       "};\n",
       "\n",
       "mpl.figure.prototype.handle_rubberband = function (fig, msg) {\n",
       "    var x0 = msg['x0'] / fig.ratio;\n",
       "    var y0 = (fig.canvas.height - msg['y0']) / fig.ratio;\n",
       "    var x1 = msg['x1'] / fig.ratio;\n",
       "    var y1 = (fig.canvas.height - msg['y1']) / fig.ratio;\n",
       "    x0 = Math.floor(x0) + 0.5;\n",
       "    y0 = Math.floor(y0) + 0.5;\n",
       "    x1 = Math.floor(x1) + 0.5;\n",
       "    y1 = Math.floor(y1) + 0.5;\n",
       "    var min_x = Math.min(x0, x1);\n",
       "    var min_y = Math.min(y0, y1);\n",
       "    var width = Math.abs(x1 - x0);\n",
       "    var height = Math.abs(y1 - y0);\n",
       "\n",
       "    fig.rubberband_context.clearRect(\n",
       "        0,\n",
       "        0,\n",
       "        fig.canvas.width / fig.ratio,\n",
       "        fig.canvas.height / fig.ratio\n",
       "    );\n",
       "\n",
       "    fig.rubberband_context.strokeRect(min_x, min_y, width, height);\n",
       "};\n",
       "\n",
       "mpl.figure.prototype.handle_figure_label = function (fig, msg) {\n",
       "    // Updates the figure title.\n",
       "    fig.header.textContent = msg['label'];\n",
       "};\n",
       "\n",
       "mpl.figure.prototype.handle_cursor = function (fig, msg) {\n",
       "    var cursor = msg['cursor'];\n",
       "    switch (cursor) {\n",
       "        case 0:\n",
       "            cursor = 'pointer';\n",
       "            break;\n",
       "        case 1:\n",
       "            cursor = 'default';\n",
       "            break;\n",
       "        case 2:\n",
       "            cursor = 'crosshair';\n",
       "            break;\n",
       "        case 3:\n",
       "            cursor = 'move';\n",
       "            break;\n",
       "    }\n",
       "    fig.rubberband_canvas.style.cursor = cursor;\n",
       "};\n",
       "\n",
       "mpl.figure.prototype.handle_message = function (fig, msg) {\n",
       "    fig.message.textContent = msg['message'];\n",
       "};\n",
       "\n",
       "mpl.figure.prototype.handle_draw = function (fig, _msg) {\n",
       "    // Request the server to send over a new figure.\n",
       "    fig.send_draw_message();\n",
       "};\n",
       "\n",
       "mpl.figure.prototype.handle_image_mode = function (fig, msg) {\n",
       "    fig.image_mode = msg['mode'];\n",
       "};\n",
       "\n",
       "mpl.figure.prototype.handle_history_buttons = function (fig, msg) {\n",
       "    for (var key in msg) {\n",
       "        if (!(key in fig.buttons)) {\n",
       "            continue;\n",
       "        }\n",
       "        fig.buttons[key].disabled = !msg[key];\n",
       "        fig.buttons[key].setAttribute('aria-disabled', !msg[key]);\n",
       "    }\n",
       "};\n",
       "\n",
       "mpl.figure.prototype.handle_navigate_mode = function (fig, msg) {\n",
       "    if (msg['mode'] === 'PAN') {\n",
       "        fig.buttons['Pan'].classList.add('active');\n",
       "        fig.buttons['Zoom'].classList.remove('active');\n",
       "    } else if (msg['mode'] === 'ZOOM') {\n",
       "        fig.buttons['Pan'].classList.remove('active');\n",
       "        fig.buttons['Zoom'].classList.add('active');\n",
       "    } else {\n",
       "        fig.buttons['Pan'].classList.remove('active');\n",
       "        fig.buttons['Zoom'].classList.remove('active');\n",
       "    }\n",
       "};\n",
       "\n",
       "mpl.figure.prototype.updated_canvas_event = function () {\n",
       "    // Called whenever the canvas gets updated.\n",
       "    this.send_message('ack', {});\n",
       "};\n",
       "\n",
       "// A function to construct a web socket function for onmessage handling.\n",
       "// Called in the figure constructor.\n",
       "mpl.figure.prototype._make_on_message_function = function (fig) {\n",
       "    return function socket_on_message(evt) {\n",
       "        if (evt.data instanceof Blob) {\n",
       "            /* FIXME: We get \"Resource interpreted as Image but\n",
       "             * transferred with MIME type text/plain:\" errors on\n",
       "             * Chrome.  But how to set the MIME type?  It doesn't seem\n",
       "             * to be part of the websocket stream */\n",
       "            evt.data.type = 'image/png';\n",
       "\n",
       "            /* Free the memory for the previous frames */\n",
       "            if (fig.imageObj.src) {\n",
       "                (window.URL || window.webkitURL).revokeObjectURL(\n",
       "                    fig.imageObj.src\n",
       "                );\n",
       "            }\n",
       "\n",
       "            fig.imageObj.src = (window.URL || window.webkitURL).createObjectURL(\n",
       "                evt.data\n",
       "            );\n",
       "            fig.updated_canvas_event();\n",
       "            fig.waiting = false;\n",
       "            return;\n",
       "        } else if (\n",
       "            typeof evt.data === 'string' &&\n",
       "            evt.data.slice(0, 21) === 'data:image/png;base64'\n",
       "        ) {\n",
       "            fig.imageObj.src = evt.data;\n",
       "            fig.updated_canvas_event();\n",
       "            fig.waiting = false;\n",
       "            return;\n",
       "        }\n",
       "\n",
       "        var msg = JSON.parse(evt.data);\n",
       "        var msg_type = msg['type'];\n",
       "\n",
       "        // Call the  \"handle_{type}\" callback, which takes\n",
       "        // the figure and JSON message as its only arguments.\n",
       "        try {\n",
       "            var callback = fig['handle_' + msg_type];\n",
       "        } catch (e) {\n",
       "            console.log(\n",
       "                \"No handler for the '\" + msg_type + \"' message type: \",\n",
       "                msg\n",
       "            );\n",
       "            return;\n",
       "        }\n",
       "\n",
       "        if (callback) {\n",
       "            try {\n",
       "                // console.log(\"Handling '\" + msg_type + \"' message: \", msg);\n",
       "                callback(fig, msg);\n",
       "            } catch (e) {\n",
       "                console.log(\n",
       "                    \"Exception inside the 'handler_\" + msg_type + \"' callback:\",\n",
       "                    e,\n",
       "                    e.stack,\n",
       "                    msg\n",
       "                );\n",
       "            }\n",
       "        }\n",
       "    };\n",
       "};\n",
       "\n",
       "// from http://stackoverflow.com/questions/1114465/getting-mouse-location-in-canvas\n",
       "mpl.findpos = function (e) {\n",
       "    //this section is from http://www.quirksmode.org/js/events_properties.html\n",
       "    var targ;\n",
       "    if (!e) {\n",
       "        e = window.event;\n",
       "    }\n",
       "    if (e.target) {\n",
       "        targ = e.target;\n",
       "    } else if (e.srcElement) {\n",
       "        targ = e.srcElement;\n",
       "    }\n",
       "    if (targ.nodeType === 3) {\n",
       "        // defeat Safari bug\n",
       "        targ = targ.parentNode;\n",
       "    }\n",
       "\n",
       "    // pageX,Y are the mouse positions relative to the document\n",
       "    var boundingRect = targ.getBoundingClientRect();\n",
       "    var x = e.pageX - (boundingRect.left + document.body.scrollLeft);\n",
       "    var y = e.pageY - (boundingRect.top + document.body.scrollTop);\n",
       "\n",
       "    return { x: x, y: y };\n",
       "};\n",
       "\n",
       "/*\n",
       " * return a copy of an object with only non-object keys\n",
       " * we need this to avoid circular references\n",
       " * http://stackoverflow.com/a/24161582/3208463\n",
       " */\n",
       "function simpleKeys(original) {\n",
       "    return Object.keys(original).reduce(function (obj, key) {\n",
       "        if (typeof original[key] !== 'object') {\n",
       "            obj[key] = original[key];\n",
       "        }\n",
       "        return obj;\n",
       "    }, {});\n",
       "}\n",
       "\n",
       "mpl.figure.prototype.mouse_event = function (event, name) {\n",
       "    var canvas_pos = mpl.findpos(event);\n",
       "\n",
       "    if (name === 'button_press') {\n",
       "        this.canvas.focus();\n",
       "        this.canvas_div.focus();\n",
       "    }\n",
       "\n",
       "    var x = canvas_pos.x * this.ratio;\n",
       "    var y = canvas_pos.y * this.ratio;\n",
       "\n",
       "    this.send_message(name, {\n",
       "        x: x,\n",
       "        y: y,\n",
       "        button: event.button,\n",
       "        step: event.step,\n",
       "        guiEvent: simpleKeys(event),\n",
       "    });\n",
       "\n",
       "    /* This prevents the web browser from automatically changing to\n",
       "     * the text insertion cursor when the button is pressed.  We want\n",
       "     * to control all of the cursor setting manually through the\n",
       "     * 'cursor' event from matplotlib */\n",
       "    event.preventDefault();\n",
       "    return false;\n",
       "};\n",
       "\n",
       "mpl.figure.prototype._key_event_extra = function (_event, _name) {\n",
       "    // Handle any extra behaviour associated with a key event\n",
       "};\n",
       "\n",
       "mpl.figure.prototype.key_event = function (event, name) {\n",
       "    // Prevent repeat events\n",
       "    if (name === 'key_press') {\n",
       "        if (event.which === this._key) {\n",
       "            return;\n",
       "        } else {\n",
       "            this._key = event.which;\n",
       "        }\n",
       "    }\n",
       "    if (name === 'key_release') {\n",
       "        this._key = null;\n",
       "    }\n",
       "\n",
       "    var value = '';\n",
       "    if (event.ctrlKey && event.which !== 17) {\n",
       "        value += 'ctrl+';\n",
       "    }\n",
       "    if (event.altKey && event.which !== 18) {\n",
       "        value += 'alt+';\n",
       "    }\n",
       "    if (event.shiftKey && event.which !== 16) {\n",
       "        value += 'shift+';\n",
       "    }\n",
       "\n",
       "    value += 'k';\n",
       "    value += event.which.toString();\n",
       "\n",
       "    this._key_event_extra(event, name);\n",
       "\n",
       "    this.send_message(name, { key: value, guiEvent: simpleKeys(event) });\n",
       "    return false;\n",
       "};\n",
       "\n",
       "mpl.figure.prototype.toolbar_button_onclick = function (name) {\n",
       "    if (name === 'download') {\n",
       "        this.handle_save(this, null);\n",
       "    } else {\n",
       "        this.send_message('toolbar_button', { name: name });\n",
       "    }\n",
       "};\n",
       "\n",
       "mpl.figure.prototype.toolbar_button_onmouseover = function (tooltip) {\n",
       "    this.message.textContent = tooltip;\n",
       "};\n",
       "mpl.toolbar_items = [[\"Home\", \"Reset original view\", \"fa fa-home icon-home\", \"home\"], [\"Back\", \"Back to previous view\", \"fa fa-arrow-left icon-arrow-left\", \"back\"], [\"Forward\", \"Forward to next view\", \"fa fa-arrow-right icon-arrow-right\", \"forward\"], [\"\", \"\", \"\", \"\"], [\"Pan\", \"Left button pans, Right button zooms\\nx/y fixes axis, CTRL fixes aspect\", \"fa fa-arrows icon-move\", \"pan\"], [\"Zoom\", \"Zoom to rectangle\\nx/y fixes axis, CTRL fixes aspect\", \"fa fa-square-o icon-check-empty\", \"zoom\"], [\"\", \"\", \"\", \"\"], [\"Download\", \"Download plot\", \"fa fa-floppy-o icon-save\", \"download\"]];\n",
       "\n",
       "mpl.extensions = [\"eps\", \"jpeg\", \"pdf\", \"png\", \"ps\", \"raw\", \"svg\", \"tif\"];\n",
       "\n",
       "mpl.default_extension = \"png\";/* global mpl */\n",
       "\n",
       "var comm_websocket_adapter = function (comm) {\n",
       "    // Create a \"websocket\"-like object which calls the given IPython comm\n",
       "    // object with the appropriate methods. Currently this is a non binary\n",
       "    // socket, so there is still some room for performance tuning.\n",
       "    var ws = {};\n",
       "\n",
       "    ws.close = function () {\n",
       "        comm.close();\n",
       "    };\n",
       "    ws.send = function (m) {\n",
       "        //console.log('sending', m);\n",
       "        comm.send(m);\n",
       "    };\n",
       "    // Register the callback with on_msg.\n",
       "    comm.on_msg(function (msg) {\n",
       "        //console.log('receiving', msg['content']['data'], msg);\n",
       "        // Pass the mpl event to the overridden (by mpl) onmessage function.\n",
       "        ws.onmessage(msg['content']['data']);\n",
       "    });\n",
       "    return ws;\n",
       "};\n",
       "\n",
       "mpl.mpl_figure_comm = function (comm, msg) {\n",
       "    // This is the function which gets called when the mpl process\n",
       "    // starts-up an IPython Comm through the \"matplotlib\" channel.\n",
       "\n",
       "    var id = msg.content.data.id;\n",
       "    // Get hold of the div created by the display call when the Comm\n",
       "    // socket was opened in Python.\n",
       "    var element = document.getElementById(id);\n",
       "    var ws_proxy = comm_websocket_adapter(comm);\n",
       "\n",
       "    function ondownload(figure, _format) {\n",
       "        window.open(figure.canvas.toDataURL());\n",
       "    }\n",
       "\n",
       "    var fig = new mpl.figure(id, ws_proxy, ondownload, element);\n",
       "\n",
       "    // Call onopen now - mpl needs it, as it is assuming we've passed it a real\n",
       "    // web socket which is closed, not our websocket->open comm proxy.\n",
       "    ws_proxy.onopen();\n",
       "\n",
       "    fig.parent_element = element;\n",
       "    fig.cell_info = mpl.find_output_cell(\"<div id='\" + id + \"'></div>\");\n",
       "    if (!fig.cell_info) {\n",
       "        console.error('Failed to find cell for figure', id, fig);\n",
       "        return;\n",
       "    }\n",
       "    fig.cell_info[0].output_area.element.one(\n",
       "        'cleared',\n",
       "        { fig: fig },\n",
       "        fig._remove_fig_handler\n",
       "    );\n",
       "};\n",
       "\n",
       "mpl.figure.prototype.handle_close = function (fig, msg) {\n",
       "    var width = fig.canvas.width / fig.ratio;\n",
       "    fig.cell_info[0].output_area.element.off(\n",
       "        'cleared',\n",
       "        fig._remove_fig_handler\n",
       "    );\n",
       "\n",
       "    // Update the output cell to use the data from the current canvas.\n",
       "    fig.push_to_output();\n",
       "    var dataURL = fig.canvas.toDataURL();\n",
       "    // Re-enable the keyboard manager in IPython - without this line, in FF,\n",
       "    // the notebook keyboard shortcuts fail.\n",
       "    IPython.keyboard_manager.enable();\n",
       "    fig.parent_element.innerHTML =\n",
       "        '<img src=\"' + dataURL + '\" width=\"' + width + '\">';\n",
       "    fig.close_ws(fig, msg);\n",
       "};\n",
       "\n",
       "mpl.figure.prototype.close_ws = function (fig, msg) {\n",
       "    fig.send_message('closing', msg);\n",
       "    // fig.ws.close()\n",
       "};\n",
       "\n",
       "mpl.figure.prototype.push_to_output = function (_remove_interactive) {\n",
       "    // Turn the data on the canvas into data in the output cell.\n",
       "    var width = this.canvas.width / this.ratio;\n",
       "    var dataURL = this.canvas.toDataURL();\n",
       "    this.cell_info[1]['text/html'] =\n",
       "        '<img src=\"' + dataURL + '\" width=\"' + width + '\">';\n",
       "};\n",
       "\n",
       "mpl.figure.prototype.updated_canvas_event = function () {\n",
       "    // Tell IPython that the notebook contents must change.\n",
       "    IPython.notebook.set_dirty(true);\n",
       "    this.send_message('ack', {});\n",
       "    var fig = this;\n",
       "    // Wait a second, then push the new image to the DOM so\n",
       "    // that it is saved nicely (might be nice to debounce this).\n",
       "    setTimeout(function () {\n",
       "        fig.push_to_output();\n",
       "    }, 1000);\n",
       "};\n",
       "\n",
       "mpl.figure.prototype._init_toolbar = function () {\n",
       "    var fig = this;\n",
       "\n",
       "    var toolbar = document.createElement('div');\n",
       "    toolbar.classList = 'btn-toolbar';\n",
       "    this.root.appendChild(toolbar);\n",
       "\n",
       "    function on_click_closure(name) {\n",
       "        return function (_event) {\n",
       "            return fig.toolbar_button_onclick(name);\n",
       "        };\n",
       "    }\n",
       "\n",
       "    function on_mouseover_closure(tooltip) {\n",
       "        return function (event) {\n",
       "            if (!event.currentTarget.disabled) {\n",
       "                return fig.toolbar_button_onmouseover(tooltip);\n",
       "            }\n",
       "        };\n",
       "    }\n",
       "\n",
       "    fig.buttons = {};\n",
       "    var buttonGroup = document.createElement('div');\n",
       "    buttonGroup.classList = 'btn-group';\n",
       "    var button;\n",
       "    for (var toolbar_ind in mpl.toolbar_items) {\n",
       "        var name = mpl.toolbar_items[toolbar_ind][0];\n",
       "        var tooltip = mpl.toolbar_items[toolbar_ind][1];\n",
       "        var image = mpl.toolbar_items[toolbar_ind][2];\n",
       "        var method_name = mpl.toolbar_items[toolbar_ind][3];\n",
       "\n",
       "        if (!name) {\n",
       "            /* Instead of a spacer, we start a new button group. */\n",
       "            if (buttonGroup.hasChildNodes()) {\n",
       "                toolbar.appendChild(buttonGroup);\n",
       "            }\n",
       "            buttonGroup = document.createElement('div');\n",
       "            buttonGroup.classList = 'btn-group';\n",
       "            continue;\n",
       "        }\n",
       "\n",
       "        button = fig.buttons[name] = document.createElement('button');\n",
       "        button.classList = 'btn btn-default';\n",
       "        button.href = '#';\n",
       "        button.title = name;\n",
       "        button.innerHTML = '<i class=\"fa ' + image + ' fa-lg\"></i>';\n",
       "        button.addEventListener('click', on_click_closure(method_name));\n",
       "        button.addEventListener('mouseover', on_mouseover_closure(tooltip));\n",
       "        buttonGroup.appendChild(button);\n",
       "    }\n",
       "\n",
       "    if (buttonGroup.hasChildNodes()) {\n",
       "        toolbar.appendChild(buttonGroup);\n",
       "    }\n",
       "\n",
       "    // Add the status bar.\n",
       "    var status_bar = document.createElement('span');\n",
       "    status_bar.classList = 'mpl-message pull-right';\n",
       "    toolbar.appendChild(status_bar);\n",
       "    this.message = status_bar;\n",
       "\n",
       "    // Add the close button to the window.\n",
       "    var buttongrp = document.createElement('div');\n",
       "    buttongrp.classList = 'btn-group inline pull-right';\n",
       "    button = document.createElement('button');\n",
       "    button.classList = 'btn btn-mini btn-primary';\n",
       "    button.href = '#';\n",
       "    button.title = 'Stop Interaction';\n",
       "    button.innerHTML = '<i class=\"fa fa-power-off icon-remove icon-large\"></i>';\n",
       "    button.addEventListener('click', function (_evt) {\n",
       "        fig.handle_close(fig, {});\n",
       "    });\n",
       "    button.addEventListener(\n",
       "        'mouseover',\n",
       "        on_mouseover_closure('Stop Interaction')\n",
       "    );\n",
       "    buttongrp.appendChild(button);\n",
       "    var titlebar = this.root.querySelector('.ui-dialog-titlebar');\n",
       "    titlebar.insertBefore(buttongrp, titlebar.firstChild);\n",
       "};\n",
       "\n",
       "mpl.figure.prototype._remove_fig_handler = function (event) {\n",
       "    var fig = event.data.fig;\n",
       "    fig.close_ws(fig, {});\n",
       "};\n",
       "\n",
       "mpl.figure.prototype._root_extra_style = function (el) {\n",
       "    el.style.boxSizing = 'content-box'; // override notebook setting of border-box.\n",
       "};\n",
       "\n",
       "mpl.figure.prototype._canvas_extra_style = function (el) {\n",
       "    // this is important to make the div 'focusable\n",
       "    el.setAttribute('tabindex', 0);\n",
       "    // reach out to IPython and tell the keyboard manager to turn it's self\n",
       "    // off when our div gets focus\n",
       "\n",
       "    // location in version 3\n",
       "    if (IPython.notebook.keyboard_manager) {\n",
       "        IPython.notebook.keyboard_manager.register_events(el);\n",
       "    } else {\n",
       "        // location in version 2\n",
       "        IPython.keyboard_manager.register_events(el);\n",
       "    }\n",
       "};\n",
       "\n",
       "mpl.figure.prototype._key_event_extra = function (event, _name) {\n",
       "    var manager = IPython.notebook.keyboard_manager;\n",
       "    if (!manager) {\n",
       "        manager = IPython.keyboard_manager;\n",
       "    }\n",
       "\n",
       "    // Check for shift+enter\n",
       "    if (event.shiftKey && event.which === 13) {\n",
       "        this.canvas_div.blur();\n",
       "        // select the cell after this one\n",
       "        var index = IPython.notebook.find_cell_index(this.cell_info[0]);\n",
       "        IPython.notebook.select(index + 1);\n",
       "    }\n",
       "};\n",
       "\n",
       "mpl.figure.prototype.handle_save = function (fig, _msg) {\n",
       "    fig.ondownload(fig, null);\n",
       "};\n",
       "\n",
       "mpl.find_output_cell = function (html_output) {\n",
       "    // Return the cell and output element which can be found *uniquely* in the notebook.\n",
       "    // Note - this is a bit hacky, but it is done because the \"notebook_saving.Notebook\"\n",
       "    // IPython event is triggered only after the cells have been serialised, which for\n",
       "    // our purposes (turning an active figure into a static one), is too late.\n",
       "    var cells = IPython.notebook.get_cells();\n",
       "    var ncells = cells.length;\n",
       "    for (var i = 0; i < ncells; i++) {\n",
       "        var cell = cells[i];\n",
       "        if (cell.cell_type === 'code') {\n",
       "            for (var j = 0; j < cell.output_area.outputs.length; j++) {\n",
       "                var data = cell.output_area.outputs[j];\n",
       "                if (data.data) {\n",
       "                    // IPython >= 3 moved mimebundle to data attribute of output\n",
       "                    data = data.data;\n",
       "                }\n",
       "                if (data['text/html'] === html_output) {\n",
       "                    return [cell, data, j];\n",
       "                }\n",
       "            }\n",
       "        }\n",
       "    }\n",
       "};\n",
       "\n",
       "// Register the function which deals with the matplotlib target/channel.\n",
       "// The kernel may be null if the page has been refreshed.\n",
       "if (IPython.notebook.kernel !== null) {\n",
       "    IPython.notebook.kernel.comm_manager.register_target(\n",
       "        'matplotlib',\n",
       "        mpl.mpl_figure_comm\n",
       "    );\n",
       "}\n"
      ],
      "text/plain": [
       "<IPython.core.display.Javascript object>"
      ]
     },
     "metadata": {},
     "output_type": "display_data"
    },
    {
     "data": {
      "text/html": [
       "<img src=\"data:image/png;base64,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\" width=\"799.9999880790713\">"
      ],
      "text/plain": [
       "<IPython.core.display.HTML object>"
      ]
     },
     "metadata": {},
     "output_type": "display_data"
    },
    {
     "data": {
      "text/plain": [
       "<matplotlib.legend.Legend at 0x272f1105a60>"
      ]
     },
     "execution_count": 10,
     "metadata": {},
     "output_type": "execute_result"
    }
   ],
   "source": [
    "%matplotlib notebook\n",
    "\n",
    "fig, (ax1, ax2) = plt.subplots(nrows=2, figsize=(8,5))\n",
    "ax1.plot(x, yn, label='exploring')\n",
    "ax1.fill_between(x, Yn[0], Yn[1], color='teal', alpha=.2)\n",
    "\n",
    "ax1.plot(x, yg, label='exploiting')\n",
    "ax1.fill_between(x, Yg[0], Yg[1], color='purple', alpha=.2)\n",
    "\n",
    "ax2.step(x, steps)\n",
    "# plt.plot([100 for i in range(10)], np.linspace(np.min(Y), np.max(Y), 10), ls='--', color='black', label='greedy threshold')\n",
    "ax1.set_ylabel('cumulative discounted reward')\n",
    "ax2.set_ylabel('episode length')\n",
    "plt.xlabel('steps')\n",
    "\n",
    "ax1.legend()"
   ]
  },
  {
   "cell_type": "code",
   "execution_count": 9,
   "metadata": {},
   "outputs": [
    {
     "data": {
      "text/plain": [
       "[[T((1, 0),right)-->(1, 1)), T((1, 1),up)-->(0, 1))],\n",
       " [T((1, 0),left)-->(1, 0)), T((1, 0),up)-->(0, 0))],\n",
       " [T((1, 0),up)-->(0, 0))],\n",
       " [T((1, 0),up)-->(0, 0))],\n",
       " [T((1, 0),up)-->(0, 0))],\n",
       " [T((1, 0),right)-->(1, 1)), T((1, 1),up)-->(0, 1))],\n",
       " [T((1, 0),up)-->(0, 0))],\n",
       " [T((1, 0),down)-->(2, 0))],\n",
       " [T((1, 0),up)-->(0, 0))],\n",
       " [T((1, 0),right)-->(1, 1)),\n",
       "  T((1, 1),left)-->(1, 0)),\n",
       "  T((1, 0),right)-->(1, 1)),\n",
       "  T((1, 1),left)-->(1, 0)),\n",
       "  T((1, 0),down)-->(2, 0))],\n",
       " [T((1, 0),up)-->(0, 0))],\n",
       " [T((1, 0),right)-->(1, 1)), T((1, 1),down)-->(2, 1))],\n",
       " [T((1, 0),down)-->(2, 0))],\n",
       " [T((1, 0),down)-->(2, 0))],\n",
       " [T((1, 0),left)-->(1, 0)), T((1, 0),down)-->(2, 0))],\n",
       " [T((1, 0),up)-->(0, 0))],\n",
       " [T((1, 0),left)-->(1, 0)),\n",
       "  T((1, 0),left)-->(1, 0)),\n",
       "  T((1, 0),left)-->(1, 0)),\n",
       "  T((1, 0),left)-->(1, 0)),\n",
       "  T((1, 0),left)-->(1, 0)),\n",
       "  T((1, 0),left)-->(1, 0)),\n",
       "  T((1, 0),left)-->(1, 0)),\n",
       "  T((1, 0),left)-->(1, 0)),\n",
       "  T((1, 0),left)-->(1, 0)),\n",
       "  T((1, 0),left)-->(1, 0)),\n",
       "  T((1, 0),left)-->(1, 0)),\n",
       "  T((1, 0),left)-->(1, 0)),\n",
       "  T((1, 0),left)-->(1, 0)),\n",
       "  T((1, 0),left)-->(1, 0)),\n",
       "  T((1, 0),left)-->(1, 0)),\n",
       "  T((1, 0),left)-->(1, 0)),\n",
       "  T((1, 0),left)-->(1, 0)),\n",
       "  T((1, 0),left)-->(1, 0)),\n",
       "  T((1, 0),left)-->(1, 0)),\n",
       "  T((1, 0),left)-->(1, 0)),\n",
       "  T((1, 0),left)-->(1, 0)),\n",
       "  T((1, 0),left)-->(1, 0)),\n",
       "  T((1, 0),left)-->(1, 0)),\n",
       "  T((1, 0),left)-->(1, 0)),\n",
       "  T((1, 0),left)-->(1, 0)),\n",
       "  T((1, 0),left)-->(1, 0)),\n",
       "  T((1, 0),right)-->(1, 1)),\n",
       "  T((1, 1),left)-->(1, 0)),\n",
       "  T((1, 0),right)-->(1, 1)),\n",
       "  T((1, 1),right)-->(1, 2)),\n",
       "  T((1, 2),right)-->(1, 3)),\n",
       "  T((1, 3),right)-->(1, 4)),\n",
       "  T((1, 4),right)-->(1, 5)),\n",
       "  T((1, 5),right)-->(1, 6)),\n",
       "  T((1, 6),right)-->(1, 7)),\n",
       "  T((1, 7),right)-->(1, 8))],\n",
       " [T((1, 0),right)-->(1, 1)),\n",
       "  T((1, 1),right)-->(1, 2)),\n",
       "  T((1, 2),down)-->(2, 2))],\n",
       " [T((1, 0),left)-->(1, 0)),\n",
       "  T((1, 0),left)-->(1, 0)),\n",
       "  T((1, 0),left)-->(1, 0)),\n",
       "  T((1, 0),left)-->(1, 0)),\n",
       "  T((1, 0),left)-->(1, 0)),\n",
       "  T((1, 0),left)-->(1, 0)),\n",
       "  T((1, 0),left)-->(1, 0)),\n",
       "  T((1, 0),left)-->(1, 0)),\n",
       "  T((1, 0),left)-->(1, 0)),\n",
       "  T((1, 0),left)-->(1, 0)),\n",
       "  T((1, 0),left)-->(1, 0)),\n",
       "  T((1, 0),left)-->(1, 0)),\n",
       "  T((1, 0),left)-->(1, 0)),\n",
       "  T((1, 0),left)-->(1, 0)),\n",
       "  T((1, 0),left)-->(1, 0)),\n",
       "  T((1, 0),left)-->(1, 0)),\n",
       "  T((1, 0),left)-->(1, 0)),\n",
       "  T((1, 0),left)-->(1, 0)),\n",
       "  T((1, 0),left)-->(1, 0)),\n",
       "  T((1, 0),left)-->(1, 0)),\n",
       "  T((1, 0),left)-->(1, 0)),\n",
       "  T((1, 0),left)-->(1, 0)),\n",
       "  T((1, 0),left)-->(1, 0)),\n",
       "  T((1, 0),left)-->(1, 0)),\n",
       "  T((1, 0),left)-->(1, 0)),\n",
       "  T((1, 0),left)-->(1, 0)),\n",
       "  T((1, 0),left)-->(1, 0)),\n",
       "  T((1, 0),left)-->(1, 0)),\n",
       "  T((1, 0),left)-->(1, 0)),\n",
       "  T((1, 0),left)-->(1, 0)),\n",
       "  T((1, 0),left)-->(1, 0)),\n",
       "  T((1, 0),left)-->(1, 0)),\n",
       "  T((1, 0),left)-->(1, 0)),\n",
       "  T((1, 0),left)-->(1, 0)),\n",
       "  T((1, 0),left)-->(1, 0)),\n",
       "  T((1, 0),left)-->(1, 0)),\n",
       "  T((1, 0),left)-->(1, 0)),\n",
       "  T((1, 0),left)-->(1, 0)),\n",
       "  T((1, 0),left)-->(1, 0)),\n",
       "  T((1, 0),left)-->(1, 0)),\n",
       "  T((1, 0),left)-->(1, 0))],\n",
       " [T((1, 0),right)-->(1, 1)),\n",
       "  T((1, 1),right)-->(1, 2)),\n",
       "  T((1, 2),right)-->(1, 3)),\n",
       "  T((1, 3),right)-->(1, 4)),\n",
       "  T((1, 4),right)-->(1, 5)),\n",
       "  T((1, 5),right)-->(1, 6)),\n",
       "  T((1, 6),right)-->(1, 7)),\n",
       "  T((1, 7),right)-->(1, 8))],\n",
       " [T((1, 0),down)-->(2, 0))],\n",
       " [T((1, 0),right)-->(1, 1)),\n",
       "  T((1, 1),right)-->(1, 2)),\n",
       "  T((1, 2),right)-->(1, 3)),\n",
       "  T((1, 3),right)-->(1, 4)),\n",
       "  T((1, 4),right)-->(1, 5)),\n",
       "  T((1, 5),right)-->(1, 6)),\n",
       "  T((1, 6),right)-->(1, 7)),\n",
       "  T((1, 7),right)-->(1, 8))],\n",
       " [T((1, 0),down)-->(2, 0))],\n",
       " [T((1, 0),right)-->(1, 1)),\n",
       "  T((1, 1),right)-->(1, 2)),\n",
       "  T((1, 2),right)-->(1, 3)),\n",
       "  T((1, 3),right)-->(1, 4)),\n",
       "  T((1, 4),right)-->(1, 5)),\n",
       "  T((1, 5),right)-->(1, 6)),\n",
       "  T((1, 6),right)-->(1, 7)),\n",
       "  T((1, 7),right)-->(1, 8))],\n",
       " [T((1, 0),down)-->(2, 0))],\n",
       " [T((1, 0),right)-->(1, 1)),\n",
       "  T((1, 1),right)-->(1, 2)),\n",
       "  T((1, 2),right)-->(1, 3)),\n",
       "  T((1, 3),right)-->(1, 4)),\n",
       "  T((1, 4),right)-->(1, 5)),\n",
       "  T((1, 5),right)-->(1, 6)),\n",
       "  T((1, 6),right)-->(1, 7)),\n",
       "  T((1, 7),right)-->(1, 8))],\n",
       " [T((1, 0),down)-->(2, 0))],\n",
       " [T((1, 0),right)-->(1, 1)),\n",
       "  T((1, 1),right)-->(1, 2)),\n",
       "  T((1, 2),right)-->(1, 3)),\n",
       "  T((1, 3),right)-->(1, 4)),\n",
       "  T((1, 4),right)-->(1, 5)),\n",
       "  T((1, 5),right)-->(1, 6)),\n",
       "  T((1, 6),right)-->(1, 7)),\n",
       "  T((1, 7),right)-->(1, 8))],\n",
       " [T((1, 0),down)-->(2, 0))],\n",
       " [T((1, 0),right)-->(1, 1)),\n",
       "  T((1, 1),right)-->(1, 2)),\n",
       "  T((1, 2),right)-->(1, 3)),\n",
       "  T((1, 3),right)-->(1, 4)),\n",
       "  T((1, 4),right)-->(1, 5)),\n",
       "  T((1, 5),right)-->(1, 6)),\n",
       "  T((1, 6),right)-->(1, 7)),\n",
       "  T((1, 7),right)-->(1, 8))],\n",
       " [T((1, 0),down)-->(2, 0))],\n",
       " [T((1, 0),right)-->(1, 1)),\n",
       "  T((1, 1),right)-->(1, 2)),\n",
       "  T((1, 2),right)-->(1, 3)),\n",
       "  T((1, 3),right)-->(1, 4)),\n",
       "  T((1, 4),right)-->(1, 5)),\n",
       "  T((1, 5),right)-->(1, 6)),\n",
       "  T((1, 6),right)-->(1, 7)),\n",
       "  T((1, 7),right)-->(1, 8))],\n",
       " [T((1, 0),down)-->(2, 0))],\n",
       " [T((1, 0),right)-->(1, 1)),\n",
       "  T((1, 1),right)-->(1, 2)),\n",
       "  T((1, 2),right)-->(1, 3)),\n",
       "  T((1, 3),right)-->(1, 4)),\n",
       "  T((1, 4),right)-->(1, 5)),\n",
       "  T((1, 5),right)-->(1, 6)),\n",
       "  T((1, 6),right)-->(1, 7)),\n",
       "  T((1, 7),right)-->(1, 8))],\n",
       " [T((1, 0),down)-->(2, 0))],\n",
       " [T((1, 0),right)-->(1, 1)),\n",
       "  T((1, 1),right)-->(1, 2)),\n",
       "  T((1, 2),right)-->(1, 3)),\n",
       "  T((1, 3),right)-->(1, 4)),\n",
       "  T((1, 4),right)-->(1, 5)),\n",
       "  T((1, 5),right)-->(1, 6)),\n",
       "  T((1, 6),right)-->(1, 7)),\n",
       "  T((1, 7),right)-->(1, 8))],\n",
       " [T((1, 0),down)-->(2, 0))],\n",
       " [T((1, 0),right)-->(1, 1)),\n",
       "  T((1, 1),right)-->(1, 2)),\n",
       "  T((1, 2),right)-->(1, 3)),\n",
       "  T((1, 3),right)-->(1, 4)),\n",
       "  T((1, 4),right)-->(1, 5)),\n",
       "  T((1, 5),right)-->(1, 6)),\n",
       "  T((1, 6),right)-->(1, 7)),\n",
       "  T((1, 7),right)-->(1, 8))],\n",
       " [T((1, 0),left)-->(1, 0)),\n",
       "  T((1, 0),left)-->(1, 0)),\n",
       "  T((1, 0),left)-->(1, 0)),\n",
       "  T((1, 0),left)-->(1, 0)),\n",
       "  T((1, 0),left)-->(1, 0)),\n",
       "  T((1, 0),left)-->(1, 0)),\n",
       "  T((1, 0),left)-->(1, 0)),\n",
       "  T((1, 0),left)-->(1, 0)),\n",
       "  T((1, 0),left)-->(1, 0)),\n",
       "  T((1, 0),left)-->(1, 0)),\n",
       "  T((1, 0),left)-->(1, 0)),\n",
       "  T((1, 0),left)-->(1, 0)),\n",
       "  T((1, 0),left)-->(1, 0)),\n",
       "  T((1, 0),left)-->(1, 0)),\n",
       "  T((1, 0),left)-->(1, 0)),\n",
       "  T((1, 0),left)-->(1, 0)),\n",
       "  T((1, 0),left)-->(1, 0)),\n",
       "  T((1, 0),left)-->(1, 0)),\n",
       "  T((1, 0),left)-->(1, 0)),\n",
       "  T((1, 0),down)-->(2, 0))],\n",
       " [T((1, 0),right)-->(1, 1)),\n",
       "  T((1, 1),right)-->(1, 2)),\n",
       "  T((1, 2),right)-->(1, 3)),\n",
       "  T((1, 3),right)-->(1, 4)),\n",
       "  T((1, 4),right)-->(1, 5)),\n",
       "  T((1, 5),right)-->(1, 6)),\n",
       "  T((1, 6),right)-->(1, 7)),\n",
       "  T((1, 7),right)-->(1, 8))],\n",
       " [T((1, 0),down)-->(2, 0))],\n",
       " [T((1, 0),right)-->(1, 1)),\n",
       "  T((1, 1),right)-->(1, 2)),\n",
       "  T((1, 2),right)-->(1, 3)),\n",
       "  T((1, 3),right)-->(1, 4)),\n",
       "  T((1, 4),right)-->(1, 5)),\n",
       "  T((1, 5),right)-->(1, 6)),\n",
       "  T((1, 6),right)-->(1, 7)),\n",
       "  T((1, 7),right)-->(1, 8))],\n",
       " [T((1, 0),down)-->(2, 0))],\n",
       " [T((1, 0),right)-->(1, 1)),\n",
       "  T((1, 1),right)-->(1, 2)),\n",
       "  T((1, 2),right)-->(1, 3)),\n",
       "  T((1, 3),right)-->(1, 4)),\n",
       "  T((1, 4),right)-->(1, 5)),\n",
       "  T((1, 5),right)-->(1, 6)),\n",
       "  T((1, 6),right)-->(1, 7)),\n",
       "  T((1, 7),right)-->(1, 8))],\n",
       " [T((1, 0),down)-->(2, 0))],\n",
       " [T((1, 0),right)-->(1, 1)),\n",
       "  T((1, 1),right)-->(1, 2)),\n",
       "  T((1, 2),right)-->(1, 3)),\n",
       "  T((1, 3),right)-->(1, 4)),\n",
       "  T((1, 4),right)-->(1, 5)),\n",
       "  T((1, 5),right)-->(1, 6)),\n",
       "  T((1, 6),right)-->(1, 7)),\n",
       "  T((1, 7),right)-->(1, 8))],\n",
       " [T((1, 0),down)-->(2, 0))],\n",
       " [T((1, 0),right)-->(1, 1)),\n",
       "  T((1, 1),right)-->(1, 2)),\n",
       "  T((1, 2),right)-->(1, 3)),\n",
       "  T((1, 3),right)-->(1, 4)),\n",
       "  T((1, 4),right)-->(1, 5)),\n",
       "  T((1, 5),right)-->(1, 6)),\n",
       "  T((1, 6),right)-->(1, 7)),\n",
       "  T((1, 7),right)-->(1, 8))],\n",
       " [T((1, 0),down)-->(2, 0))],\n",
       " [T((1, 0),right)-->(1, 1)),\n",
       "  T((1, 1),right)-->(1, 2)),\n",
       "  T((1, 2),right)-->(1, 3)),\n",
       "  T((1, 3),right)-->(1, 4)),\n",
       "  T((1, 4),right)-->(1, 5)),\n",
       "  T((1, 5),right)-->(1, 6)),\n",
       "  T((1, 6),right)-->(1, 7)),\n",
       "  T((1, 7),right)-->(1, 8))],\n",
       " [T((1, 0),down)-->(2, 0))],\n",
       " [T((1, 0),right)-->(1, 1)),\n",
       "  T((1, 1),right)-->(1, 2)),\n",
       "  T((1, 2),right)-->(1, 3)),\n",
       "  T((1, 3),right)-->(1, 4)),\n",
       "  T((1, 4),right)-->(1, 5)),\n",
       "  T((1, 5),right)-->(1, 6)),\n",
       "  T((1, 6),right)-->(1, 7)),\n",
       "  T((1, 7),right)-->(1, 8))],\n",
       " [T((1, 0),down)-->(2, 0))],\n",
       " [T((1, 0),right)-->(1, 1)),\n",
       "  T((1, 1),right)-->(1, 2)),\n",
       "  T((1, 2),right)-->(1, 3)),\n",
       "  T((1, 3),right)-->(1, 4)),\n",
       "  T((1, 4),right)-->(1, 5)),\n",
       "  T((1, 5),right)-->(1, 6)),\n",
       "  T((1, 6),right)-->(1, 7)),\n",
       "  T((1, 7),right)-->(1, 8))],\n",
       " [T((1, 0),down)-->(2, 0))],\n",
       " [T((1, 0),right)-->(1, 1)),\n",
       "  T((1, 1),right)-->(1, 2)),\n",
       "  T((1, 2),right)-->(1, 3)),\n",
       "  T((1, 3),right)-->(1, 4)),\n",
       "  T((1, 4),right)-->(1, 5)),\n",
       "  T((1, 5),right)-->(1, 6)),\n",
       "  T((1, 6),right)-->(1, 7)),\n",
       "  T((1, 7),right)-->(1, 8))],\n",
       " [T((1, 0),down)-->(2, 0))],\n",
       " [T((1, 0),right)-->(1, 1)),\n",
       "  T((1, 1),right)-->(1, 2)),\n",
       "  T((1, 2),right)-->(1, 3)),\n",
       "  T((1, 3),right)-->(1, 4)),\n",
       "  T((1, 4),right)-->(1, 5)),\n",
       "  T((1, 5),right)-->(1, 6)),\n",
       "  T((1, 6),right)-->(1, 7)),\n",
       "  T((1, 7),right)-->(1, 8))],\n",
       " [T((1, 0),down)-->(2, 0))],\n",
       " [T((1, 0),right)-->(1, 1)),\n",
       "  T((1, 1),right)-->(1, 2)),\n",
       "  T((1, 2),right)-->(1, 3)),\n",
       "  T((1, 3),right)-->(1, 4)),\n",
       "  T((1, 4),right)-->(1, 5)),\n",
       "  T((1, 5),right)-->(1, 6)),\n",
       "  T((1, 6),right)-->(1, 7)),\n",
       "  T((1, 7),right)-->(1, 8))],\n",
       " [T((1, 0),down)-->(2, 0))],\n",
       " [T((1, 0),right)-->(1, 1)),\n",
       "  T((1, 1),right)-->(1, 2)),\n",
       "  T((1, 2),right)-->(1, 3)),\n",
       "  T((1, 3),right)-->(1, 4)),\n",
       "  T((1, 4),right)-->(1, 5)),\n",
       "  T((1, 5),right)-->(1, 6)),\n",
       "  T((1, 6),right)-->(1, 7)),\n",
       "  T((1, 7),right)-->(1, 8))],\n",
       " [T((1, 0),down)-->(2, 0))],\n",
       " [T((1, 0),right)-->(1, 1)),\n",
       "  T((1, 1),right)-->(1, 2)),\n",
       "  T((1, 2),right)-->(1, 3)),\n",
       "  T((1, 3),right)-->(1, 4)),\n",
       "  T((1, 4),right)-->(1, 5)),\n",
       "  T((1, 5),right)-->(1, 6)),\n",
       "  T((1, 6),right)-->(1, 7)),\n",
       "  T((1, 7),right)-->(1, 8))],\n",
       " [T((1, 0),down)-->(2, 0))],\n",
       " [T((1, 0),right)-->(1, 1)),\n",
       "  T((1, 1),right)-->(1, 2)),\n",
       "  T((1, 2),right)-->(1, 3)),\n",
       "  T((1, 3),right)-->(1, 4)),\n",
       "  T((1, 4),right)-->(1, 5)),\n",
       "  T((1, 5),right)-->(1, 6)),\n",
       "  T((1, 6),right)-->(1, 7)),\n",
       "  T((1, 7),right)-->(1, 8))],\n",
       " [T((1, 0),down)-->(2, 0))],\n",
       " [T((1, 0),right)-->(1, 1)),\n",
       "  T((1, 1),right)-->(1, 2)),\n",
       "  T((1, 2),right)-->(1, 3)),\n",
       "  T((1, 3),right)-->(1, 4)),\n",
       "  T((1, 4),right)-->(1, 5)),\n",
       "  T((1, 5),right)-->(1, 6)),\n",
       "  T((1, 6),right)-->(1, 7)),\n",
       "  T((1, 7),right)-->(1, 8))],\n",
       " [T((1, 0),down)-->(2, 0))],\n",
       " [T((1, 0),right)-->(1, 1)),\n",
       "  T((1, 1),right)-->(1, 2)),\n",
       "  T((1, 2),right)-->(1, 3)),\n",
       "  T((1, 3),right)-->(1, 4)),\n",
       "  T((1, 4),right)-->(1, 5)),\n",
       "  T((1, 5),right)-->(1, 6)),\n",
       "  T((1, 6),right)-->(1, 7)),\n",
       "  T((1, 7),right)-->(1, 8))],\n",
       " [T((1, 0),down)-->(2, 0))],\n",
       " [T((1, 0),right)-->(1, 1)),\n",
       "  T((1, 1),right)-->(1, 2)),\n",
       "  T((1, 2),right)-->(1, 3)),\n",
       "  T((1, 3),right)-->(1, 4)),\n",
       "  T((1, 4),right)-->(1, 5)),\n",
       "  T((1, 5),right)-->(1, 6)),\n",
       "  T((1, 6),right)-->(1, 7)),\n",
       "  T((1, 7),right)-->(1, 8))],\n",
       " [T((1, 0),down)-->(2, 0))],\n",
       " [T((1, 0),right)-->(1, 1)),\n",
       "  T((1, 1),right)-->(1, 2)),\n",
       "  T((1, 2),right)-->(1, 3)),\n",
       "  T((1, 3),right)-->(1, 4)),\n",
       "  T((1, 4),right)-->(1, 5)),\n",
       "  T((1, 5),right)-->(1, 6)),\n",
       "  T((1, 6),right)-->(1, 7)),\n",
       "  T((1, 7),right)-->(1, 8))],\n",
       " [T((1, 0),down)-->(2, 0))],\n",
       " [T((1, 0),right)-->(1, 1)),\n",
       "  T((1, 1),right)-->(1, 2)),\n",
       "  T((1, 2),right)-->(1, 3)),\n",
       "  T((1, 3),right)-->(1, 4)),\n",
       "  T((1, 4),right)-->(1, 5)),\n",
       "  T((1, 5),right)-->(1, 6)),\n",
       "  T((1, 6),right)-->(1, 7)),\n",
       "  T((1, 7),right)-->(1, 8))],\n",
       " [T((1, 0),down)-->(2, 0))],\n",
       " [T((1, 0),right)-->(1, 1)),\n",
       "  T((1, 1),right)-->(1, 2)),\n",
       "  T((1, 2),right)-->(1, 3)),\n",
       "  T((1, 3),right)-->(1, 4)),\n",
       "  T((1, 4),right)-->(1, 5)),\n",
       "  T((1, 5),right)-->(1, 6)),\n",
       "  T((1, 6),right)-->(1, 7)),\n",
       "  T((1, 7),right)-->(1, 8))],\n",
       " [T((1, 0),down)-->(2, 0))],\n",
       " [T((1, 0),right)-->(1, 1)),\n",
       "  T((1, 1),right)-->(1, 2)),\n",
       "  T((1, 2),right)-->(1, 3)),\n",
       "  T((1, 3),right)-->(1, 4)),\n",
       "  T((1, 4),right)-->(1, 5)),\n",
       "  T((1, 5),right)-->(1, 6)),\n",
       "  T((1, 6),right)-->(1, 7)),\n",
       "  T((1, 7),right)-->(1, 8))],\n",
       " [T((1, 0),down)-->(2, 0))],\n",
       " [T((1, 0),right)-->(1, 1)),\n",
       "  T((1, 1),right)-->(1, 2)),\n",
       "  T((1, 2),right)-->(1, 3)),\n",
       "  T((1, 3),right)-->(1, 4)),\n",
       "  T((1, 4),right)-->(1, 5)),\n",
       "  T((1, 5),right)-->(1, 6)),\n",
       "  T((1, 6),right)-->(1, 7)),\n",
       "  T((1, 7),right)-->(1, 8))],\n",
       " [T((1, 0),down)-->(2, 0))],\n",
       " [T((1, 0),right)-->(1, 1)),\n",
       "  T((1, 1),right)-->(1, 2)),\n",
       "  T((1, 2),right)-->(1, 3)),\n",
       "  T((1, 3),right)-->(1, 4)),\n",
       "  T((1, 4),right)-->(1, 5)),\n",
       "  T((1, 5),right)-->(1, 6)),\n",
       "  T((1, 6),right)-->(1, 7)),\n",
       "  T((1, 7),right)-->(1, 8))],\n",
       " [T((1, 0),down)-->(2, 0))],\n",
       " [T((1, 0),right)-->(1, 1)),\n",
       "  T((1, 1),right)-->(1, 2)),\n",
       "  T((1, 2),right)-->(1, 3)),\n",
       "  T((1, 3),right)-->(1, 4)),\n",
       "  T((1, 4),right)-->(1, 5)),\n",
       "  T((1, 5),right)-->(1, 6)),\n",
       "  T((1, 6),right)-->(1, 7)),\n",
       "  T((1, 7),right)-->(1, 8))],\n",
       " [T((1, 0),down)-->(2, 0))],\n",
       " [T((1, 0),right)-->(1, 1)),\n",
       "  T((1, 1),right)-->(1, 2)),\n",
       "  T((1, 2),right)-->(1, 3)),\n",
       "  T((1, 3),right)-->(1, 4)),\n",
       "  T((1, 4),right)-->(1, 5)),\n",
       "  T((1, 5),right)-->(1, 6)),\n",
       "  T((1, 6),right)-->(1, 7)),\n",
       "  T((1, 7),right)-->(1, 8))],\n",
       " [T((1, 0),down)-->(2, 0))],\n",
       " [T((1, 0),right)-->(1, 1)),\n",
       "  T((1, 1),right)-->(1, 2)),\n",
       "  T((1, 2),right)-->(1, 3)),\n",
       "  T((1, 3),right)-->(1, 4)),\n",
       "  T((1, 4),right)-->(1, 5)),\n",
       "  T((1, 5),right)-->(1, 6)),\n",
       "  T((1, 6),right)-->(1, 7)),\n",
       "  T((1, 7),right)-->(1, 8))],\n",
       " [T((1, 0),down)-->(2, 0))],\n",
       " [T((1, 0),right)-->(1, 1)),\n",
       "  T((1, 1),right)-->(1, 2)),\n",
       "  T((1, 2),right)-->(1, 3)),\n",
       "  T((1, 3),right)-->(1, 4)),\n",
       "  T((1, 4),right)-->(1, 5)),\n",
       "  T((1, 5),right)-->(1, 6)),\n",
       "  T((1, 6),right)-->(1, 7)),\n",
       "  T((1, 7),right)-->(1, 8))],\n",
       " [T((1, 0),down)-->(2, 0))],\n",
       " [T((1, 0),right)-->(1, 1)),\n",
       "  T((1, 1),right)-->(1, 2)),\n",
       "  T((1, 2),right)-->(1, 3)),\n",
       "  T((1, 3),right)-->(1, 4)),\n",
       "  T((1, 4),right)-->(1, 5)),\n",
       "  T((1, 5),right)-->(1, 6)),\n",
       "  T((1, 6),right)-->(1, 7)),\n",
       "  T((1, 7),right)-->(1, 8))],\n",
       " [T((1, 0),down)-->(2, 0))],\n",
       " [T((1, 0),right)-->(1, 1)),\n",
       "  T((1, 1),right)-->(1, 2)),\n",
       "  T((1, 2),right)-->(1, 3)),\n",
       "  T((1, 3),right)-->(1, 4)),\n",
       "  T((1, 4),right)-->(1, 5)),\n",
       "  T((1, 5),right)-->(1, 6)),\n",
       "  T((1, 6),right)-->(1, 7)),\n",
       "  T((1, 7),right)-->(1, 8))],\n",
       " [T((1, 0),down)-->(2, 0))],\n",
       " [T((1, 0),right)-->(1, 1)),\n",
       "  T((1, 1),right)-->(1, 2)),\n",
       "  T((1, 2),right)-->(1, 3)),\n",
       "  T((1, 3),right)-->(1, 4)),\n",
       "  T((1, 4),right)-->(1, 5)),\n",
       "  T((1, 5),right)-->(1, 6)),\n",
       "  T((1, 6),right)-->(1, 7)),\n",
       "  T((1, 7),right)-->(1, 8))],\n",
       " [T((1, 0),down)-->(2, 0))],\n",
       " [T((1, 0),right)-->(1, 1)),\n",
       "  T((1, 1),right)-->(1, 2)),\n",
       "  T((1, 2),right)-->(1, 3)),\n",
       "  T((1, 3),right)-->(1, 4)),\n",
       "  T((1, 4),right)-->(1, 5)),\n",
       "  T((1, 5),right)-->(1, 6)),\n",
       "  T((1, 6),right)-->(1, 7)),\n",
       "  T((1, 7),right)-->(1, 8))],\n",
       " [T((1, 0),down)-->(2, 0))],\n",
       " [T((1, 0),right)-->(1, 1)),\n",
       "  T((1, 1),right)-->(1, 2)),\n",
       "  T((1, 2),right)-->(1, 3)),\n",
       "  T((1, 3),right)-->(1, 4)),\n",
       "  T((1, 4),right)-->(1, 5)),\n",
       "  T((1, 5),right)-->(1, 6)),\n",
       "  T((1, 6),right)-->(1, 7)),\n",
       "  T((1, 7),right)-->(1, 8))],\n",
       " [T((1, 0),down)-->(2, 0))],\n",
       " [T((1, 0),right)-->(1, 1)),\n",
       "  T((1, 1),right)-->(1, 2)),\n",
       "  T((1, 2),right)-->(1, 3)),\n",
       "  T((1, 3),right)-->(1, 4)),\n",
       "  T((1, 4),right)-->(1, 5)),\n",
       "  T((1, 5),right)-->(1, 6)),\n",
       "  T((1, 6),right)-->(1, 7)),\n",
       "  T((1, 7),right)-->(1, 8))],\n",
       " [T((1, 0),down)-->(2, 0))],\n",
       " [T((1, 0),right)-->(1, 1)),\n",
       "  T((1, 1),right)-->(1, 2)),\n",
       "  T((1, 2),right)-->(1, 3)),\n",
       "  T((1, 3),right)-->(1, 4)),\n",
       "  T((1, 4),right)-->(1, 5)),\n",
       "  T((1, 5),right)-->(1, 6)),\n",
       "  T((1, 6),right)-->(1, 7)),\n",
       "  T((1, 7),right)-->(1, 8))],\n",
       " [T((1, 0),down)-->(2, 0))],\n",
       " [T((1, 0),right)-->(1, 1)),\n",
       "  T((1, 1),right)-->(1, 2)),\n",
       "  T((1, 2),right)-->(1, 3)),\n",
       "  T((1, 3),right)-->(1, 4)),\n",
       "  T((1, 4),right)-->(1, 5)),\n",
       "  T((1, 5),right)-->(1, 6)),\n",
       "  T((1, 6),right)-->(1, 7)),\n",
       "  T((1, 7),right)-->(1, 8))],\n",
       " [T((1, 0),down)-->(2, 0))],\n",
       " [T((1, 0),right)-->(1, 1)),\n",
       "  T((1, 1),right)-->(1, 2)),\n",
       "  T((1, 2),right)-->(1, 3)),\n",
       "  T((1, 3),right)-->(1, 4)),\n",
       "  T((1, 4),right)-->(1, 5)),\n",
       "  T((1, 5),right)-->(1, 6)),\n",
       "  T((1, 6),right)-->(1, 7)),\n",
       "  T((1, 7),right)-->(1, 8))],\n",
       " [T((1, 0),down)-->(2, 0))],\n",
       " [T((1, 0),right)-->(1, 1)),\n",
       "  T((1, 1),right)-->(1, 2)),\n",
       "  T((1, 2),right)-->(1, 3)),\n",
       "  T((1, 3),right)-->(1, 4)),\n",
       "  T((1, 4),right)-->(1, 5)),\n",
       "  T((1, 5),right)-->(1, 6)),\n",
       "  T((1, 6),right)-->(1, 7)),\n",
       "  T((1, 7),right)-->(1, 8))],\n",
       " [T((1, 0),down)-->(2, 0))],\n",
       " [T((1, 0),right)-->(1, 1)),\n",
       "  T((1, 1),right)-->(1, 2)),\n",
       "  T((1, 2),right)-->(1, 3)),\n",
       "  T((1, 3),right)-->(1, 4)),\n",
       "  T((1, 4),right)-->(1, 5)),\n",
       "  T((1, 5),right)-->(1, 6)),\n",
       "  T((1, 6),right)-->(1, 7)),\n",
       "  T((1, 7),right)-->(1, 8))],\n",
       " [T((1, 0),down)-->(2, 0))],\n",
       " [T((1, 0),right)-->(1, 1)),\n",
       "  T((1, 1),right)-->(1, 2)),\n",
       "  T((1, 2),right)-->(1, 3)),\n",
       "  T((1, 3),right)-->(1, 4)),\n",
       "  T((1, 4),right)-->(1, 5)),\n",
       "  T((1, 5),right)-->(1, 6)),\n",
       "  T((1, 6),right)-->(1, 7)),\n",
       "  T((1, 7),right)-->(1, 8))],\n",
       " [T((1, 0),down)-->(2, 0))],\n",
       " [T((1, 0),right)-->(1, 1)),\n",
       "  T((1, 1),right)-->(1, 2)),\n",
       "  T((1, 2),right)-->(1, 3)),\n",
       "  T((1, 3),right)-->(1, 4)),\n",
       "  T((1, 4),right)-->(1, 5)),\n",
       "  T((1, 5),right)-->(1, 6)),\n",
       "  T((1, 6),right)-->(1, 7)),\n",
       "  T((1, 7),right)-->(1, 8))],\n",
       " [T((1, 0),down)-->(2, 0))],\n",
       " [T((1, 0),right)-->(1, 1)),\n",
       "  T((1, 1),right)-->(1, 2)),\n",
       "  T((1, 2),right)-->(1, 3)),\n",
       "  T((1, 3),right)-->(1, 4)),\n",
       "  T((1, 4),right)-->(1, 5)),\n",
       "  T((1, 5),right)-->(1, 6)),\n",
       "  T((1, 6),right)-->(1, 7)),\n",
       "  T((1, 7),right)-->(1, 8))],\n",
       " [T((1, 0),down)-->(2, 0))],\n",
       " [T((1, 0),right)-->(1, 1)),\n",
       "  T((1, 1),right)-->(1, 2)),\n",
       "  T((1, 2),right)-->(1, 3)),\n",
       "  T((1, 3),right)-->(1, 4)),\n",
       "  T((1, 4),right)-->(1, 5)),\n",
       "  T((1, 5),right)-->(1, 6)),\n",
       "  T((1, 6),right)-->(1, 7)),\n",
       "  T((1, 7),right)-->(1, 8))],\n",
       " [T((1, 0),down)-->(2, 0))],\n",
       " [T((1, 0),right)-->(1, 1)),\n",
       "  T((1, 1),right)-->(1, 2)),\n",
       "  T((1, 2),right)-->(1, 3)),\n",
       "  T((1, 3),right)-->(1, 4)),\n",
       "  T((1, 4),right)-->(1, 5)),\n",
       "  T((1, 5),right)-->(1, 6)),\n",
       "  T((1, 6),right)-->(1, 7)),\n",
       "  T((1, 7),right)-->(1, 8))],\n",
       " [T((1, 0),down)-->(2, 0))],\n",
       " [T((1, 0),right)-->(1, 1)),\n",
       "  T((1, 1),right)-->(1, 2)),\n",
       "  T((1, 2),right)-->(1, 3)),\n",
       "  T((1, 3),right)-->(1, 4)),\n",
       "  T((1, 4),right)-->(1, 5)),\n",
       "  T((1, 5),right)-->(1, 6)),\n",
       "  T((1, 6),right)-->(1, 7)),\n",
       "  T((1, 7),right)-->(1, 8))],\n",
       " [T((1, 0),down)-->(2, 0))],\n",
       " [T((1, 0),right)-->(1, 1)),\n",
       "  T((1, 1),right)-->(1, 2)),\n",
       "  T((1, 2),right)-->(1, 3)),\n",
       "  T((1, 3),right)-->(1, 4)),\n",
       "  T((1, 4),right)-->(1, 5)),\n",
       "  T((1, 5),right)-->(1, 6)),\n",
       "  T((1, 6),right)-->(1, 7)),\n",
       "  T((1, 7),right)-->(1, 8))],\n",
       " [T((1, 0),down)-->(2, 0))],\n",
       " [T((1, 0),right)-->(1, 1)),\n",
       "  T((1, 1),right)-->(1, 2)),\n",
       "  T((1, 2),right)-->(1, 3)),\n",
       "  T((1, 3),right)-->(1, 4)),\n",
       "  T((1, 4),right)-->(1, 5)),\n",
       "  T((1, 5),right)-->(1, 6)),\n",
       "  T((1, 6),right)-->(1, 7)),\n",
       "  T((1, 7),right)-->(1, 8))],\n",
       " [T((1, 0),down)-->(2, 0))],\n",
       " [T((1, 0),right)-->(1, 1)),\n",
       "  T((1, 1),right)-->(1, 2)),\n",
       "  T((1, 2),right)-->(1, 3)),\n",
       "  T((1, 3),right)-->(1, 4)),\n",
       "  T((1, 4),right)-->(1, 5)),\n",
       "  T((1, 5),right)-->(1, 6)),\n",
       "  T((1, 6),right)-->(1, 7)),\n",
       "  T((1, 7),right)-->(1, 8))],\n",
       " [T((1, 0),down)-->(2, 0))],\n",
       " [T((1, 0),right)-->(1, 1)),\n",
       "  T((1, 1),right)-->(1, 2)),\n",
       "  T((1, 2),right)-->(1, 3)),\n",
       "  T((1, 3),right)-->(1, 4)),\n",
       "  T((1, 4),right)-->(1, 5)),\n",
       "  T((1, 5),right)-->(1, 6)),\n",
       "  T((1, 6),right)-->(1, 7)),\n",
       "  T((1, 7),right)-->(1, 8))],\n",
       " [T((1, 0),down)-->(2, 0))],\n",
       " [T((1, 0),right)-->(1, 1)),\n",
       "  T((1, 1),right)-->(1, 2)),\n",
       "  T((1, 2),right)-->(1, 3)),\n",
       "  T((1, 3),right)-->(1, 4)),\n",
       "  T((1, 4),right)-->(1, 5)),\n",
       "  T((1, 5),right)-->(1, 6)),\n",
       "  T((1, 6),right)-->(1, 7)),\n",
       "  T((1, 7),right)-->(1, 8))],\n",
       " [T((1, 0),down)-->(2, 0))],\n",
       " [T((1, 0),right)-->(1, 1)),\n",
       "  T((1, 1),right)-->(1, 2)),\n",
       "  T((1, 2),right)-->(1, 3)),\n",
       "  T((1, 3),right)-->(1, 4)),\n",
       "  T((1, 4),right)-->(1, 5)),\n",
       "  T((1, 5),right)-->(1, 6)),\n",
       "  T((1, 6),right)-->(1, 7)),\n",
       "  T((1, 7),right)-->(1, 8))],\n",
       " [T((1, 0),down)-->(2, 0))],\n",
       " [T((1, 0),right)-->(1, 1)),\n",
       "  T((1, 1),right)-->(1, 2)),\n",
       "  T((1, 2),right)-->(1, 3)),\n",
       "  T((1, 3),right)-->(1, 4)),\n",
       "  T((1, 4),right)-->(1, 5)),\n",
       "  T((1, 5),right)-->(1, 6)),\n",
       "  T((1, 6),right)-->(1, 7)),\n",
       "  T((1, 7),right)-->(1, 8))],\n",
       " [T((1, 0),down)-->(2, 0))],\n",
       " [T((1, 0),right)-->(1, 1)),\n",
       "  T((1, 1),right)-->(1, 2)),\n",
       "  T((1, 2),right)-->(1, 3)),\n",
       "  T((1, 3),right)-->(1, 4)),\n",
       "  T((1, 4),right)-->(1, 5)),\n",
       "  T((1, 5),right)-->(1, 6)),\n",
       "  T((1, 6),right)-->(1, 7)),\n",
       "  T((1, 7),right)-->(1, 8))],\n",
       " [T((1, 0),down)-->(2, 0))],\n",
       " [T((1, 0),right)-->(1, 1)),\n",
       "  T((1, 1),right)-->(1, 2)),\n",
       "  T((1, 2),right)-->(1, 3)),\n",
       "  T((1, 3),right)-->(1, 4)),\n",
       "  T((1, 4),right)-->(1, 5)),\n",
       "  T((1, 5),right)-->(1, 6)),\n",
       "  T((1, 6),right)-->(1, 7)),\n",
       "  T((1, 7),right)-->(1, 8))],\n",
       " [T((1, 0),down)-->(2, 0))],\n",
       " [T((1, 0),right)-->(1, 1)),\n",
       "  T((1, 1),right)-->(1, 2)),\n",
       "  T((1, 2),right)-->(1, 3)),\n",
       "  T((1, 3),right)-->(1, 4)),\n",
       "  T((1, 4),right)-->(1, 5)),\n",
       "  T((1, 5),right)-->(1, 6)),\n",
       "  T((1, 6),right)-->(1, 7)),\n",
       "  T((1, 7),right)-->(1, 8))],\n",
       " [T((1, 0),down)-->(2, 0))],\n",
       " [T((1, 0),right)-->(1, 1)),\n",
       "  T((1, 1),right)-->(1, 2)),\n",
       "  T((1, 2),right)-->(1, 3)),\n",
       "  T((1, 3),right)-->(1, 4)),\n",
       "  T((1, 4),right)-->(1, 5)),\n",
       "  T((1, 5),right)-->(1, 6)),\n",
       "  T((1, 6),right)-->(1, 7)),\n",
       "  T((1, 7),right)-->(1, 8))],\n",
       " [T((1, 0),down)-->(2, 0))],\n",
       " [T((1, 0),right)-->(1, 1)),\n",
       "  T((1, 1),right)-->(1, 2)),\n",
       "  T((1, 2),right)-->(1, 3)),\n",
       "  T((1, 3),right)-->(1, 4)),\n",
       "  T((1, 4),right)-->(1, 5)),\n",
       "  T((1, 5),right)-->(1, 6)),\n",
       "  T((1, 6),right)-->(1, 7)),\n",
       "  T((1, 7),right)-->(1, 8))],\n",
       " [T((1, 0),down)-->(2, 0))],\n",
       " [T((1, 0),right)-->(1, 1)),\n",
       "  T((1, 1),right)-->(1, 2)),\n",
       "  T((1, 2),right)-->(1, 3)),\n",
       "  T((1, 3),right)-->(1, 4)),\n",
       "  T((1, 4),right)-->(1, 5)),\n",
       "  T((1, 5),right)-->(1, 6)),\n",
       "  T((1, 6),right)-->(1, 7)),\n",
       "  T((1, 7),right)-->(1, 8))],\n",
       " [T((1, 0),down)-->(2, 0))],\n",
       " [T((1, 0),right)-->(1, 1)),\n",
       "  T((1, 1),right)-->(1, 2)),\n",
       "  T((1, 2),right)-->(1, 3)),\n",
       "  T((1, 3),right)-->(1, 4)),\n",
       "  T((1, 4),right)-->(1, 5)),\n",
       "  T((1, 5),right)-->(1, 6)),\n",
       "  T((1, 6),right)-->(1, 7)),\n",
       "  T((1, 7),right)-->(1, 8))],\n",
       " [T((1, 0),down)-->(2, 0))],\n",
       " [T((1, 0),right)-->(1, 1)),\n",
       "  T((1, 1),right)-->(1, 2)),\n",
       "  T((1, 2),right)-->(1, 3)),\n",
       "  T((1, 3),right)-->(1, 4)),\n",
       "  T((1, 4),right)-->(1, 5)),\n",
       "  T((1, 5),right)-->(1, 6)),\n",
       "  T((1, 6),right)-->(1, 7)),\n",
       "  T((1, 7),right)-->(1, 8))],\n",
       " [T((1, 0),down)-->(2, 0))],\n",
       " [T((1, 0),right)-->(1, 1)),\n",
       "  T((1, 1),right)-->(1, 2)),\n",
       "  T((1, 2),right)-->(1, 3)),\n",
       "  T((1, 3),right)-->(1, 4)),\n",
       "  T((1, 4),right)-->(1, 5)),\n",
       "  T((1, 5),right)-->(1, 6)),\n",
       "  T((1, 6),right)-->(1, 7)),\n",
       "  T((1, 7),right)-->(1, 8))],\n",
       " [T((1, 0),down)-->(2, 0))],\n",
       " [T((1, 0),right)-->(1, 1)),\n",
       "  T((1, 1),right)-->(1, 2)),\n",
       "  T((1, 2),right)-->(1, 3)),\n",
       "  T((1, 3),right)-->(1, 4)),\n",
       "  T((1, 4),right)-->(1, 5)),\n",
       "  T((1, 5),right)-->(1, 6)),\n",
       "  T((1, 6),right)-->(1, 7)),\n",
       "  T((1, 7),right)-->(1, 8))],\n",
       " [T((1, 0),down)-->(2, 0))],\n",
       " [T((1, 0),right)-->(1, 1)),\n",
       "  T((1, 1),right)-->(1, 2)),\n",
       "  T((1, 2),right)-->(1, 3)),\n",
       "  T((1, 3),right)-->(1, 4)),\n",
       "  T((1, 4),right)-->(1, 5)),\n",
       "  T((1, 5),right)-->(1, 6)),\n",
       "  T((1, 6),right)-->(1, 7)),\n",
       "  T((1, 7),right)-->(1, 8))],\n",
       " [T((1, 0),down)-->(2, 0))],\n",
       " [T((1, 0),right)-->(1, 1)),\n",
       "  T((1, 1),right)-->(1, 2)),\n",
       "  T((1, 2),right)-->(1, 3)),\n",
       "  T((1, 3),right)-->(1, 4)),\n",
       "  T((1, 4),right)-->(1, 5)),\n",
       "  T((1, 5),right)-->(1, 6)),\n",
       "  T((1, 6),right)-->(1, 7)),\n",
       "  T((1, 7),right)-->(1, 8))],\n",
       " [T((1, 0),down)-->(2, 0))],\n",
       " [T((1, 0),right)-->(1, 1)),\n",
       "  T((1, 1),right)-->(1, 2)),\n",
       "  T((1, 2),right)-->(1, 3)),\n",
       "  T((1, 3),right)-->(1, 4)),\n",
       "  T((1, 4),right)-->(1, 5)),\n",
       "  T((1, 5),right)-->(1, 6)),\n",
       "  T((1, 6),right)-->(1, 7)),\n",
       "  T((1, 7),right)-->(1, 8))],\n",
       " [T((1, 0),down)-->(2, 0))],\n",
       " [T((1, 0),right)-->(1, 1)),\n",
       "  T((1, 1),right)-->(1, 2)),\n",
       "  T((1, 2),right)-->(1, 3)),\n",
       "  T((1, 3),right)-->(1, 4)),\n",
       "  T((1, 4),right)-->(1, 5)),\n",
       "  T((1, 5),right)-->(1, 6)),\n",
       "  T((1, 6),right)-->(1, 7)),\n",
       "  T((1, 7),right)-->(1, 8))],\n",
       " [T((1, 0),down)-->(2, 0))],\n",
       " [T((1, 0),right)-->(1, 1)),\n",
       "  T((1, 1),right)-->(1, 2)),\n",
       "  T((1, 2),right)-->(1, 3)),\n",
       "  T((1, 3),right)-->(1, 4)),\n",
       "  T((1, 4),right)-->(1, 5)),\n",
       "  T((1, 5),right)-->(1, 6)),\n",
       "  T((1, 6),right)-->(1, 7)),\n",
       "  T((1, 7),right)-->(1, 8))],\n",
       " [T((1, 0),down)-->(2, 0))],\n",
       " [T((1, 0),right)-->(1, 1)),\n",
       "  T((1, 1),right)-->(1, 2)),\n",
       "  T((1, 2),right)-->(1, 3)),\n",
       "  T((1, 3),right)-->(1, 4)),\n",
       "  T((1, 4),right)-->(1, 5)),\n",
       "  T((1, 5),right)-->(1, 6)),\n",
       "  T((1, 6),right)-->(1, 7)),\n",
       "  T((1, 7),right)-->(1, 8))],\n",
       " [T((1, 0),down)-->(2, 0))],\n",
       " [T((1, 0),right)-->(1, 1)),\n",
       "  T((1, 1),right)-->(1, 2)),\n",
       "  T((1, 2),right)-->(1, 3)),\n",
       "  T((1, 3),right)-->(1, 4)),\n",
       "  T((1, 4),right)-->(1, 5)),\n",
       "  T((1, 5),right)-->(1, 6)),\n",
       "  T((1, 6),right)-->(1, 7)),\n",
       "  T((1, 7),right)-->(1, 8))],\n",
       " [T((1, 0),down)-->(2, 0))],\n",
       " [T((1, 0),right)-->(1, 1)),\n",
       "  T((1, 1),right)-->(1, 2)),\n",
       "  T((1, 2),right)-->(1, 3)),\n",
       "  T((1, 3),right)-->(1, 4)),\n",
       "  T((1, 4),right)-->(1, 5)),\n",
       "  T((1, 5),right)-->(1, 6)),\n",
       "  T((1, 6),right)-->(1, 7)),\n",
       "  T((1, 7),right)-->(1, 8))],\n",
       " [T((1, 0),down)-->(2, 0))],\n",
       " [T((1, 0),right)-->(1, 1)),\n",
       "  T((1, 1),right)-->(1, 2)),\n",
       "  T((1, 2),right)-->(1, 3)),\n",
       "  T((1, 3),right)-->(1, 4)),\n",
       "  T((1, 4),right)-->(1, 5)),\n",
       "  T((1, 5),right)-->(1, 6)),\n",
       "  T((1, 6),right)-->(1, 7)),\n",
       "  T((1, 7),right)-->(1, 8))],\n",
       " [T((1, 0),down)-->(2, 0))],\n",
       " [T((1, 0),right)-->(1, 1)),\n",
       "  T((1, 1),right)-->(1, 2)),\n",
       "  T((1, 2),right)-->(1, 3)),\n",
       "  T((1, 3),right)-->(1, 4)),\n",
       "  T((1, 4),right)-->(1, 5)),\n",
       "  T((1, 5),right)-->(1, 6)),\n",
       "  T((1, 6),right)-->(1, 7)),\n",
       "  T((1, 7),right)-->(1, 8))],\n",
       " [T((1, 0),down)-->(2, 0))],\n",
       " [T((1, 0),right)-->(1, 1)),\n",
       "  T((1, 1),right)-->(1, 2)),\n",
       "  T((1, 2),right)-->(1, 3)),\n",
       "  T((1, 3),right)-->(1, 4)),\n",
       "  T((1, 4),right)-->(1, 5)),\n",
       "  T((1, 5),right)-->(1, 6)),\n",
       "  T((1, 6),right)-->(1, 7)),\n",
       "  T((1, 7),right)-->(1, 8))],\n",
       " [T((1, 0),down)-->(2, 0))],\n",
       " [T((1, 0),right)-->(1, 1)),\n",
       "  T((1, 1),right)-->(1, 2)),\n",
       "  T((1, 2),right)-->(1, 3)),\n",
       "  T((1, 3),right)-->(1, 4)),\n",
       "  T((1, 4),right)-->(1, 5)),\n",
       "  T((1, 5),right)-->(1, 6)),\n",
       "  T((1, 6),right)-->(1, 7)),\n",
       "  T((1, 7),right)-->(1, 8))],\n",
       " [T((1, 0),down)-->(2, 0))],\n",
       " [T((1, 0),right)-->(1, 1)),\n",
       "  T((1, 1),right)-->(1, 2)),\n",
       "  T((1, 2),right)-->(1, 3)),\n",
       "  T((1, 3),right)-->(1, 4)),\n",
       "  T((1, 4),right)-->(1, 5)),\n",
       "  T((1, 5),right)-->(1, 6)),\n",
       "  T((1, 6),right)-->(1, 7)),\n",
       "  T((1, 7),right)-->(1, 8))],\n",
       " [T((1, 0),down)-->(2, 0))],\n",
       " [T((1, 0),right)-->(1, 1)),\n",
       "  T((1, 1),right)-->(1, 2)),\n",
       "  T((1, 2),right)-->(1, 3)),\n",
       "  T((1, 3),right)-->(1, 4)),\n",
       "  T((1, 4),right)-->(1, 5)),\n",
       "  T((1, 5),right)-->(1, 6)),\n",
       "  T((1, 6),right)-->(1, 7)),\n",
       "  T((1, 7),right)-->(1, 8))],\n",
       " [T((1, 0),down)-->(2, 0))],\n",
       " [T((1, 0),right)-->(1, 1)),\n",
       "  T((1, 1),right)-->(1, 2)),\n",
       "  T((1, 2),right)-->(1, 3)),\n",
       "  T((1, 3),right)-->(1, 4)),\n",
       "  T((1, 4),right)-->(1, 5)),\n",
       "  T((1, 5),right)-->(1, 6)),\n",
       "  T((1, 6),right)-->(1, 7)),\n",
       "  T((1, 7),right)-->(1, 8))],\n",
       " [T((1, 0),down)-->(2, 0))],\n",
       " [T((1, 0),right)-->(1, 1)),\n",
       "  T((1, 1),right)-->(1, 2)),\n",
       "  T((1, 2),right)-->(1, 3)),\n",
       "  T((1, 3),right)-->(1, 4)),\n",
       "  T((1, 4),right)-->(1, 5)),\n",
       "  T((1, 5),right)-->(1, 6)),\n",
       "  T((1, 6),right)-->(1, 7)),\n",
       "  T((1, 7),right)-->(1, 8))],\n",
       " [T((1, 0),down)-->(2, 0))],\n",
       " [T((1, 0),right)-->(1, 1)),\n",
       "  T((1, 1),right)-->(1, 2)),\n",
       "  T((1, 2),right)-->(1, 3)),\n",
       "  T((1, 3),right)-->(1, 4)),\n",
       "  T((1, 4),right)-->(1, 5)),\n",
       "  T((1, 5),right)-->(1, 6)),\n",
       "  T((1, 6),right)-->(1, 7)),\n",
       "  T((1, 7),right)-->(1, 8))],\n",
       " [T((1, 0),down)-->(2, 0))],\n",
       " [T((1, 0),right)-->(1, 1)),\n",
       "  T((1, 1),right)-->(1, 2)),\n",
       "  T((1, 2),right)-->(1, 3)),\n",
       "  T((1, 3),right)-->(1, 4)),\n",
       "  T((1, 4),right)-->(1, 5)),\n",
       "  T((1, 5),right)-->(1, 6)),\n",
       "  T((1, 6),right)-->(1, 7)),\n",
       "  T((1, 7),right)-->(1, 8))],\n",
       " [T((1, 0),down)-->(2, 0))],\n",
       " [T((1, 0),right)-->(1, 1)),\n",
       "  T((1, 1),right)-->(1, 2)),\n",
       "  T((1, 2),right)-->(1, 3)),\n",
       "  T((1, 3),right)-->(1, 4)),\n",
       "  T((1, 4),right)-->(1, 5)),\n",
       "  T((1, 5),right)-->(1, 6)),\n",
       "  T((1, 6),right)-->(1, 7)),\n",
       "  T((1, 7),right)-->(1, 8))],\n",
       " [T((1, 0),down)-->(2, 0))],\n",
       " [T((1, 0),right)-->(1, 1)),\n",
       "  T((1, 1),right)-->(1, 2)),\n",
       "  T((1, 2),right)-->(1, 3)),\n",
       "  T((1, 3),right)-->(1, 4)),\n",
       "  T((1, 4),right)-->(1, 5)),\n",
       "  T((1, 5),right)-->(1, 6)),\n",
       "  T((1, 6),right)-->(1, 7)),\n",
       "  T((1, 7),right)-->(1, 8))]]"
      ]
     },
     "execution_count": 9,
     "metadata": {},
     "output_type": "execute_result"
    }
   ],
   "source": [
    "trajectories"
   ]
  },
  {
   "cell_type": "markdown",
   "metadata": {},
   "source": [
    "## Batch Run with fewer episodes"
   ]
  },
  {
   "cell_type": "code",
   "execution_count": 58,
   "metadata": {},
   "outputs": [],
   "source": [
    "n_exploratory_episodes = 5\n",
    "n_greedy_episodes = 10\n",
    "max_steps = 40\n",
    "gamma = 0.8\n",
    "alpha = 0.1\n",
    "n_batches = 100\n",
    "\n",
    "EXPLORATION_TYPE = 'PHASED'\n",
    "\n",
    "if EXPLORATION_TYPE == 'RANDOM':\n",
    "    epsilons = np.ones(n_episodes)\n",
    "elif EXPLORATION_TYPE == 'GRADUAL':\n",
    "    epsilons = np.flip(np.linspace(0.05, 1, n_episodes))\n",
    "elif EXPLORATION_TYPE == 'GREEDY':\n",
    "    epsilons = np.zeros(n_episodes)\n",
    "elif EXPLORATION_TYPE == 'GLOBAL':\n",
    "    epsilons = np.ones(n_episodes)\n",
    "elif EXPLORATION_TYPE == \"PHASED\":\n",
    "    epsilons = np.zeros(n_episodes)\n",
    "\n",
    "Learn = True\n",
    "batch_size = 1\n",
    "FILE_SIG = f\"Results_n={n_episodes}, nB={batch_size}, exp={EXPLORATION_TYPE} WG, N_init_1\"\n",
    "\n",
    "\n",
    "env = Gridworld(grid, terminal_state, initial_state, blacked_state, max_steps)"
   ]
  },
  {
   "cell_type": "code",
   "execution_count": 59,
   "metadata": {
    "scrolled": true
   },
   "outputs": [
    {
     "data": {
      "application/vnd.jupyter.widget-view+json": {
       "model_id": "65c3887fd7504420b2fe44ca03c78dd1",
       "version_major": 2,
       "version_minor": 0
      },
      "text/plain": [
       "  0%|          | 0/5 [00:00<?, ?it/s]"
      ]
     },
     "metadata": {},
     "output_type": "display_data"
    },
    {
     "data": {
      "application/vnd.jupyter.widget-view+json": {
       "model_id": "dbec68a67714456696f01e6775ce1b54",
       "version_major": 2,
       "version_minor": 0
      },
      "text/plain": [
       "  0%|          | 0/10 [00:00<?, ?it/s]"
      ]
     },
     "metadata": {},
     "output_type": "display_data"
    },
    {
     "data": {
      "application/vnd.jupyter.widget-view+json": {
       "model_id": "00a00653f85845119577164dfe904f9d",
       "version_major": 2,
       "version_minor": 0
      },
      "text/plain": [
       "  0%|          | 0/5 [00:00<?, ?it/s]"
      ]
     },
     "metadata": {},
     "output_type": "display_data"
    },
    {
     "data": {
      "application/vnd.jupyter.widget-view+json": {
       "model_id": "b4d7c8a996374e2d829b830221e9dc11",
       "version_major": 2,
       "version_minor": 0
      },
      "text/plain": [
       "  0%|          | 0/10 [00:00<?, ?it/s]"
      ]
     },
     "metadata": {},
     "output_type": "display_data"
    },
    {
     "data": {
      "application/vnd.jupyter.widget-view+json": {
       "model_id": "393ba7fd904f4b77a96c570deaa5eb45",
       "version_major": 2,
       "version_minor": 0
      },
      "text/plain": [
       "  0%|          | 0/5 [00:00<?, ?it/s]"
      ]
     },
     "metadata": {},
     "output_type": "display_data"
    },
    {
     "data": {
      "application/vnd.jupyter.widget-view+json": {
       "model_id": "228294f783a7490da8af4364d611e61d",
       "version_major": 2,
       "version_minor": 0
      },
      "text/plain": [
       "  0%|          | 0/10 [00:00<?, ?it/s]"
      ]
     },
     "metadata": {},
     "output_type": "display_data"
    },
    {
     "data": {
      "application/vnd.jupyter.widget-view+json": {
       "model_id": "5fb1090602f14573a147f95d90323fea",
       "version_major": 2,
       "version_minor": 0
      },
      "text/plain": [
       "  0%|          | 0/5 [00:00<?, ?it/s]"
      ]
     },
     "metadata": {},
     "output_type": "display_data"
    },
    {
     "data": {
      "application/vnd.jupyter.widget-view+json": {
       "model_id": "61824f1b209c465c8391882fb9d20cd1",
       "version_major": 2,
       "version_minor": 0
      },
      "text/plain": [
       "  0%|          | 0/10 [00:00<?, ?it/s]"
      ]
     },
     "metadata": {},
     "output_type": "display_data"
    },
    {
     "data": {
      "application/vnd.jupyter.widget-view+json": {
       "model_id": "1c076d4061c0427ab5a1c10398d60a15",
       "version_major": 2,
       "version_minor": 0
      },
      "text/plain": [
       "  0%|          | 0/5 [00:00<?, ?it/s]"
      ]
     },
     "metadata": {},
     "output_type": "display_data"
    },
    {
     "data": {
      "application/vnd.jupyter.widget-view+json": {
       "model_id": "27142e0161a24772bf78a1af8bb3f5af",
       "version_major": 2,
       "version_minor": 0
      },
      "text/plain": [
       "  0%|          | 0/10 [00:00<?, ?it/s]"
      ]
     },
     "metadata": {},
     "output_type": "display_data"
    },
    {
     "data": {
      "application/vnd.jupyter.widget-view+json": {
       "model_id": "8b3f301e0f9d44758517d66316276719",
       "version_major": 2,
       "version_minor": 0
      },
      "text/plain": [
       "  0%|          | 0/5 [00:00<?, ?it/s]"
      ]
     },
     "metadata": {},
     "output_type": "display_data"
    },
    {
     "data": {
      "application/vnd.jupyter.widget-view+json": {
       "model_id": "6a9b5f14e0a9494c8bb88ce90abaf9eb",
       "version_major": 2,
       "version_minor": 0
      },
      "text/plain": [
       "  0%|          | 0/10 [00:00<?, ?it/s]"
      ]
     },
     "metadata": {},
     "output_type": "display_data"
    },
    {
     "data": {
      "application/vnd.jupyter.widget-view+json": {
       "model_id": "1b51aca3bb834854beaecbb160610a1e",
       "version_major": 2,
       "version_minor": 0
      },
      "text/plain": [
       "  0%|          | 0/5 [00:00<?, ?it/s]"
      ]
     },
     "metadata": {},
     "output_type": "display_data"
    },
    {
     "data": {
      "application/vnd.jupyter.widget-view+json": {
       "model_id": "c10a5c894ecf453cbb8d1aaf862d20f8",
       "version_major": 2,
       "version_minor": 0
      },
      "text/plain": [
       "  0%|          | 0/10 [00:00<?, ?it/s]"
      ]
     },
     "metadata": {},
     "output_type": "display_data"
    },
    {
     "data": {
      "application/vnd.jupyter.widget-view+json": {
       "model_id": "3d75f6b469164cb1ad5246e7899510eb",
       "version_major": 2,
       "version_minor": 0
      },
      "text/plain": [
       "  0%|          | 0/5 [00:00<?, ?it/s]"
      ]
     },
     "metadata": {},
     "output_type": "display_data"
    },
    {
     "data": {
      "application/vnd.jupyter.widget-view+json": {
       "model_id": "330c07bc8de54f1fab91fa3eb04bfd51",
       "version_major": 2,
       "version_minor": 0
      },
      "text/plain": [
       "  0%|          | 0/10 [00:00<?, ?it/s]"
      ]
     },
     "metadata": {},
     "output_type": "display_data"
    },
    {
     "data": {
      "application/vnd.jupyter.widget-view+json": {
       "model_id": "ba58f6294bc74f82ad0fea6d57ef46a8",
       "version_major": 2,
       "version_minor": 0
      },
      "text/plain": [
       "  0%|          | 0/5 [00:00<?, ?it/s]"
      ]
     },
     "metadata": {},
     "output_type": "display_data"
    },
    {
     "data": {
      "application/vnd.jupyter.widget-view+json": {
       "model_id": "83dc9dc10a64416a89751ff341e35c48",
       "version_major": 2,
       "version_minor": 0
      },
      "text/plain": [
       "  0%|          | 0/10 [00:00<?, ?it/s]"
      ]
     },
     "metadata": {},
     "output_type": "display_data"
    },
    {
     "data": {
      "application/vnd.jupyter.widget-view+json": {
       "model_id": "92be09c5500746f394be2b627d7f9a6d",
       "version_major": 2,
       "version_minor": 0
      },
      "text/plain": [
       "  0%|          | 0/5 [00:00<?, ?it/s]"
      ]
     },
     "metadata": {},
     "output_type": "display_data"
    },
    {
     "data": {
      "application/vnd.jupyter.widget-view+json": {
       "model_id": "52bda70732e443b69f54cc3ac19a7895",
       "version_major": 2,
       "version_minor": 0
      },
      "text/plain": [
       "  0%|          | 0/10 [00:00<?, ?it/s]"
      ]
     },
     "metadata": {},
     "output_type": "display_data"
    },
    {
     "data": {
      "application/vnd.jupyter.widget-view+json": {
       "model_id": "c304d54e7ee74da1907d7dc6bfc34341",
       "version_major": 2,
       "version_minor": 0
      },
      "text/plain": [
       "  0%|          | 0/5 [00:00<?, ?it/s]"
      ]
     },
     "metadata": {},
     "output_type": "display_data"
    },
    {
     "data": {
      "application/vnd.jupyter.widget-view+json": {
       "model_id": "1a8e05b7ad0f462e9313264d95b187d4",
       "version_major": 2,
       "version_minor": 0
      },
      "text/plain": [
       "  0%|          | 0/10 [00:00<?, ?it/s]"
      ]
     },
     "metadata": {},
     "output_type": "display_data"
    },
    {
     "data": {
      "application/vnd.jupyter.widget-view+json": {
       "model_id": "3a6dcd7e618a4714a51d783c5c3cf2eb",
       "version_major": 2,
       "version_minor": 0
      },
      "text/plain": [
       "  0%|          | 0/5 [00:00<?, ?it/s]"
      ]
     },
     "metadata": {},
     "output_type": "display_data"
    },
    {
     "data": {
      "application/vnd.jupyter.widget-view+json": {
       "model_id": "b70472b18d364515b97a5e35dba6abdb",
       "version_major": 2,
       "version_minor": 0
      },
      "text/plain": [
       "  0%|          | 0/10 [00:00<?, ?it/s]"
      ]
     },
     "metadata": {},
     "output_type": "display_data"
    },
    {
     "data": {
      "application/vnd.jupyter.widget-view+json": {
       "model_id": "501ede8bccd54072a3061c6eedd3f46e",
       "version_major": 2,
       "version_minor": 0
      },
      "text/plain": [
       "  0%|          | 0/5 [00:00<?, ?it/s]"
      ]
     },
     "metadata": {},
     "output_type": "display_data"
    },
    {
     "data": {
      "application/vnd.jupyter.widget-view+json": {
       "model_id": "3571122fb36f4deb914b1edfb2ffac93",
       "version_major": 2,
       "version_minor": 0
      },
      "text/plain": [
       "  0%|          | 0/10 [00:00<?, ?it/s]"
      ]
     },
     "metadata": {},
     "output_type": "display_data"
    },
    {
     "data": {
      "application/vnd.jupyter.widget-view+json": {
       "model_id": "d71a694051fb42d9b8a5d2313d29e5b6",
       "version_major": 2,
       "version_minor": 0
      },
      "text/plain": [
       "  0%|          | 0/5 [00:00<?, ?it/s]"
      ]
     },
     "metadata": {},
     "output_type": "display_data"
    },
    {
     "data": {
      "application/vnd.jupyter.widget-view+json": {
       "model_id": "dd189ee4d26046bbab9ade22b7b8e785",
       "version_major": 2,
       "version_minor": 0
      },
      "text/plain": [
       "  0%|          | 0/10 [00:00<?, ?it/s]"
      ]
     },
     "metadata": {},
     "output_type": "display_data"
    },
    {
     "data": {
      "application/vnd.jupyter.widget-view+json": {
       "model_id": "b64c689e10724fc19b9fbc2cedc383d7",
       "version_major": 2,
       "version_minor": 0
      },
      "text/plain": [
       "  0%|          | 0/5 [00:00<?, ?it/s]"
      ]
     },
     "metadata": {},
     "output_type": "display_data"
    },
    {
     "data": {
      "application/vnd.jupyter.widget-view+json": {
       "model_id": "d39e1f18ef2841ff91d05fe246c680c4",
       "version_major": 2,
       "version_minor": 0
      },
      "text/plain": [
       "  0%|          | 0/10 [00:00<?, ?it/s]"
      ]
     },
     "metadata": {},
     "output_type": "display_data"
    },
    {
     "data": {
      "application/vnd.jupyter.widget-view+json": {
       "model_id": "4f3e76a547844feaaf0eaba1c32b090d",
       "version_major": 2,
       "version_minor": 0
      },
      "text/plain": [
       "  0%|          | 0/5 [00:00<?, ?it/s]"
      ]
     },
     "metadata": {},
     "output_type": "display_data"
    },
    {
     "data": {
      "application/vnd.jupyter.widget-view+json": {
       "model_id": "0dcd9937965f4e22ac44e49da278b70e",
       "version_major": 2,
       "version_minor": 0
      },
      "text/plain": [
       "  0%|          | 0/10 [00:00<?, ?it/s]"
      ]
     },
     "metadata": {},
     "output_type": "display_data"
    },
    {
     "data": {
      "application/vnd.jupyter.widget-view+json": {
       "model_id": "bc8f2cf593fe41868d7f5ed85d7a5285",
       "version_major": 2,
       "version_minor": 0
      },
      "text/plain": [
       "  0%|          | 0/5 [00:00<?, ?it/s]"
      ]
     },
     "metadata": {},
     "output_type": "display_data"
    },
    {
     "data": {
      "application/vnd.jupyter.widget-view+json": {
       "model_id": "bc8caebfcc79447487194ec8159e5249",
       "version_major": 2,
       "version_minor": 0
      },
      "text/plain": [
       "  0%|          | 0/10 [00:00<?, ?it/s]"
      ]
     },
     "metadata": {},
     "output_type": "display_data"
    },
    {
     "data": {
      "application/vnd.jupyter.widget-view+json": {
       "model_id": "989b356668dc4a98b43377a406c4fd61",
       "version_major": 2,
       "version_minor": 0
      },
      "text/plain": [
       "  0%|          | 0/5 [00:00<?, ?it/s]"
      ]
     },
     "metadata": {},
     "output_type": "display_data"
    },
    {
     "data": {
      "application/vnd.jupyter.widget-view+json": {
       "model_id": "fd740402f8114b61933697d6f1cd7ba4",
       "version_major": 2,
       "version_minor": 0
      },
      "text/plain": [
       "  0%|          | 0/10 [00:00<?, ?it/s]"
      ]
     },
     "metadata": {},
     "output_type": "display_data"
    },
    {
     "data": {
      "application/vnd.jupyter.widget-view+json": {
       "model_id": "2a661a120b1d4be79db10681670dcc13",
       "version_major": 2,
       "version_minor": 0
      },
      "text/plain": [
       "  0%|          | 0/5 [00:00<?, ?it/s]"
      ]
     },
     "metadata": {},
     "output_type": "display_data"
    },
    {
     "data": {
      "application/vnd.jupyter.widget-view+json": {
       "model_id": "f7965e8f251049f09ac9f85c0b54b4a1",
       "version_major": 2,
       "version_minor": 0
      },
      "text/plain": [
       "  0%|          | 0/10 [00:00<?, ?it/s]"
      ]
     },
     "metadata": {},
     "output_type": "display_data"
    },
    {
     "data": {
      "application/vnd.jupyter.widget-view+json": {
       "model_id": "4d97d01e2e894ff897bb1645df5a86a4",
       "version_major": 2,
       "version_minor": 0
      },
      "text/plain": [
       "  0%|          | 0/5 [00:00<?, ?it/s]"
      ]
     },
     "metadata": {},
     "output_type": "display_data"
    },
    {
     "data": {
      "application/vnd.jupyter.widget-view+json": {
       "model_id": "a59a54fed8404ac7bf8a9a7cd1e45610",
       "version_major": 2,
       "version_minor": 0
      },
      "text/plain": [
       "  0%|          | 0/10 [00:00<?, ?it/s]"
      ]
     },
     "metadata": {},
     "output_type": "display_data"
    },
    {
     "data": {
      "application/vnd.jupyter.widget-view+json": {
       "model_id": "d6785031e8d04f4bb328cb452d223192",
       "version_major": 2,
       "version_minor": 0
      },
      "text/plain": [
       "  0%|          | 0/5 [00:00<?, ?it/s]"
      ]
     },
     "metadata": {},
     "output_type": "display_data"
    },
    {
     "data": {
      "application/vnd.jupyter.widget-view+json": {
       "model_id": "ef1191e255cf413ea19b705a7b2eee50",
       "version_major": 2,
       "version_minor": 0
      },
      "text/plain": [
       "  0%|          | 0/10 [00:00<?, ?it/s]"
      ]
     },
     "metadata": {},
     "output_type": "display_data"
    },
    {
     "data": {
      "application/vnd.jupyter.widget-view+json": {
       "model_id": "4863993a5e9a4f23b2ffee19aa6c479c",
       "version_major": 2,
       "version_minor": 0
      },
      "text/plain": [
       "  0%|          | 0/5 [00:00<?, ?it/s]"
      ]
     },
     "metadata": {},
     "output_type": "display_data"
    },
    {
     "data": {
      "application/vnd.jupyter.widget-view+json": {
       "model_id": "c0f5ee59eb4645a4ad87c8a52665aa50",
       "version_major": 2,
       "version_minor": 0
      },
      "text/plain": [
       "  0%|          | 0/10 [00:00<?, ?it/s]"
      ]
     },
     "metadata": {},
     "output_type": "display_data"
    },
    {
     "data": {
      "application/vnd.jupyter.widget-view+json": {
       "model_id": "5fdcbd3dc34942fc9930c0b5d18801ca",
       "version_major": 2,
       "version_minor": 0
      },
      "text/plain": [
       "  0%|          | 0/5 [00:00<?, ?it/s]"
      ]
     },
     "metadata": {},
     "output_type": "display_data"
    },
    {
     "data": {
      "application/vnd.jupyter.widget-view+json": {
       "model_id": "e5f417dd384c433db89ada3373149020",
       "version_major": 2,
       "version_minor": 0
      },
      "text/plain": [
       "  0%|          | 0/10 [00:00<?, ?it/s]"
      ]
     },
     "metadata": {},
     "output_type": "display_data"
    },
    {
     "data": {
      "application/vnd.jupyter.widget-view+json": {
       "model_id": "5da3fed4eba94d25941c12acadce4c4c",
       "version_major": 2,
       "version_minor": 0
      },
      "text/plain": [
       "  0%|          | 0/5 [00:00<?, ?it/s]"
      ]
     },
     "metadata": {},
     "output_type": "display_data"
    },
    {
     "data": {
      "application/vnd.jupyter.widget-view+json": {
       "model_id": "a8df875c053440dfbdd913b8e58a2eb6",
       "version_major": 2,
       "version_minor": 0
      },
      "text/plain": [
       "  0%|          | 0/10 [00:00<?, ?it/s]"
      ]
     },
     "metadata": {},
     "output_type": "display_data"
    },
    {
     "data": {
      "application/vnd.jupyter.widget-view+json": {
       "model_id": "a53e5ae75bbf47f4aa228af5abbdb066",
       "version_major": 2,
       "version_minor": 0
      },
      "text/plain": [
       "  0%|          | 0/5 [00:00<?, ?it/s]"
      ]
     },
     "metadata": {},
     "output_type": "display_data"
    },
    {
     "data": {
      "application/vnd.jupyter.widget-view+json": {
       "model_id": "e2d38b48d6614be48215c732501e6ca7",
       "version_major": 2,
       "version_minor": 0
      },
      "text/plain": [
       "  0%|          | 0/10 [00:00<?, ?it/s]"
      ]
     },
     "metadata": {},
     "output_type": "display_data"
    },
    {
     "data": {
      "application/vnd.jupyter.widget-view+json": {
       "model_id": "bf5506d2ef2e40df998a310813ccea9b",
       "version_major": 2,
       "version_minor": 0
      },
      "text/plain": [
       "  0%|          | 0/5 [00:00<?, ?it/s]"
      ]
     },
     "metadata": {},
     "output_type": "display_data"
    },
    {
     "data": {
      "application/vnd.jupyter.widget-view+json": {
       "model_id": "530e65033fbf4ffe822d951d03fc27d9",
       "version_major": 2,
       "version_minor": 0
      },
      "text/plain": [
       "  0%|          | 0/10 [00:00<?, ?it/s]"
      ]
     },
     "metadata": {},
     "output_type": "display_data"
    },
    {
     "data": {
      "application/vnd.jupyter.widget-view+json": {
       "model_id": "a00acea4c8a848fc90199537fc6e6b04",
       "version_major": 2,
       "version_minor": 0
      },
      "text/plain": [
       "  0%|          | 0/5 [00:00<?, ?it/s]"
      ]
     },
     "metadata": {},
     "output_type": "display_data"
    },
    {
     "data": {
      "application/vnd.jupyter.widget-view+json": {
       "model_id": "a0320c22275a4b9ba6079e582d5033e4",
       "version_major": 2,
       "version_minor": 0
      },
      "text/plain": [
       "  0%|          | 0/10 [00:00<?, ?it/s]"
      ]
     },
     "metadata": {},
     "output_type": "display_data"
    },
    {
     "data": {
      "application/vnd.jupyter.widget-view+json": {
       "model_id": "06d6e3bb1a0d416ebc9d6a2527dbbfee",
       "version_major": 2,
       "version_minor": 0
      },
      "text/plain": [
       "  0%|          | 0/5 [00:00<?, ?it/s]"
      ]
     },
     "metadata": {},
     "output_type": "display_data"
    },
    {
     "data": {
      "application/vnd.jupyter.widget-view+json": {
       "model_id": "5cd2bccc15384787baa3882550a023e6",
       "version_major": 2,
       "version_minor": 0
      },
      "text/plain": [
       "  0%|          | 0/10 [00:00<?, ?it/s]"
      ]
     },
     "metadata": {},
     "output_type": "display_data"
    },
    {
     "data": {
      "application/vnd.jupyter.widget-view+json": {
       "model_id": "fa5c634456ad4c80a3e1479e43c6ff9e",
       "version_major": 2,
       "version_minor": 0
      },
      "text/plain": [
       "  0%|          | 0/5 [00:00<?, ?it/s]"
      ]
     },
     "metadata": {},
     "output_type": "display_data"
    },
    {
     "data": {
      "application/vnd.jupyter.widget-view+json": {
       "model_id": "f52043d9cf0b41618eccc518a7047302",
       "version_major": 2,
       "version_minor": 0
      },
      "text/plain": [
       "  0%|          | 0/10 [00:00<?, ?it/s]"
      ]
     },
     "metadata": {},
     "output_type": "display_data"
    },
    {
     "data": {
      "application/vnd.jupyter.widget-view+json": {
       "model_id": "11d8c9967ccf4733afdbd3edf3ef65a9",
       "version_major": 2,
       "version_minor": 0
      },
      "text/plain": [
       "  0%|          | 0/5 [00:00<?, ?it/s]"
      ]
     },
     "metadata": {},
     "output_type": "display_data"
    },
    {
     "data": {
      "application/vnd.jupyter.widget-view+json": {
       "model_id": "af0c69fa14194a769a42616e566f13b5",
       "version_major": 2,
       "version_minor": 0
      },
      "text/plain": [
       "  0%|          | 0/10 [00:00<?, ?it/s]"
      ]
     },
     "metadata": {},
     "output_type": "display_data"
    },
    {
     "data": {
      "application/vnd.jupyter.widget-view+json": {
       "model_id": "93b86b9da6354dce9e40227ed3c2bbab",
       "version_major": 2,
       "version_minor": 0
      },
      "text/plain": [
       "  0%|          | 0/5 [00:00<?, ?it/s]"
      ]
     },
     "metadata": {},
     "output_type": "display_data"
    },
    {
     "data": {
      "application/vnd.jupyter.widget-view+json": {
       "model_id": "ed199866af074d908ce99af744bec042",
       "version_major": 2,
       "version_minor": 0
      },
      "text/plain": [
       "  0%|          | 0/10 [00:00<?, ?it/s]"
      ]
     },
     "metadata": {},
     "output_type": "display_data"
    },
    {
     "data": {
      "application/vnd.jupyter.widget-view+json": {
       "model_id": "2b2dc5e71053486cb0f3727d43101b9b",
       "version_major": 2,
       "version_minor": 0
      },
      "text/plain": [
       "  0%|          | 0/5 [00:00<?, ?it/s]"
      ]
     },
     "metadata": {},
     "output_type": "display_data"
    },
    {
     "data": {
      "application/vnd.jupyter.widget-view+json": {
       "model_id": "5556d7117ce94cc6869f5d084e747137",
       "version_major": 2,
       "version_minor": 0
      },
      "text/plain": [
       "  0%|          | 0/10 [00:00<?, ?it/s]"
      ]
     },
     "metadata": {},
     "output_type": "display_data"
    },
    {
     "data": {
      "application/vnd.jupyter.widget-view+json": {
       "model_id": "633f84747052472b8ec967c2f088531e",
       "version_major": 2,
       "version_minor": 0
      },
      "text/plain": [
       "  0%|          | 0/5 [00:00<?, ?it/s]"
      ]
     },
     "metadata": {},
     "output_type": "display_data"
    },
    {
     "data": {
      "application/vnd.jupyter.widget-view+json": {
       "model_id": "4db8d25fa67c4331b4a7e9189703cbd5",
       "version_major": 2,
       "version_minor": 0
      },
      "text/plain": [
       "  0%|          | 0/10 [00:00<?, ?it/s]"
      ]
     },
     "metadata": {},
     "output_type": "display_data"
    },
    {
     "data": {
      "application/vnd.jupyter.widget-view+json": {
       "model_id": "c3762f20fe98444b978d4fc31db0d12f",
       "version_major": 2,
       "version_minor": 0
      },
      "text/plain": [
       "  0%|          | 0/5 [00:00<?, ?it/s]"
      ]
     },
     "metadata": {},
     "output_type": "display_data"
    },
    {
     "data": {
      "application/vnd.jupyter.widget-view+json": {
       "model_id": "23cbef392e8d4bfc84dbd7febc183c96",
       "version_major": 2,
       "version_minor": 0
      },
      "text/plain": [
       "  0%|          | 0/10 [00:00<?, ?it/s]"
      ]
     },
     "metadata": {},
     "output_type": "display_data"
    },
    {
     "data": {
      "application/vnd.jupyter.widget-view+json": {
       "model_id": "7c4b5a3ecf8d4d6d9786a9bf21309693",
       "version_major": 2,
       "version_minor": 0
      },
      "text/plain": [
       "  0%|          | 0/5 [00:00<?, ?it/s]"
      ]
     },
     "metadata": {},
     "output_type": "display_data"
    },
    {
     "data": {
      "application/vnd.jupyter.widget-view+json": {
       "model_id": "f587a777d2424e6eacf0f6bce6a68963",
       "version_major": 2,
       "version_minor": 0
      },
      "text/plain": [
       "  0%|          | 0/10 [00:00<?, ?it/s]"
      ]
     },
     "metadata": {},
     "output_type": "display_data"
    },
    {
     "data": {
      "application/vnd.jupyter.widget-view+json": {
       "model_id": "6c45116b624c46858ad5405329f21d7c",
       "version_major": 2,
       "version_minor": 0
      },
      "text/plain": [
       "  0%|          | 0/5 [00:00<?, ?it/s]"
      ]
     },
     "metadata": {},
     "output_type": "display_data"
    },
    {
     "data": {
      "application/vnd.jupyter.widget-view+json": {
       "model_id": "f84e7e2521494820bd1feb40923f2e93",
       "version_major": 2,
       "version_minor": 0
      },
      "text/plain": [
       "  0%|          | 0/10 [00:00<?, ?it/s]"
      ]
     },
     "metadata": {},
     "output_type": "display_data"
    },
    {
     "data": {
      "application/vnd.jupyter.widget-view+json": {
       "model_id": "91d4f02de06941d2a051004190bf0687",
       "version_major": 2,
       "version_minor": 0
      },
      "text/plain": [
       "  0%|          | 0/5 [00:00<?, ?it/s]"
      ]
     },
     "metadata": {},
     "output_type": "display_data"
    },
    {
     "data": {
      "application/vnd.jupyter.widget-view+json": {
       "model_id": "2e14e971ce14436f9d10258b948a6008",
       "version_major": 2,
       "version_minor": 0
      },
      "text/plain": [
       "  0%|          | 0/10 [00:00<?, ?it/s]"
      ]
     },
     "metadata": {},
     "output_type": "display_data"
    },
    {
     "data": {
      "application/vnd.jupyter.widget-view+json": {
       "model_id": "457af97acb524c428e44b81d7ee2f4ed",
       "version_major": 2,
       "version_minor": 0
      },
      "text/plain": [
       "  0%|          | 0/5 [00:00<?, ?it/s]"
      ]
     },
     "metadata": {},
     "output_type": "display_data"
    },
    {
     "data": {
      "application/vnd.jupyter.widget-view+json": {
       "model_id": "6e429e11494e49c7a0137c1b25c7d65e",
       "version_major": 2,
       "version_minor": 0
      },
      "text/plain": [
       "  0%|          | 0/10 [00:00<?, ?it/s]"
      ]
     },
     "metadata": {},
     "output_type": "display_data"
    },
    {
     "data": {
      "application/vnd.jupyter.widget-view+json": {
       "model_id": "e661d89512164bb4963a794e0634b17a",
       "version_major": 2,
       "version_minor": 0
      },
      "text/plain": [
       "  0%|          | 0/5 [00:00<?, ?it/s]"
      ]
     },
     "metadata": {},
     "output_type": "display_data"
    },
    {
     "data": {
      "application/vnd.jupyter.widget-view+json": {
       "model_id": "6b3f7d740db34706a8cb0ba3ebf076ef",
       "version_major": 2,
       "version_minor": 0
      },
      "text/plain": [
       "  0%|          | 0/10 [00:00<?, ?it/s]"
      ]
     },
     "metadata": {},
     "output_type": "display_data"
    },
    {
     "data": {
      "application/vnd.jupyter.widget-view+json": {
       "model_id": "d36d52c2b94043bc8104ded03827cc4d",
       "version_major": 2,
       "version_minor": 0
      },
      "text/plain": [
       "  0%|          | 0/5 [00:00<?, ?it/s]"
      ]
     },
     "metadata": {},
     "output_type": "display_data"
    },
    {
     "data": {
      "application/vnd.jupyter.widget-view+json": {
       "model_id": "77067d0d0da548cb90a6727af847b31f",
       "version_major": 2,
       "version_minor": 0
      },
      "text/plain": [
       "  0%|          | 0/10 [00:00<?, ?it/s]"
      ]
     },
     "metadata": {},
     "output_type": "display_data"
    },
    {
     "data": {
      "application/vnd.jupyter.widget-view+json": {
       "model_id": "9ffc39982d934ebb8837811899d97889",
       "version_major": 2,
       "version_minor": 0
      },
      "text/plain": [
       "  0%|          | 0/5 [00:00<?, ?it/s]"
      ]
     },
     "metadata": {},
     "output_type": "display_data"
    },
    {
     "data": {
      "application/vnd.jupyter.widget-view+json": {
       "model_id": "3c74d29c9d5545a99de7003117e066df",
       "version_major": 2,
       "version_minor": 0
      },
      "text/plain": [
       "  0%|          | 0/10 [00:00<?, ?it/s]"
      ]
     },
     "metadata": {},
     "output_type": "display_data"
    },
    {
     "data": {
      "application/vnd.jupyter.widget-view+json": {
       "model_id": "d6ca8a7559424763aaf4a3cd38999604",
       "version_major": 2,
       "version_minor": 0
      },
      "text/plain": [
       "  0%|          | 0/5 [00:00<?, ?it/s]"
      ]
     },
     "metadata": {},
     "output_type": "display_data"
    },
    {
     "data": {
      "application/vnd.jupyter.widget-view+json": {
       "model_id": "8d81736181e143768befe7ff9772fa94",
       "version_major": 2,
       "version_minor": 0
      },
      "text/plain": [
       "  0%|          | 0/10 [00:00<?, ?it/s]"
      ]
     },
     "metadata": {},
     "output_type": "display_data"
    },
    {
     "data": {
      "application/vnd.jupyter.widget-view+json": {
       "model_id": "ef28f197a6ad41ff97c2fb751ebf938f",
       "version_major": 2,
       "version_minor": 0
      },
      "text/plain": [
       "  0%|          | 0/5 [00:00<?, ?it/s]"
      ]
     },
     "metadata": {},
     "output_type": "display_data"
    },
    {
     "data": {
      "application/vnd.jupyter.widget-view+json": {
       "model_id": "2f9dd451a6124c1eac39a44475985df6",
       "version_major": 2,
       "version_minor": 0
      },
      "text/plain": [
       "  0%|          | 0/10 [00:00<?, ?it/s]"
      ]
     },
     "metadata": {},
     "output_type": "display_data"
    },
    {
     "data": {
      "application/vnd.jupyter.widget-view+json": {
       "model_id": "4f4b9ee7b0754ae6a761bfb67ec016b5",
       "version_major": 2,
       "version_minor": 0
      },
      "text/plain": [
       "  0%|          | 0/5 [00:00<?, ?it/s]"
      ]
     },
     "metadata": {},
     "output_type": "display_data"
    },
    {
     "data": {
      "application/vnd.jupyter.widget-view+json": {
       "model_id": "c477532c759540b19b2ae5f91e35f537",
       "version_major": 2,
       "version_minor": 0
      },
      "text/plain": [
       "  0%|          | 0/10 [00:00<?, ?it/s]"
      ]
     },
     "metadata": {},
     "output_type": "display_data"
    },
    {
     "data": {
      "application/vnd.jupyter.widget-view+json": {
       "model_id": "a08f6d14d3fd401bbebbdc6ea296b316",
       "version_major": 2,
       "version_minor": 0
      },
      "text/plain": [
       "  0%|          | 0/5 [00:00<?, ?it/s]"
      ]
     },
     "metadata": {},
     "output_type": "display_data"
    },
    {
     "data": {
      "application/vnd.jupyter.widget-view+json": {
       "model_id": "07598222bbd84e3c90bf65aff728db49",
       "version_major": 2,
       "version_minor": 0
      },
      "text/plain": [
       "  0%|          | 0/10 [00:00<?, ?it/s]"
      ]
     },
     "metadata": {},
     "output_type": "display_data"
    },
    {
     "data": {
      "application/vnd.jupyter.widget-view+json": {
       "model_id": "93d607a515ac409a8dcb162055c09c70",
       "version_major": 2,
       "version_minor": 0
      },
      "text/plain": [
       "  0%|          | 0/5 [00:00<?, ?it/s]"
      ]
     },
     "metadata": {},
     "output_type": "display_data"
    },
    {
     "data": {
      "application/vnd.jupyter.widget-view+json": {
       "model_id": "ad18e8a3bcd14709b260d9bc3be45c6d",
       "version_major": 2,
       "version_minor": 0
      },
      "text/plain": [
       "  0%|          | 0/10 [00:00<?, ?it/s]"
      ]
     },
     "metadata": {},
     "output_type": "display_data"
    },
    {
     "data": {
      "application/vnd.jupyter.widget-view+json": {
       "model_id": "d225bac5f9c943978c985d047a15e6c7",
       "version_major": 2,
       "version_minor": 0
      },
      "text/plain": [
       "  0%|          | 0/5 [00:00<?, ?it/s]"
      ]
     },
     "metadata": {},
     "output_type": "display_data"
    },
    {
     "data": {
      "application/vnd.jupyter.widget-view+json": {
       "model_id": "5fb3920d7d8b4c6396f6017794bd1281",
       "version_major": 2,
       "version_minor": 0
      },
      "text/plain": [
       "  0%|          | 0/10 [00:00<?, ?it/s]"
      ]
     },
     "metadata": {},
     "output_type": "display_data"
    },
    {
     "data": {
      "application/vnd.jupyter.widget-view+json": {
       "model_id": "b53474aefdea498d9f9fc7fe1d76fac7",
       "version_major": 2,
       "version_minor": 0
      },
      "text/plain": [
       "  0%|          | 0/5 [00:00<?, ?it/s]"
      ]
     },
     "metadata": {},
     "output_type": "display_data"
    },
    {
     "data": {
      "application/vnd.jupyter.widget-view+json": {
       "model_id": "a32ba8d9caac4ef092ec9e558e5ee746",
       "version_major": 2,
       "version_minor": 0
      },
      "text/plain": [
       "  0%|          | 0/10 [00:00<?, ?it/s]"
      ]
     },
     "metadata": {},
     "output_type": "display_data"
    },
    {
     "data": {
      "application/vnd.jupyter.widget-view+json": {
       "model_id": "c2cb8694e36b4f00a8149a41cffcc505",
       "version_major": 2,
       "version_minor": 0
      },
      "text/plain": [
       "  0%|          | 0/5 [00:00<?, ?it/s]"
      ]
     },
     "metadata": {},
     "output_type": "display_data"
    },
    {
     "data": {
      "application/vnd.jupyter.widget-view+json": {
       "model_id": "26eb4b0842c64aba90def891d9e35ad7",
       "version_major": 2,
       "version_minor": 0
      },
      "text/plain": [
       "  0%|          | 0/10 [00:00<?, ?it/s]"
      ]
     },
     "metadata": {},
     "output_type": "display_data"
    },
    {
     "data": {
      "application/vnd.jupyter.widget-view+json": {
       "model_id": "84315e91520046189f1801b6c51d99c6",
       "version_major": 2,
       "version_minor": 0
      },
      "text/plain": [
       "  0%|          | 0/5 [00:00<?, ?it/s]"
      ]
     },
     "metadata": {},
     "output_type": "display_data"
    },
    {
     "data": {
      "application/vnd.jupyter.widget-view+json": {
       "model_id": "e046b3d096a242b3bc62d091826f6779",
       "version_major": 2,
       "version_minor": 0
      },
      "text/plain": [
       "  0%|          | 0/10 [00:00<?, ?it/s]"
      ]
     },
     "metadata": {},
     "output_type": "display_data"
    },
    {
     "data": {
      "application/vnd.jupyter.widget-view+json": {
       "model_id": "b6b5ca7eac064e3c84ce8098cd027f7f",
       "version_major": 2,
       "version_minor": 0
      },
      "text/plain": [
       "  0%|          | 0/5 [00:00<?, ?it/s]"
      ]
     },
     "metadata": {},
     "output_type": "display_data"
    },
    {
     "data": {
      "application/vnd.jupyter.widget-view+json": {
       "model_id": "eebf79f81cc848f3a00ae33e6663008e",
       "version_major": 2,
       "version_minor": 0
      },
      "text/plain": [
       "  0%|          | 0/10 [00:00<?, ?it/s]"
      ]
     },
     "metadata": {},
     "output_type": "display_data"
    },
    {
     "data": {
      "application/vnd.jupyter.widget-view+json": {
       "model_id": "7c5286fe2dfe4f09a556b8d69c65c0ab",
       "version_major": 2,
       "version_minor": 0
      },
      "text/plain": [
       "  0%|          | 0/5 [00:00<?, ?it/s]"
      ]
     },
     "metadata": {},
     "output_type": "display_data"
    },
    {
     "data": {
      "application/vnd.jupyter.widget-view+json": {
       "model_id": "210b8d15a3e94befaad5681066b2a1e1",
       "version_major": 2,
       "version_minor": 0
      },
      "text/plain": [
       "  0%|          | 0/10 [00:00<?, ?it/s]"
      ]
     },
     "metadata": {},
     "output_type": "display_data"
    },
    {
     "data": {
      "application/vnd.jupyter.widget-view+json": {
       "model_id": "f581414a967243a5994c942775f74ba2",
       "version_major": 2,
       "version_minor": 0
      },
      "text/plain": [
       "  0%|          | 0/5 [00:00<?, ?it/s]"
      ]
     },
     "metadata": {},
     "output_type": "display_data"
    },
    {
     "data": {
      "application/vnd.jupyter.widget-view+json": {
       "model_id": "06a70e351c6b41fdb904bc69067a7a97",
       "version_major": 2,
       "version_minor": 0
      },
      "text/plain": [
       "  0%|          | 0/10 [00:00<?, ?it/s]"
      ]
     },
     "metadata": {},
     "output_type": "display_data"
    },
    {
     "data": {
      "application/vnd.jupyter.widget-view+json": {
       "model_id": "57bf0c3646454f0bb5363b08f73e41b9",
       "version_major": 2,
       "version_minor": 0
      },
      "text/plain": [
       "  0%|          | 0/5 [00:00<?, ?it/s]"
      ]
     },
     "metadata": {},
     "output_type": "display_data"
    },
    {
     "data": {
      "application/vnd.jupyter.widget-view+json": {
       "model_id": "c7cc8c0d06f74650bdfdcf70969a95aa",
       "version_major": 2,
       "version_minor": 0
      },
      "text/plain": [
       "  0%|          | 0/10 [00:00<?, ?it/s]"
      ]
     },
     "metadata": {},
     "output_type": "display_data"
    },
    {
     "data": {
      "application/vnd.jupyter.widget-view+json": {
       "model_id": "ebc7fed3726740b4a3957b12ca101f86",
       "version_major": 2,
       "version_minor": 0
      },
      "text/plain": [
       "  0%|          | 0/5 [00:00<?, ?it/s]"
      ]
     },
     "metadata": {},
     "output_type": "display_data"
    },
    {
     "data": {
      "application/vnd.jupyter.widget-view+json": {
       "model_id": "d7d32ddcb5e44aa1a2b2ba9199ed8aa0",
       "version_major": 2,
       "version_minor": 0
      },
      "text/plain": [
       "  0%|          | 0/10 [00:00<?, ?it/s]"
      ]
     },
     "metadata": {},
     "output_type": "display_data"
    },
    {
     "data": {
      "application/vnd.jupyter.widget-view+json": {
       "model_id": "cd2acad6563e46c9a2c8994084fd775c",
       "version_major": 2,
       "version_minor": 0
      },
      "text/plain": [
       "  0%|          | 0/5 [00:00<?, ?it/s]"
      ]
     },
     "metadata": {},
     "output_type": "display_data"
    },
    {
     "data": {
      "application/vnd.jupyter.widget-view+json": {
       "model_id": "b6bf71ad685c4158a55902cb58fd7ac3",
       "version_major": 2,
       "version_minor": 0
      },
      "text/plain": [
       "  0%|          | 0/10 [00:00<?, ?it/s]"
      ]
     },
     "metadata": {},
     "output_type": "display_data"
    },
    {
     "data": {
      "application/vnd.jupyter.widget-view+json": {
       "model_id": "22558b03fb9342db99dc76a41a447921",
       "version_major": 2,
       "version_minor": 0
      },
      "text/plain": [
       "  0%|          | 0/5 [00:00<?, ?it/s]"
      ]
     },
     "metadata": {},
     "output_type": "display_data"
    },
    {
     "data": {
      "application/vnd.jupyter.widget-view+json": {
       "model_id": "6007d4ef35af4f5c91e4654886ba9fed",
       "version_major": 2,
       "version_minor": 0
      },
      "text/plain": [
       "  0%|          | 0/10 [00:00<?, ?it/s]"
      ]
     },
     "metadata": {},
     "output_type": "display_data"
    },
    {
     "data": {
      "application/vnd.jupyter.widget-view+json": {
       "model_id": "5b1f589734ce490eba6c3911f129d37e",
       "version_major": 2,
       "version_minor": 0
      },
      "text/plain": [
       "  0%|          | 0/5 [00:00<?, ?it/s]"
      ]
     },
     "metadata": {},
     "output_type": "display_data"
    },
    {
     "data": {
      "application/vnd.jupyter.widget-view+json": {
       "model_id": "a7fc151022f742c1b81786452f4053e0",
       "version_major": 2,
       "version_minor": 0
      },
      "text/plain": [
       "  0%|          | 0/10 [00:00<?, ?it/s]"
      ]
     },
     "metadata": {},
     "output_type": "display_data"
    },
    {
     "data": {
      "application/vnd.jupyter.widget-view+json": {
       "model_id": "cefc7d3760ac433aa7f4560819dca199",
       "version_major": 2,
       "version_minor": 0
      },
      "text/plain": [
       "  0%|          | 0/5 [00:00<?, ?it/s]"
      ]
     },
     "metadata": {},
     "output_type": "display_data"
    },
    {
     "data": {
      "application/vnd.jupyter.widget-view+json": {
       "model_id": "0accedf363894a72a54d3d8e25d9884f",
       "version_major": 2,
       "version_minor": 0
      },
      "text/plain": [
       "  0%|          | 0/10 [00:00<?, ?it/s]"
      ]
     },
     "metadata": {},
     "output_type": "display_data"
    },
    {
     "data": {
      "application/vnd.jupyter.widget-view+json": {
       "model_id": "2483b8eb18d44d2baea73d4f05b45ce6",
       "version_major": 2,
       "version_minor": 0
      },
      "text/plain": [
       "  0%|          | 0/5 [00:00<?, ?it/s]"
      ]
     },
     "metadata": {},
     "output_type": "display_data"
    },
    {
     "data": {
      "application/vnd.jupyter.widget-view+json": {
       "model_id": "831f1f8afa1d40d2997a3e80cdad25ad",
       "version_major": 2,
       "version_minor": 0
      },
      "text/plain": [
       "  0%|          | 0/10 [00:00<?, ?it/s]"
      ]
     },
     "metadata": {},
     "output_type": "display_data"
    },
    {
     "data": {
      "application/vnd.jupyter.widget-view+json": {
       "model_id": "e0f609b98027401c82d6486ad7bfafdc",
       "version_major": 2,
       "version_minor": 0
      },
      "text/plain": [
       "  0%|          | 0/5 [00:00<?, ?it/s]"
      ]
     },
     "metadata": {},
     "output_type": "display_data"
    },
    {
     "data": {
      "application/vnd.jupyter.widget-view+json": {
       "model_id": "b96a05b82b6d4d13b693a1e4a5bc6893",
       "version_major": 2,
       "version_minor": 0
      },
      "text/plain": [
       "  0%|          | 0/10 [00:00<?, ?it/s]"
      ]
     },
     "metadata": {},
     "output_type": "display_data"
    },
    {
     "data": {
      "application/vnd.jupyter.widget-view+json": {
       "model_id": "c109bc20a5ba4d0e8374585ce1229860",
       "version_major": 2,
       "version_minor": 0
      },
      "text/plain": [
       "  0%|          | 0/5 [00:00<?, ?it/s]"
      ]
     },
     "metadata": {},
     "output_type": "display_data"
    },
    {
     "data": {
      "application/vnd.jupyter.widget-view+json": {
       "model_id": "daeecc6adb874c77a08318c56151f595",
       "version_major": 2,
       "version_minor": 0
      },
      "text/plain": [
       "  0%|          | 0/10 [00:00<?, ?it/s]"
      ]
     },
     "metadata": {},
     "output_type": "display_data"
    },
    {
     "data": {
      "application/vnd.jupyter.widget-view+json": {
       "model_id": "3dc69213052c430abd2dbb6f75bc02fe",
       "version_major": 2,
       "version_minor": 0
      },
      "text/plain": [
       "  0%|          | 0/5 [00:00<?, ?it/s]"
      ]
     },
     "metadata": {},
     "output_type": "display_data"
    },
    {
     "data": {
      "application/vnd.jupyter.widget-view+json": {
       "model_id": "e1c9ab2c837e4ae5a099d8c0c8b48b4a",
       "version_major": 2,
       "version_minor": 0
      },
      "text/plain": [
       "  0%|          | 0/10 [00:00<?, ?it/s]"
      ]
     },
     "metadata": {},
     "output_type": "display_data"
    },
    {
     "data": {
      "application/vnd.jupyter.widget-view+json": {
       "model_id": "8c6e68bb2803421e9013a0024b372441",
       "version_major": 2,
       "version_minor": 0
      },
      "text/plain": [
       "  0%|          | 0/5 [00:00<?, ?it/s]"
      ]
     },
     "metadata": {},
     "output_type": "display_data"
    },
    {
     "data": {
      "application/vnd.jupyter.widget-view+json": {
       "model_id": "08b376677db444b8aba1df0a8792b9db",
       "version_major": 2,
       "version_minor": 0
      },
      "text/plain": [
       "  0%|          | 0/10 [00:00<?, ?it/s]"
      ]
     },
     "metadata": {},
     "output_type": "display_data"
    },
    {
     "data": {
      "application/vnd.jupyter.widget-view+json": {
       "model_id": "6c2371d9a7c8462b83eda28ac4b75232",
       "version_major": 2,
       "version_minor": 0
      },
      "text/plain": [
       "  0%|          | 0/5 [00:00<?, ?it/s]"
      ]
     },
     "metadata": {},
     "output_type": "display_data"
    },
    {
     "data": {
      "application/vnd.jupyter.widget-view+json": {
       "model_id": "57985066cd6d4e41882c7336d39b5a1e",
       "version_major": 2,
       "version_minor": 0
      },
      "text/plain": [
       "  0%|          | 0/10 [00:00<?, ?it/s]"
      ]
     },
     "metadata": {},
     "output_type": "display_data"
    },
    {
     "data": {
      "application/vnd.jupyter.widget-view+json": {
       "model_id": "ea2bf6a2a20743c5b788e21e8a3b1293",
       "version_major": 2,
       "version_minor": 0
      },
      "text/plain": [
       "  0%|          | 0/5 [00:00<?, ?it/s]"
      ]
     },
     "metadata": {},
     "output_type": "display_data"
    },
    {
     "data": {
      "application/vnd.jupyter.widget-view+json": {
       "model_id": "292c7996bc4840e78a3247c3dd3db0a0",
       "version_major": 2,
       "version_minor": 0
      },
      "text/plain": [
       "  0%|          | 0/10 [00:00<?, ?it/s]"
      ]
     },
     "metadata": {},
     "output_type": "display_data"
    },
    {
     "data": {
      "application/vnd.jupyter.widget-view+json": {
       "model_id": "fee1171f0d924d7f80d7b77d622c8d14",
       "version_major": 2,
       "version_minor": 0
      },
      "text/plain": [
       "  0%|          | 0/5 [00:00<?, ?it/s]"
      ]
     },
     "metadata": {},
     "output_type": "display_data"
    },
    {
     "data": {
      "application/vnd.jupyter.widget-view+json": {
       "model_id": "77d2ab9c3e39457aa0ac13145c930139",
       "version_major": 2,
       "version_minor": 0
      },
      "text/plain": [
       "  0%|          | 0/10 [00:00<?, ?it/s]"
      ]
     },
     "metadata": {},
     "output_type": "display_data"
    },
    {
     "data": {
      "application/vnd.jupyter.widget-view+json": {
       "model_id": "afad813ecdad47cd86228f42428052be",
       "version_major": 2,
       "version_minor": 0
      },
      "text/plain": [
       "  0%|          | 0/5 [00:00<?, ?it/s]"
      ]
     },
     "metadata": {},
     "output_type": "display_data"
    },
    {
     "data": {
      "application/vnd.jupyter.widget-view+json": {
       "model_id": "15741915b57c42eba638dba2b1870e8d",
       "version_major": 2,
       "version_minor": 0
      },
      "text/plain": [
       "  0%|          | 0/10 [00:00<?, ?it/s]"
      ]
     },
     "metadata": {},
     "output_type": "display_data"
    },
    {
     "data": {
      "application/vnd.jupyter.widget-view+json": {
       "model_id": "3af94182a18f43218b9ed4d2484475b3",
       "version_major": 2,
       "version_minor": 0
      },
      "text/plain": [
       "  0%|          | 0/5 [00:00<?, ?it/s]"
      ]
     },
     "metadata": {},
     "output_type": "display_data"
    },
    {
     "data": {
      "application/vnd.jupyter.widget-view+json": {
       "model_id": "dfa31784738745e79b79f3c55909308d",
       "version_major": 2,
       "version_minor": 0
      },
      "text/plain": [
       "  0%|          | 0/10 [00:00<?, ?it/s]"
      ]
     },
     "metadata": {},
     "output_type": "display_data"
    },
    {
     "data": {
      "application/vnd.jupyter.widget-view+json": {
       "model_id": "a1d68605b5fc48aebd990a90a6852bed",
       "version_major": 2,
       "version_minor": 0
      },
      "text/plain": [
       "  0%|          | 0/5 [00:00<?, ?it/s]"
      ]
     },
     "metadata": {},
     "output_type": "display_data"
    },
    {
     "data": {
      "application/vnd.jupyter.widget-view+json": {
       "model_id": "aad2a1f66dfb4bc282127b35585f5482",
       "version_major": 2,
       "version_minor": 0
      },
      "text/plain": [
       "  0%|          | 0/10 [00:00<?, ?it/s]"
      ]
     },
     "metadata": {},
     "output_type": "display_data"
    },
    {
     "data": {
      "application/vnd.jupyter.widget-view+json": {
       "model_id": "04d5d24921324ddfb22b8bd1b0cf0dd6",
       "version_major": 2,
       "version_minor": 0
      },
      "text/plain": [
       "  0%|          | 0/5 [00:00<?, ?it/s]"
      ]
     },
     "metadata": {},
     "output_type": "display_data"
    },
    {
     "data": {
      "application/vnd.jupyter.widget-view+json": {
       "model_id": "1544138515ae4f2b938312f51a01f16d",
       "version_major": 2,
       "version_minor": 0
      },
      "text/plain": [
       "  0%|          | 0/10 [00:00<?, ?it/s]"
      ]
     },
     "metadata": {},
     "output_type": "display_data"
    },
    {
     "data": {
      "application/vnd.jupyter.widget-view+json": {
       "model_id": "da609ceefc5641fab96adad2ec83f83e",
       "version_major": 2,
       "version_minor": 0
      },
      "text/plain": [
       "  0%|          | 0/5 [00:00<?, ?it/s]"
      ]
     },
     "metadata": {},
     "output_type": "display_data"
    },
    {
     "data": {
      "application/vnd.jupyter.widget-view+json": {
       "model_id": "1862e61ebf4c4248a71918a8f6db5af2",
       "version_major": 2,
       "version_minor": 0
      },
      "text/plain": [
       "  0%|          | 0/10 [00:00<?, ?it/s]"
      ]
     },
     "metadata": {},
     "output_type": "display_data"
    },
    {
     "data": {
      "application/vnd.jupyter.widget-view+json": {
       "model_id": "27ac89ac692641ca88d168c278336b1c",
       "version_major": 2,
       "version_minor": 0
      },
      "text/plain": [
       "  0%|          | 0/5 [00:00<?, ?it/s]"
      ]
     },
     "metadata": {},
     "output_type": "display_data"
    },
    {
     "data": {
      "application/vnd.jupyter.widget-view+json": {
       "model_id": "c0259730ee7249d0986a541c091fb2e3",
       "version_major": 2,
       "version_minor": 0
      },
      "text/plain": [
       "  0%|          | 0/10 [00:00<?, ?it/s]"
      ]
     },
     "metadata": {},
     "output_type": "display_data"
    },
    {
     "data": {
      "application/vnd.jupyter.widget-view+json": {
       "model_id": "abe29d8364eb4465a3a32114ea850319",
       "version_major": 2,
       "version_minor": 0
      },
      "text/plain": [
       "  0%|          | 0/5 [00:00<?, ?it/s]"
      ]
     },
     "metadata": {},
     "output_type": "display_data"
    },
    {
     "data": {
      "application/vnd.jupyter.widget-view+json": {
       "model_id": "feac0629c21d4c3faf382feb7afd7b10",
       "version_major": 2,
       "version_minor": 0
      },
      "text/plain": [
       "  0%|          | 0/10 [00:00<?, ?it/s]"
      ]
     },
     "metadata": {},
     "output_type": "display_data"
    },
    {
     "data": {
      "application/vnd.jupyter.widget-view+json": {
       "model_id": "5c65131c9eff4385afa79772291e12a2",
       "version_major": 2,
       "version_minor": 0
      },
      "text/plain": [
       "  0%|          | 0/5 [00:00<?, ?it/s]"
      ]
     },
     "metadata": {},
     "output_type": "display_data"
    },
    {
     "data": {
      "application/vnd.jupyter.widget-view+json": {
       "model_id": "a2f80285deb8439b98fa9e6acd64c307",
       "version_major": 2,
       "version_minor": 0
      },
      "text/plain": [
       "  0%|          | 0/10 [00:00<?, ?it/s]"
      ]
     },
     "metadata": {},
     "output_type": "display_data"
    },
    {
     "data": {
      "application/vnd.jupyter.widget-view+json": {
       "model_id": "fc975c2a93d94287bea11050fddfca37",
       "version_major": 2,
       "version_minor": 0
      },
      "text/plain": [
       "  0%|          | 0/5 [00:00<?, ?it/s]"
      ]
     },
     "metadata": {},
     "output_type": "display_data"
    },
    {
     "data": {
      "application/vnd.jupyter.widget-view+json": {
       "model_id": "06fb9fc1ca684148864b3eceff6fb91e",
       "version_major": 2,
       "version_minor": 0
      },
      "text/plain": [
       "  0%|          | 0/10 [00:00<?, ?it/s]"
      ]
     },
     "metadata": {},
     "output_type": "display_data"
    },
    {
     "data": {
      "application/vnd.jupyter.widget-view+json": {
       "model_id": "15cdfc4ea53e4477951a675d46a5fa22",
       "version_major": 2,
       "version_minor": 0
      },
      "text/plain": [
       "  0%|          | 0/5 [00:00<?, ?it/s]"
      ]
     },
     "metadata": {},
     "output_type": "display_data"
    },
    {
     "data": {
      "application/vnd.jupyter.widget-view+json": {
       "model_id": "cd7adaaf724a49209f0c4f55f105aebc",
       "version_major": 2,
       "version_minor": 0
      },
      "text/plain": [
       "  0%|          | 0/10 [00:00<?, ?it/s]"
      ]
     },
     "metadata": {},
     "output_type": "display_data"
    },
    {
     "data": {
      "application/vnd.jupyter.widget-view+json": {
       "model_id": "2deaceb0568345cdb37995a588ac4d60",
       "version_major": 2,
       "version_minor": 0
      },
      "text/plain": [
       "  0%|          | 0/5 [00:00<?, ?it/s]"
      ]
     },
     "metadata": {},
     "output_type": "display_data"
    },
    {
     "data": {
      "application/vnd.jupyter.widget-view+json": {
       "model_id": "bb409e2ee0d548f4a7a2ea756d8883db",
       "version_major": 2,
       "version_minor": 0
      },
      "text/plain": [
       "  0%|          | 0/10 [00:00<?, ?it/s]"
      ]
     },
     "metadata": {},
     "output_type": "display_data"
    },
    {
     "data": {
      "application/vnd.jupyter.widget-view+json": {
       "model_id": "7ea3b979103b439b93240dec59802d01",
       "version_major": 2,
       "version_minor": 0
      },
      "text/plain": [
       "  0%|          | 0/5 [00:00<?, ?it/s]"
      ]
     },
     "metadata": {},
     "output_type": "display_data"
    },
    {
     "data": {
      "application/vnd.jupyter.widget-view+json": {
       "model_id": "262a8a9f48634c38992b978bcfbec648",
       "version_major": 2,
       "version_minor": 0
      },
      "text/plain": [
       "  0%|          | 0/10 [00:00<?, ?it/s]"
      ]
     },
     "metadata": {},
     "output_type": "display_data"
    },
    {
     "data": {
      "application/vnd.jupyter.widget-view+json": {
       "model_id": "6cb4ef45df4d46138b0fdc83a99715e2",
       "version_major": 2,
       "version_minor": 0
      },
      "text/plain": [
       "  0%|          | 0/5 [00:00<?, ?it/s]"
      ]
     },
     "metadata": {},
     "output_type": "display_data"
    },
    {
     "data": {
      "application/vnd.jupyter.widget-view+json": {
       "model_id": "a06ce98e049445ada12d58b31f187c49",
       "version_major": 2,
       "version_minor": 0
      },
      "text/plain": [
       "  0%|          | 0/10 [00:00<?, ?it/s]"
      ]
     },
     "metadata": {},
     "output_type": "display_data"
    },
    {
     "data": {
      "application/vnd.jupyter.widget-view+json": {
       "model_id": "6d99fe69de464d9e9592a8be838205ed",
       "version_major": 2,
       "version_minor": 0
      },
      "text/plain": [
       "  0%|          | 0/5 [00:00<?, ?it/s]"
      ]
     },
     "metadata": {},
     "output_type": "display_data"
    },
    {
     "data": {
      "application/vnd.jupyter.widget-view+json": {
       "model_id": "1ffaa3535ad741719e8d821d0a25f805",
       "version_major": 2,
       "version_minor": 0
      },
      "text/plain": [
       "  0%|          | 0/10 [00:00<?, ?it/s]"
      ]
     },
     "metadata": {},
     "output_type": "display_data"
    },
    {
     "data": {
      "application/vnd.jupyter.widget-view+json": {
       "model_id": "885729c2ed12440290bc7bfc476e9cb2",
       "version_major": 2,
       "version_minor": 0
      },
      "text/plain": [
       "  0%|          | 0/5 [00:00<?, ?it/s]"
      ]
     },
     "metadata": {},
     "output_type": "display_data"
    },
    {
     "data": {
      "application/vnd.jupyter.widget-view+json": {
       "model_id": "6649ca2e9927484b80e1da35769dec4c",
       "version_major": 2,
       "version_minor": 0
      },
      "text/plain": [
       "  0%|          | 0/10 [00:00<?, ?it/s]"
      ]
     },
     "metadata": {},
     "output_type": "display_data"
    },
    {
     "data": {
      "application/vnd.jupyter.widget-view+json": {
       "model_id": "34e854d0508f44abacead4a61e7f5d28",
       "version_major": 2,
       "version_minor": 0
      },
      "text/plain": [
       "  0%|          | 0/5 [00:00<?, ?it/s]"
      ]
     },
     "metadata": {},
     "output_type": "display_data"
    },
    {
     "data": {
      "application/vnd.jupyter.widget-view+json": {
       "model_id": "c8f3863316ea4b119a3bb46fd33f52cc",
       "version_major": 2,
       "version_minor": 0
      },
      "text/plain": [
       "  0%|          | 0/10 [00:00<?, ?it/s]"
      ]
     },
     "metadata": {},
     "output_type": "display_data"
    },
    {
     "data": {
      "application/vnd.jupyter.widget-view+json": {
       "model_id": "49d8fb6068a1488b8f9112f08d0ee15f",
       "version_major": 2,
       "version_minor": 0
      },
      "text/plain": [
       "  0%|          | 0/5 [00:00<?, ?it/s]"
      ]
     },
     "metadata": {},
     "output_type": "display_data"
    },
    {
     "data": {
      "application/vnd.jupyter.widget-view+json": {
       "model_id": "4cc797acf6524933bb6bddf12130de07",
       "version_major": 2,
       "version_minor": 0
      },
      "text/plain": [
       "  0%|          | 0/10 [00:00<?, ?it/s]"
      ]
     },
     "metadata": {},
     "output_type": "display_data"
    },
    {
     "data": {
      "application/vnd.jupyter.widget-view+json": {
       "model_id": "68dac21ce55847629f47f315a32c8d3b",
       "version_major": 2,
       "version_minor": 0
      },
      "text/plain": [
       "  0%|          | 0/5 [00:00<?, ?it/s]"
      ]
     },
     "metadata": {},
     "output_type": "display_data"
    },
    {
     "data": {
      "application/vnd.jupyter.widget-view+json": {
       "model_id": "611473d288f741ea8d686296c08cd968",
       "version_major": 2,
       "version_minor": 0
      },
      "text/plain": [
       "  0%|          | 0/10 [00:00<?, ?it/s]"
      ]
     },
     "metadata": {},
     "output_type": "display_data"
    },
    {
     "data": {
      "application/vnd.jupyter.widget-view+json": {
       "model_id": "6aa64b12ef9446ccb8472dbf462094e0",
       "version_major": 2,
       "version_minor": 0
      },
      "text/plain": [
       "  0%|          | 0/5 [00:00<?, ?it/s]"
      ]
     },
     "metadata": {},
     "output_type": "display_data"
    },
    {
     "data": {
      "application/vnd.jupyter.widget-view+json": {
       "model_id": "7dab85e6c2c0473c88a19cd6ea5510ca",
       "version_major": 2,
       "version_minor": 0
      },
      "text/plain": [
       "  0%|          | 0/10 [00:00<?, ?it/s]"
      ]
     },
     "metadata": {},
     "output_type": "display_data"
    },
    {
     "data": {
      "application/vnd.jupyter.widget-view+json": {
       "model_id": "73aed22d766c4afaac6ccae63b3110f5",
       "version_major": 2,
       "version_minor": 0
      },
      "text/plain": [
       "  0%|          | 0/5 [00:00<?, ?it/s]"
      ]
     },
     "metadata": {},
     "output_type": "display_data"
    },
    {
     "data": {
      "application/vnd.jupyter.widget-view+json": {
       "model_id": "d1701b11d50943b3bd43a7e04e0d285e",
       "version_major": 2,
       "version_minor": 0
      },
      "text/plain": [
       "  0%|          | 0/10 [00:00<?, ?it/s]"
      ]
     },
     "metadata": {},
     "output_type": "display_data"
    },
    {
     "data": {
      "application/vnd.jupyter.widget-view+json": {
       "model_id": "8b189b1b95f740a2bf4b2f858ede0908",
       "version_major": 2,
       "version_minor": 0
      },
      "text/plain": [
       "  0%|          | 0/5 [00:00<?, ?it/s]"
      ]
     },
     "metadata": {},
     "output_type": "display_data"
    },
    {
     "data": {
      "application/vnd.jupyter.widget-view+json": {
       "model_id": "3041bece14a4438daf065d5944e06986",
       "version_major": 2,
       "version_minor": 0
      },
      "text/plain": [
       "  0%|          | 0/10 [00:00<?, ?it/s]"
      ]
     },
     "metadata": {},
     "output_type": "display_data"
    },
    {
     "data": {
      "application/vnd.jupyter.widget-view+json": {
       "model_id": "3f81aff7a6474411bcd0950764af64b0",
       "version_major": 2,
       "version_minor": 0
      },
      "text/plain": [
       "  0%|          | 0/5 [00:00<?, ?it/s]"
      ]
     },
     "metadata": {},
     "output_type": "display_data"
    },
    {
     "data": {
      "application/vnd.jupyter.widget-view+json": {
       "model_id": "93a423180de348ba86b120b5c338b234",
       "version_major": 2,
       "version_minor": 0
      },
      "text/plain": [
       "  0%|          | 0/10 [00:00<?, ?it/s]"
      ]
     },
     "metadata": {},
     "output_type": "display_data"
    },
    {
     "data": {
      "application/vnd.jupyter.widget-view+json": {
       "model_id": "187072709209465bb481d578931e3ab2",
       "version_major": 2,
       "version_minor": 0
      },
      "text/plain": [
       "  0%|          | 0/5 [00:00<?, ?it/s]"
      ]
     },
     "metadata": {},
     "output_type": "display_data"
    },
    {
     "data": {
      "application/vnd.jupyter.widget-view+json": {
       "model_id": "bed513fcdeb34cbdbbd8a9fb189eb8b9",
       "version_major": 2,
       "version_minor": 0
      },
      "text/plain": [
       "  0%|          | 0/10 [00:00<?, ?it/s]"
      ]
     },
     "metadata": {},
     "output_type": "display_data"
    },
    {
     "data": {
      "application/vnd.jupyter.widget-view+json": {
       "model_id": "c51dd425455d468f8cd60f7073b9074f",
       "version_major": 2,
       "version_minor": 0
      },
      "text/plain": [
       "  0%|          | 0/5 [00:00<?, ?it/s]"
      ]
     },
     "metadata": {},
     "output_type": "display_data"
    },
    {
     "data": {
      "application/vnd.jupyter.widget-view+json": {
       "model_id": "80e525ba4c1747d882107e36cf9ba78a",
       "version_major": 2,
       "version_minor": 0
      },
      "text/plain": [
       "  0%|          | 0/10 [00:00<?, ?it/s]"
      ]
     },
     "metadata": {},
     "output_type": "display_data"
    },
    {
     "data": {
      "application/vnd.jupyter.widget-view+json": {
       "model_id": "826c594a43ce405eaa6a3756f318226b",
       "version_major": 2,
       "version_minor": 0
      },
      "text/plain": [
       "  0%|          | 0/5 [00:00<?, ?it/s]"
      ]
     },
     "metadata": {},
     "output_type": "display_data"
    },
    {
     "data": {
      "application/vnd.jupyter.widget-view+json": {
       "model_id": "c7af69a76e02495ab6ebfe069e3bc051",
       "version_major": 2,
       "version_minor": 0
      },
      "text/plain": [
       "  0%|          | 0/10 [00:00<?, ?it/s]"
      ]
     },
     "metadata": {},
     "output_type": "display_data"
    },
    {
     "data": {
      "application/vnd.jupyter.widget-view+json": {
       "model_id": "12f2304459a54610ba52e0bcb61af6b7",
       "version_major": 2,
       "version_minor": 0
      },
      "text/plain": [
       "  0%|          | 0/5 [00:00<?, ?it/s]"
      ]
     },
     "metadata": {},
     "output_type": "display_data"
    },
    {
     "data": {
      "application/vnd.jupyter.widget-view+json": {
       "model_id": "97aefc5c9b794a3fac11e08faafc196f",
       "version_major": 2,
       "version_minor": 0
      },
      "text/plain": [
       "  0%|          | 0/10 [00:00<?, ?it/s]"
      ]
     },
     "metadata": {},
     "output_type": "display_data"
    },
    {
     "data": {
      "application/vnd.jupyter.widget-view+json": {
       "model_id": "040be7cb58cb4b7a9d6a5e88ac6f94fd",
       "version_major": 2,
       "version_minor": 0
      },
      "text/plain": [
       "  0%|          | 0/5 [00:00<?, ?it/s]"
      ]
     },
     "metadata": {},
     "output_type": "display_data"
    },
    {
     "data": {
      "application/vnd.jupyter.widget-view+json": {
       "model_id": "b06ead680b914f959bc8e865cf1fca3b",
       "version_major": 2,
       "version_minor": 0
      },
      "text/plain": [
       "  0%|          | 0/10 [00:00<?, ?it/s]"
      ]
     },
     "metadata": {},
     "output_type": "display_data"
    },
    {
     "data": {
      "application/vnd.jupyter.widget-view+json": {
       "model_id": "48cf3f7d8aff4473bc12dda8dfd15d7f",
       "version_major": 2,
       "version_minor": 0
      },
      "text/plain": [
       "  0%|          | 0/5 [00:00<?, ?it/s]"
      ]
     },
     "metadata": {},
     "output_type": "display_data"
    },
    {
     "data": {
      "application/vnd.jupyter.widget-view+json": {
       "model_id": "3344edda0dd44e8d9f26e23ad03a122c",
       "version_major": 2,
       "version_minor": 0
      },
      "text/plain": [
       "  0%|          | 0/10 [00:00<?, ?it/s]"
      ]
     },
     "metadata": {},
     "output_type": "display_data"
    },
    {
     "data": {
      "application/vnd.jupyter.widget-view+json": {
       "model_id": "2ca9765a97544586a378b7990aaa877e",
       "version_major": 2,
       "version_minor": 0
      },
      "text/plain": [
       "  0%|          | 0/5 [00:00<?, ?it/s]"
      ]
     },
     "metadata": {},
     "output_type": "display_data"
    },
    {
     "data": {
      "application/vnd.jupyter.widget-view+json": {
       "model_id": "a80ae5ab7bb64a46bd1e87fa85d019ef",
       "version_major": 2,
       "version_minor": 0
      },
      "text/plain": [
       "  0%|          | 0/10 [00:00<?, ?it/s]"
      ]
     },
     "metadata": {},
     "output_type": "display_data"
    },
    {
     "data": {
      "application/vnd.jupyter.widget-view+json": {
       "model_id": "8b42d2174902485c8d430aa81f1ca0fd",
       "version_major": 2,
       "version_minor": 0
      },
      "text/plain": [
       "  0%|          | 0/5 [00:00<?, ?it/s]"
      ]
     },
     "metadata": {},
     "output_type": "display_data"
    },
    {
     "data": {
      "application/vnd.jupyter.widget-view+json": {
       "model_id": "ae7e233b01e84ae1a089c21214582a30",
       "version_major": 2,
       "version_minor": 0
      },
      "text/plain": [
       "  0%|          | 0/10 [00:00<?, ?it/s]"
      ]
     },
     "metadata": {},
     "output_type": "display_data"
    },
    {
     "data": {
      "application/vnd.jupyter.widget-view+json": {
       "model_id": "3ee98741b1b34bdbb3ad021d4545df26",
       "version_major": 2,
       "version_minor": 0
      },
      "text/plain": [
       "  0%|          | 0/5 [00:00<?, ?it/s]"
      ]
     },
     "metadata": {},
     "output_type": "display_data"
    },
    {
     "data": {
      "application/vnd.jupyter.widget-view+json": {
       "model_id": "745174a73f0241c48e9087fe830775a8",
       "version_major": 2,
       "version_minor": 0
      },
      "text/plain": [
       "  0%|          | 0/10 [00:00<?, ?it/s]"
      ]
     },
     "metadata": {},
     "output_type": "display_data"
    },
    {
     "data": {
      "application/vnd.jupyter.widget-view+json": {
       "model_id": "de3e3b4a4aa04d14aa7786f29b100a74",
       "version_major": 2,
       "version_minor": 0
      },
      "text/plain": [
       "  0%|          | 0/5 [00:00<?, ?it/s]"
      ]
     },
     "metadata": {},
     "output_type": "display_data"
    },
    {
     "data": {
      "application/vnd.jupyter.widget-view+json": {
       "model_id": "3ebb0f05afbd4c1fadb84c88c58774f3",
       "version_major": 2,
       "version_minor": 0
      },
      "text/plain": [
       "  0%|          | 0/10 [00:00<?, ?it/s]"
      ]
     },
     "metadata": {},
     "output_type": "display_data"
    },
    {
     "data": {
      "application/vnd.jupyter.widget-view+json": {
       "model_id": "4d77cf4842ba40ac93c55670d3447c75",
       "version_major": 2,
       "version_minor": 0
      },
      "text/plain": [
       "  0%|          | 0/5 [00:00<?, ?it/s]"
      ]
     },
     "metadata": {},
     "output_type": "display_data"
    },
    {
     "data": {
      "application/vnd.jupyter.widget-view+json": {
       "model_id": "9bda0dcf16ae44eda74f02799edf967e",
       "version_major": 2,
       "version_minor": 0
      },
      "text/plain": [
       "  0%|          | 0/10 [00:00<?, ?it/s]"
      ]
     },
     "metadata": {},
     "output_type": "display_data"
    }
   ],
   "source": [
    "M = []\n",
    "for n in range(n_batches):\n",
    "    agent = GlobalNoveltor(estimators = [Estimator(approximator=bQt_novel_alpha(gamma=0.8), mask=identity()), \n",
    "                               Estimator(approximator=bellman_N_table(alpha=0.1, gamma=0.8), mask=identity()),\n",
    "                               Estimator(global_N_abstractor(alpha=0.1, gamma=0.8), mask=global_context()),\n",
    "                               Estimator(global_Q_abstractor(gamma=0.8), mask=global_context())],\n",
    "                    buffer = ReplayMemory(max_size=10000),\n",
    "                    targets = [Target()],\n",
    "                    counter = state_table(),\n",
    "                    batch_size=batch_size)\n",
    "    \n",
    "    # set action selection to be explorative: \"novelty\"\n",
    "    agent.action_selection = \"novelty\"\n",
    "\n",
    "    trajectories = []\n",
    "    metrics = []\n",
    "    for i in tqdm(range(n_exploratory_episodes)):\n",
    "        trajectory, G = run_trajectory(env, agent, epsilons[i], abstract=False)\n",
    "\n",
    "        trajectories.append(trajectory)\n",
    "\n",
    "        metrics.append({\n",
    "            'Q': dict(agent.estimators[0].approximator.table), \n",
    "            'N': dict(agent.estimators[1].approximator.table),\n",
    "            'Na': dict(agent.estimators[2].approximator.evaluate(0)),\n",
    "            'Qa': dict(agent.estimators[3].approximator.evaluate(0)),\n",
    "            'V': dict(agent.counter.table),\n",
    "            'U': dict(agent.estimators[0].visits),\n",
    "            'G': G\n",
    "            })\n",
    "        \n",
    "    # set action selection to be exploitative: \"greedy\"\n",
    "    agent.action_selection = \"greedy\"\n",
    "\n",
    "    for i in tqdm(range(n_greedy_episodes)):\n",
    "        trajectory, G = run_trajectory(env, agent, epsilons[i], abstract=False)\n",
    "\n",
    "        trajectories.append(trajectory)\n",
    "\n",
    "        metrics.append({\n",
    "            'Q': dict(agent.estimators[0].approximator.table), \n",
    "            'N': dict(agent.estimators[1].approximator.table),\n",
    "            'Na': dict(agent.estimators[2].approximator.evaluate(0)),\n",
    "            'Qa': dict(agent.estimators[3].approximator.evaluate(0)),\n",
    "            'V': dict(agent.counter.table),\n",
    "            'U': dict(agent.estimators[0].visits),\n",
    "            'G': G\n",
    "            })\n",
    "    \n",
    "    M.append(metrics)"
   ]
  },
  {
   "cell_type": "code",
   "execution_count": 60,
   "metadata": {},
   "outputs": [],
   "source": [
    "R = np.zeros((n_batches, n_exploratory_episodes+n_greedy_episodes))\n",
    "\n",
    "for i, batch in enumerate(M):\n",
    "    for j, metrics in enumerate(batch):\n",
    "        for exp, g in enumerate(metrics['G']):\n",
    "            R[i,j] += gamma**exp*g"
   ]
  },
  {
   "cell_type": "code",
   "execution_count": 61,
   "metadata": {},
   "outputs": [],
   "source": [
    "y = np.mean(R, axis=0)\n",
    "yCI = list(map(lambda p: bootstrap_empirical(p)(0.95), R.T))\n",
    "Y = np.transpose(yCI)"
   ]
  },
  {
   "cell_type": "code",
   "execution_count": 62,
   "metadata": {},
   "outputs": [
    {
     "data": {
      "application/javascript": [
       "/* Put everything inside the global mpl namespace */\n",
       "/* global mpl */\n",
       "window.mpl = {};\n",
       "\n",
       "mpl.get_websocket_type = function () {\n",
       "    if (typeof WebSocket !== 'undefined') {\n",
       "        return WebSocket;\n",
       "    } else if (typeof MozWebSocket !== 'undefined') {\n",
       "        return MozWebSocket;\n",
       "    } else {\n",
       "        alert(\n",
       "            'Your browser does not have WebSocket support. ' +\n",
       "                'Please try Chrome, Safari or Firefox ≥ 6. ' +\n",
       "                'Firefox 4 and 5 are also supported but you ' +\n",
       "                'have to enable WebSockets in about:config.'\n",
       "        );\n",
       "    }\n",
       "};\n",
       "\n",
       "mpl.figure = function (figure_id, websocket, ondownload, parent_element) {\n",
       "    this.id = figure_id;\n",
       "\n",
       "    this.ws = websocket;\n",
       "\n",
       "    this.supports_binary = this.ws.binaryType !== undefined;\n",
       "\n",
       "    if (!this.supports_binary) {\n",
       "        var warnings = document.getElementById('mpl-warnings');\n",
       "        if (warnings) {\n",
       "            warnings.style.display = 'block';\n",
       "            warnings.textContent =\n",
       "                'This browser does not support binary websocket messages. ' +\n",
       "                'Performance may be slow.';\n",
       "        }\n",
       "    }\n",
       "\n",
       "    this.imageObj = new Image();\n",
       "\n",
       "    this.context = undefined;\n",
       "    this.message = undefined;\n",
       "    this.canvas = undefined;\n",
       "    this.rubberband_canvas = undefined;\n",
       "    this.rubberband_context = undefined;\n",
       "    this.format_dropdown = undefined;\n",
       "\n",
       "    this.image_mode = 'full';\n",
       "\n",
       "    this.root = document.createElement('div');\n",
       "    this.root.setAttribute('style', 'display: inline-block');\n",
       "    this._root_extra_style(this.root);\n",
       "\n",
       "    parent_element.appendChild(this.root);\n",
       "\n",
       "    this._init_header(this);\n",
       "    this._init_canvas(this);\n",
       "    this._init_toolbar(this);\n",
       "\n",
       "    var fig = this;\n",
       "\n",
       "    this.waiting = false;\n",
       "\n",
       "    this.ws.onopen = function () {\n",
       "        fig.send_message('supports_binary', { value: fig.supports_binary });\n",
       "        fig.send_message('send_image_mode', {});\n",
       "        if (fig.ratio !== 1) {\n",
       "            fig.send_message('set_dpi_ratio', { dpi_ratio: fig.ratio });\n",
       "        }\n",
       "        fig.send_message('refresh', {});\n",
       "    };\n",
       "\n",
       "    this.imageObj.onload = function () {\n",
       "        if (fig.image_mode === 'full') {\n",
       "            // Full images could contain transparency (where diff images\n",
       "            // almost always do), so we need to clear the canvas so that\n",
       "            // there is no ghosting.\n",
       "            fig.context.clearRect(0, 0, fig.canvas.width, fig.canvas.height);\n",
       "        }\n",
       "        fig.context.drawImage(fig.imageObj, 0, 0);\n",
       "    };\n",
       "\n",
       "    this.imageObj.onunload = function () {\n",
       "        fig.ws.close();\n",
       "    };\n",
       "\n",
       "    this.ws.onmessage = this._make_on_message_function(this);\n",
       "\n",
       "    this.ondownload = ondownload;\n",
       "};\n",
       "\n",
       "mpl.figure.prototype._init_header = function () {\n",
       "    var titlebar = document.createElement('div');\n",
       "    titlebar.classList =\n",
       "        'ui-dialog-titlebar ui-widget-header ui-corner-all ui-helper-clearfix';\n",
       "    var titletext = document.createElement('div');\n",
       "    titletext.classList = 'ui-dialog-title';\n",
       "    titletext.setAttribute(\n",
       "        'style',\n",
       "        'width: 100%; text-align: center; padding: 3px;'\n",
       "    );\n",
       "    titlebar.appendChild(titletext);\n",
       "    this.root.appendChild(titlebar);\n",
       "    this.header = titletext;\n",
       "};\n",
       "\n",
       "mpl.figure.prototype._canvas_extra_style = function (_canvas_div) {};\n",
       "\n",
       "mpl.figure.prototype._root_extra_style = function (_canvas_div) {};\n",
       "\n",
       "mpl.figure.prototype._init_canvas = function () {\n",
       "    var fig = this;\n",
       "\n",
       "    var canvas_div = (this.canvas_div = document.createElement('div'));\n",
       "    canvas_div.setAttribute(\n",
       "        'style',\n",
       "        'border: 1px solid #ddd;' +\n",
       "            'box-sizing: content-box;' +\n",
       "            'clear: both;' +\n",
       "            'min-height: 1px;' +\n",
       "            'min-width: 1px;' +\n",
       "            'outline: 0;' +\n",
       "            'overflow: hidden;' +\n",
       "            'position: relative;' +\n",
       "            'resize: both;'\n",
       "    );\n",
       "\n",
       "    function on_keyboard_event_closure(name) {\n",
       "        return function (event) {\n",
       "            return fig.key_event(event, name);\n",
       "        };\n",
       "    }\n",
       "\n",
       "    canvas_div.addEventListener(\n",
       "        'keydown',\n",
       "        on_keyboard_event_closure('key_press')\n",
       "    );\n",
       "    canvas_div.addEventListener(\n",
       "        'keyup',\n",
       "        on_keyboard_event_closure('key_release')\n",
       "    );\n",
       "\n",
       "    this._canvas_extra_style(canvas_div);\n",
       "    this.root.appendChild(canvas_div);\n",
       "\n",
       "    var canvas = (this.canvas = document.createElement('canvas'));\n",
       "    canvas.classList.add('mpl-canvas');\n",
       "    canvas.setAttribute('style', 'box-sizing: content-box;');\n",
       "\n",
       "    this.context = canvas.getContext('2d');\n",
       "\n",
       "    var backingStore =\n",
       "        this.context.backingStorePixelRatio ||\n",
       "        this.context.webkitBackingStorePixelRatio ||\n",
       "        this.context.mozBackingStorePixelRatio ||\n",
       "        this.context.msBackingStorePixelRatio ||\n",
       "        this.context.oBackingStorePixelRatio ||\n",
       "        this.context.backingStorePixelRatio ||\n",
       "        1;\n",
       "\n",
       "    this.ratio = (window.devicePixelRatio || 1) / backingStore;\n",
       "    if (this.ratio !== 1) {\n",
       "        fig.send_message('set_dpi_ratio', { dpi_ratio: this.ratio });\n",
       "    }\n",
       "\n",
       "    var rubberband_canvas = (this.rubberband_canvas = document.createElement(\n",
       "        'canvas'\n",
       "    ));\n",
       "    rubberband_canvas.setAttribute(\n",
       "        'style',\n",
       "        'box-sizing: content-box; position: absolute; left: 0; top: 0; z-index: 1;'\n",
       "    );\n",
       "\n",
       "    var resizeObserver = new ResizeObserver(function (entries) {\n",
       "        var nentries = entries.length;\n",
       "        for (var i = 0; i < nentries; i++) {\n",
       "            var entry = entries[i];\n",
       "            var width, height;\n",
       "            if (entry.contentBoxSize) {\n",
       "                if (entry.contentBoxSize instanceof Array) {\n",
       "                    // Chrome 84 implements new version of spec.\n",
       "                    width = entry.contentBoxSize[0].inlineSize;\n",
       "                    height = entry.contentBoxSize[0].blockSize;\n",
       "                } else {\n",
       "                    // Firefox implements old version of spec.\n",
       "                    width = entry.contentBoxSize.inlineSize;\n",
       "                    height = entry.contentBoxSize.blockSize;\n",
       "                }\n",
       "            } else {\n",
       "                // Chrome <84 implements even older version of spec.\n",
       "                width = entry.contentRect.width;\n",
       "                height = entry.contentRect.height;\n",
       "            }\n",
       "\n",
       "            // Keep the size of the canvas and rubber band canvas in sync with\n",
       "            // the canvas container.\n",
       "            if (entry.devicePixelContentBoxSize) {\n",
       "                // Chrome 84 implements new version of spec.\n",
       "                canvas.setAttribute(\n",
       "                    'width',\n",
       "                    entry.devicePixelContentBoxSize[0].inlineSize\n",
       "                );\n",
       "                canvas.setAttribute(\n",
       "                    'height',\n",
       "                    entry.devicePixelContentBoxSize[0].blockSize\n",
       "                );\n",
       "            } else {\n",
       "                canvas.setAttribute('width', width * fig.ratio);\n",
       "                canvas.setAttribute('height', height * fig.ratio);\n",
       "            }\n",
       "            canvas.setAttribute(\n",
       "                'style',\n",
       "                'width: ' + width + 'px; height: ' + height + 'px;'\n",
       "            );\n",
       "\n",
       "            rubberband_canvas.setAttribute('width', width);\n",
       "            rubberband_canvas.setAttribute('height', height);\n",
       "\n",
       "            // And update the size in Python. We ignore the initial 0/0 size\n",
       "            // that occurs as the element is placed into the DOM, which should\n",
       "            // otherwise not happen due to the minimum size styling.\n",
       "            if (width != 0 && height != 0) {\n",
       "                fig.request_resize(width, height);\n",
       "            }\n",
       "        }\n",
       "    });\n",
       "    resizeObserver.observe(canvas_div);\n",
       "\n",
       "    function on_mouse_event_closure(name) {\n",
       "        return function (event) {\n",
       "            return fig.mouse_event(event, name);\n",
       "        };\n",
       "    }\n",
       "\n",
       "    rubberband_canvas.addEventListener(\n",
       "        'mousedown',\n",
       "        on_mouse_event_closure('button_press')\n",
       "    );\n",
       "    rubberband_canvas.addEventListener(\n",
       "        'mouseup',\n",
       "        on_mouse_event_closure('button_release')\n",
       "    );\n",
       "    // Throttle sequential mouse events to 1 every 20ms.\n",
       "    rubberband_canvas.addEventListener(\n",
       "        'mousemove',\n",
       "        on_mouse_event_closure('motion_notify')\n",
       "    );\n",
       "\n",
       "    rubberband_canvas.addEventListener(\n",
       "        'mouseenter',\n",
       "        on_mouse_event_closure('figure_enter')\n",
       "    );\n",
       "    rubberband_canvas.addEventListener(\n",
       "        'mouseleave',\n",
       "        on_mouse_event_closure('figure_leave')\n",
       "    );\n",
       "\n",
       "    canvas_div.addEventListener('wheel', function (event) {\n",
       "        if (event.deltaY < 0) {\n",
       "            event.step = 1;\n",
       "        } else {\n",
       "            event.step = -1;\n",
       "        }\n",
       "        on_mouse_event_closure('scroll')(event);\n",
       "    });\n",
       "\n",
       "    canvas_div.appendChild(canvas);\n",
       "    canvas_div.appendChild(rubberband_canvas);\n",
       "\n",
       "    this.rubberband_context = rubberband_canvas.getContext('2d');\n",
       "    this.rubberband_context.strokeStyle = '#000000';\n",
       "\n",
       "    this._resize_canvas = function (width, height, forward) {\n",
       "        if (forward) {\n",
       "            canvas_div.style.width = width + 'px';\n",
       "            canvas_div.style.height = height + 'px';\n",
       "        }\n",
       "    };\n",
       "\n",
       "    // Disable right mouse context menu.\n",
       "    this.rubberband_canvas.addEventListener('contextmenu', function (_e) {\n",
       "        event.preventDefault();\n",
       "        return false;\n",
       "    });\n",
       "\n",
       "    function set_focus() {\n",
       "        canvas.focus();\n",
       "        canvas_div.focus();\n",
       "    }\n",
       "\n",
       "    window.setTimeout(set_focus, 100);\n",
       "};\n",
       "\n",
       "mpl.figure.prototype._init_toolbar = function () {\n",
       "    var fig = this;\n",
       "\n",
       "    var toolbar = document.createElement('div');\n",
       "    toolbar.classList = 'mpl-toolbar';\n",
       "    this.root.appendChild(toolbar);\n",
       "\n",
       "    function on_click_closure(name) {\n",
       "        return function (_event) {\n",
       "            return fig.toolbar_button_onclick(name);\n",
       "        };\n",
       "    }\n",
       "\n",
       "    function on_mouseover_closure(tooltip) {\n",
       "        return function (event) {\n",
       "            if (!event.currentTarget.disabled) {\n",
       "                return fig.toolbar_button_onmouseover(tooltip);\n",
       "            }\n",
       "        };\n",
       "    }\n",
       "\n",
       "    fig.buttons = {};\n",
       "    var buttonGroup = document.createElement('div');\n",
       "    buttonGroup.classList = 'mpl-button-group';\n",
       "    for (var toolbar_ind in mpl.toolbar_items) {\n",
       "        var name = mpl.toolbar_items[toolbar_ind][0];\n",
       "        var tooltip = mpl.toolbar_items[toolbar_ind][1];\n",
       "        var image = mpl.toolbar_items[toolbar_ind][2];\n",
       "        var method_name = mpl.toolbar_items[toolbar_ind][3];\n",
       "\n",
       "        if (!name) {\n",
       "            /* Instead of a spacer, we start a new button group. */\n",
       "            if (buttonGroup.hasChildNodes()) {\n",
       "                toolbar.appendChild(buttonGroup);\n",
       "            }\n",
       "            buttonGroup = document.createElement('div');\n",
       "            buttonGroup.classList = 'mpl-button-group';\n",
       "            continue;\n",
       "        }\n",
       "\n",
       "        var button = (fig.buttons[name] = document.createElement('button'));\n",
       "        button.classList = 'mpl-widget';\n",
       "        button.setAttribute('role', 'button');\n",
       "        button.setAttribute('aria-disabled', 'false');\n",
       "        button.addEventListener('click', on_click_closure(method_name));\n",
       "        button.addEventListener('mouseover', on_mouseover_closure(tooltip));\n",
       "\n",
       "        var icon_img = document.createElement('img');\n",
       "        icon_img.src = '_images/' + image + '.png';\n",
       "        icon_img.srcset = '_images/' + image + '_large.png 2x';\n",
       "        icon_img.alt = tooltip;\n",
       "        button.appendChild(icon_img);\n",
       "\n",
       "        buttonGroup.appendChild(button);\n",
       "    }\n",
       "\n",
       "    if (buttonGroup.hasChildNodes()) {\n",
       "        toolbar.appendChild(buttonGroup);\n",
       "    }\n",
       "\n",
       "    var fmt_picker = document.createElement('select');\n",
       "    fmt_picker.classList = 'mpl-widget';\n",
       "    toolbar.appendChild(fmt_picker);\n",
       "    this.format_dropdown = fmt_picker;\n",
       "\n",
       "    for (var ind in mpl.extensions) {\n",
       "        var fmt = mpl.extensions[ind];\n",
       "        var option = document.createElement('option');\n",
       "        option.selected = fmt === mpl.default_extension;\n",
       "        option.innerHTML = fmt;\n",
       "        fmt_picker.appendChild(option);\n",
       "    }\n",
       "\n",
       "    var status_bar = document.createElement('span');\n",
       "    status_bar.classList = 'mpl-message';\n",
       "    toolbar.appendChild(status_bar);\n",
       "    this.message = status_bar;\n",
       "};\n",
       "\n",
       "mpl.figure.prototype.request_resize = function (x_pixels, y_pixels) {\n",
       "    // Request matplotlib to resize the figure. Matplotlib will then trigger a resize in the client,\n",
       "    // which will in turn request a refresh of the image.\n",
       "    this.send_message('resize', { width: x_pixels, height: y_pixels });\n",
       "};\n",
       "\n",
       "mpl.figure.prototype.send_message = function (type, properties) {\n",
       "    properties['type'] = type;\n",
       "    properties['figure_id'] = this.id;\n",
       "    this.ws.send(JSON.stringify(properties));\n",
       "};\n",
       "\n",
       "mpl.figure.prototype.send_draw_message = function () {\n",
       "    if (!this.waiting) {\n",
       "        this.waiting = true;\n",
       "        this.ws.send(JSON.stringify({ type: 'draw', figure_id: this.id }));\n",
       "    }\n",
       "};\n",
       "\n",
       "mpl.figure.prototype.handle_save = function (fig, _msg) {\n",
       "    var format_dropdown = fig.format_dropdown;\n",
       "    var format = format_dropdown.options[format_dropdown.selectedIndex].value;\n",
       "    fig.ondownload(fig, format);\n",
       "};\n",
       "\n",
       "mpl.figure.prototype.handle_resize = function (fig, msg) {\n",
       "    var size = msg['size'];\n",
       "    if (size[0] !== fig.canvas.width || size[1] !== fig.canvas.height) {\n",
       "        fig._resize_canvas(size[0], size[1], msg['forward']);\n",
       "        fig.send_message('refresh', {});\n",
       "    }\n",
       "};\n",
       "\n",
       "mpl.figure.prototype.handle_rubberband = function (fig, msg) {\n",
       "    var x0 = msg['x0'] / fig.ratio;\n",
       "    var y0 = (fig.canvas.height - msg['y0']) / fig.ratio;\n",
       "    var x1 = msg['x1'] / fig.ratio;\n",
       "    var y1 = (fig.canvas.height - msg['y1']) / fig.ratio;\n",
       "    x0 = Math.floor(x0) + 0.5;\n",
       "    y0 = Math.floor(y0) + 0.5;\n",
       "    x1 = Math.floor(x1) + 0.5;\n",
       "    y1 = Math.floor(y1) + 0.5;\n",
       "    var min_x = Math.min(x0, x1);\n",
       "    var min_y = Math.min(y0, y1);\n",
       "    var width = Math.abs(x1 - x0);\n",
       "    var height = Math.abs(y1 - y0);\n",
       "\n",
       "    fig.rubberband_context.clearRect(\n",
       "        0,\n",
       "        0,\n",
       "        fig.canvas.width / fig.ratio,\n",
       "        fig.canvas.height / fig.ratio\n",
       "    );\n",
       "\n",
       "    fig.rubberband_context.strokeRect(min_x, min_y, width, height);\n",
       "};\n",
       "\n",
       "mpl.figure.prototype.handle_figure_label = function (fig, msg) {\n",
       "    // Updates the figure title.\n",
       "    fig.header.textContent = msg['label'];\n",
       "};\n",
       "\n",
       "mpl.figure.prototype.handle_cursor = function (fig, msg) {\n",
       "    var cursor = msg['cursor'];\n",
       "    switch (cursor) {\n",
       "        case 0:\n",
       "            cursor = 'pointer';\n",
       "            break;\n",
       "        case 1:\n",
       "            cursor = 'default';\n",
       "            break;\n",
       "        case 2:\n",
       "            cursor = 'crosshair';\n",
       "            break;\n",
       "        case 3:\n",
       "            cursor = 'move';\n",
       "            break;\n",
       "    }\n",
       "    fig.rubberband_canvas.style.cursor = cursor;\n",
       "};\n",
       "\n",
       "mpl.figure.prototype.handle_message = function (fig, msg) {\n",
       "    fig.message.textContent = msg['message'];\n",
       "};\n",
       "\n",
       "mpl.figure.prototype.handle_draw = function (fig, _msg) {\n",
       "    // Request the server to send over a new figure.\n",
       "    fig.send_draw_message();\n",
       "};\n",
       "\n",
       "mpl.figure.prototype.handle_image_mode = function (fig, msg) {\n",
       "    fig.image_mode = msg['mode'];\n",
       "};\n",
       "\n",
       "mpl.figure.prototype.handle_history_buttons = function (fig, msg) {\n",
       "    for (var key in msg) {\n",
       "        if (!(key in fig.buttons)) {\n",
       "            continue;\n",
       "        }\n",
       "        fig.buttons[key].disabled = !msg[key];\n",
       "        fig.buttons[key].setAttribute('aria-disabled', !msg[key]);\n",
       "    }\n",
       "};\n",
       "\n",
       "mpl.figure.prototype.handle_navigate_mode = function (fig, msg) {\n",
       "    if (msg['mode'] === 'PAN') {\n",
       "        fig.buttons['Pan'].classList.add('active');\n",
       "        fig.buttons['Zoom'].classList.remove('active');\n",
       "    } else if (msg['mode'] === 'ZOOM') {\n",
       "        fig.buttons['Pan'].classList.remove('active');\n",
       "        fig.buttons['Zoom'].classList.add('active');\n",
       "    } else {\n",
       "        fig.buttons['Pan'].classList.remove('active');\n",
       "        fig.buttons['Zoom'].classList.remove('active');\n",
       "    }\n",
       "};\n",
       "\n",
       "mpl.figure.prototype.updated_canvas_event = function () {\n",
       "    // Called whenever the canvas gets updated.\n",
       "    this.send_message('ack', {});\n",
       "};\n",
       "\n",
       "// A function to construct a web socket function for onmessage handling.\n",
       "// Called in the figure constructor.\n",
       "mpl.figure.prototype._make_on_message_function = function (fig) {\n",
       "    return function socket_on_message(evt) {\n",
       "        if (evt.data instanceof Blob) {\n",
       "            /* FIXME: We get \"Resource interpreted as Image but\n",
       "             * transferred with MIME type text/plain:\" errors on\n",
       "             * Chrome.  But how to set the MIME type?  It doesn't seem\n",
       "             * to be part of the websocket stream */\n",
       "            evt.data.type = 'image/png';\n",
       "\n",
       "            /* Free the memory for the previous frames */\n",
       "            if (fig.imageObj.src) {\n",
       "                (window.URL || window.webkitURL).revokeObjectURL(\n",
       "                    fig.imageObj.src\n",
       "                );\n",
       "            }\n",
       "\n",
       "            fig.imageObj.src = (window.URL || window.webkitURL).createObjectURL(\n",
       "                evt.data\n",
       "            );\n",
       "            fig.updated_canvas_event();\n",
       "            fig.waiting = false;\n",
       "            return;\n",
       "        } else if (\n",
       "            typeof evt.data === 'string' &&\n",
       "            evt.data.slice(0, 21) === 'data:image/png;base64'\n",
       "        ) {\n",
       "            fig.imageObj.src = evt.data;\n",
       "            fig.updated_canvas_event();\n",
       "            fig.waiting = false;\n",
       "            return;\n",
       "        }\n",
       "\n",
       "        var msg = JSON.parse(evt.data);\n",
       "        var msg_type = msg['type'];\n",
       "\n",
       "        // Call the  \"handle_{type}\" callback, which takes\n",
       "        // the figure and JSON message as its only arguments.\n",
       "        try {\n",
       "            var callback = fig['handle_' + msg_type];\n",
       "        } catch (e) {\n",
       "            console.log(\n",
       "                \"No handler for the '\" + msg_type + \"' message type: \",\n",
       "                msg\n",
       "            );\n",
       "            return;\n",
       "        }\n",
       "\n",
       "        if (callback) {\n",
       "            try {\n",
       "                // console.log(\"Handling '\" + msg_type + \"' message: \", msg);\n",
       "                callback(fig, msg);\n",
       "            } catch (e) {\n",
       "                console.log(\n",
       "                    \"Exception inside the 'handler_\" + msg_type + \"' callback:\",\n",
       "                    e,\n",
       "                    e.stack,\n",
       "                    msg\n",
       "                );\n",
       "            }\n",
       "        }\n",
       "    };\n",
       "};\n",
       "\n",
       "// from http://stackoverflow.com/questions/1114465/getting-mouse-location-in-canvas\n",
       "mpl.findpos = function (e) {\n",
       "    //this section is from http://www.quirksmode.org/js/events_properties.html\n",
       "    var targ;\n",
       "    if (!e) {\n",
       "        e = window.event;\n",
       "    }\n",
       "    if (e.target) {\n",
       "        targ = e.target;\n",
       "    } else if (e.srcElement) {\n",
       "        targ = e.srcElement;\n",
       "    }\n",
       "    if (targ.nodeType === 3) {\n",
       "        // defeat Safari bug\n",
       "        targ = targ.parentNode;\n",
       "    }\n",
       "\n",
       "    // pageX,Y are the mouse positions relative to the document\n",
       "    var boundingRect = targ.getBoundingClientRect();\n",
       "    var x = e.pageX - (boundingRect.left + document.body.scrollLeft);\n",
       "    var y = e.pageY - (boundingRect.top + document.body.scrollTop);\n",
       "\n",
       "    return { x: x, y: y };\n",
       "};\n",
       "\n",
       "/*\n",
       " * return a copy of an object with only non-object keys\n",
       " * we need this to avoid circular references\n",
       " * http://stackoverflow.com/a/24161582/3208463\n",
       " */\n",
       "function simpleKeys(original) {\n",
       "    return Object.keys(original).reduce(function (obj, key) {\n",
       "        if (typeof original[key] !== 'object') {\n",
       "            obj[key] = original[key];\n",
       "        }\n",
       "        return obj;\n",
       "    }, {});\n",
       "}\n",
       "\n",
       "mpl.figure.prototype.mouse_event = function (event, name) {\n",
       "    var canvas_pos = mpl.findpos(event);\n",
       "\n",
       "    if (name === 'button_press') {\n",
       "        this.canvas.focus();\n",
       "        this.canvas_div.focus();\n",
       "    }\n",
       "\n",
       "    var x = canvas_pos.x * this.ratio;\n",
       "    var y = canvas_pos.y * this.ratio;\n",
       "\n",
       "    this.send_message(name, {\n",
       "        x: x,\n",
       "        y: y,\n",
       "        button: event.button,\n",
       "        step: event.step,\n",
       "        guiEvent: simpleKeys(event),\n",
       "    });\n",
       "\n",
       "    /* This prevents the web browser from automatically changing to\n",
       "     * the text insertion cursor when the button is pressed.  We want\n",
       "     * to control all of the cursor setting manually through the\n",
       "     * 'cursor' event from matplotlib */\n",
       "    event.preventDefault();\n",
       "    return false;\n",
       "};\n",
       "\n",
       "mpl.figure.prototype._key_event_extra = function (_event, _name) {\n",
       "    // Handle any extra behaviour associated with a key event\n",
       "};\n",
       "\n",
       "mpl.figure.prototype.key_event = function (event, name) {\n",
       "    // Prevent repeat events\n",
       "    if (name === 'key_press') {\n",
       "        if (event.which === this._key) {\n",
       "            return;\n",
       "        } else {\n",
       "            this._key = event.which;\n",
       "        }\n",
       "    }\n",
       "    if (name === 'key_release') {\n",
       "        this._key = null;\n",
       "    }\n",
       "\n",
       "    var value = '';\n",
       "    if (event.ctrlKey && event.which !== 17) {\n",
       "        value += 'ctrl+';\n",
       "    }\n",
       "    if (event.altKey && event.which !== 18) {\n",
       "        value += 'alt+';\n",
       "    }\n",
       "    if (event.shiftKey && event.which !== 16) {\n",
       "        value += 'shift+';\n",
       "    }\n",
       "\n",
       "    value += 'k';\n",
       "    value += event.which.toString();\n",
       "\n",
       "    this._key_event_extra(event, name);\n",
       "\n",
       "    this.send_message(name, { key: value, guiEvent: simpleKeys(event) });\n",
       "    return false;\n",
       "};\n",
       "\n",
       "mpl.figure.prototype.toolbar_button_onclick = function (name) {\n",
       "    if (name === 'download') {\n",
       "        this.handle_save(this, null);\n",
       "    } else {\n",
       "        this.send_message('toolbar_button', { name: name });\n",
       "    }\n",
       "};\n",
       "\n",
       "mpl.figure.prototype.toolbar_button_onmouseover = function (tooltip) {\n",
       "    this.message.textContent = tooltip;\n",
       "};\n",
       "mpl.toolbar_items = [[\"Home\", \"Reset original view\", \"fa fa-home icon-home\", \"home\"], [\"Back\", \"Back to previous view\", \"fa fa-arrow-left icon-arrow-left\", \"back\"], [\"Forward\", \"Forward to next view\", \"fa fa-arrow-right icon-arrow-right\", \"forward\"], [\"\", \"\", \"\", \"\"], [\"Pan\", \"Left button pans, Right button zooms\\nx/y fixes axis, CTRL fixes aspect\", \"fa fa-arrows icon-move\", \"pan\"], [\"Zoom\", \"Zoom to rectangle\\nx/y fixes axis, CTRL fixes aspect\", \"fa fa-square-o icon-check-empty\", \"zoom\"], [\"\", \"\", \"\", \"\"], [\"Download\", \"Download plot\", \"fa fa-floppy-o icon-save\", \"download\"]];\n",
       "\n",
       "mpl.extensions = [\"eps\", \"jpeg\", \"pdf\", \"png\", \"ps\", \"raw\", \"svg\", \"tif\"];\n",
       "\n",
       "mpl.default_extension = \"png\";/* global mpl */\n",
       "\n",
       "var comm_websocket_adapter = function (comm) {\n",
       "    // Create a \"websocket\"-like object which calls the given IPython comm\n",
       "    // object with the appropriate methods. Currently this is a non binary\n",
       "    // socket, so there is still some room for performance tuning.\n",
       "    var ws = {};\n",
       "\n",
       "    ws.close = function () {\n",
       "        comm.close();\n",
       "    };\n",
       "    ws.send = function (m) {\n",
       "        //console.log('sending', m);\n",
       "        comm.send(m);\n",
       "    };\n",
       "    // Register the callback with on_msg.\n",
       "    comm.on_msg(function (msg) {\n",
       "        //console.log('receiving', msg['content']['data'], msg);\n",
       "        // Pass the mpl event to the overridden (by mpl) onmessage function.\n",
       "        ws.onmessage(msg['content']['data']);\n",
       "    });\n",
       "    return ws;\n",
       "};\n",
       "\n",
       "mpl.mpl_figure_comm = function (comm, msg) {\n",
       "    // This is the function which gets called when the mpl process\n",
       "    // starts-up an IPython Comm through the \"matplotlib\" channel.\n",
       "\n",
       "    var id = msg.content.data.id;\n",
       "    // Get hold of the div created by the display call when the Comm\n",
       "    // socket was opened in Python.\n",
       "    var element = document.getElementById(id);\n",
       "    var ws_proxy = comm_websocket_adapter(comm);\n",
       "\n",
       "    function ondownload(figure, _format) {\n",
       "        window.open(figure.canvas.toDataURL());\n",
       "    }\n",
       "\n",
       "    var fig = new mpl.figure(id, ws_proxy, ondownload, element);\n",
       "\n",
       "    // Call onopen now - mpl needs it, as it is assuming we've passed it a real\n",
       "    // web socket which is closed, not our websocket->open comm proxy.\n",
       "    ws_proxy.onopen();\n",
       "\n",
       "    fig.parent_element = element;\n",
       "    fig.cell_info = mpl.find_output_cell(\"<div id='\" + id + \"'></div>\");\n",
       "    if (!fig.cell_info) {\n",
       "        console.error('Failed to find cell for figure', id, fig);\n",
       "        return;\n",
       "    }\n",
       "    fig.cell_info[0].output_area.element.one(\n",
       "        'cleared',\n",
       "        { fig: fig },\n",
       "        fig._remove_fig_handler\n",
       "    );\n",
       "};\n",
       "\n",
       "mpl.figure.prototype.handle_close = function (fig, msg) {\n",
       "    var width = fig.canvas.width / fig.ratio;\n",
       "    fig.cell_info[0].output_area.element.off(\n",
       "        'cleared',\n",
       "        fig._remove_fig_handler\n",
       "    );\n",
       "\n",
       "    // Update the output cell to use the data from the current canvas.\n",
       "    fig.push_to_output();\n",
       "    var dataURL = fig.canvas.toDataURL();\n",
       "    // Re-enable the keyboard manager in IPython - without this line, in FF,\n",
       "    // the notebook keyboard shortcuts fail.\n",
       "    IPython.keyboard_manager.enable();\n",
       "    fig.parent_element.innerHTML =\n",
       "        '<img src=\"' + dataURL + '\" width=\"' + width + '\">';\n",
       "    fig.close_ws(fig, msg);\n",
       "};\n",
       "\n",
       "mpl.figure.prototype.close_ws = function (fig, msg) {\n",
       "    fig.send_message('closing', msg);\n",
       "    // fig.ws.close()\n",
       "};\n",
       "\n",
       "mpl.figure.prototype.push_to_output = function (_remove_interactive) {\n",
       "    // Turn the data on the canvas into data in the output cell.\n",
       "    var width = this.canvas.width / this.ratio;\n",
       "    var dataURL = this.canvas.toDataURL();\n",
       "    this.cell_info[1]['text/html'] =\n",
       "        '<img src=\"' + dataURL + '\" width=\"' + width + '\">';\n",
       "};\n",
       "\n",
       "mpl.figure.prototype.updated_canvas_event = function () {\n",
       "    // Tell IPython that the notebook contents must change.\n",
       "    IPython.notebook.set_dirty(true);\n",
       "    this.send_message('ack', {});\n",
       "    var fig = this;\n",
       "    // Wait a second, then push the new image to the DOM so\n",
       "    // that it is saved nicely (might be nice to debounce this).\n",
       "    setTimeout(function () {\n",
       "        fig.push_to_output();\n",
       "    }, 1000);\n",
       "};\n",
       "\n",
       "mpl.figure.prototype._init_toolbar = function () {\n",
       "    var fig = this;\n",
       "\n",
       "    var toolbar = document.createElement('div');\n",
       "    toolbar.classList = 'btn-toolbar';\n",
       "    this.root.appendChild(toolbar);\n",
       "\n",
       "    function on_click_closure(name) {\n",
       "        return function (_event) {\n",
       "            return fig.toolbar_button_onclick(name);\n",
       "        };\n",
       "    }\n",
       "\n",
       "    function on_mouseover_closure(tooltip) {\n",
       "        return function (event) {\n",
       "            if (!event.currentTarget.disabled) {\n",
       "                return fig.toolbar_button_onmouseover(tooltip);\n",
       "            }\n",
       "        };\n",
       "    }\n",
       "\n",
       "    fig.buttons = {};\n",
       "    var buttonGroup = document.createElement('div');\n",
       "    buttonGroup.classList = 'btn-group';\n",
       "    var button;\n",
       "    for (var toolbar_ind in mpl.toolbar_items) {\n",
       "        var name = mpl.toolbar_items[toolbar_ind][0];\n",
       "        var tooltip = mpl.toolbar_items[toolbar_ind][1];\n",
       "        var image = mpl.toolbar_items[toolbar_ind][2];\n",
       "        var method_name = mpl.toolbar_items[toolbar_ind][3];\n",
       "\n",
       "        if (!name) {\n",
       "            /* Instead of a spacer, we start a new button group. */\n",
       "            if (buttonGroup.hasChildNodes()) {\n",
       "                toolbar.appendChild(buttonGroup);\n",
       "            }\n",
       "            buttonGroup = document.createElement('div');\n",
       "            buttonGroup.classList = 'btn-group';\n",
       "            continue;\n",
       "        }\n",
       "\n",
       "        button = fig.buttons[name] = document.createElement('button');\n",
       "        button.classList = 'btn btn-default';\n",
       "        button.href = '#';\n",
       "        button.title = name;\n",
       "        button.innerHTML = '<i class=\"fa ' + image + ' fa-lg\"></i>';\n",
       "        button.addEventListener('click', on_click_closure(method_name));\n",
       "        button.addEventListener('mouseover', on_mouseover_closure(tooltip));\n",
       "        buttonGroup.appendChild(button);\n",
       "    }\n",
       "\n",
       "    if (buttonGroup.hasChildNodes()) {\n",
       "        toolbar.appendChild(buttonGroup);\n",
       "    }\n",
       "\n",
       "    // Add the status bar.\n",
       "    var status_bar = document.createElement('span');\n",
       "    status_bar.classList = 'mpl-message pull-right';\n",
       "    toolbar.appendChild(status_bar);\n",
       "    this.message = status_bar;\n",
       "\n",
       "    // Add the close button to the window.\n",
       "    var buttongrp = document.createElement('div');\n",
       "    buttongrp.classList = 'btn-group inline pull-right';\n",
       "    button = document.createElement('button');\n",
       "    button.classList = 'btn btn-mini btn-primary';\n",
       "    button.href = '#';\n",
       "    button.title = 'Stop Interaction';\n",
       "    button.innerHTML = '<i class=\"fa fa-power-off icon-remove icon-large\"></i>';\n",
       "    button.addEventListener('click', function (_evt) {\n",
       "        fig.handle_close(fig, {});\n",
       "    });\n",
       "    button.addEventListener(\n",
       "        'mouseover',\n",
       "        on_mouseover_closure('Stop Interaction')\n",
       "    );\n",
       "    buttongrp.appendChild(button);\n",
       "    var titlebar = this.root.querySelector('.ui-dialog-titlebar');\n",
       "    titlebar.insertBefore(buttongrp, titlebar.firstChild);\n",
       "};\n",
       "\n",
       "mpl.figure.prototype._remove_fig_handler = function (event) {\n",
       "    var fig = event.data.fig;\n",
       "    fig.close_ws(fig, {});\n",
       "};\n",
       "\n",
       "mpl.figure.prototype._root_extra_style = function (el) {\n",
       "    el.style.boxSizing = 'content-box'; // override notebook setting of border-box.\n",
       "};\n",
       "\n",
       "mpl.figure.prototype._canvas_extra_style = function (el) {\n",
       "    // this is important to make the div 'focusable\n",
       "    el.setAttribute('tabindex', 0);\n",
       "    // reach out to IPython and tell the keyboard manager to turn it's self\n",
       "    // off when our div gets focus\n",
       "\n",
       "    // location in version 3\n",
       "    if (IPython.notebook.keyboard_manager) {\n",
       "        IPython.notebook.keyboard_manager.register_events(el);\n",
       "    } else {\n",
       "        // location in version 2\n",
       "        IPython.keyboard_manager.register_events(el);\n",
       "    }\n",
       "};\n",
       "\n",
       "mpl.figure.prototype._key_event_extra = function (event, _name) {\n",
       "    var manager = IPython.notebook.keyboard_manager;\n",
       "    if (!manager) {\n",
       "        manager = IPython.keyboard_manager;\n",
       "    }\n",
       "\n",
       "    // Check for shift+enter\n",
       "    if (event.shiftKey && event.which === 13) {\n",
       "        this.canvas_div.blur();\n",
       "        // select the cell after this one\n",
       "        var index = IPython.notebook.find_cell_index(this.cell_info[0]);\n",
       "        IPython.notebook.select(index + 1);\n",
       "    }\n",
       "};\n",
       "\n",
       "mpl.figure.prototype.handle_save = function (fig, _msg) {\n",
       "    fig.ondownload(fig, null);\n",
       "};\n",
       "\n",
       "mpl.find_output_cell = function (html_output) {\n",
       "    // Return the cell and output element which can be found *uniquely* in the notebook.\n",
       "    // Note - this is a bit hacky, but it is done because the \"notebook_saving.Notebook\"\n",
       "    // IPython event is triggered only after the cells have been serialised, which for\n",
       "    // our purposes (turning an active figure into a static one), is too late.\n",
       "    var cells = IPython.notebook.get_cells();\n",
       "    var ncells = cells.length;\n",
       "    for (var i = 0; i < ncells; i++) {\n",
       "        var cell = cells[i];\n",
       "        if (cell.cell_type === 'code') {\n",
       "            for (var j = 0; j < cell.output_area.outputs.length; j++) {\n",
       "                var data = cell.output_area.outputs[j];\n",
       "                if (data.data) {\n",
       "                    // IPython >= 3 moved mimebundle to data attribute of output\n",
       "                    data = data.data;\n",
       "                }\n",
       "                if (data['text/html'] === html_output) {\n",
       "                    return [cell, data, j];\n",
       "                }\n",
       "            }\n",
       "        }\n",
       "    }\n",
       "};\n",
       "\n",
       "// Register the function which deals with the matplotlib target/channel.\n",
       "// The kernel may be null if the page has been refreshed.\n",
       "if (IPython.notebook.kernel !== null) {\n",
       "    IPython.notebook.kernel.comm_manager.register_target(\n",
       "        'matplotlib',\n",
       "        mpl.mpl_figure_comm\n",
       "    );\n",
       "}\n"
      ],
      "text/plain": [
       "<IPython.core.display.Javascript object>"
      ]
     },
     "metadata": {},
     "output_type": "display_data"
    },
    {
     "data": {
      "text/html": [
       "<img src=\"data:image/png;base64,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\" width=\"800\">"
      ],
      "text/plain": [
       "<IPython.core.display.HTML object>"
      ]
     },
     "metadata": {},
     "output_type": "display_data"
    },
    {
     "data": {
      "text/plain": [
       "<matplotlib.legend.Legend at 0x1e484b21df0>"
      ]
     },
     "execution_count": 62,
     "metadata": {},
     "output_type": "execute_result"
    }
   ],
   "source": [
    "%matplotlib notebook\n",
    "x1 = np.arange(0, n_exploratory_episodes, 1)\n",
    "x2 = np.arange(n_exploratory_episodes, n_exploratory_episodes+n_greedy_episodes, 1)\n",
    "\n",
    "fig, ax = plt.subplots(figsize=(8,5))\n",
    "plt.plot(x1, y[:n_exploratory_episodes], label='exploring')\n",
    "ax.fill_between(x1, Y[0,:n_exploratory_episodes], Y[1,:n_exploratory_episodes], color='teal', alpha=.2)\n",
    "\n",
    "plt.plot(x2, y[n_exploratory_episodes:], label='exploiting')\n",
    "ax.fill_between(x2, Y[0,n_exploratory_episodes:], Y[1,n_exploratory_episodes:], color='purple', alpha=.2)\n",
    "\n",
    "\n",
    "plt.plot([n_exploratory_episodes for i in range(10)], np.linspace(np.min(Y), np.max(Y), 10), ls='--', color='black', label='greedy threshold')\n",
    "plt.ylabel('cumulative discounted reward')\n",
    "plt.xlabel('episode')\n",
    "\n",
    "plt.legend()"
   ]
  },
  {
   "cell_type": "code",
   "execution_count": null,
   "metadata": {},
   "outputs": [],
   "source": []
  }
 ],
 "metadata": {
  "kernelspec": {
   "display_name": "Python 3",
   "language": "python",
   "name": "python3"
  },
  "language_info": {
   "codemirror_mode": {
    "name": "ipython",
    "version": 3
   },
   "file_extension": ".py",
   "mimetype": "text/x-python",
   "name": "python",
   "nbconvert_exporter": "python",
   "pygments_lexer": "ipython3",
   "version": "3.8.5"
  }
 },
 "nbformat": 4,
 "nbformat_minor": 4
}

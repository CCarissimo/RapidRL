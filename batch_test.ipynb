{
 "cells": [
  {
   "cell_type": "code",
   "execution_count": 4,
   "metadata": {},
   "outputs": [],
   "source": [
    "from MDP import *\n",
    "import matplotlib.pyplot as plt\n",
    "import numpy as np\n",
    "from tqdm.auto import tqdm\n",
    "from math import floor"
   ]
  },
  {
   "cell_type": "code",
   "execution_count": 5,
   "metadata": {},
   "outputs": [
    {
     "name": "stdout",
     "output_type": "stream",
     "text": [
      "(Creating Willemsen Gridworld)\n"
     ]
    }
   ],
   "source": [
    "# Create the gridworld, and set cell values to equal rewards\n",
    "print('(Creating Willemsen Gridworld)')\n",
    "grid = np.ones((3, 9)) * -1\n",
    "grid[1,:8] = 0\n",
    "grid[1, 8] = 1\n",
    "grid[2, :8] = 0\n",
    "terminal_state = []\n",
    "for i in [0,2]:\n",
    "    for j in range(8):\n",
    "        terminal_state.append([i,j])\n",
    "terminal_state.append([1,8])\n",
    "terminal_state = np.array(terminal_state)\n",
    "initial_state = np.array([1, 0])\n",
    "blacked_state = np.array([[0, 8],[2, 8]])\n",
    "\n",
    "# fig, ax, im, cb = plot_gridworld(grid, terminal_state, initial_state, blacked_state, fig=None, ax=None, show=True)"
   ]
  },
  {
   "cell_type": "code",
   "execution_count": 6,
   "metadata": {},
   "outputs": [],
   "source": [
    "n_episodes = 100\n",
    "max_steps = 40\n",
    "gamma = 0.8\n",
    "alpha = 0.1\n",
    "n_batches = 100\n",
    "\n",
    "EXPLORATION_TYPE = 'PHASED'\n",
    "\n",
    "if EXPLORATION_TYPE == 'RANDOM':\n",
    "    epsilons = np.ones(n_episodes)\n",
    "elif EXPLORATION_TYPE == 'GRADUAL':\n",
    "    epsilons = np.flip(np.linspace(0.05, 1, n_episodes))\n",
    "elif EXPLORATION_TYPE == 'GREEDY':\n",
    "    epsilons = np.zeros(n_episodes)\n",
    "elif EXPLORATION_TYPE == 'GLOBAL':\n",
    "    epsilons = np.ones(n_episodes)\n",
    "elif EXPLORATION_TYPE == \"PHASED\":\n",
    "    epsilons = np.zeros(n_episodes)\n",
    "\n",
    "Learn = True\n",
    "batch_size = 1\n",
    "FILE_SIG = f\"Results_n={n_episodes}, nB={batch_size}, exp={EXPLORATION_TYPE} WG, N_init_1\"\n",
    "\n",
    "\n",
    "env = Gridworld(grid, terminal_state, initial_state, blacked_state, max_steps)"
   ]
  },
  {
   "cell_type": "markdown",
   "metadata": {},
   "source": [
    "## Batch Run Exploration followed by Exploitation"
   ]
  },
  {
   "cell_type": "code",
   "execution_count": 7,
   "metadata": {
    "collapsed": true
   },
   "outputs": [
    {
     "data": {
      "application/vnd.jupyter.widget-view+json": {
       "model_id": "5d4c8e7eb468468b9ceb4dc724f81809",
       "version_major": 2,
       "version_minor": 0
      },
      "text/plain": [
       "  0%|          | 0/100 [00:00<?, ?it/s]"
      ]
     },
     "metadata": {},
     "output_type": "display_data"
    },
    {
     "data": {
      "application/vnd.jupyter.widget-view+json": {
       "model_id": "8edb842a36744b98aafe6ca276cf5b5f",
       "version_major": 2,
       "version_minor": 0
      },
      "text/plain": [
       "  0%|          | 0/100 [00:00<?, ?it/s]"
      ]
     },
     "metadata": {},
     "output_type": "display_data"
    },
    {
     "data": {
      "application/vnd.jupyter.widget-view+json": {
       "model_id": "582b1ad70a7642e2a85125548087ea0a",
       "version_major": 2,
       "version_minor": 0
      },
      "text/plain": [
       "  0%|          | 0/100 [00:00<?, ?it/s]"
      ]
     },
     "metadata": {},
     "output_type": "display_data"
    },
    {
     "data": {
      "application/vnd.jupyter.widget-view+json": {
       "model_id": "a97a8cf50f954e3186ee13c548d96dbc",
       "version_major": 2,
       "version_minor": 0
      },
      "text/plain": [
       "  0%|          | 0/100 [00:00<?, ?it/s]"
      ]
     },
     "metadata": {},
     "output_type": "display_data"
    },
    {
     "data": {
      "application/vnd.jupyter.widget-view+json": {
       "model_id": "37d58d6a6b0b4c488ca30a71e393f633",
       "version_major": 2,
       "version_minor": 0
      },
      "text/plain": [
       "  0%|          | 0/100 [00:00<?, ?it/s]"
      ]
     },
     "metadata": {},
     "output_type": "display_data"
    },
    {
     "data": {
      "application/vnd.jupyter.widget-view+json": {
       "model_id": "cc419459134944b28056ea41fa867094",
       "version_major": 2,
       "version_minor": 0
      },
      "text/plain": [
       "  0%|          | 0/100 [00:00<?, ?it/s]"
      ]
     },
     "metadata": {},
     "output_type": "display_data"
    },
    {
     "data": {
      "application/vnd.jupyter.widget-view+json": {
       "model_id": "c7cd0bb089b949c4a9209c6832f1b9fd",
       "version_major": 2,
       "version_minor": 0
      },
      "text/plain": [
       "  0%|          | 0/100 [00:00<?, ?it/s]"
      ]
     },
     "metadata": {},
     "output_type": "display_data"
    },
    {
     "data": {
      "application/vnd.jupyter.widget-view+json": {
       "model_id": "330a1932caf64672b0f68a3739d6dea6",
       "version_major": 2,
       "version_minor": 0
      },
      "text/plain": [
       "  0%|          | 0/100 [00:00<?, ?it/s]"
      ]
     },
     "metadata": {},
     "output_type": "display_data"
    },
    {
     "data": {
      "application/vnd.jupyter.widget-view+json": {
       "model_id": "538902a219ce477690c94bba038a74c0",
       "version_major": 2,
       "version_minor": 0
      },
      "text/plain": [
       "  0%|          | 0/100 [00:00<?, ?it/s]"
      ]
     },
     "metadata": {},
     "output_type": "display_data"
    },
    {
     "data": {
      "application/vnd.jupyter.widget-view+json": {
       "model_id": "18983eb8ebd547f180a2552ba70e0364",
       "version_major": 2,
       "version_minor": 0
      },
      "text/plain": [
       "  0%|          | 0/100 [00:00<?, ?it/s]"
      ]
     },
     "metadata": {},
     "output_type": "display_data"
    },
    {
     "data": {
      "application/vnd.jupyter.widget-view+json": {
       "model_id": "6c43b0c2a8814b169a1524ffb8ffa071",
       "version_major": 2,
       "version_minor": 0
      },
      "text/plain": [
       "  0%|          | 0/100 [00:00<?, ?it/s]"
      ]
     },
     "metadata": {},
     "output_type": "display_data"
    },
    {
     "data": {
      "application/vnd.jupyter.widget-view+json": {
       "model_id": "dd47aebaf5a84875b75cbb99d87d3b19",
       "version_major": 2,
       "version_minor": 0
      },
      "text/plain": [
       "  0%|          | 0/100 [00:00<?, ?it/s]"
      ]
     },
     "metadata": {},
     "output_type": "display_data"
    },
    {
     "data": {
      "application/vnd.jupyter.widget-view+json": {
       "model_id": "6c5e1fa5d25e4cf684147678c5ffd256",
       "version_major": 2,
       "version_minor": 0
      },
      "text/plain": [
       "  0%|          | 0/100 [00:00<?, ?it/s]"
      ]
     },
     "metadata": {},
     "output_type": "display_data"
    },
    {
     "data": {
      "application/vnd.jupyter.widget-view+json": {
       "model_id": "9b75750b65764f308410852f1f6dbd85",
       "version_major": 2,
       "version_minor": 0
      },
      "text/plain": [
       "  0%|          | 0/100 [00:00<?, ?it/s]"
      ]
     },
     "metadata": {},
     "output_type": "display_data"
    },
    {
     "data": {
      "application/vnd.jupyter.widget-view+json": {
       "model_id": "d081b922be1d42089f3dfa0d754f7d08",
       "version_major": 2,
       "version_minor": 0
      },
      "text/plain": [
       "  0%|          | 0/100 [00:00<?, ?it/s]"
      ]
     },
     "metadata": {},
     "output_type": "display_data"
    },
    {
     "data": {
      "application/vnd.jupyter.widget-view+json": {
       "model_id": "9da637a37f4748b1abd1dd9819261039",
       "version_major": 2,
       "version_minor": 0
      },
      "text/plain": [
       "  0%|          | 0/100 [00:00<?, ?it/s]"
      ]
     },
     "metadata": {},
     "output_type": "display_data"
    },
    {
     "data": {
      "application/vnd.jupyter.widget-view+json": {
       "model_id": "ba6ec8ead73f4911b14baf931941500e",
       "version_major": 2,
       "version_minor": 0
      },
      "text/plain": [
       "  0%|          | 0/100 [00:00<?, ?it/s]"
      ]
     },
     "metadata": {},
     "output_type": "display_data"
    },
    {
     "data": {
      "application/vnd.jupyter.widget-view+json": {
       "model_id": "055f90fe22c54ca9a7c8eca7149c3664",
       "version_major": 2,
       "version_minor": 0
      },
      "text/plain": [
       "  0%|          | 0/100 [00:00<?, ?it/s]"
      ]
     },
     "metadata": {},
     "output_type": "display_data"
    },
    {
     "data": {
      "application/vnd.jupyter.widget-view+json": {
       "model_id": "362480b58291418a9538c10e0522986f",
       "version_major": 2,
       "version_minor": 0
      },
      "text/plain": [
       "  0%|          | 0/100 [00:00<?, ?it/s]"
      ]
     },
     "metadata": {},
     "output_type": "display_data"
    },
    {
     "data": {
      "application/vnd.jupyter.widget-view+json": {
       "model_id": "886cb535ea6b4681979d3f0415efc48a",
       "version_major": 2,
       "version_minor": 0
      },
      "text/plain": [
       "  0%|          | 0/100 [00:00<?, ?it/s]"
      ]
     },
     "metadata": {},
     "output_type": "display_data"
    },
    {
     "data": {
      "application/vnd.jupyter.widget-view+json": {
       "model_id": "a2e0c66559df47d9b5eb0476506f46c2",
       "version_major": 2,
       "version_minor": 0
      },
      "text/plain": [
       "  0%|          | 0/100 [00:00<?, ?it/s]"
      ]
     },
     "metadata": {},
     "output_type": "display_data"
    },
    {
     "data": {
      "application/vnd.jupyter.widget-view+json": {
       "model_id": "ae662bcc252048efb2de819832bd0a55",
       "version_major": 2,
       "version_minor": 0
      },
      "text/plain": [
       "  0%|          | 0/100 [00:00<?, ?it/s]"
      ]
     },
     "metadata": {},
     "output_type": "display_data"
    },
    {
     "data": {
      "application/vnd.jupyter.widget-view+json": {
       "model_id": "7b461332da8d494295d32290100dedfb",
       "version_major": 2,
       "version_minor": 0
      },
      "text/plain": [
       "  0%|          | 0/100 [00:00<?, ?it/s]"
      ]
     },
     "metadata": {},
     "output_type": "display_data"
    },
    {
     "data": {
      "application/vnd.jupyter.widget-view+json": {
       "model_id": "464ba961613b4ab1b1794976cebcd9cd",
       "version_major": 2,
       "version_minor": 0
      },
      "text/plain": [
       "  0%|          | 0/100 [00:00<?, ?it/s]"
      ]
     },
     "metadata": {},
     "output_type": "display_data"
    },
    {
     "data": {
      "application/vnd.jupyter.widget-view+json": {
       "model_id": "8b5a67f30b324d08b8b34a7bbb5d5db3",
       "version_major": 2,
       "version_minor": 0
      },
      "text/plain": [
       "  0%|          | 0/100 [00:00<?, ?it/s]"
      ]
     },
     "metadata": {},
     "output_type": "display_data"
    },
    {
     "data": {
      "application/vnd.jupyter.widget-view+json": {
       "model_id": "83684e6bac4043ed95854c63010c1b38",
       "version_major": 2,
       "version_minor": 0
      },
      "text/plain": [
       "  0%|          | 0/100 [00:00<?, ?it/s]"
      ]
     },
     "metadata": {},
     "output_type": "display_data"
    },
    {
     "data": {
      "application/vnd.jupyter.widget-view+json": {
       "model_id": "64d8dafcf2474ea79b4079f37e7eab09",
       "version_major": 2,
       "version_minor": 0
      },
      "text/plain": [
       "  0%|          | 0/100 [00:00<?, ?it/s]"
      ]
     },
     "metadata": {},
     "output_type": "display_data"
    },
    {
     "data": {
      "application/vnd.jupyter.widget-view+json": {
       "model_id": "e2d12392d3064b25a50a4aad809e2f0d",
       "version_major": 2,
       "version_minor": 0
      },
      "text/plain": [
       "  0%|          | 0/100 [00:00<?, ?it/s]"
      ]
     },
     "metadata": {},
     "output_type": "display_data"
    },
    {
     "data": {
      "application/vnd.jupyter.widget-view+json": {
       "model_id": "e21809ac1f1b425898fc88a5e98be5a7",
       "version_major": 2,
       "version_minor": 0
      },
      "text/plain": [
       "  0%|          | 0/100 [00:00<?, ?it/s]"
      ]
     },
     "metadata": {},
     "output_type": "display_data"
    },
    {
     "data": {
      "application/vnd.jupyter.widget-view+json": {
       "model_id": "3464616080304d0793964673a1f5337c",
       "version_major": 2,
       "version_minor": 0
      },
      "text/plain": [
       "  0%|          | 0/100 [00:00<?, ?it/s]"
      ]
     },
     "metadata": {},
     "output_type": "display_data"
    },
    {
     "data": {
      "application/vnd.jupyter.widget-view+json": {
       "model_id": "24440ee4d9cc4c0983a67db577794946",
       "version_major": 2,
       "version_minor": 0
      },
      "text/plain": [
       "  0%|          | 0/100 [00:00<?, ?it/s]"
      ]
     },
     "metadata": {},
     "output_type": "display_data"
    },
    {
     "data": {
      "application/vnd.jupyter.widget-view+json": {
       "model_id": "de65174e41134025bc49ecfce7e1d773",
       "version_major": 2,
       "version_minor": 0
      },
      "text/plain": [
       "  0%|          | 0/100 [00:00<?, ?it/s]"
      ]
     },
     "metadata": {},
     "output_type": "display_data"
    },
    {
     "data": {
      "application/vnd.jupyter.widget-view+json": {
       "model_id": "829164d0eec442b2b59b26fded2c5128",
       "version_major": 2,
       "version_minor": 0
      },
      "text/plain": [
       "  0%|          | 0/100 [00:00<?, ?it/s]"
      ]
     },
     "metadata": {},
     "output_type": "display_data"
    },
    {
     "data": {
      "application/vnd.jupyter.widget-view+json": {
       "model_id": "8e114ee8df454602ba4e9c38486fa02a",
       "version_major": 2,
       "version_minor": 0
      },
      "text/plain": [
       "  0%|          | 0/100 [00:00<?, ?it/s]"
      ]
     },
     "metadata": {},
     "output_type": "display_data"
    },
    {
     "data": {
      "application/vnd.jupyter.widget-view+json": {
       "model_id": "b4894948f3bc431796933cfd88f16085",
       "version_major": 2,
       "version_minor": 0
      },
      "text/plain": [
       "  0%|          | 0/100 [00:00<?, ?it/s]"
      ]
     },
     "metadata": {},
     "output_type": "display_data"
    },
    {
     "data": {
      "application/vnd.jupyter.widget-view+json": {
       "model_id": "03e9ab76b9cf48289c109472096aa21c",
       "version_major": 2,
       "version_minor": 0
      },
      "text/plain": [
       "  0%|          | 0/100 [00:00<?, ?it/s]"
      ]
     },
     "metadata": {},
     "output_type": "display_data"
    },
    {
     "data": {
      "application/vnd.jupyter.widget-view+json": {
       "model_id": "0d993897ec2143b7b920e75cc80b3fc5",
       "version_major": 2,
       "version_minor": 0
      },
      "text/plain": [
       "  0%|          | 0/100 [00:00<?, ?it/s]"
      ]
     },
     "metadata": {},
     "output_type": "display_data"
    },
    {
     "data": {
      "application/vnd.jupyter.widget-view+json": {
       "model_id": "31f293f7663e4c8f9800fdbdad52ef1e",
       "version_major": 2,
       "version_minor": 0
      },
      "text/plain": [
       "  0%|          | 0/100 [00:00<?, ?it/s]"
      ]
     },
     "metadata": {},
     "output_type": "display_data"
    },
    {
     "data": {
      "application/vnd.jupyter.widget-view+json": {
       "model_id": "d8ce7c8ca82d41eabf8a7f2cec93755a",
       "version_major": 2,
       "version_minor": 0
      },
      "text/plain": [
       "  0%|          | 0/100 [00:00<?, ?it/s]"
      ]
     },
     "metadata": {},
     "output_type": "display_data"
    },
    {
     "data": {
      "application/vnd.jupyter.widget-view+json": {
       "model_id": "e7f840c70b6b4f5e9db93575c0dc9e72",
       "version_major": 2,
       "version_minor": 0
      },
      "text/plain": [
       "  0%|          | 0/100 [00:00<?, ?it/s]"
      ]
     },
     "metadata": {},
     "output_type": "display_data"
    },
    {
     "data": {
      "application/vnd.jupyter.widget-view+json": {
       "model_id": "0a10103ffd7f4215874ee6c332427fbe",
       "version_major": 2,
       "version_minor": 0
      },
      "text/plain": [
       "  0%|          | 0/100 [00:00<?, ?it/s]"
      ]
     },
     "metadata": {},
     "output_type": "display_data"
    },
    {
     "data": {
      "application/vnd.jupyter.widget-view+json": {
       "model_id": "11effe6782db4172b311b05cddf8812e",
       "version_major": 2,
       "version_minor": 0
      },
      "text/plain": [
       "  0%|          | 0/100 [00:00<?, ?it/s]"
      ]
     },
     "metadata": {},
     "output_type": "display_data"
    },
    {
     "data": {
      "application/vnd.jupyter.widget-view+json": {
       "model_id": "5c220aaecdea4f99b98dbfcf9b1e381c",
       "version_major": 2,
       "version_minor": 0
      },
      "text/plain": [
       "  0%|          | 0/100 [00:00<?, ?it/s]"
      ]
     },
     "metadata": {},
     "output_type": "display_data"
    },
    {
     "data": {
      "application/vnd.jupyter.widget-view+json": {
       "model_id": "9d47376446ba4cb092d4cc5b52fc9511",
       "version_major": 2,
       "version_minor": 0
      },
      "text/plain": [
       "  0%|          | 0/100 [00:00<?, ?it/s]"
      ]
     },
     "metadata": {},
     "output_type": "display_data"
    },
    {
     "data": {
      "application/vnd.jupyter.widget-view+json": {
       "model_id": "4e5208408ba54ed2b124eb12715db225",
       "version_major": 2,
       "version_minor": 0
      },
      "text/plain": [
       "  0%|          | 0/100 [00:00<?, ?it/s]"
      ]
     },
     "metadata": {},
     "output_type": "display_data"
    },
    {
     "data": {
      "application/vnd.jupyter.widget-view+json": {
       "model_id": "4c378be1fc8d4290997a39f6a121361c",
       "version_major": 2,
       "version_minor": 0
      },
      "text/plain": [
       "  0%|          | 0/100 [00:00<?, ?it/s]"
      ]
     },
     "metadata": {},
     "output_type": "display_data"
    },
    {
     "data": {
      "application/vnd.jupyter.widget-view+json": {
       "model_id": "85208722a70648bb80e25ef0446a142f",
       "version_major": 2,
       "version_minor": 0
      },
      "text/plain": [
       "  0%|          | 0/100 [00:00<?, ?it/s]"
      ]
     },
     "metadata": {},
     "output_type": "display_data"
    },
    {
     "data": {
      "application/vnd.jupyter.widget-view+json": {
       "model_id": "f6052bd8dc5c492da2cb8abd62248f6f",
       "version_major": 2,
       "version_minor": 0
      },
      "text/plain": [
       "  0%|          | 0/100 [00:00<?, ?it/s]"
      ]
     },
     "metadata": {},
     "output_type": "display_data"
    },
    {
     "data": {
      "application/vnd.jupyter.widget-view+json": {
       "model_id": "aa467363294640d08f127a05bc3fea81",
       "version_major": 2,
       "version_minor": 0
      },
      "text/plain": [
       "  0%|          | 0/100 [00:00<?, ?it/s]"
      ]
     },
     "metadata": {},
     "output_type": "display_data"
    },
    {
     "data": {
      "application/vnd.jupyter.widget-view+json": {
       "model_id": "91f2206906c74f54a621c6b575bfea9f",
       "version_major": 2,
       "version_minor": 0
      },
      "text/plain": [
       "  0%|          | 0/100 [00:00<?, ?it/s]"
      ]
     },
     "metadata": {},
     "output_type": "display_data"
    },
    {
     "data": {
      "application/vnd.jupyter.widget-view+json": {
       "model_id": "4dc2854e04e646cc857cea8403456719",
       "version_major": 2,
       "version_minor": 0
      },
      "text/plain": [
       "  0%|          | 0/100 [00:00<?, ?it/s]"
      ]
     },
     "metadata": {},
     "output_type": "display_data"
    },
    {
     "data": {
      "application/vnd.jupyter.widget-view+json": {
       "model_id": "b6a4bb3b02fc44b98043263b47618d29",
       "version_major": 2,
       "version_minor": 0
      },
      "text/plain": [
       "  0%|          | 0/100 [00:00<?, ?it/s]"
      ]
     },
     "metadata": {},
     "output_type": "display_data"
    },
    {
     "data": {
      "application/vnd.jupyter.widget-view+json": {
       "model_id": "f4686d981c11420a89a798916f9013fb",
       "version_major": 2,
       "version_minor": 0
      },
      "text/plain": [
       "  0%|          | 0/100 [00:00<?, ?it/s]"
      ]
     },
     "metadata": {},
     "output_type": "display_data"
    },
    {
     "data": {
      "application/vnd.jupyter.widget-view+json": {
       "model_id": "00b3562267b842bd8076f42f33883429",
       "version_major": 2,
       "version_minor": 0
      },
      "text/plain": [
       "  0%|          | 0/100 [00:00<?, ?it/s]"
      ]
     },
     "metadata": {},
     "output_type": "display_data"
    },
    {
     "data": {
      "application/vnd.jupyter.widget-view+json": {
       "model_id": "2c30b3426c784efdb717567ad14b7ceb",
       "version_major": 2,
       "version_minor": 0
      },
      "text/plain": [
       "  0%|          | 0/100 [00:00<?, ?it/s]"
      ]
     },
     "metadata": {},
     "output_type": "display_data"
    },
    {
     "data": {
      "application/vnd.jupyter.widget-view+json": {
       "model_id": "7620676ea4254447beac1523f4b9c1b5",
       "version_major": 2,
       "version_minor": 0
      },
      "text/plain": [
       "  0%|          | 0/100 [00:00<?, ?it/s]"
      ]
     },
     "metadata": {},
     "output_type": "display_data"
    },
    {
     "data": {
      "application/vnd.jupyter.widget-view+json": {
       "model_id": "86f93b1e6d224c57ab8150ce13db41ae",
       "version_major": 2,
       "version_minor": 0
      },
      "text/plain": [
       "  0%|          | 0/100 [00:00<?, ?it/s]"
      ]
     },
     "metadata": {},
     "output_type": "display_data"
    },
    {
     "data": {
      "application/vnd.jupyter.widget-view+json": {
       "model_id": "cddc5135e72c45dcbf4488dda3396cab",
       "version_major": 2,
       "version_minor": 0
      },
      "text/plain": [
       "  0%|          | 0/100 [00:00<?, ?it/s]"
      ]
     },
     "metadata": {},
     "output_type": "display_data"
    },
    {
     "data": {
      "application/vnd.jupyter.widget-view+json": {
       "model_id": "0677b5fc87ae40099155a685d69a7b10",
       "version_major": 2,
       "version_minor": 0
      },
      "text/plain": [
       "  0%|          | 0/100 [00:00<?, ?it/s]"
      ]
     },
     "metadata": {},
     "output_type": "display_data"
    },
    {
     "data": {
      "application/vnd.jupyter.widget-view+json": {
       "model_id": "262ba456ac714f018aba3ca28f2fbd34",
       "version_major": 2,
       "version_minor": 0
      },
      "text/plain": [
       "  0%|          | 0/100 [00:00<?, ?it/s]"
      ]
     },
     "metadata": {},
     "output_type": "display_data"
    },
    {
     "data": {
      "application/vnd.jupyter.widget-view+json": {
       "model_id": "2e258a374d6f48f79a7b559cd32cb343",
       "version_major": 2,
       "version_minor": 0
      },
      "text/plain": [
       "  0%|          | 0/100 [00:00<?, ?it/s]"
      ]
     },
     "metadata": {},
     "output_type": "display_data"
    },
    {
     "data": {
      "application/vnd.jupyter.widget-view+json": {
       "model_id": "5759f67ee1d64243a0028e2f0e85d205",
       "version_major": 2,
       "version_minor": 0
      },
      "text/plain": [
       "  0%|          | 0/100 [00:00<?, ?it/s]"
      ]
     },
     "metadata": {},
     "output_type": "display_data"
    },
    {
     "data": {
      "application/vnd.jupyter.widget-view+json": {
       "model_id": "0afcdbca0e4b47c290a156d5f0135df9",
       "version_major": 2,
       "version_minor": 0
      },
      "text/plain": [
       "  0%|          | 0/100 [00:00<?, ?it/s]"
      ]
     },
     "metadata": {},
     "output_type": "display_data"
    },
    {
     "data": {
      "application/vnd.jupyter.widget-view+json": {
       "model_id": "cfeaecc01eef43daa531ca4f3d140c51",
       "version_major": 2,
       "version_minor": 0
      },
      "text/plain": [
       "  0%|          | 0/100 [00:00<?, ?it/s]"
      ]
     },
     "metadata": {},
     "output_type": "display_data"
    },
    {
     "data": {
      "application/vnd.jupyter.widget-view+json": {
       "model_id": "4b9a0e45f92a465e9d1870e92d1337f0",
       "version_major": 2,
       "version_minor": 0
      },
      "text/plain": [
       "  0%|          | 0/100 [00:00<?, ?it/s]"
      ]
     },
     "metadata": {},
     "output_type": "display_data"
    },
    {
     "data": {
      "application/vnd.jupyter.widget-view+json": {
       "model_id": "7e0c8397dc2e448a898bdfe4e7aa537f",
       "version_major": 2,
       "version_minor": 0
      },
      "text/plain": [
       "  0%|          | 0/100 [00:00<?, ?it/s]"
      ]
     },
     "metadata": {},
     "output_type": "display_data"
    },
    {
     "data": {
      "application/vnd.jupyter.widget-view+json": {
       "model_id": "2854c7ba68aa41d6a8c63d398032f14a",
       "version_major": 2,
       "version_minor": 0
      },
      "text/plain": [
       "  0%|          | 0/100 [00:00<?, ?it/s]"
      ]
     },
     "metadata": {},
     "output_type": "display_data"
    },
    {
     "data": {
      "application/vnd.jupyter.widget-view+json": {
       "model_id": "2de9a500986c4212967559120861c137",
       "version_major": 2,
       "version_minor": 0
      },
      "text/plain": [
       "  0%|          | 0/100 [00:00<?, ?it/s]"
      ]
     },
     "metadata": {},
     "output_type": "display_data"
    },
    {
     "data": {
      "application/vnd.jupyter.widget-view+json": {
       "model_id": "a44513f9a7de4a8d9ebefec2ddf0f216",
       "version_major": 2,
       "version_minor": 0
      },
      "text/plain": [
       "  0%|          | 0/100 [00:00<?, ?it/s]"
      ]
     },
     "metadata": {},
     "output_type": "display_data"
    },
    {
     "data": {
      "application/vnd.jupyter.widget-view+json": {
       "model_id": "69dde05bb9924dca98153f7cad627565",
       "version_major": 2,
       "version_minor": 0
      },
      "text/plain": [
       "  0%|          | 0/100 [00:00<?, ?it/s]"
      ]
     },
     "metadata": {},
     "output_type": "display_data"
    },
    {
     "data": {
      "application/vnd.jupyter.widget-view+json": {
       "model_id": "360a633acfb348faa2a68b2e012569fd",
       "version_major": 2,
       "version_minor": 0
      },
      "text/plain": [
       "  0%|          | 0/100 [00:00<?, ?it/s]"
      ]
     },
     "metadata": {},
     "output_type": "display_data"
    },
    {
     "data": {
      "application/vnd.jupyter.widget-view+json": {
       "model_id": "8087878c4be140199fa24126b6f499b5",
       "version_major": 2,
       "version_minor": 0
      },
      "text/plain": [
       "  0%|          | 0/100 [00:00<?, ?it/s]"
      ]
     },
     "metadata": {},
     "output_type": "display_data"
    },
    {
     "data": {
      "application/vnd.jupyter.widget-view+json": {
       "model_id": "3b7fa6eee7da461491bf59cf6c3433d9",
       "version_major": 2,
       "version_minor": 0
      },
      "text/plain": [
       "  0%|          | 0/100 [00:00<?, ?it/s]"
      ]
     },
     "metadata": {},
     "output_type": "display_data"
    },
    {
     "data": {
      "application/vnd.jupyter.widget-view+json": {
       "model_id": "2cd09eddd76f44e3a175dac75a45455f",
       "version_major": 2,
       "version_minor": 0
      },
      "text/plain": [
       "  0%|          | 0/100 [00:00<?, ?it/s]"
      ]
     },
     "metadata": {},
     "output_type": "display_data"
    },
    {
     "data": {
      "application/vnd.jupyter.widget-view+json": {
       "model_id": "d27d48217f764f5f996c927b6ba78202",
       "version_major": 2,
       "version_minor": 0
      },
      "text/plain": [
       "  0%|          | 0/100 [00:00<?, ?it/s]"
      ]
     },
     "metadata": {},
     "output_type": "display_data"
    },
    {
     "data": {
      "application/vnd.jupyter.widget-view+json": {
       "model_id": "098e814714a04a45b3fdeaf7e38f64bf",
       "version_major": 2,
       "version_minor": 0
      },
      "text/plain": [
       "  0%|          | 0/100 [00:00<?, ?it/s]"
      ]
     },
     "metadata": {},
     "output_type": "display_data"
    },
    {
     "data": {
      "application/vnd.jupyter.widget-view+json": {
       "model_id": "2461b2b0a4624f9cb7c29769fdf5cbb8",
       "version_major": 2,
       "version_minor": 0
      },
      "text/plain": [
       "  0%|          | 0/100 [00:00<?, ?it/s]"
      ]
     },
     "metadata": {},
     "output_type": "display_data"
    },
    {
     "data": {
      "application/vnd.jupyter.widget-view+json": {
       "model_id": "e84bb8a261fc488f9136af2eaf66cf05",
       "version_major": 2,
       "version_minor": 0
      },
      "text/plain": [
       "  0%|          | 0/100 [00:00<?, ?it/s]"
      ]
     },
     "metadata": {},
     "output_type": "display_data"
    },
    {
     "data": {
      "application/vnd.jupyter.widget-view+json": {
       "model_id": "ca84f2dc05b74beb983e9498955083e3",
       "version_major": 2,
       "version_minor": 0
      },
      "text/plain": [
       "  0%|          | 0/100 [00:00<?, ?it/s]"
      ]
     },
     "metadata": {},
     "output_type": "display_data"
    },
    {
     "data": {
      "application/vnd.jupyter.widget-view+json": {
       "model_id": "e4bd66ff9fd54bcbb6f84613ca8ecc9b",
       "version_major": 2,
       "version_minor": 0
      },
      "text/plain": [
       "  0%|          | 0/100 [00:00<?, ?it/s]"
      ]
     },
     "metadata": {},
     "output_type": "display_data"
    },
    {
     "data": {
      "application/vnd.jupyter.widget-view+json": {
       "model_id": "f650a6ea0abe4de19dd9eb22e23a79c6",
       "version_major": 2,
       "version_minor": 0
      },
      "text/plain": [
       "  0%|          | 0/100 [00:00<?, ?it/s]"
      ]
     },
     "metadata": {},
     "output_type": "display_data"
    },
    {
     "data": {
      "application/vnd.jupyter.widget-view+json": {
       "model_id": "6a20fedce7ea4976963a8a76bf5170da",
       "version_major": 2,
       "version_minor": 0
      },
      "text/plain": [
       "  0%|          | 0/100 [00:00<?, ?it/s]"
      ]
     },
     "metadata": {},
     "output_type": "display_data"
    },
    {
     "data": {
      "application/vnd.jupyter.widget-view+json": {
       "model_id": "b05aa79765be45a287401418bc4aab20",
       "version_major": 2,
       "version_minor": 0
      },
      "text/plain": [
       "  0%|          | 0/100 [00:00<?, ?it/s]"
      ]
     },
     "metadata": {},
     "output_type": "display_data"
    },
    {
     "data": {
      "application/vnd.jupyter.widget-view+json": {
       "model_id": "6bd911ce4a1c444ead28039797d37902",
       "version_major": 2,
       "version_minor": 0
      },
      "text/plain": [
       "  0%|          | 0/100 [00:00<?, ?it/s]"
      ]
     },
     "metadata": {},
     "output_type": "display_data"
    },
    {
     "data": {
      "application/vnd.jupyter.widget-view+json": {
       "model_id": "c166fd358ea7482592327bc25b317dbe",
       "version_major": 2,
       "version_minor": 0
      },
      "text/plain": [
       "  0%|          | 0/100 [00:00<?, ?it/s]"
      ]
     },
     "metadata": {},
     "output_type": "display_data"
    },
    {
     "data": {
      "application/vnd.jupyter.widget-view+json": {
       "model_id": "fb03599959bf4ef8b7527b64dc85f547",
       "version_major": 2,
       "version_minor": 0
      },
      "text/plain": [
       "  0%|          | 0/100 [00:00<?, ?it/s]"
      ]
     },
     "metadata": {},
     "output_type": "display_data"
    },
    {
     "data": {
      "application/vnd.jupyter.widget-view+json": {
       "model_id": "76c63983638a49b986790ce1cc8e03ac",
       "version_major": 2,
       "version_minor": 0
      },
      "text/plain": [
       "  0%|          | 0/100 [00:00<?, ?it/s]"
      ]
     },
     "metadata": {},
     "output_type": "display_data"
    },
    {
     "data": {
      "application/vnd.jupyter.widget-view+json": {
       "model_id": "3883cc0d3b1c4221b0c51590b3123964",
       "version_major": 2,
       "version_minor": 0
      },
      "text/plain": [
       "  0%|          | 0/100 [00:00<?, ?it/s]"
      ]
     },
     "metadata": {},
     "output_type": "display_data"
    },
    {
     "data": {
      "application/vnd.jupyter.widget-view+json": {
       "model_id": "d817b768930743138a93fdfd59818d25",
       "version_major": 2,
       "version_minor": 0
      },
      "text/plain": [
       "  0%|          | 0/100 [00:00<?, ?it/s]"
      ]
     },
     "metadata": {},
     "output_type": "display_data"
    },
    {
     "data": {
      "application/vnd.jupyter.widget-view+json": {
       "model_id": "4bbfba3d5d444625a8a6afaf8f51405a",
       "version_major": 2,
       "version_minor": 0
      },
      "text/plain": [
       "  0%|          | 0/100 [00:00<?, ?it/s]"
      ]
     },
     "metadata": {},
     "output_type": "display_data"
    },
    {
     "data": {
      "application/vnd.jupyter.widget-view+json": {
       "model_id": "8bcc981d1014452f92fb34a7de550627",
       "version_major": 2,
       "version_minor": 0
      },
      "text/plain": [
       "  0%|          | 0/100 [00:00<?, ?it/s]"
      ]
     },
     "metadata": {},
     "output_type": "display_data"
    },
    {
     "data": {
      "application/vnd.jupyter.widget-view+json": {
       "model_id": "57c5888c39484ed99b5b8c0f9594b4bb",
       "version_major": 2,
       "version_minor": 0
      },
      "text/plain": [
       "  0%|          | 0/100 [00:00<?, ?it/s]"
      ]
     },
     "metadata": {},
     "output_type": "display_data"
    },
    {
     "data": {
      "application/vnd.jupyter.widget-view+json": {
       "model_id": "9dfefdadb52d41ddaf8efcc3ebea6315",
       "version_major": 2,
       "version_minor": 0
      },
      "text/plain": [
       "  0%|          | 0/100 [00:00<?, ?it/s]"
      ]
     },
     "metadata": {},
     "output_type": "display_data"
    },
    {
     "data": {
      "application/vnd.jupyter.widget-view+json": {
       "model_id": "b05d6d1f306b477782501bfa4d5c77ff",
       "version_major": 2,
       "version_minor": 0
      },
      "text/plain": [
       "  0%|          | 0/100 [00:00<?, ?it/s]"
      ]
     },
     "metadata": {},
     "output_type": "display_data"
    },
    {
     "data": {
      "application/vnd.jupyter.widget-view+json": {
       "model_id": "01144cece4974f8abed6d8546f387df2",
       "version_major": 2,
       "version_minor": 0
      },
      "text/plain": [
       "  0%|          | 0/100 [00:00<?, ?it/s]"
      ]
     },
     "metadata": {},
     "output_type": "display_data"
    },
    {
     "data": {
      "application/vnd.jupyter.widget-view+json": {
       "model_id": "bb65b8fe6eba43c18654e6b756d68e45",
       "version_major": 2,
       "version_minor": 0
      },
      "text/plain": [
       "  0%|          | 0/100 [00:00<?, ?it/s]"
      ]
     },
     "metadata": {},
     "output_type": "display_data"
    },
    {
     "data": {
      "application/vnd.jupyter.widget-view+json": {
       "model_id": "05cc16e7f55b4c6ca0078d898678e199",
       "version_major": 2,
       "version_minor": 0
      },
      "text/plain": [
       "  0%|          | 0/100 [00:00<?, ?it/s]"
      ]
     },
     "metadata": {},
     "output_type": "display_data"
    },
    {
     "data": {
      "application/vnd.jupyter.widget-view+json": {
       "model_id": "00196e5fb5a2418681f72adc3c4cf6e3",
       "version_major": 2,
       "version_minor": 0
      },
      "text/plain": [
       "  0%|          | 0/100 [00:00<?, ?it/s]"
      ]
     },
     "metadata": {},
     "output_type": "display_data"
    },
    {
     "data": {
      "application/vnd.jupyter.widget-view+json": {
       "model_id": "a3ae5bc910e64b5ab5fc170b84272c8f",
       "version_major": 2,
       "version_minor": 0
      },
      "text/plain": [
       "  0%|          | 0/100 [00:00<?, ?it/s]"
      ]
     },
     "metadata": {},
     "output_type": "display_data"
    },
    {
     "data": {
      "application/vnd.jupyter.widget-view+json": {
       "model_id": "909dcd80d77a4ceab49350477a3628e6",
       "version_major": 2,
       "version_minor": 0
      },
      "text/plain": [
       "  0%|          | 0/100 [00:00<?, ?it/s]"
      ]
     },
     "metadata": {},
     "output_type": "display_data"
    },
    {
     "data": {
      "application/vnd.jupyter.widget-view+json": {
       "model_id": "224a661e40a54f059f2fe908fd0d4dc9",
       "version_major": 2,
       "version_minor": 0
      },
      "text/plain": [
       "  0%|          | 0/100 [00:00<?, ?it/s]"
      ]
     },
     "metadata": {},
     "output_type": "display_data"
    },
    {
     "data": {
      "application/vnd.jupyter.widget-view+json": {
       "model_id": "99ea4688021a472bbfdccba918ef7ee5",
       "version_major": 2,
       "version_minor": 0
      },
      "text/plain": [
       "  0%|          | 0/100 [00:00<?, ?it/s]"
      ]
     },
     "metadata": {},
     "output_type": "display_data"
    },
    {
     "data": {
      "application/vnd.jupyter.widget-view+json": {
       "model_id": "c5de5c8c153d4876b8a6b8d09ed2a576",
       "version_major": 2,
       "version_minor": 0
      },
      "text/plain": [
       "  0%|          | 0/100 [00:00<?, ?it/s]"
      ]
     },
     "metadata": {},
     "output_type": "display_data"
    },
    {
     "data": {
      "application/vnd.jupyter.widget-view+json": {
       "model_id": "3d55b46dd58946569c46880a6cef1f49",
       "version_major": 2,
       "version_minor": 0
      },
      "text/plain": [
       "  0%|          | 0/100 [00:00<?, ?it/s]"
      ]
     },
     "metadata": {},
     "output_type": "display_data"
    },
    {
     "data": {
      "application/vnd.jupyter.widget-view+json": {
       "model_id": "d86e07a72bd149999e5a533097e15e39",
       "version_major": 2,
       "version_minor": 0
      },
      "text/plain": [
       "  0%|          | 0/100 [00:00<?, ?it/s]"
      ]
     },
     "metadata": {},
     "output_type": "display_data"
    },
    {
     "data": {
      "application/vnd.jupyter.widget-view+json": {
       "model_id": "0ca7a4035d16452fa2f320a4efd1a154",
       "version_major": 2,
       "version_minor": 0
      },
      "text/plain": [
       "  0%|          | 0/100 [00:00<?, ?it/s]"
      ]
     },
     "metadata": {},
     "output_type": "display_data"
    },
    {
     "data": {
      "application/vnd.jupyter.widget-view+json": {
       "model_id": "09175dd226d84d29ab58fbbb8c75df51",
       "version_major": 2,
       "version_minor": 0
      },
      "text/plain": [
       "  0%|          | 0/100 [00:00<?, ?it/s]"
      ]
     },
     "metadata": {},
     "output_type": "display_data"
    },
    {
     "data": {
      "application/vnd.jupyter.widget-view+json": {
       "model_id": "80bff9cb8f554148a501549bbe1e3605",
       "version_major": 2,
       "version_minor": 0
      },
      "text/plain": [
       "  0%|          | 0/100 [00:00<?, ?it/s]"
      ]
     },
     "metadata": {},
     "output_type": "display_data"
    },
    {
     "data": {
      "application/vnd.jupyter.widget-view+json": {
       "model_id": "bf7f5fc0ace94f3d91f8e43a4fbb9f87",
       "version_major": 2,
       "version_minor": 0
      },
      "text/plain": [
       "  0%|          | 0/100 [00:00<?, ?it/s]"
      ]
     },
     "metadata": {},
     "output_type": "display_data"
    },
    {
     "data": {
      "application/vnd.jupyter.widget-view+json": {
       "model_id": "a97fecbc6e3c457c9e5e0b82f6cdeb35",
       "version_major": 2,
       "version_minor": 0
      },
      "text/plain": [
       "  0%|          | 0/100 [00:00<?, ?it/s]"
      ]
     },
     "metadata": {},
     "output_type": "display_data"
    },
    {
     "data": {
      "application/vnd.jupyter.widget-view+json": {
       "model_id": "b0c915961beb448c8e6d473ea9ec6fb2",
       "version_major": 2,
       "version_minor": 0
      },
      "text/plain": [
       "  0%|          | 0/100 [00:00<?, ?it/s]"
      ]
     },
     "metadata": {},
     "output_type": "display_data"
    },
    {
     "data": {
      "application/vnd.jupyter.widget-view+json": {
       "model_id": "96f10cec957d4199b118837ff1e10667",
       "version_major": 2,
       "version_minor": 0
      },
      "text/plain": [
       "  0%|          | 0/100 [00:00<?, ?it/s]"
      ]
     },
     "metadata": {},
     "output_type": "display_data"
    },
    {
     "data": {
      "application/vnd.jupyter.widget-view+json": {
       "model_id": "b9d450fd2d5f4ab4b2cdaa5ac3785d63",
       "version_major": 2,
       "version_minor": 0
      },
      "text/plain": [
       "  0%|          | 0/100 [00:00<?, ?it/s]"
      ]
     },
     "metadata": {},
     "output_type": "display_data"
    },
    {
     "data": {
      "application/vnd.jupyter.widget-view+json": {
       "model_id": "e7d87a5fcb164d8d92cfcaf67c2c7cee",
       "version_major": 2,
       "version_minor": 0
      },
      "text/plain": [
       "  0%|          | 0/100 [00:00<?, ?it/s]"
      ]
     },
     "metadata": {},
     "output_type": "display_data"
    },
    {
     "data": {
      "application/vnd.jupyter.widget-view+json": {
       "model_id": "c5fc1ca48d074777945b4774e601b4e8",
       "version_major": 2,
       "version_minor": 0
      },
      "text/plain": [
       "  0%|          | 0/100 [00:00<?, ?it/s]"
      ]
     },
     "metadata": {},
     "output_type": "display_data"
    },
    {
     "data": {
      "application/vnd.jupyter.widget-view+json": {
       "model_id": "31e53204c1104b84b2f29f3fa65b3f60",
       "version_major": 2,
       "version_minor": 0
      },
      "text/plain": [
       "  0%|          | 0/100 [00:00<?, ?it/s]"
      ]
     },
     "metadata": {},
     "output_type": "display_data"
    },
    {
     "data": {
      "application/vnd.jupyter.widget-view+json": {
       "model_id": "83e87233eaeb462a9f68ee5a095f72f6",
       "version_major": 2,
       "version_minor": 0
      },
      "text/plain": [
       "  0%|          | 0/100 [00:00<?, ?it/s]"
      ]
     },
     "metadata": {},
     "output_type": "display_data"
    },
    {
     "data": {
      "application/vnd.jupyter.widget-view+json": {
       "model_id": "cf32b485a8ef4ade8e419360de0ddcfe",
       "version_major": 2,
       "version_minor": 0
      },
      "text/plain": [
       "  0%|          | 0/100 [00:00<?, ?it/s]"
      ]
     },
     "metadata": {},
     "output_type": "display_data"
    },
    {
     "data": {
      "application/vnd.jupyter.widget-view+json": {
       "model_id": "b1e31af5c2e64de1a71634d99cea7906",
       "version_major": 2,
       "version_minor": 0
      },
      "text/plain": [
       "  0%|          | 0/100 [00:00<?, ?it/s]"
      ]
     },
     "metadata": {},
     "output_type": "display_data"
    },
    {
     "data": {
      "application/vnd.jupyter.widget-view+json": {
       "model_id": "8d06a600b09f462393bed46dcf3818ab",
       "version_major": 2,
       "version_minor": 0
      },
      "text/plain": [
       "  0%|          | 0/100 [00:00<?, ?it/s]"
      ]
     },
     "metadata": {},
     "output_type": "display_data"
    },
    {
     "data": {
      "application/vnd.jupyter.widget-view+json": {
       "model_id": "50746b423ac448869ed0274b50b8a5ee",
       "version_major": 2,
       "version_minor": 0
      },
      "text/plain": [
       "  0%|          | 0/100 [00:00<?, ?it/s]"
      ]
     },
     "metadata": {},
     "output_type": "display_data"
    },
    {
     "data": {
      "application/vnd.jupyter.widget-view+json": {
       "model_id": "9549b1c8422d4c5ca4d659dda78716bd",
       "version_major": 2,
       "version_minor": 0
      },
      "text/plain": [
       "  0%|          | 0/100 [00:00<?, ?it/s]"
      ]
     },
     "metadata": {},
     "output_type": "display_data"
    },
    {
     "data": {
      "application/vnd.jupyter.widget-view+json": {
       "model_id": "f67dae80d13f4921a470ab92d88123fc",
       "version_major": 2,
       "version_minor": 0
      },
      "text/plain": [
       "  0%|          | 0/100 [00:00<?, ?it/s]"
      ]
     },
     "metadata": {},
     "output_type": "display_data"
    },
    {
     "data": {
      "application/vnd.jupyter.widget-view+json": {
       "model_id": "4c0ffbe1b6fd4e9e8dc41ef0c202e372",
       "version_major": 2,
       "version_minor": 0
      },
      "text/plain": [
       "  0%|          | 0/100 [00:00<?, ?it/s]"
      ]
     },
     "metadata": {},
     "output_type": "display_data"
    },
    {
     "data": {
      "application/vnd.jupyter.widget-view+json": {
       "model_id": "7d9acbcf8858468aa82eeaea4b20b740",
       "version_major": 2,
       "version_minor": 0
      },
      "text/plain": [
       "  0%|          | 0/100 [00:00<?, ?it/s]"
      ]
     },
     "metadata": {},
     "output_type": "display_data"
    },
    {
     "data": {
      "application/vnd.jupyter.widget-view+json": {
       "model_id": "6bd7919a70124b1180335408083b8eb0",
       "version_major": 2,
       "version_minor": 0
      },
      "text/plain": [
       "  0%|          | 0/100 [00:00<?, ?it/s]"
      ]
     },
     "metadata": {},
     "output_type": "display_data"
    },
    {
     "data": {
      "application/vnd.jupyter.widget-view+json": {
       "model_id": "127f2dae68914527be1f50907d918988",
       "version_major": 2,
       "version_minor": 0
      },
      "text/plain": [
       "  0%|          | 0/100 [00:00<?, ?it/s]"
      ]
     },
     "metadata": {},
     "output_type": "display_data"
    },
    {
     "data": {
      "application/vnd.jupyter.widget-view+json": {
       "model_id": "89240894eddf482bbdf0f4bdf49126ee",
       "version_major": 2,
       "version_minor": 0
      },
      "text/plain": [
       "  0%|          | 0/100 [00:00<?, ?it/s]"
      ]
     },
     "metadata": {},
     "output_type": "display_data"
    },
    {
     "data": {
      "application/vnd.jupyter.widget-view+json": {
       "model_id": "f5a4b5653f4046b893dc49f7f5250418",
       "version_major": 2,
       "version_minor": 0
      },
      "text/plain": [
       "  0%|          | 0/100 [00:00<?, ?it/s]"
      ]
     },
     "metadata": {},
     "output_type": "display_data"
    },
    {
     "data": {
      "application/vnd.jupyter.widget-view+json": {
       "model_id": "b332a1f896534e04a3ab3943813aea28",
       "version_major": 2,
       "version_minor": 0
      },
      "text/plain": [
       "  0%|          | 0/100 [00:00<?, ?it/s]"
      ]
     },
     "metadata": {},
     "output_type": "display_data"
    },
    {
     "data": {
      "application/vnd.jupyter.widget-view+json": {
       "model_id": "587478988bc54507a4821e4356b33cfd",
       "version_major": 2,
       "version_minor": 0
      },
      "text/plain": [
       "  0%|          | 0/100 [00:00<?, ?it/s]"
      ]
     },
     "metadata": {},
     "output_type": "display_data"
    },
    {
     "data": {
      "application/vnd.jupyter.widget-view+json": {
       "model_id": "706ad8cf89d046bcbcdebf1022779aa9",
       "version_major": 2,
       "version_minor": 0
      },
      "text/plain": [
       "  0%|          | 0/100 [00:00<?, ?it/s]"
      ]
     },
     "metadata": {},
     "output_type": "display_data"
    },
    {
     "data": {
      "application/vnd.jupyter.widget-view+json": {
       "model_id": "d3617739938540fb8079c36df7a59223",
       "version_major": 2,
       "version_minor": 0
      },
      "text/plain": [
       "  0%|          | 0/100 [00:00<?, ?it/s]"
      ]
     },
     "metadata": {},
     "output_type": "display_data"
    },
    {
     "data": {
      "application/vnd.jupyter.widget-view+json": {
       "model_id": "6dbc08a297fb4f94b7e7a63e6029ecd9",
       "version_major": 2,
       "version_minor": 0
      },
      "text/plain": [
       "  0%|          | 0/100 [00:00<?, ?it/s]"
      ]
     },
     "metadata": {},
     "output_type": "display_data"
    },
    {
     "data": {
      "application/vnd.jupyter.widget-view+json": {
       "model_id": "3af747fa46fa404db64ed8b6b811f0f8",
       "version_major": 2,
       "version_minor": 0
      },
      "text/plain": [
       "  0%|          | 0/100 [00:00<?, ?it/s]"
      ]
     },
     "metadata": {},
     "output_type": "display_data"
    },
    {
     "data": {
      "application/vnd.jupyter.widget-view+json": {
       "model_id": "3da7ebc5233848f6981bf04ba3c18ac4",
       "version_major": 2,
       "version_minor": 0
      },
      "text/plain": [
       "  0%|          | 0/100 [00:00<?, ?it/s]"
      ]
     },
     "metadata": {},
     "output_type": "display_data"
    },
    {
     "data": {
      "application/vnd.jupyter.widget-view+json": {
       "model_id": "296edde97afc4103bb5bfe4ddd225c85",
       "version_major": 2,
       "version_minor": 0
      },
      "text/plain": [
       "  0%|          | 0/100 [00:00<?, ?it/s]"
      ]
     },
     "metadata": {},
     "output_type": "display_data"
    },
    {
     "data": {
      "application/vnd.jupyter.widget-view+json": {
       "model_id": "66cc204822324cc2a37e102fd512201e",
       "version_major": 2,
       "version_minor": 0
      },
      "text/plain": [
       "  0%|          | 0/100 [00:00<?, ?it/s]"
      ]
     },
     "metadata": {},
     "output_type": "display_data"
    },
    {
     "data": {
      "application/vnd.jupyter.widget-view+json": {
       "model_id": "565bd75c8112479abc0bb33a4a9b4729",
       "version_major": 2,
       "version_minor": 0
      },
      "text/plain": [
       "  0%|          | 0/100 [00:00<?, ?it/s]"
      ]
     },
     "metadata": {},
     "output_type": "display_data"
    },
    {
     "data": {
      "application/vnd.jupyter.widget-view+json": {
       "model_id": "8c4c4d9f32cb41f48aed542c76f7e4f2",
       "version_major": 2,
       "version_minor": 0
      },
      "text/plain": [
       "  0%|          | 0/100 [00:00<?, ?it/s]"
      ]
     },
     "metadata": {},
     "output_type": "display_data"
    },
    {
     "data": {
      "application/vnd.jupyter.widget-view+json": {
       "model_id": "2bd3ac44a0dd42d0be8174051a53d75f",
       "version_major": 2,
       "version_minor": 0
      },
      "text/plain": [
       "  0%|          | 0/100 [00:00<?, ?it/s]"
      ]
     },
     "metadata": {},
     "output_type": "display_data"
    },
    {
     "data": {
      "application/vnd.jupyter.widget-view+json": {
       "model_id": "93ad6c12d50347ffa6dea2a69635ab6c",
       "version_major": 2,
       "version_minor": 0
      },
      "text/plain": [
       "  0%|          | 0/100 [00:00<?, ?it/s]"
      ]
     },
     "metadata": {},
     "output_type": "display_data"
    },
    {
     "data": {
      "application/vnd.jupyter.widget-view+json": {
       "model_id": "7cc13d28ea654218938f1df3b1afe1ed",
       "version_major": 2,
       "version_minor": 0
      },
      "text/plain": [
       "  0%|          | 0/100 [00:00<?, ?it/s]"
      ]
     },
     "metadata": {},
     "output_type": "display_data"
    },
    {
     "data": {
      "application/vnd.jupyter.widget-view+json": {
       "model_id": "e8666b69a97c4799a4f738949fd62de9",
       "version_major": 2,
       "version_minor": 0
      },
      "text/plain": [
       "  0%|          | 0/100 [00:00<?, ?it/s]"
      ]
     },
     "metadata": {},
     "output_type": "display_data"
    },
    {
     "data": {
      "application/vnd.jupyter.widget-view+json": {
       "model_id": "4309938a06b34839b06d67b509d0917a",
       "version_major": 2,
       "version_minor": 0
      },
      "text/plain": [
       "  0%|          | 0/100 [00:00<?, ?it/s]"
      ]
     },
     "metadata": {},
     "output_type": "display_data"
    },
    {
     "data": {
      "application/vnd.jupyter.widget-view+json": {
       "model_id": "73f13a8250ed4db285beb96edd44075f",
       "version_major": 2,
       "version_minor": 0
      },
      "text/plain": [
       "  0%|          | 0/100 [00:00<?, ?it/s]"
      ]
     },
     "metadata": {},
     "output_type": "display_data"
    },
    {
     "data": {
      "application/vnd.jupyter.widget-view+json": {
       "model_id": "428b0486b4dd49c5b0a7fd10384d7bc5",
       "version_major": 2,
       "version_minor": 0
      },
      "text/plain": [
       "  0%|          | 0/100 [00:00<?, ?it/s]"
      ]
     },
     "metadata": {},
     "output_type": "display_data"
    },
    {
     "data": {
      "application/vnd.jupyter.widget-view+json": {
       "model_id": "5568fc4f939c4bc9817bb285c5c3b732",
       "version_major": 2,
       "version_minor": 0
      },
      "text/plain": [
       "  0%|          | 0/100 [00:00<?, ?it/s]"
      ]
     },
     "metadata": {},
     "output_type": "display_data"
    },
    {
     "data": {
      "application/vnd.jupyter.widget-view+json": {
       "model_id": "88f7751b6ecf4c8b8510c74adb905529",
       "version_major": 2,
       "version_minor": 0
      },
      "text/plain": [
       "  0%|          | 0/100 [00:00<?, ?it/s]"
      ]
     },
     "metadata": {},
     "output_type": "display_data"
    },
    {
     "data": {
      "application/vnd.jupyter.widget-view+json": {
       "model_id": "ddaedca695d94f51a8530d2bd410eb25",
       "version_major": 2,
       "version_minor": 0
      },
      "text/plain": [
       "  0%|          | 0/100 [00:00<?, ?it/s]"
      ]
     },
     "metadata": {},
     "output_type": "display_data"
    },
    {
     "data": {
      "application/vnd.jupyter.widget-view+json": {
       "model_id": "458f723c016c4e63b308c8223cb4bafa",
       "version_major": 2,
       "version_minor": 0
      },
      "text/plain": [
       "  0%|          | 0/100 [00:00<?, ?it/s]"
      ]
     },
     "metadata": {},
     "output_type": "display_data"
    },
    {
     "data": {
      "application/vnd.jupyter.widget-view+json": {
       "model_id": "ede85c5f6aeb475f9040c9b8eee8df48",
       "version_major": 2,
       "version_minor": 0
      },
      "text/plain": [
       "  0%|          | 0/100 [00:00<?, ?it/s]"
      ]
     },
     "metadata": {},
     "output_type": "display_data"
    },
    {
     "data": {
      "application/vnd.jupyter.widget-view+json": {
       "model_id": "6c5746956d2b4d7da14abf86393650a0",
       "version_major": 2,
       "version_minor": 0
      },
      "text/plain": [
       "  0%|          | 0/100 [00:00<?, ?it/s]"
      ]
     },
     "metadata": {},
     "output_type": "display_data"
    },
    {
     "data": {
      "application/vnd.jupyter.widget-view+json": {
       "model_id": "2695316d519748e2b3129f7e9eae607f",
       "version_major": 2,
       "version_minor": 0
      },
      "text/plain": [
       "  0%|          | 0/100 [00:00<?, ?it/s]"
      ]
     },
     "metadata": {},
     "output_type": "display_data"
    },
    {
     "data": {
      "application/vnd.jupyter.widget-view+json": {
       "model_id": "7f66a9b957a143e3a3cb50ff3f592ab6",
       "version_major": 2,
       "version_minor": 0
      },
      "text/plain": [
       "  0%|          | 0/100 [00:00<?, ?it/s]"
      ]
     },
     "metadata": {},
     "output_type": "display_data"
    },
    {
     "data": {
      "application/vnd.jupyter.widget-view+json": {
       "model_id": "a9f5dd9575aa44d6874565b2603d3d30",
       "version_major": 2,
       "version_minor": 0
      },
      "text/plain": [
       "  0%|          | 0/100 [00:00<?, ?it/s]"
      ]
     },
     "metadata": {},
     "output_type": "display_data"
    },
    {
     "data": {
      "application/vnd.jupyter.widget-view+json": {
       "model_id": "5c404ee8af37462587b24562c77e5fae",
       "version_major": 2,
       "version_minor": 0
      },
      "text/plain": [
       "  0%|          | 0/100 [00:00<?, ?it/s]"
      ]
     },
     "metadata": {},
     "output_type": "display_data"
    },
    {
     "data": {
      "application/vnd.jupyter.widget-view+json": {
       "model_id": "4460e00274604be5b83d5679595fec0f",
       "version_major": 2,
       "version_minor": 0
      },
      "text/plain": [
       "  0%|          | 0/100 [00:00<?, ?it/s]"
      ]
     },
     "metadata": {},
     "output_type": "display_data"
    },
    {
     "data": {
      "application/vnd.jupyter.widget-view+json": {
       "model_id": "b4969629e5924b18bcb6ca1818d9b44c",
       "version_major": 2,
       "version_minor": 0
      },
      "text/plain": [
       "  0%|          | 0/100 [00:00<?, ?it/s]"
      ]
     },
     "metadata": {},
     "output_type": "display_data"
    },
    {
     "data": {
      "application/vnd.jupyter.widget-view+json": {
       "model_id": "5c3f738c1bed4941b9a56d81306b9eb8",
       "version_major": 2,
       "version_minor": 0
      },
      "text/plain": [
       "  0%|          | 0/100 [00:00<?, ?it/s]"
      ]
     },
     "metadata": {},
     "output_type": "display_data"
    },
    {
     "data": {
      "application/vnd.jupyter.widget-view+json": {
       "model_id": "39d6d85e917a450cb84ed16913e85f18",
       "version_major": 2,
       "version_minor": 0
      },
      "text/plain": [
       "  0%|          | 0/100 [00:00<?, ?it/s]"
      ]
     },
     "metadata": {},
     "output_type": "display_data"
    },
    {
     "data": {
      "application/vnd.jupyter.widget-view+json": {
       "model_id": "6ff9372f7f064869b1501406c04ee998",
       "version_major": 2,
       "version_minor": 0
      },
      "text/plain": [
       "  0%|          | 0/100 [00:00<?, ?it/s]"
      ]
     },
     "metadata": {},
     "output_type": "display_data"
    },
    {
     "data": {
      "application/vnd.jupyter.widget-view+json": {
       "model_id": "77bf353e39ce48bc89efa8a92e133158",
       "version_major": 2,
       "version_minor": 0
      },
      "text/plain": [
       "  0%|          | 0/100 [00:00<?, ?it/s]"
      ]
     },
     "metadata": {},
     "output_type": "display_data"
    },
    {
     "data": {
      "application/vnd.jupyter.widget-view+json": {
       "model_id": "3b2131e32ed04b90b57c49ac59af4370",
       "version_major": 2,
       "version_minor": 0
      },
      "text/plain": [
       "  0%|          | 0/100 [00:00<?, ?it/s]"
      ]
     },
     "metadata": {},
     "output_type": "display_data"
    },
    {
     "data": {
      "application/vnd.jupyter.widget-view+json": {
       "model_id": "c82b4d25f4e149b1b1627abb5eb2630d",
       "version_major": 2,
       "version_minor": 0
      },
      "text/plain": [
       "  0%|          | 0/100 [00:00<?, ?it/s]"
      ]
     },
     "metadata": {},
     "output_type": "display_data"
    },
    {
     "data": {
      "application/vnd.jupyter.widget-view+json": {
       "model_id": "b6c1e75e7e004c74bf7a9e70dc2273fe",
       "version_major": 2,
       "version_minor": 0
      },
      "text/plain": [
       "  0%|          | 0/100 [00:00<?, ?it/s]"
      ]
     },
     "metadata": {},
     "output_type": "display_data"
    },
    {
     "data": {
      "application/vnd.jupyter.widget-view+json": {
       "model_id": "cee02743ef324ddab90a8574bcd4f601",
       "version_major": 2,
       "version_minor": 0
      },
      "text/plain": [
       "  0%|          | 0/100 [00:00<?, ?it/s]"
      ]
     },
     "metadata": {},
     "output_type": "display_data"
    },
    {
     "data": {
      "application/vnd.jupyter.widget-view+json": {
       "model_id": "3e46a254a90c4639a808de5d657330b4",
       "version_major": 2,
       "version_minor": 0
      },
      "text/plain": [
       "  0%|          | 0/100 [00:00<?, ?it/s]"
      ]
     },
     "metadata": {},
     "output_type": "display_data"
    },
    {
     "data": {
      "application/vnd.jupyter.widget-view+json": {
       "model_id": "6d5e990c526c4f52853a0c9a136fefe8",
       "version_major": 2,
       "version_minor": 0
      },
      "text/plain": [
       "  0%|          | 0/100 [00:00<?, ?it/s]"
      ]
     },
     "metadata": {},
     "output_type": "display_data"
    },
    {
     "data": {
      "application/vnd.jupyter.widget-view+json": {
       "model_id": "639695d65d32476f88114e634b07198b",
       "version_major": 2,
       "version_minor": 0
      },
      "text/plain": [
       "  0%|          | 0/100 [00:00<?, ?it/s]"
      ]
     },
     "metadata": {},
     "output_type": "display_data"
    },
    {
     "data": {
      "application/vnd.jupyter.widget-view+json": {
       "model_id": "72a734121a074e50ae401e964d057f54",
       "version_major": 2,
       "version_minor": 0
      },
      "text/plain": [
       "  0%|          | 0/100 [00:00<?, ?it/s]"
      ]
     },
     "metadata": {},
     "output_type": "display_data"
    },
    {
     "data": {
      "application/vnd.jupyter.widget-view+json": {
       "model_id": "abebc57b4b77402897f025356df58cd8",
       "version_major": 2,
       "version_minor": 0
      },
      "text/plain": [
       "  0%|          | 0/100 [00:00<?, ?it/s]"
      ]
     },
     "metadata": {},
     "output_type": "display_data"
    },
    {
     "data": {
      "application/vnd.jupyter.widget-view+json": {
       "model_id": "59f96a16606d4598b7ad4797479a8a3a",
       "version_major": 2,
       "version_minor": 0
      },
      "text/plain": [
       "  0%|          | 0/100 [00:00<?, ?it/s]"
      ]
     },
     "metadata": {},
     "output_type": "display_data"
    },
    {
     "data": {
      "application/vnd.jupyter.widget-view+json": {
       "model_id": "20b395105d5a455eb52cc5b6a2d773c1",
       "version_major": 2,
       "version_minor": 0
      },
      "text/plain": [
       "  0%|          | 0/100 [00:00<?, ?it/s]"
      ]
     },
     "metadata": {},
     "output_type": "display_data"
    },
    {
     "data": {
      "application/vnd.jupyter.widget-view+json": {
       "model_id": "5c3fcb51d1ac4a09bb39e1bbbb52b73a",
       "version_major": 2,
       "version_minor": 0
      },
      "text/plain": [
       "  0%|          | 0/100 [00:00<?, ?it/s]"
      ]
     },
     "metadata": {},
     "output_type": "display_data"
    },
    {
     "data": {
      "application/vnd.jupyter.widget-view+json": {
       "model_id": "5b956c87849f48f08f9d2d438cf8e4db",
       "version_major": 2,
       "version_minor": 0
      },
      "text/plain": [
       "  0%|          | 0/100 [00:00<?, ?it/s]"
      ]
     },
     "metadata": {},
     "output_type": "display_data"
    },
    {
     "data": {
      "application/vnd.jupyter.widget-view+json": {
       "model_id": "282ad454691c490c82a1fb18a3f9289f",
       "version_major": 2,
       "version_minor": 0
      },
      "text/plain": [
       "  0%|          | 0/100 [00:00<?, ?it/s]"
      ]
     },
     "metadata": {},
     "output_type": "display_data"
    },
    {
     "data": {
      "application/vnd.jupyter.widget-view+json": {
       "model_id": "ad34fa2439e2409d973c3e197a01c3c6",
       "version_major": 2,
       "version_minor": 0
      },
      "text/plain": [
       "  0%|          | 0/100 [00:00<?, ?it/s]"
      ]
     },
     "metadata": {},
     "output_type": "display_data"
    },
    {
     "data": {
      "application/vnd.jupyter.widget-view+json": {
       "model_id": "c46a97c95bf741a2941718e6e828a03b",
       "version_major": 2,
       "version_minor": 0
      },
      "text/plain": [
       "  0%|          | 0/100 [00:00<?, ?it/s]"
      ]
     },
     "metadata": {},
     "output_type": "display_data"
    },
    {
     "data": {
      "application/vnd.jupyter.widget-view+json": {
       "model_id": "f427e4a378c343369d4b1885b270861e",
       "version_major": 2,
       "version_minor": 0
      },
      "text/plain": [
       "  0%|          | 0/100 [00:00<?, ?it/s]"
      ]
     },
     "metadata": {},
     "output_type": "display_data"
    },
    {
     "data": {
      "application/vnd.jupyter.widget-view+json": {
       "model_id": "510ede8c15df4d5ea65f0dfb070afa1e",
       "version_major": 2,
       "version_minor": 0
      },
      "text/plain": [
       "  0%|          | 0/100 [00:00<?, ?it/s]"
      ]
     },
     "metadata": {},
     "output_type": "display_data"
    },
    {
     "data": {
      "application/vnd.jupyter.widget-view+json": {
       "model_id": "f70b08c4070d40d1960095afbeb36b54",
       "version_major": 2,
       "version_minor": 0
      },
      "text/plain": [
       "  0%|          | 0/100 [00:00<?, ?it/s]"
      ]
     },
     "metadata": {},
     "output_type": "display_data"
    },
    {
     "data": {
      "application/vnd.jupyter.widget-view+json": {
       "model_id": "c160d1837f704b3ebb66dd20f83530f9",
       "version_major": 2,
       "version_minor": 0
      },
      "text/plain": [
       "  0%|          | 0/100 [00:00<?, ?it/s]"
      ]
     },
     "metadata": {},
     "output_type": "display_data"
    },
    {
     "data": {
      "application/vnd.jupyter.widget-view+json": {
       "model_id": "c4e9b1a8d3ba4a5c818af537a89f433b",
       "version_major": 2,
       "version_minor": 0
      },
      "text/plain": [
       "  0%|          | 0/100 [00:00<?, ?it/s]"
      ]
     },
     "metadata": {},
     "output_type": "display_data"
    },
    {
     "data": {
      "application/vnd.jupyter.widget-view+json": {
       "model_id": "5ba95d5cfc4644e3a65082b4b9e59cc0",
       "version_major": 2,
       "version_minor": 0
      },
      "text/plain": [
       "  0%|          | 0/100 [00:00<?, ?it/s]"
      ]
     },
     "metadata": {},
     "output_type": "display_data"
    },
    {
     "data": {
      "application/vnd.jupyter.widget-view+json": {
       "model_id": "70e76748146b4e42b73678f7dcafd031",
       "version_major": 2,
       "version_minor": 0
      },
      "text/plain": [
       "  0%|          | 0/100 [00:00<?, ?it/s]"
      ]
     },
     "metadata": {},
     "output_type": "display_data"
    },
    {
     "data": {
      "application/vnd.jupyter.widget-view+json": {
       "model_id": "2b7a0970e2744d0d9002bf38dbf51acc",
       "version_major": 2,
       "version_minor": 0
      },
      "text/plain": [
       "  0%|          | 0/100 [00:00<?, ?it/s]"
      ]
     },
     "metadata": {},
     "output_type": "display_data"
    },
    {
     "data": {
      "application/vnd.jupyter.widget-view+json": {
       "model_id": "73200fba86eb4ed680ddf2c2211050dd",
       "version_major": 2,
       "version_minor": 0
      },
      "text/plain": [
       "  0%|          | 0/100 [00:00<?, ?it/s]"
      ]
     },
     "metadata": {},
     "output_type": "display_data"
    },
    {
     "data": {
      "application/vnd.jupyter.widget-view+json": {
       "model_id": "06b259a238f94c8fbeedfb0cf7bec159",
       "version_major": 2,
       "version_minor": 0
      },
      "text/plain": [
       "  0%|          | 0/100 [00:00<?, ?it/s]"
      ]
     },
     "metadata": {},
     "output_type": "display_data"
    },
    {
     "data": {
      "application/vnd.jupyter.widget-view+json": {
       "model_id": "573a524b9edd483895b320faf0100658",
       "version_major": 2,
       "version_minor": 0
      },
      "text/plain": [
       "  0%|          | 0/100 [00:00<?, ?it/s]"
      ]
     },
     "metadata": {},
     "output_type": "display_data"
    },
    {
     "data": {
      "application/vnd.jupyter.widget-view+json": {
       "model_id": "4c544c53e4114feaa8982d060b8ce389",
       "version_major": 2,
       "version_minor": 0
      },
      "text/plain": [
       "  0%|          | 0/100 [00:00<?, ?it/s]"
      ]
     },
     "metadata": {},
     "output_type": "display_data"
    },
    {
     "data": {
      "application/vnd.jupyter.widget-view+json": {
       "model_id": "9ecd54126e5c4e53acce3c0b20bf183b",
       "version_major": 2,
       "version_minor": 0
      },
      "text/plain": [
       "  0%|          | 0/100 [00:00<?, ?it/s]"
      ]
     },
     "metadata": {},
     "output_type": "display_data"
    },
    {
     "data": {
      "application/vnd.jupyter.widget-view+json": {
       "model_id": "481db2c8952b444fa891807dd454e49b",
       "version_major": 2,
       "version_minor": 0
      },
      "text/plain": [
       "  0%|          | 0/100 [00:00<?, ?it/s]"
      ]
     },
     "metadata": {},
     "output_type": "display_data"
    },
    {
     "data": {
      "application/vnd.jupyter.widget-view+json": {
       "model_id": "e1455493fe884603a837b07a7a06553f",
       "version_major": 2,
       "version_minor": 0
      },
      "text/plain": [
       "  0%|          | 0/100 [00:00<?, ?it/s]"
      ]
     },
     "metadata": {},
     "output_type": "display_data"
    },
    {
     "data": {
      "application/vnd.jupyter.widget-view+json": {
       "model_id": "f5cb586b40d94bfcb922ad40beae90d1",
       "version_major": 2,
       "version_minor": 0
      },
      "text/plain": [
       "  0%|          | 0/100 [00:00<?, ?it/s]"
      ]
     },
     "metadata": {},
     "output_type": "display_data"
    },
    {
     "data": {
      "application/vnd.jupyter.widget-view+json": {
       "model_id": "22c913c0857a41c8955220eeda782a4a",
       "version_major": 2,
       "version_minor": 0
      },
      "text/plain": [
       "  0%|          | 0/100 [00:00<?, ?it/s]"
      ]
     },
     "metadata": {},
     "output_type": "display_data"
    },
    {
     "data": {
      "application/vnd.jupyter.widget-view+json": {
       "model_id": "d8e6ae289a2f46d1982282c635e22420",
       "version_major": 2,
       "version_minor": 0
      },
      "text/plain": [
       "  0%|          | 0/100 [00:00<?, ?it/s]"
      ]
     },
     "metadata": {},
     "output_type": "display_data"
    },
    {
     "data": {
      "application/vnd.jupyter.widget-view+json": {
       "model_id": "05d6dc56a1f54a9fb30af595b9f55816",
       "version_major": 2,
       "version_minor": 0
      },
      "text/plain": [
       "  0%|          | 0/100 [00:00<?, ?it/s]"
      ]
     },
     "metadata": {},
     "output_type": "display_data"
    },
    {
     "data": {
      "application/vnd.jupyter.widget-view+json": {
       "model_id": "e6a9e85830b94a82b1ebb96c9593e813",
       "version_major": 2,
       "version_minor": 0
      },
      "text/plain": [
       "  0%|          | 0/100 [00:00<?, ?it/s]"
      ]
     },
     "metadata": {},
     "output_type": "display_data"
    },
    {
     "data": {
      "application/vnd.jupyter.widget-view+json": {
       "model_id": "591dab8e225d4aa791d0855c07a1320f",
       "version_major": 2,
       "version_minor": 0
      },
      "text/plain": [
       "  0%|          | 0/100 [00:00<?, ?it/s]"
      ]
     },
     "metadata": {},
     "output_type": "display_data"
    }
   ],
   "source": [
    "M = []\n",
    "for n in range(n_batches):\n",
    "    agent = GlobalNoveltor(estimators = [Estimator(approximator=bQt_novel_alpha(gamma=0.8), mask=identity()), \n",
    "                               Estimator(approximator=bellman_N_table(alpha=0.1, gamma=0.8), mask=identity()),\n",
    "                               Estimator(global_N_abstractor(alpha=0.1, gamma=0.8), mask=global_context()),\n",
    "                               Estimator(global_Q_abstractor(gamma=0.8), mask=global_context())],\n",
    "                    buffer = ReplayMemory(max_size=10000),\n",
    "                    targets = [Target()],\n",
    "                    counter = state_table(),\n",
    "                    batch_size=batch_size)\n",
    "    \n",
    "    # set action selection to be explorative: \"novelty\"\n",
    "    agent.action_selection = \"novelty\"\n",
    "\n",
    "    trajectories = []\n",
    "    metrics = []\n",
    "    for i in tqdm(range(n_episodes)):\n",
    "        trajectory, G = run_trajectory(env, agent, epsilons[i], abstract=False)\n",
    "\n",
    "        trajectories.append(trajectory)\n",
    "\n",
    "        metrics.append({\n",
    "            'Q': dict(agent.estimators[0].approximator.table), \n",
    "            'N': dict(agent.estimators[1].approximator.table),\n",
    "            'Na': dict(agent.estimators[2].approximator.evaluate(0)),\n",
    "            'Qa': dict(agent.estimators[3].approximator.evaluate(0)),\n",
    "            'V': dict(agent.counter.table),\n",
    "            'U': dict(agent.estimators[0].visits),\n",
    "            'G': G\n",
    "            })\n",
    "        \n",
    "    # set action selection to be exploitative: \"greedy\"\n",
    "    agent.action_selection = \"greedy\"\n",
    "\n",
    "    for i in tqdm(range(n_episodes)):\n",
    "        trajectory, G = run_trajectory(env, agent, epsilons[i], abstract=False)\n",
    "\n",
    "        trajectories.append(trajectory)\n",
    "\n",
    "        metrics.append({\n",
    "            'Q': dict(agent.estimators[0].approximator.table), \n",
    "            'N': dict(agent.estimators[1].approximator.table),\n",
    "            'Na': dict(agent.estimators[2].approximator.evaluate(0)),\n",
    "            'Qa': dict(agent.estimators[3].approximator.evaluate(0)),\n",
    "            'V': dict(agent.counter.table),\n",
    "            'U': dict(agent.estimators[0].visits),\n",
    "            'G': G\n",
    "            })\n",
    "    \n",
    "    M.append(metrics)"
   ]
  },
  {
   "cell_type": "markdown",
   "metadata": {},
   "source": [
    "## Empirical Bootstrap Code"
   ]
  },
  {
   "cell_type": "code",
   "execution_count": 8,
   "metadata": {},
   "outputs": [],
   "source": [
    "# percentile based on\n",
    "# http://www.jtrive.com/the-empirical-bootstrap-for-confidence-intervals-in-python.html\n",
    "\n",
    "# adapted according to empirical on\n",
    "# https://github.com/LizaLebedeva/bootstrap-experiments/blob/master/bootstrap_methods.ipynb\n",
    "\n",
    "def bootstrap_empirical(data, n=1000, func=np.mean):\n",
    "    \"\"\"\n",
    "    Generate `n` bootstrap samples, evaluating `func`\n",
    "    at each resampling. `bootstrap` returns a function,\n",
    "    which can be called to obtain confidence intervals\n",
    "    of interest.\n",
    "    \"\"\"\n",
    "    simulations = list()\n",
    "    sample_size = len(data)\n",
    "    for c in range(n):\n",
    "        itersample = np.random.choice(data, size=sample_size, replace=True)\n",
    "        simulations.append(func(itersample))\n",
    "    simulations.sort()\n",
    "    obs_metric = func(data) # compute CI center from data directly\n",
    "#     simulations = simulations - obs_metric # now move bootstrap to differences\n",
    "    def ci(p):\n",
    "        \"\"\"\n",
    "        Return 2-sided symmetric confidence interval specified\n",
    "        by p.\n",
    "        \"\"\"\n",
    "        u_pval = (1+p)/2.\n",
    "        l_pval = (1-u_pval)\n",
    "        l_indx = int(np.floor(n*l_pval))\n",
    "        u_indx = int(np.floor(n*u_pval))\n",
    "        percentile_upper = simulations[l_indx]\n",
    "        percentile_lower = simulations[u_indx]\n",
    "        empirical_lower = 2*obs_metric - percentile_lower\n",
    "        empirical_upper = 2*obs_metric - percentile_upper\n",
    "        return(empirical_lower,empirical_upper)\n",
    "    return(ci)"
   ]
  },
  {
   "cell_type": "code",
   "execution_count": 12,
   "metadata": {},
   "outputs": [],
   "source": [
    "R = np.zeros((n_batches, 2*n_episodes))\n",
    "\n",
    "for i, batch in enumerate(M):\n",
    "    for j, metrics in enumerate(batch):\n",
    "        for exp, g in enumerate(metrics['G']):\n",
    "            R[i,j] += gamma**exp*g"
   ]
  },
  {
   "cell_type": "code",
   "execution_count": 22,
   "metadata": {},
   "outputs": [],
   "source": [
    "y = np.mean(R, axis=0)\n",
    "yCI = list(map(lambda p: bootstrap_empirical(p)(0.95), R.T))\n",
    "Y = np.transpose(yCI)"
   ]
  },
  {
   "cell_type": "code",
   "execution_count": 23,
   "metadata": {},
   "outputs": [
    {
     "data": {
      "text/plain": [
       "200"
      ]
     },
     "execution_count": 23,
     "metadata": {},
     "output_type": "execute_result"
    }
   ],
   "source": [
    "len(yCI)"
   ]
  },
  {
   "cell_type": "code",
   "execution_count": 33,
   "metadata": {
    "scrolled": false
   },
   "outputs": [
    {
     "data": {
      "application/javascript": [
       "/* Put everything inside the global mpl namespace */\n",
       "/* global mpl */\n",
       "window.mpl = {};\n",
       "\n",
       "mpl.get_websocket_type = function () {\n",
       "    if (typeof WebSocket !== 'undefined') {\n",
       "        return WebSocket;\n",
       "    } else if (typeof MozWebSocket !== 'undefined') {\n",
       "        return MozWebSocket;\n",
       "    } else {\n",
       "        alert(\n",
       "            'Your browser does not have WebSocket support. ' +\n",
       "                'Please try Chrome, Safari or Firefox ≥ 6. ' +\n",
       "                'Firefox 4 and 5 are also supported but you ' +\n",
       "                'have to enable WebSockets in about:config.'\n",
       "        );\n",
       "    }\n",
       "};\n",
       "\n",
       "mpl.figure = function (figure_id, websocket, ondownload, parent_element) {\n",
       "    this.id = figure_id;\n",
       "\n",
       "    this.ws = websocket;\n",
       "\n",
       "    this.supports_binary = this.ws.binaryType !== undefined;\n",
       "\n",
       "    if (!this.supports_binary) {\n",
       "        var warnings = document.getElementById('mpl-warnings');\n",
       "        if (warnings) {\n",
       "            warnings.style.display = 'block';\n",
       "            warnings.textContent =\n",
       "                'This browser does not support binary websocket messages. ' +\n",
       "                'Performance may be slow.';\n",
       "        }\n",
       "    }\n",
       "\n",
       "    this.imageObj = new Image();\n",
       "\n",
       "    this.context = undefined;\n",
       "    this.message = undefined;\n",
       "    this.canvas = undefined;\n",
       "    this.rubberband_canvas = undefined;\n",
       "    this.rubberband_context = undefined;\n",
       "    this.format_dropdown = undefined;\n",
       "\n",
       "    this.image_mode = 'full';\n",
       "\n",
       "    this.root = document.createElement('div');\n",
       "    this.root.setAttribute('style', 'display: inline-block');\n",
       "    this._root_extra_style(this.root);\n",
       "\n",
       "    parent_element.appendChild(this.root);\n",
       "\n",
       "    this._init_header(this);\n",
       "    this._init_canvas(this);\n",
       "    this._init_toolbar(this);\n",
       "\n",
       "    var fig = this;\n",
       "\n",
       "    this.waiting = false;\n",
       "\n",
       "    this.ws.onopen = function () {\n",
       "        fig.send_message('supports_binary', { value: fig.supports_binary });\n",
       "        fig.send_message('send_image_mode', {});\n",
       "        if (fig.ratio !== 1) {\n",
       "            fig.send_message('set_dpi_ratio', { dpi_ratio: fig.ratio });\n",
       "        }\n",
       "        fig.send_message('refresh', {});\n",
       "    };\n",
       "\n",
       "    this.imageObj.onload = function () {\n",
       "        if (fig.image_mode === 'full') {\n",
       "            // Full images could contain transparency (where diff images\n",
       "            // almost always do), so we need to clear the canvas so that\n",
       "            // there is no ghosting.\n",
       "            fig.context.clearRect(0, 0, fig.canvas.width, fig.canvas.height);\n",
       "        }\n",
       "        fig.context.drawImage(fig.imageObj, 0, 0);\n",
       "    };\n",
       "\n",
       "    this.imageObj.onunload = function () {\n",
       "        fig.ws.close();\n",
       "    };\n",
       "\n",
       "    this.ws.onmessage = this._make_on_message_function(this);\n",
       "\n",
       "    this.ondownload = ondownload;\n",
       "};\n",
       "\n",
       "mpl.figure.prototype._init_header = function () {\n",
       "    var titlebar = document.createElement('div');\n",
       "    titlebar.classList =\n",
       "        'ui-dialog-titlebar ui-widget-header ui-corner-all ui-helper-clearfix';\n",
       "    var titletext = document.createElement('div');\n",
       "    titletext.classList = 'ui-dialog-title';\n",
       "    titletext.setAttribute(\n",
       "        'style',\n",
       "        'width: 100%; text-align: center; padding: 3px;'\n",
       "    );\n",
       "    titlebar.appendChild(titletext);\n",
       "    this.root.appendChild(titlebar);\n",
       "    this.header = titletext;\n",
       "};\n",
       "\n",
       "mpl.figure.prototype._canvas_extra_style = function (_canvas_div) {};\n",
       "\n",
       "mpl.figure.prototype._root_extra_style = function (_canvas_div) {};\n",
       "\n",
       "mpl.figure.prototype._init_canvas = function () {\n",
       "    var fig = this;\n",
       "\n",
       "    var canvas_div = (this.canvas_div = document.createElement('div'));\n",
       "    canvas_div.setAttribute(\n",
       "        'style',\n",
       "        'border: 1px solid #ddd;' +\n",
       "            'box-sizing: content-box;' +\n",
       "            'clear: both;' +\n",
       "            'min-height: 1px;' +\n",
       "            'min-width: 1px;' +\n",
       "            'outline: 0;' +\n",
       "            'overflow: hidden;' +\n",
       "            'position: relative;' +\n",
       "            'resize: both;'\n",
       "    );\n",
       "\n",
       "    function on_keyboard_event_closure(name) {\n",
       "        return function (event) {\n",
       "            return fig.key_event(event, name);\n",
       "        };\n",
       "    }\n",
       "\n",
       "    canvas_div.addEventListener(\n",
       "        'keydown',\n",
       "        on_keyboard_event_closure('key_press')\n",
       "    );\n",
       "    canvas_div.addEventListener(\n",
       "        'keyup',\n",
       "        on_keyboard_event_closure('key_release')\n",
       "    );\n",
       "\n",
       "    this._canvas_extra_style(canvas_div);\n",
       "    this.root.appendChild(canvas_div);\n",
       "\n",
       "    var canvas = (this.canvas = document.createElement('canvas'));\n",
       "    canvas.classList.add('mpl-canvas');\n",
       "    canvas.setAttribute('style', 'box-sizing: content-box;');\n",
       "\n",
       "    this.context = canvas.getContext('2d');\n",
       "\n",
       "    var backingStore =\n",
       "        this.context.backingStorePixelRatio ||\n",
       "        this.context.webkitBackingStorePixelRatio ||\n",
       "        this.context.mozBackingStorePixelRatio ||\n",
       "        this.context.msBackingStorePixelRatio ||\n",
       "        this.context.oBackingStorePixelRatio ||\n",
       "        this.context.backingStorePixelRatio ||\n",
       "        1;\n",
       "\n",
       "    this.ratio = (window.devicePixelRatio || 1) / backingStore;\n",
       "    if (this.ratio !== 1) {\n",
       "        fig.send_message('set_dpi_ratio', { dpi_ratio: this.ratio });\n",
       "    }\n",
       "\n",
       "    var rubberband_canvas = (this.rubberband_canvas = document.createElement(\n",
       "        'canvas'\n",
       "    ));\n",
       "    rubberband_canvas.setAttribute(\n",
       "        'style',\n",
       "        'box-sizing: content-box; position: absolute; left: 0; top: 0; z-index: 1;'\n",
       "    );\n",
       "\n",
       "    var resizeObserver = new ResizeObserver(function (entries) {\n",
       "        var nentries = entries.length;\n",
       "        for (var i = 0; i < nentries; i++) {\n",
       "            var entry = entries[i];\n",
       "            var width, height;\n",
       "            if (entry.contentBoxSize) {\n",
       "                if (entry.contentBoxSize instanceof Array) {\n",
       "                    // Chrome 84 implements new version of spec.\n",
       "                    width = entry.contentBoxSize[0].inlineSize;\n",
       "                    height = entry.contentBoxSize[0].blockSize;\n",
       "                } else {\n",
       "                    // Firefox implements old version of spec.\n",
       "                    width = entry.contentBoxSize.inlineSize;\n",
       "                    height = entry.contentBoxSize.blockSize;\n",
       "                }\n",
       "            } else {\n",
       "                // Chrome <84 implements even older version of spec.\n",
       "                width = entry.contentRect.width;\n",
       "                height = entry.contentRect.height;\n",
       "            }\n",
       "\n",
       "            // Keep the size of the canvas and rubber band canvas in sync with\n",
       "            // the canvas container.\n",
       "            if (entry.devicePixelContentBoxSize) {\n",
       "                // Chrome 84 implements new version of spec.\n",
       "                canvas.setAttribute(\n",
       "                    'width',\n",
       "                    entry.devicePixelContentBoxSize[0].inlineSize\n",
       "                );\n",
       "                canvas.setAttribute(\n",
       "                    'height',\n",
       "                    entry.devicePixelContentBoxSize[0].blockSize\n",
       "                );\n",
       "            } else {\n",
       "                canvas.setAttribute('width', width * fig.ratio);\n",
       "                canvas.setAttribute('height', height * fig.ratio);\n",
       "            }\n",
       "            canvas.setAttribute(\n",
       "                'style',\n",
       "                'width: ' + width + 'px; height: ' + height + 'px;'\n",
       "            );\n",
       "\n",
       "            rubberband_canvas.setAttribute('width', width);\n",
       "            rubberband_canvas.setAttribute('height', height);\n",
       "\n",
       "            // And update the size in Python. We ignore the initial 0/0 size\n",
       "            // that occurs as the element is placed into the DOM, which should\n",
       "            // otherwise not happen due to the minimum size styling.\n",
       "            if (width != 0 && height != 0) {\n",
       "                fig.request_resize(width, height);\n",
       "            }\n",
       "        }\n",
       "    });\n",
       "    resizeObserver.observe(canvas_div);\n",
       "\n",
       "    function on_mouse_event_closure(name) {\n",
       "        return function (event) {\n",
       "            return fig.mouse_event(event, name);\n",
       "        };\n",
       "    }\n",
       "\n",
       "    rubberband_canvas.addEventListener(\n",
       "        'mousedown',\n",
       "        on_mouse_event_closure('button_press')\n",
       "    );\n",
       "    rubberband_canvas.addEventListener(\n",
       "        'mouseup',\n",
       "        on_mouse_event_closure('button_release')\n",
       "    );\n",
       "    // Throttle sequential mouse events to 1 every 20ms.\n",
       "    rubberband_canvas.addEventListener(\n",
       "        'mousemove',\n",
       "        on_mouse_event_closure('motion_notify')\n",
       "    );\n",
       "\n",
       "    rubberband_canvas.addEventListener(\n",
       "        'mouseenter',\n",
       "        on_mouse_event_closure('figure_enter')\n",
       "    );\n",
       "    rubberband_canvas.addEventListener(\n",
       "        'mouseleave',\n",
       "        on_mouse_event_closure('figure_leave')\n",
       "    );\n",
       "\n",
       "    canvas_div.addEventListener('wheel', function (event) {\n",
       "        if (event.deltaY < 0) {\n",
       "            event.step = 1;\n",
       "        } else {\n",
       "            event.step = -1;\n",
       "        }\n",
       "        on_mouse_event_closure('scroll')(event);\n",
       "    });\n",
       "\n",
       "    canvas_div.appendChild(canvas);\n",
       "    canvas_div.appendChild(rubberband_canvas);\n",
       "\n",
       "    this.rubberband_context = rubberband_canvas.getContext('2d');\n",
       "    this.rubberband_context.strokeStyle = '#000000';\n",
       "\n",
       "    this._resize_canvas = function (width, height, forward) {\n",
       "        if (forward) {\n",
       "            canvas_div.style.width = width + 'px';\n",
       "            canvas_div.style.height = height + 'px';\n",
       "        }\n",
       "    };\n",
       "\n",
       "    // Disable right mouse context menu.\n",
       "    this.rubberband_canvas.addEventListener('contextmenu', function (_e) {\n",
       "        event.preventDefault();\n",
       "        return false;\n",
       "    });\n",
       "\n",
       "    function set_focus() {\n",
       "        canvas.focus();\n",
       "        canvas_div.focus();\n",
       "    }\n",
       "\n",
       "    window.setTimeout(set_focus, 100);\n",
       "};\n",
       "\n",
       "mpl.figure.prototype._init_toolbar = function () {\n",
       "    var fig = this;\n",
       "\n",
       "    var toolbar = document.createElement('div');\n",
       "    toolbar.classList = 'mpl-toolbar';\n",
       "    this.root.appendChild(toolbar);\n",
       "\n",
       "    function on_click_closure(name) {\n",
       "        return function (_event) {\n",
       "            return fig.toolbar_button_onclick(name);\n",
       "        };\n",
       "    }\n",
       "\n",
       "    function on_mouseover_closure(tooltip) {\n",
       "        return function (event) {\n",
       "            if (!event.currentTarget.disabled) {\n",
       "                return fig.toolbar_button_onmouseover(tooltip);\n",
       "            }\n",
       "        };\n",
       "    }\n",
       "\n",
       "    fig.buttons = {};\n",
       "    var buttonGroup = document.createElement('div');\n",
       "    buttonGroup.classList = 'mpl-button-group';\n",
       "    for (var toolbar_ind in mpl.toolbar_items) {\n",
       "        var name = mpl.toolbar_items[toolbar_ind][0];\n",
       "        var tooltip = mpl.toolbar_items[toolbar_ind][1];\n",
       "        var image = mpl.toolbar_items[toolbar_ind][2];\n",
       "        var method_name = mpl.toolbar_items[toolbar_ind][3];\n",
       "\n",
       "        if (!name) {\n",
       "            /* Instead of a spacer, we start a new button group. */\n",
       "            if (buttonGroup.hasChildNodes()) {\n",
       "                toolbar.appendChild(buttonGroup);\n",
       "            }\n",
       "            buttonGroup = document.createElement('div');\n",
       "            buttonGroup.classList = 'mpl-button-group';\n",
       "            continue;\n",
       "        }\n",
       "\n",
       "        var button = (fig.buttons[name] = document.createElement('button'));\n",
       "        button.classList = 'mpl-widget';\n",
       "        button.setAttribute('role', 'button');\n",
       "        button.setAttribute('aria-disabled', 'false');\n",
       "        button.addEventListener('click', on_click_closure(method_name));\n",
       "        button.addEventListener('mouseover', on_mouseover_closure(tooltip));\n",
       "\n",
       "        var icon_img = document.createElement('img');\n",
       "        icon_img.src = '_images/' + image + '.png';\n",
       "        icon_img.srcset = '_images/' + image + '_large.png 2x';\n",
       "        icon_img.alt = tooltip;\n",
       "        button.appendChild(icon_img);\n",
       "\n",
       "        buttonGroup.appendChild(button);\n",
       "    }\n",
       "\n",
       "    if (buttonGroup.hasChildNodes()) {\n",
       "        toolbar.appendChild(buttonGroup);\n",
       "    }\n",
       "\n",
       "    var fmt_picker = document.createElement('select');\n",
       "    fmt_picker.classList = 'mpl-widget';\n",
       "    toolbar.appendChild(fmt_picker);\n",
       "    this.format_dropdown = fmt_picker;\n",
       "\n",
       "    for (var ind in mpl.extensions) {\n",
       "        var fmt = mpl.extensions[ind];\n",
       "        var option = document.createElement('option');\n",
       "        option.selected = fmt === mpl.default_extension;\n",
       "        option.innerHTML = fmt;\n",
       "        fmt_picker.appendChild(option);\n",
       "    }\n",
       "\n",
       "    var status_bar = document.createElement('span');\n",
       "    status_bar.classList = 'mpl-message';\n",
       "    toolbar.appendChild(status_bar);\n",
       "    this.message = status_bar;\n",
       "};\n",
       "\n",
       "mpl.figure.prototype.request_resize = function (x_pixels, y_pixels) {\n",
       "    // Request matplotlib to resize the figure. Matplotlib will then trigger a resize in the client,\n",
       "    // which will in turn request a refresh of the image.\n",
       "    this.send_message('resize', { width: x_pixels, height: y_pixels });\n",
       "};\n",
       "\n",
       "mpl.figure.prototype.send_message = function (type, properties) {\n",
       "    properties['type'] = type;\n",
       "    properties['figure_id'] = this.id;\n",
       "    this.ws.send(JSON.stringify(properties));\n",
       "};\n",
       "\n",
       "mpl.figure.prototype.send_draw_message = function () {\n",
       "    if (!this.waiting) {\n",
       "        this.waiting = true;\n",
       "        this.ws.send(JSON.stringify({ type: 'draw', figure_id: this.id }));\n",
       "    }\n",
       "};\n",
       "\n",
       "mpl.figure.prototype.handle_save = function (fig, _msg) {\n",
       "    var format_dropdown = fig.format_dropdown;\n",
       "    var format = format_dropdown.options[format_dropdown.selectedIndex].value;\n",
       "    fig.ondownload(fig, format);\n",
       "};\n",
       "\n",
       "mpl.figure.prototype.handle_resize = function (fig, msg) {\n",
       "    var size = msg['size'];\n",
       "    if (size[0] !== fig.canvas.width || size[1] !== fig.canvas.height) {\n",
       "        fig._resize_canvas(size[0], size[1], msg['forward']);\n",
       "        fig.send_message('refresh', {});\n",
       "    }\n",
       "};\n",
       "\n",
       "mpl.figure.prototype.handle_rubberband = function (fig, msg) {\n",
       "    var x0 = msg['x0'] / fig.ratio;\n",
       "    var y0 = (fig.canvas.height - msg['y0']) / fig.ratio;\n",
       "    var x1 = msg['x1'] / fig.ratio;\n",
       "    var y1 = (fig.canvas.height - msg['y1']) / fig.ratio;\n",
       "    x0 = Math.floor(x0) + 0.5;\n",
       "    y0 = Math.floor(y0) + 0.5;\n",
       "    x1 = Math.floor(x1) + 0.5;\n",
       "    y1 = Math.floor(y1) + 0.5;\n",
       "    var min_x = Math.min(x0, x1);\n",
       "    var min_y = Math.min(y0, y1);\n",
       "    var width = Math.abs(x1 - x0);\n",
       "    var height = Math.abs(y1 - y0);\n",
       "\n",
       "    fig.rubberband_context.clearRect(\n",
       "        0,\n",
       "        0,\n",
       "        fig.canvas.width / fig.ratio,\n",
       "        fig.canvas.height / fig.ratio\n",
       "    );\n",
       "\n",
       "    fig.rubberband_context.strokeRect(min_x, min_y, width, height);\n",
       "};\n",
       "\n",
       "mpl.figure.prototype.handle_figure_label = function (fig, msg) {\n",
       "    // Updates the figure title.\n",
       "    fig.header.textContent = msg['label'];\n",
       "};\n",
       "\n",
       "mpl.figure.prototype.handle_cursor = function (fig, msg) {\n",
       "    var cursor = msg['cursor'];\n",
       "    switch (cursor) {\n",
       "        case 0:\n",
       "            cursor = 'pointer';\n",
       "            break;\n",
       "        case 1:\n",
       "            cursor = 'default';\n",
       "            break;\n",
       "        case 2:\n",
       "            cursor = 'crosshair';\n",
       "            break;\n",
       "        case 3:\n",
       "            cursor = 'move';\n",
       "            break;\n",
       "    }\n",
       "    fig.rubberband_canvas.style.cursor = cursor;\n",
       "};\n",
       "\n",
       "mpl.figure.prototype.handle_message = function (fig, msg) {\n",
       "    fig.message.textContent = msg['message'];\n",
       "};\n",
       "\n",
       "mpl.figure.prototype.handle_draw = function (fig, _msg) {\n",
       "    // Request the server to send over a new figure.\n",
       "    fig.send_draw_message();\n",
       "};\n",
       "\n",
       "mpl.figure.prototype.handle_image_mode = function (fig, msg) {\n",
       "    fig.image_mode = msg['mode'];\n",
       "};\n",
       "\n",
       "mpl.figure.prototype.handle_history_buttons = function (fig, msg) {\n",
       "    for (var key in msg) {\n",
       "        if (!(key in fig.buttons)) {\n",
       "            continue;\n",
       "        }\n",
       "        fig.buttons[key].disabled = !msg[key];\n",
       "        fig.buttons[key].setAttribute('aria-disabled', !msg[key]);\n",
       "    }\n",
       "};\n",
       "\n",
       "mpl.figure.prototype.handle_navigate_mode = function (fig, msg) {\n",
       "    if (msg['mode'] === 'PAN') {\n",
       "        fig.buttons['Pan'].classList.add('active');\n",
       "        fig.buttons['Zoom'].classList.remove('active');\n",
       "    } else if (msg['mode'] === 'ZOOM') {\n",
       "        fig.buttons['Pan'].classList.remove('active');\n",
       "        fig.buttons['Zoom'].classList.add('active');\n",
       "    } else {\n",
       "        fig.buttons['Pan'].classList.remove('active');\n",
       "        fig.buttons['Zoom'].classList.remove('active');\n",
       "    }\n",
       "};\n",
       "\n",
       "mpl.figure.prototype.updated_canvas_event = function () {\n",
       "    // Called whenever the canvas gets updated.\n",
       "    this.send_message('ack', {});\n",
       "};\n",
       "\n",
       "// A function to construct a web socket function for onmessage handling.\n",
       "// Called in the figure constructor.\n",
       "mpl.figure.prototype._make_on_message_function = function (fig) {\n",
       "    return function socket_on_message(evt) {\n",
       "        if (evt.data instanceof Blob) {\n",
       "            /* FIXME: We get \"Resource interpreted as Image but\n",
       "             * transferred with MIME type text/plain:\" errors on\n",
       "             * Chrome.  But how to set the MIME type?  It doesn't seem\n",
       "             * to be part of the websocket stream */\n",
       "            evt.data.type = 'image/png';\n",
       "\n",
       "            /* Free the memory for the previous frames */\n",
       "            if (fig.imageObj.src) {\n",
       "                (window.URL || window.webkitURL).revokeObjectURL(\n",
       "                    fig.imageObj.src\n",
       "                );\n",
       "            }\n",
       "\n",
       "            fig.imageObj.src = (window.URL || window.webkitURL).createObjectURL(\n",
       "                evt.data\n",
       "            );\n",
       "            fig.updated_canvas_event();\n",
       "            fig.waiting = false;\n",
       "            return;\n",
       "        } else if (\n",
       "            typeof evt.data === 'string' &&\n",
       "            evt.data.slice(0, 21) === 'data:image/png;base64'\n",
       "        ) {\n",
       "            fig.imageObj.src = evt.data;\n",
       "            fig.updated_canvas_event();\n",
       "            fig.waiting = false;\n",
       "            return;\n",
       "        }\n",
       "\n",
       "        var msg = JSON.parse(evt.data);\n",
       "        var msg_type = msg['type'];\n",
       "\n",
       "        // Call the  \"handle_{type}\" callback, which takes\n",
       "        // the figure and JSON message as its only arguments.\n",
       "        try {\n",
       "            var callback = fig['handle_' + msg_type];\n",
       "        } catch (e) {\n",
       "            console.log(\n",
       "                \"No handler for the '\" + msg_type + \"' message type: \",\n",
       "                msg\n",
       "            );\n",
       "            return;\n",
       "        }\n",
       "\n",
       "        if (callback) {\n",
       "            try {\n",
       "                // console.log(\"Handling '\" + msg_type + \"' message: \", msg);\n",
       "                callback(fig, msg);\n",
       "            } catch (e) {\n",
       "                console.log(\n",
       "                    \"Exception inside the 'handler_\" + msg_type + \"' callback:\",\n",
       "                    e,\n",
       "                    e.stack,\n",
       "                    msg\n",
       "                );\n",
       "            }\n",
       "        }\n",
       "    };\n",
       "};\n",
       "\n",
       "// from http://stackoverflow.com/questions/1114465/getting-mouse-location-in-canvas\n",
       "mpl.findpos = function (e) {\n",
       "    //this section is from http://www.quirksmode.org/js/events_properties.html\n",
       "    var targ;\n",
       "    if (!e) {\n",
       "        e = window.event;\n",
       "    }\n",
       "    if (e.target) {\n",
       "        targ = e.target;\n",
       "    } else if (e.srcElement) {\n",
       "        targ = e.srcElement;\n",
       "    }\n",
       "    if (targ.nodeType === 3) {\n",
       "        // defeat Safari bug\n",
       "        targ = targ.parentNode;\n",
       "    }\n",
       "\n",
       "    // pageX,Y are the mouse positions relative to the document\n",
       "    var boundingRect = targ.getBoundingClientRect();\n",
       "    var x = e.pageX - (boundingRect.left + document.body.scrollLeft);\n",
       "    var y = e.pageY - (boundingRect.top + document.body.scrollTop);\n",
       "\n",
       "    return { x: x, y: y };\n",
       "};\n",
       "\n",
       "/*\n",
       " * return a copy of an object with only non-object keys\n",
       " * we need this to avoid circular references\n",
       " * http://stackoverflow.com/a/24161582/3208463\n",
       " */\n",
       "function simpleKeys(original) {\n",
       "    return Object.keys(original).reduce(function (obj, key) {\n",
       "        if (typeof original[key] !== 'object') {\n",
       "            obj[key] = original[key];\n",
       "        }\n",
       "        return obj;\n",
       "    }, {});\n",
       "}\n",
       "\n",
       "mpl.figure.prototype.mouse_event = function (event, name) {\n",
       "    var canvas_pos = mpl.findpos(event);\n",
       "\n",
       "    if (name === 'button_press') {\n",
       "        this.canvas.focus();\n",
       "        this.canvas_div.focus();\n",
       "    }\n",
       "\n",
       "    var x = canvas_pos.x * this.ratio;\n",
       "    var y = canvas_pos.y * this.ratio;\n",
       "\n",
       "    this.send_message(name, {\n",
       "        x: x,\n",
       "        y: y,\n",
       "        button: event.button,\n",
       "        step: event.step,\n",
       "        guiEvent: simpleKeys(event),\n",
       "    });\n",
       "\n",
       "    /* This prevents the web browser from automatically changing to\n",
       "     * the text insertion cursor when the button is pressed.  We want\n",
       "     * to control all of the cursor setting manually through the\n",
       "     * 'cursor' event from matplotlib */\n",
       "    event.preventDefault();\n",
       "    return false;\n",
       "};\n",
       "\n",
       "mpl.figure.prototype._key_event_extra = function (_event, _name) {\n",
       "    // Handle any extra behaviour associated with a key event\n",
       "};\n",
       "\n",
       "mpl.figure.prototype.key_event = function (event, name) {\n",
       "    // Prevent repeat events\n",
       "    if (name === 'key_press') {\n",
       "        if (event.which === this._key) {\n",
       "            return;\n",
       "        } else {\n",
       "            this._key = event.which;\n",
       "        }\n",
       "    }\n",
       "    if (name === 'key_release') {\n",
       "        this._key = null;\n",
       "    }\n",
       "\n",
       "    var value = '';\n",
       "    if (event.ctrlKey && event.which !== 17) {\n",
       "        value += 'ctrl+';\n",
       "    }\n",
       "    if (event.altKey && event.which !== 18) {\n",
       "        value += 'alt+';\n",
       "    }\n",
       "    if (event.shiftKey && event.which !== 16) {\n",
       "        value += 'shift+';\n",
       "    }\n",
       "\n",
       "    value += 'k';\n",
       "    value += event.which.toString();\n",
       "\n",
       "    this._key_event_extra(event, name);\n",
       "\n",
       "    this.send_message(name, { key: value, guiEvent: simpleKeys(event) });\n",
       "    return false;\n",
       "};\n",
       "\n",
       "mpl.figure.prototype.toolbar_button_onclick = function (name) {\n",
       "    if (name === 'download') {\n",
       "        this.handle_save(this, null);\n",
       "    } else {\n",
       "        this.send_message('toolbar_button', { name: name });\n",
       "    }\n",
       "};\n",
       "\n",
       "mpl.figure.prototype.toolbar_button_onmouseover = function (tooltip) {\n",
       "    this.message.textContent = tooltip;\n",
       "};\n",
       "mpl.toolbar_items = [[\"Home\", \"Reset original view\", \"fa fa-home icon-home\", \"home\"], [\"Back\", \"Back to previous view\", \"fa fa-arrow-left icon-arrow-left\", \"back\"], [\"Forward\", \"Forward to next view\", \"fa fa-arrow-right icon-arrow-right\", \"forward\"], [\"\", \"\", \"\", \"\"], [\"Pan\", \"Left button pans, Right button zooms\\nx/y fixes axis, CTRL fixes aspect\", \"fa fa-arrows icon-move\", \"pan\"], [\"Zoom\", \"Zoom to rectangle\\nx/y fixes axis, CTRL fixes aspect\", \"fa fa-square-o icon-check-empty\", \"zoom\"], [\"\", \"\", \"\", \"\"], [\"Download\", \"Download plot\", \"fa fa-floppy-o icon-save\", \"download\"]];\n",
       "\n",
       "mpl.extensions = [\"eps\", \"jpeg\", \"pdf\", \"png\", \"ps\", \"raw\", \"svg\", \"tif\"];\n",
       "\n",
       "mpl.default_extension = \"png\";/* global mpl */\n",
       "\n",
       "var comm_websocket_adapter = function (comm) {\n",
       "    // Create a \"websocket\"-like object which calls the given IPython comm\n",
       "    // object with the appropriate methods. Currently this is a non binary\n",
       "    // socket, so there is still some room for performance tuning.\n",
       "    var ws = {};\n",
       "\n",
       "    ws.close = function () {\n",
       "        comm.close();\n",
       "    };\n",
       "    ws.send = function (m) {\n",
       "        //console.log('sending', m);\n",
       "        comm.send(m);\n",
       "    };\n",
       "    // Register the callback with on_msg.\n",
       "    comm.on_msg(function (msg) {\n",
       "        //console.log('receiving', msg['content']['data'], msg);\n",
       "        // Pass the mpl event to the overridden (by mpl) onmessage function.\n",
       "        ws.onmessage(msg['content']['data']);\n",
       "    });\n",
       "    return ws;\n",
       "};\n",
       "\n",
       "mpl.mpl_figure_comm = function (comm, msg) {\n",
       "    // This is the function which gets called when the mpl process\n",
       "    // starts-up an IPython Comm through the \"matplotlib\" channel.\n",
       "\n",
       "    var id = msg.content.data.id;\n",
       "    // Get hold of the div created by the display call when the Comm\n",
       "    // socket was opened in Python.\n",
       "    var element = document.getElementById(id);\n",
       "    var ws_proxy = comm_websocket_adapter(comm);\n",
       "\n",
       "    function ondownload(figure, _format) {\n",
       "        window.open(figure.canvas.toDataURL());\n",
       "    }\n",
       "\n",
       "    var fig = new mpl.figure(id, ws_proxy, ondownload, element);\n",
       "\n",
       "    // Call onopen now - mpl needs it, as it is assuming we've passed it a real\n",
       "    // web socket which is closed, not our websocket->open comm proxy.\n",
       "    ws_proxy.onopen();\n",
       "\n",
       "    fig.parent_element = element;\n",
       "    fig.cell_info = mpl.find_output_cell(\"<div id='\" + id + \"'></div>\");\n",
       "    if (!fig.cell_info) {\n",
       "        console.error('Failed to find cell for figure', id, fig);\n",
       "        return;\n",
       "    }\n",
       "    fig.cell_info[0].output_area.element.one(\n",
       "        'cleared',\n",
       "        { fig: fig },\n",
       "        fig._remove_fig_handler\n",
       "    );\n",
       "};\n",
       "\n",
       "mpl.figure.prototype.handle_close = function (fig, msg) {\n",
       "    var width = fig.canvas.width / fig.ratio;\n",
       "    fig.cell_info[0].output_area.element.off(\n",
       "        'cleared',\n",
       "        fig._remove_fig_handler\n",
       "    );\n",
       "\n",
       "    // Update the output cell to use the data from the current canvas.\n",
       "    fig.push_to_output();\n",
       "    var dataURL = fig.canvas.toDataURL();\n",
       "    // Re-enable the keyboard manager in IPython - without this line, in FF,\n",
       "    // the notebook keyboard shortcuts fail.\n",
       "    IPython.keyboard_manager.enable();\n",
       "    fig.parent_element.innerHTML =\n",
       "        '<img src=\"' + dataURL + '\" width=\"' + width + '\">';\n",
       "    fig.close_ws(fig, msg);\n",
       "};\n",
       "\n",
       "mpl.figure.prototype.close_ws = function (fig, msg) {\n",
       "    fig.send_message('closing', msg);\n",
       "    // fig.ws.close()\n",
       "};\n",
       "\n",
       "mpl.figure.prototype.push_to_output = function (_remove_interactive) {\n",
       "    // Turn the data on the canvas into data in the output cell.\n",
       "    var width = this.canvas.width / this.ratio;\n",
       "    var dataURL = this.canvas.toDataURL();\n",
       "    this.cell_info[1]['text/html'] =\n",
       "        '<img src=\"' + dataURL + '\" width=\"' + width + '\">';\n",
       "};\n",
       "\n",
       "mpl.figure.prototype.updated_canvas_event = function () {\n",
       "    // Tell IPython that the notebook contents must change.\n",
       "    IPython.notebook.set_dirty(true);\n",
       "    this.send_message('ack', {});\n",
       "    var fig = this;\n",
       "    // Wait a second, then push the new image to the DOM so\n",
       "    // that it is saved nicely (might be nice to debounce this).\n",
       "    setTimeout(function () {\n",
       "        fig.push_to_output();\n",
       "    }, 1000);\n",
       "};\n",
       "\n",
       "mpl.figure.prototype._init_toolbar = function () {\n",
       "    var fig = this;\n",
       "\n",
       "    var toolbar = document.createElement('div');\n",
       "    toolbar.classList = 'btn-toolbar';\n",
       "    this.root.appendChild(toolbar);\n",
       "\n",
       "    function on_click_closure(name) {\n",
       "        return function (_event) {\n",
       "            return fig.toolbar_button_onclick(name);\n",
       "        };\n",
       "    }\n",
       "\n",
       "    function on_mouseover_closure(tooltip) {\n",
       "        return function (event) {\n",
       "            if (!event.currentTarget.disabled) {\n",
       "                return fig.toolbar_button_onmouseover(tooltip);\n",
       "            }\n",
       "        };\n",
       "    }\n",
       "\n",
       "    fig.buttons = {};\n",
       "    var buttonGroup = document.createElement('div');\n",
       "    buttonGroup.classList = 'btn-group';\n",
       "    var button;\n",
       "    for (var toolbar_ind in mpl.toolbar_items) {\n",
       "        var name = mpl.toolbar_items[toolbar_ind][0];\n",
       "        var tooltip = mpl.toolbar_items[toolbar_ind][1];\n",
       "        var image = mpl.toolbar_items[toolbar_ind][2];\n",
       "        var method_name = mpl.toolbar_items[toolbar_ind][3];\n",
       "\n",
       "        if (!name) {\n",
       "            /* Instead of a spacer, we start a new button group. */\n",
       "            if (buttonGroup.hasChildNodes()) {\n",
       "                toolbar.appendChild(buttonGroup);\n",
       "            }\n",
       "            buttonGroup = document.createElement('div');\n",
       "            buttonGroup.classList = 'btn-group';\n",
       "            continue;\n",
       "        }\n",
       "\n",
       "        button = fig.buttons[name] = document.createElement('button');\n",
       "        button.classList = 'btn btn-default';\n",
       "        button.href = '#';\n",
       "        button.title = name;\n",
       "        button.innerHTML = '<i class=\"fa ' + image + ' fa-lg\"></i>';\n",
       "        button.addEventListener('click', on_click_closure(method_name));\n",
       "        button.addEventListener('mouseover', on_mouseover_closure(tooltip));\n",
       "        buttonGroup.appendChild(button);\n",
       "    }\n",
       "\n",
       "    if (buttonGroup.hasChildNodes()) {\n",
       "        toolbar.appendChild(buttonGroup);\n",
       "    }\n",
       "\n",
       "    // Add the status bar.\n",
       "    var status_bar = document.createElement('span');\n",
       "    status_bar.classList = 'mpl-message pull-right';\n",
       "    toolbar.appendChild(status_bar);\n",
       "    this.message = status_bar;\n",
       "\n",
       "    // Add the close button to the window.\n",
       "    var buttongrp = document.createElement('div');\n",
       "    buttongrp.classList = 'btn-group inline pull-right';\n",
       "    button = document.createElement('button');\n",
       "    button.classList = 'btn btn-mini btn-primary';\n",
       "    button.href = '#';\n",
       "    button.title = 'Stop Interaction';\n",
       "    button.innerHTML = '<i class=\"fa fa-power-off icon-remove icon-large\"></i>';\n",
       "    button.addEventListener('click', function (_evt) {\n",
       "        fig.handle_close(fig, {});\n",
       "    });\n",
       "    button.addEventListener(\n",
       "        'mouseover',\n",
       "        on_mouseover_closure('Stop Interaction')\n",
       "    );\n",
       "    buttongrp.appendChild(button);\n",
       "    var titlebar = this.root.querySelector('.ui-dialog-titlebar');\n",
       "    titlebar.insertBefore(buttongrp, titlebar.firstChild);\n",
       "};\n",
       "\n",
       "mpl.figure.prototype._remove_fig_handler = function (event) {\n",
       "    var fig = event.data.fig;\n",
       "    fig.close_ws(fig, {});\n",
       "};\n",
       "\n",
       "mpl.figure.prototype._root_extra_style = function (el) {\n",
       "    el.style.boxSizing = 'content-box'; // override notebook setting of border-box.\n",
       "};\n",
       "\n",
       "mpl.figure.prototype._canvas_extra_style = function (el) {\n",
       "    // this is important to make the div 'focusable\n",
       "    el.setAttribute('tabindex', 0);\n",
       "    // reach out to IPython and tell the keyboard manager to turn it's self\n",
       "    // off when our div gets focus\n",
       "\n",
       "    // location in version 3\n",
       "    if (IPython.notebook.keyboard_manager) {\n",
       "        IPython.notebook.keyboard_manager.register_events(el);\n",
       "    } else {\n",
       "        // location in version 2\n",
       "        IPython.keyboard_manager.register_events(el);\n",
       "    }\n",
       "};\n",
       "\n",
       "mpl.figure.prototype._key_event_extra = function (event, _name) {\n",
       "    var manager = IPython.notebook.keyboard_manager;\n",
       "    if (!manager) {\n",
       "        manager = IPython.keyboard_manager;\n",
       "    }\n",
       "\n",
       "    // Check for shift+enter\n",
       "    if (event.shiftKey && event.which === 13) {\n",
       "        this.canvas_div.blur();\n",
       "        // select the cell after this one\n",
       "        var index = IPython.notebook.find_cell_index(this.cell_info[0]);\n",
       "        IPython.notebook.select(index + 1);\n",
       "    }\n",
       "};\n",
       "\n",
       "mpl.figure.prototype.handle_save = function (fig, _msg) {\n",
       "    fig.ondownload(fig, null);\n",
       "};\n",
       "\n",
       "mpl.find_output_cell = function (html_output) {\n",
       "    // Return the cell and output element which can be found *uniquely* in the notebook.\n",
       "    // Note - this is a bit hacky, but it is done because the \"notebook_saving.Notebook\"\n",
       "    // IPython event is triggered only after the cells have been serialised, which for\n",
       "    // our purposes (turning an active figure into a static one), is too late.\n",
       "    var cells = IPython.notebook.get_cells();\n",
       "    var ncells = cells.length;\n",
       "    for (var i = 0; i < ncells; i++) {\n",
       "        var cell = cells[i];\n",
       "        if (cell.cell_type === 'code') {\n",
       "            for (var j = 0; j < cell.output_area.outputs.length; j++) {\n",
       "                var data = cell.output_area.outputs[j];\n",
       "                if (data.data) {\n",
       "                    // IPython >= 3 moved mimebundle to data attribute of output\n",
       "                    data = data.data;\n",
       "                }\n",
       "                if (data['text/html'] === html_output) {\n",
       "                    return [cell, data, j];\n",
       "                }\n",
       "            }\n",
       "        }\n",
       "    }\n",
       "};\n",
       "\n",
       "// Register the function which deals with the matplotlib target/channel.\n",
       "// The kernel may be null if the page has been refreshed.\n",
       "if (IPython.notebook.kernel !== null) {\n",
       "    IPython.notebook.kernel.comm_manager.register_target(\n",
       "        'matplotlib',\n",
       "        mpl.mpl_figure_comm\n",
       "    );\n",
       "}\n"
      ],
      "text/plain": [
       "<IPython.core.display.Javascript object>"
      ]
     },
     "metadata": {},
     "output_type": "display_data"
    },
    {
     "data": {
      "text/html": [
       "<img src=\"data:image/png;base64,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\" width=\"800\">"
      ],
      "text/plain": [
       "<IPython.core.display.HTML object>"
      ]
     },
     "metadata": {},
     "output_type": "display_data"
    },
    {
     "data": {
      "text/plain": [
       "<matplotlib.legend.Legend at 0x1e482e19310>"
      ]
     },
     "execution_count": 33,
     "metadata": {},
     "output_type": "execute_result"
    }
   ],
   "source": [
    "%matplotlib notebook\n",
    "x = np.arange(0, n_episodes, 1)\n",
    "\n",
    "fig, ax = plt.subplots(figsize=(8,5))\n",
    "plt.plot(x, y[:n_episodes], label='exploring')\n",
    "ax.fill_between(x, Y[0,:n_episodes], Y[1,:n_episodes], color='teal', alpha=.2)\n",
    "\n",
    "plt.plot(x+n_episodes, y[n_episodes:], label='exploiting')\n",
    "ax.fill_between(x+n_episodes, Y[0,n_episodes:], Y[1,n_episodes:], color='purple', alpha=.2)\n",
    "\n",
    "\n",
    "plt.plot([100 for i in range(10)], np.linspace(np.min(Y), np.max(Y), 10), ls='--', color='black', label='greedy threshold')\n",
    "plt.ylabel('cumulative discounted reward')\n",
    "plt.xlabel('episode')\n",
    "\n",
    "plt.legend()"
   ]
  },
  {
   "cell_type": "markdown",
   "metadata": {},
   "source": [
    "## Batch Run with fewer episodes"
   ]
  },
  {
   "cell_type": "code",
   "execution_count": 58,
   "metadata": {},
   "outputs": [],
   "source": [
    "n_exploratory_episodes = 5\n",
    "n_greedy_episodes = 10\n",
    "max_steps = 40\n",
    "gamma = 0.8\n",
    "alpha = 0.1\n",
    "n_batches = 100\n",
    "\n",
    "EXPLORATION_TYPE = 'PHASED'\n",
    "\n",
    "if EXPLORATION_TYPE == 'RANDOM':\n",
    "    epsilons = np.ones(n_episodes)\n",
    "elif EXPLORATION_TYPE == 'GRADUAL':\n",
    "    epsilons = np.flip(np.linspace(0.05, 1, n_episodes))\n",
    "elif EXPLORATION_TYPE == 'GREEDY':\n",
    "    epsilons = np.zeros(n_episodes)\n",
    "elif EXPLORATION_TYPE == 'GLOBAL':\n",
    "    epsilons = np.ones(n_episodes)\n",
    "elif EXPLORATION_TYPE == \"PHASED\":\n",
    "    epsilons = np.zeros(n_episodes)\n",
    "\n",
    "Learn = True\n",
    "batch_size = 1\n",
    "FILE_SIG = f\"Results_n={n_episodes}, nB={batch_size}, exp={EXPLORATION_TYPE} WG, N_init_1\"\n",
    "\n",
    "\n",
    "env = Gridworld(grid, terminal_state, initial_state, blacked_state, max_steps)"
   ]
  },
  {
   "cell_type": "code",
   "execution_count": 59,
   "metadata": {
    "scrolled": true
   },
   "outputs": [
    {
     "data": {
      "application/vnd.jupyter.widget-view+json": {
       "model_id": "65c3887fd7504420b2fe44ca03c78dd1",
       "version_major": 2,
       "version_minor": 0
      },
      "text/plain": [
       "  0%|          | 0/5 [00:00<?, ?it/s]"
      ]
     },
     "metadata": {},
     "output_type": "display_data"
    },
    {
     "data": {
      "application/vnd.jupyter.widget-view+json": {
       "model_id": "dbec68a67714456696f01e6775ce1b54",
       "version_major": 2,
       "version_minor": 0
      },
      "text/plain": [
       "  0%|          | 0/10 [00:00<?, ?it/s]"
      ]
     },
     "metadata": {},
     "output_type": "display_data"
    },
    {
     "data": {
      "application/vnd.jupyter.widget-view+json": {
       "model_id": "00a00653f85845119577164dfe904f9d",
       "version_major": 2,
       "version_minor": 0
      },
      "text/plain": [
       "  0%|          | 0/5 [00:00<?, ?it/s]"
      ]
     },
     "metadata": {},
     "output_type": "display_data"
    },
    {
     "data": {
      "application/vnd.jupyter.widget-view+json": {
       "model_id": "b4d7c8a996374e2d829b830221e9dc11",
       "version_major": 2,
       "version_minor": 0
      },
      "text/plain": [
       "  0%|          | 0/10 [00:00<?, ?it/s]"
      ]
     },
     "metadata": {},
     "output_type": "display_data"
    },
    {
     "data": {
      "application/vnd.jupyter.widget-view+json": {
       "model_id": "393ba7fd904f4b77a96c570deaa5eb45",
       "version_major": 2,
       "version_minor": 0
      },
      "text/plain": [
       "  0%|          | 0/5 [00:00<?, ?it/s]"
      ]
     },
     "metadata": {},
     "output_type": "display_data"
    },
    {
     "data": {
      "application/vnd.jupyter.widget-view+json": {
       "model_id": "228294f783a7490da8af4364d611e61d",
       "version_major": 2,
       "version_minor": 0
      },
      "text/plain": [
       "  0%|          | 0/10 [00:00<?, ?it/s]"
      ]
     },
     "metadata": {},
     "output_type": "display_data"
    },
    {
     "data": {
      "application/vnd.jupyter.widget-view+json": {
       "model_id": "5fb1090602f14573a147f95d90323fea",
       "version_major": 2,
       "version_minor": 0
      },
      "text/plain": [
       "  0%|          | 0/5 [00:00<?, ?it/s]"
      ]
     },
     "metadata": {},
     "output_type": "display_data"
    },
    {
     "data": {
      "application/vnd.jupyter.widget-view+json": {
       "model_id": "61824f1b209c465c8391882fb9d20cd1",
       "version_major": 2,
       "version_minor": 0
      },
      "text/plain": [
       "  0%|          | 0/10 [00:00<?, ?it/s]"
      ]
     },
     "metadata": {},
     "output_type": "display_data"
    },
    {
     "data": {
      "application/vnd.jupyter.widget-view+json": {
       "model_id": "1c076d4061c0427ab5a1c10398d60a15",
       "version_major": 2,
       "version_minor": 0
      },
      "text/plain": [
       "  0%|          | 0/5 [00:00<?, ?it/s]"
      ]
     },
     "metadata": {},
     "output_type": "display_data"
    },
    {
     "data": {
      "application/vnd.jupyter.widget-view+json": {
       "model_id": "27142e0161a24772bf78a1af8bb3f5af",
       "version_major": 2,
       "version_minor": 0
      },
      "text/plain": [
       "  0%|          | 0/10 [00:00<?, ?it/s]"
      ]
     },
     "metadata": {},
     "output_type": "display_data"
    },
    {
     "data": {
      "application/vnd.jupyter.widget-view+json": {
       "model_id": "8b3f301e0f9d44758517d66316276719",
       "version_major": 2,
       "version_minor": 0
      },
      "text/plain": [
       "  0%|          | 0/5 [00:00<?, ?it/s]"
      ]
     },
     "metadata": {},
     "output_type": "display_data"
    },
    {
     "data": {
      "application/vnd.jupyter.widget-view+json": {
       "model_id": "6a9b5f14e0a9494c8bb88ce90abaf9eb",
       "version_major": 2,
       "version_minor": 0
      },
      "text/plain": [
       "  0%|          | 0/10 [00:00<?, ?it/s]"
      ]
     },
     "metadata": {},
     "output_type": "display_data"
    },
    {
     "data": {
      "application/vnd.jupyter.widget-view+json": {
       "model_id": "1b51aca3bb834854beaecbb160610a1e",
       "version_major": 2,
       "version_minor": 0
      },
      "text/plain": [
       "  0%|          | 0/5 [00:00<?, ?it/s]"
      ]
     },
     "metadata": {},
     "output_type": "display_data"
    },
    {
     "data": {
      "application/vnd.jupyter.widget-view+json": {
       "model_id": "c10a5c894ecf453cbb8d1aaf862d20f8",
       "version_major": 2,
       "version_minor": 0
      },
      "text/plain": [
       "  0%|          | 0/10 [00:00<?, ?it/s]"
      ]
     },
     "metadata": {},
     "output_type": "display_data"
    },
    {
     "data": {
      "application/vnd.jupyter.widget-view+json": {
       "model_id": "3d75f6b469164cb1ad5246e7899510eb",
       "version_major": 2,
       "version_minor": 0
      },
      "text/plain": [
       "  0%|          | 0/5 [00:00<?, ?it/s]"
      ]
     },
     "metadata": {},
     "output_type": "display_data"
    },
    {
     "data": {
      "application/vnd.jupyter.widget-view+json": {
       "model_id": "330c07bc8de54f1fab91fa3eb04bfd51",
       "version_major": 2,
       "version_minor": 0
      },
      "text/plain": [
       "  0%|          | 0/10 [00:00<?, ?it/s]"
      ]
     },
     "metadata": {},
     "output_type": "display_data"
    },
    {
     "data": {
      "application/vnd.jupyter.widget-view+json": {
       "model_id": "ba58f6294bc74f82ad0fea6d57ef46a8",
       "version_major": 2,
       "version_minor": 0
      },
      "text/plain": [
       "  0%|          | 0/5 [00:00<?, ?it/s]"
      ]
     },
     "metadata": {},
     "output_type": "display_data"
    },
    {
     "data": {
      "application/vnd.jupyter.widget-view+json": {
       "model_id": "83dc9dc10a64416a89751ff341e35c48",
       "version_major": 2,
       "version_minor": 0
      },
      "text/plain": [
       "  0%|          | 0/10 [00:00<?, ?it/s]"
      ]
     },
     "metadata": {},
     "output_type": "display_data"
    },
    {
     "data": {
      "application/vnd.jupyter.widget-view+json": {
       "model_id": "92be09c5500746f394be2b627d7f9a6d",
       "version_major": 2,
       "version_minor": 0
      },
      "text/plain": [
       "  0%|          | 0/5 [00:00<?, ?it/s]"
      ]
     },
     "metadata": {},
     "output_type": "display_data"
    },
    {
     "data": {
      "application/vnd.jupyter.widget-view+json": {
       "model_id": "52bda70732e443b69f54cc3ac19a7895",
       "version_major": 2,
       "version_minor": 0
      },
      "text/plain": [
       "  0%|          | 0/10 [00:00<?, ?it/s]"
      ]
     },
     "metadata": {},
     "output_type": "display_data"
    },
    {
     "data": {
      "application/vnd.jupyter.widget-view+json": {
       "model_id": "c304d54e7ee74da1907d7dc6bfc34341",
       "version_major": 2,
       "version_minor": 0
      },
      "text/plain": [
       "  0%|          | 0/5 [00:00<?, ?it/s]"
      ]
     },
     "metadata": {},
     "output_type": "display_data"
    },
    {
     "data": {
      "application/vnd.jupyter.widget-view+json": {
       "model_id": "1a8e05b7ad0f462e9313264d95b187d4",
       "version_major": 2,
       "version_minor": 0
      },
      "text/plain": [
       "  0%|          | 0/10 [00:00<?, ?it/s]"
      ]
     },
     "metadata": {},
     "output_type": "display_data"
    },
    {
     "data": {
      "application/vnd.jupyter.widget-view+json": {
       "model_id": "3a6dcd7e618a4714a51d783c5c3cf2eb",
       "version_major": 2,
       "version_minor": 0
      },
      "text/plain": [
       "  0%|          | 0/5 [00:00<?, ?it/s]"
      ]
     },
     "metadata": {},
     "output_type": "display_data"
    },
    {
     "data": {
      "application/vnd.jupyter.widget-view+json": {
       "model_id": "b70472b18d364515b97a5e35dba6abdb",
       "version_major": 2,
       "version_minor": 0
      },
      "text/plain": [
       "  0%|          | 0/10 [00:00<?, ?it/s]"
      ]
     },
     "metadata": {},
     "output_type": "display_data"
    },
    {
     "data": {
      "application/vnd.jupyter.widget-view+json": {
       "model_id": "501ede8bccd54072a3061c6eedd3f46e",
       "version_major": 2,
       "version_minor": 0
      },
      "text/plain": [
       "  0%|          | 0/5 [00:00<?, ?it/s]"
      ]
     },
     "metadata": {},
     "output_type": "display_data"
    },
    {
     "data": {
      "application/vnd.jupyter.widget-view+json": {
       "model_id": "3571122fb36f4deb914b1edfb2ffac93",
       "version_major": 2,
       "version_minor": 0
      },
      "text/plain": [
       "  0%|          | 0/10 [00:00<?, ?it/s]"
      ]
     },
     "metadata": {},
     "output_type": "display_data"
    },
    {
     "data": {
      "application/vnd.jupyter.widget-view+json": {
       "model_id": "d71a694051fb42d9b8a5d2313d29e5b6",
       "version_major": 2,
       "version_minor": 0
      },
      "text/plain": [
       "  0%|          | 0/5 [00:00<?, ?it/s]"
      ]
     },
     "metadata": {},
     "output_type": "display_data"
    },
    {
     "data": {
      "application/vnd.jupyter.widget-view+json": {
       "model_id": "dd189ee4d26046bbab9ade22b7b8e785",
       "version_major": 2,
       "version_minor": 0
      },
      "text/plain": [
       "  0%|          | 0/10 [00:00<?, ?it/s]"
      ]
     },
     "metadata": {},
     "output_type": "display_data"
    },
    {
     "data": {
      "application/vnd.jupyter.widget-view+json": {
       "model_id": "b64c689e10724fc19b9fbc2cedc383d7",
       "version_major": 2,
       "version_minor": 0
      },
      "text/plain": [
       "  0%|          | 0/5 [00:00<?, ?it/s]"
      ]
     },
     "metadata": {},
     "output_type": "display_data"
    },
    {
     "data": {
      "application/vnd.jupyter.widget-view+json": {
       "model_id": "d39e1f18ef2841ff91d05fe246c680c4",
       "version_major": 2,
       "version_minor": 0
      },
      "text/plain": [
       "  0%|          | 0/10 [00:00<?, ?it/s]"
      ]
     },
     "metadata": {},
     "output_type": "display_data"
    },
    {
     "data": {
      "application/vnd.jupyter.widget-view+json": {
       "model_id": "4f3e76a547844feaaf0eaba1c32b090d",
       "version_major": 2,
       "version_minor": 0
      },
      "text/plain": [
       "  0%|          | 0/5 [00:00<?, ?it/s]"
      ]
     },
     "metadata": {},
     "output_type": "display_data"
    },
    {
     "data": {
      "application/vnd.jupyter.widget-view+json": {
       "model_id": "0dcd9937965f4e22ac44e49da278b70e",
       "version_major": 2,
       "version_minor": 0
      },
      "text/plain": [
       "  0%|          | 0/10 [00:00<?, ?it/s]"
      ]
     },
     "metadata": {},
     "output_type": "display_data"
    },
    {
     "data": {
      "application/vnd.jupyter.widget-view+json": {
       "model_id": "bc8f2cf593fe41868d7f5ed85d7a5285",
       "version_major": 2,
       "version_minor": 0
      },
      "text/plain": [
       "  0%|          | 0/5 [00:00<?, ?it/s]"
      ]
     },
     "metadata": {},
     "output_type": "display_data"
    },
    {
     "data": {
      "application/vnd.jupyter.widget-view+json": {
       "model_id": "bc8caebfcc79447487194ec8159e5249",
       "version_major": 2,
       "version_minor": 0
      },
      "text/plain": [
       "  0%|          | 0/10 [00:00<?, ?it/s]"
      ]
     },
     "metadata": {},
     "output_type": "display_data"
    },
    {
     "data": {
      "application/vnd.jupyter.widget-view+json": {
       "model_id": "989b356668dc4a98b43377a406c4fd61",
       "version_major": 2,
       "version_minor": 0
      },
      "text/plain": [
       "  0%|          | 0/5 [00:00<?, ?it/s]"
      ]
     },
     "metadata": {},
     "output_type": "display_data"
    },
    {
     "data": {
      "application/vnd.jupyter.widget-view+json": {
       "model_id": "fd740402f8114b61933697d6f1cd7ba4",
       "version_major": 2,
       "version_minor": 0
      },
      "text/plain": [
       "  0%|          | 0/10 [00:00<?, ?it/s]"
      ]
     },
     "metadata": {},
     "output_type": "display_data"
    },
    {
     "data": {
      "application/vnd.jupyter.widget-view+json": {
       "model_id": "2a661a120b1d4be79db10681670dcc13",
       "version_major": 2,
       "version_minor": 0
      },
      "text/plain": [
       "  0%|          | 0/5 [00:00<?, ?it/s]"
      ]
     },
     "metadata": {},
     "output_type": "display_data"
    },
    {
     "data": {
      "application/vnd.jupyter.widget-view+json": {
       "model_id": "f7965e8f251049f09ac9f85c0b54b4a1",
       "version_major": 2,
       "version_minor": 0
      },
      "text/plain": [
       "  0%|          | 0/10 [00:00<?, ?it/s]"
      ]
     },
     "metadata": {},
     "output_type": "display_data"
    },
    {
     "data": {
      "application/vnd.jupyter.widget-view+json": {
       "model_id": "4d97d01e2e894ff897bb1645df5a86a4",
       "version_major": 2,
       "version_minor": 0
      },
      "text/plain": [
       "  0%|          | 0/5 [00:00<?, ?it/s]"
      ]
     },
     "metadata": {},
     "output_type": "display_data"
    },
    {
     "data": {
      "application/vnd.jupyter.widget-view+json": {
       "model_id": "a59a54fed8404ac7bf8a9a7cd1e45610",
       "version_major": 2,
       "version_minor": 0
      },
      "text/plain": [
       "  0%|          | 0/10 [00:00<?, ?it/s]"
      ]
     },
     "metadata": {},
     "output_type": "display_data"
    },
    {
     "data": {
      "application/vnd.jupyter.widget-view+json": {
       "model_id": "d6785031e8d04f4bb328cb452d223192",
       "version_major": 2,
       "version_minor": 0
      },
      "text/plain": [
       "  0%|          | 0/5 [00:00<?, ?it/s]"
      ]
     },
     "metadata": {},
     "output_type": "display_data"
    },
    {
     "data": {
      "application/vnd.jupyter.widget-view+json": {
       "model_id": "ef1191e255cf413ea19b705a7b2eee50",
       "version_major": 2,
       "version_minor": 0
      },
      "text/plain": [
       "  0%|          | 0/10 [00:00<?, ?it/s]"
      ]
     },
     "metadata": {},
     "output_type": "display_data"
    },
    {
     "data": {
      "application/vnd.jupyter.widget-view+json": {
       "model_id": "4863993a5e9a4f23b2ffee19aa6c479c",
       "version_major": 2,
       "version_minor": 0
      },
      "text/plain": [
       "  0%|          | 0/5 [00:00<?, ?it/s]"
      ]
     },
     "metadata": {},
     "output_type": "display_data"
    },
    {
     "data": {
      "application/vnd.jupyter.widget-view+json": {
       "model_id": "c0f5ee59eb4645a4ad87c8a52665aa50",
       "version_major": 2,
       "version_minor": 0
      },
      "text/plain": [
       "  0%|          | 0/10 [00:00<?, ?it/s]"
      ]
     },
     "metadata": {},
     "output_type": "display_data"
    },
    {
     "data": {
      "application/vnd.jupyter.widget-view+json": {
       "model_id": "5fdcbd3dc34942fc9930c0b5d18801ca",
       "version_major": 2,
       "version_minor": 0
      },
      "text/plain": [
       "  0%|          | 0/5 [00:00<?, ?it/s]"
      ]
     },
     "metadata": {},
     "output_type": "display_data"
    },
    {
     "data": {
      "application/vnd.jupyter.widget-view+json": {
       "model_id": "e5f417dd384c433db89ada3373149020",
       "version_major": 2,
       "version_minor": 0
      },
      "text/plain": [
       "  0%|          | 0/10 [00:00<?, ?it/s]"
      ]
     },
     "metadata": {},
     "output_type": "display_data"
    },
    {
     "data": {
      "application/vnd.jupyter.widget-view+json": {
       "model_id": "5da3fed4eba94d25941c12acadce4c4c",
       "version_major": 2,
       "version_minor": 0
      },
      "text/plain": [
       "  0%|          | 0/5 [00:00<?, ?it/s]"
      ]
     },
     "metadata": {},
     "output_type": "display_data"
    },
    {
     "data": {
      "application/vnd.jupyter.widget-view+json": {
       "model_id": "a8df875c053440dfbdd913b8e58a2eb6",
       "version_major": 2,
       "version_minor": 0
      },
      "text/plain": [
       "  0%|          | 0/10 [00:00<?, ?it/s]"
      ]
     },
     "metadata": {},
     "output_type": "display_data"
    },
    {
     "data": {
      "application/vnd.jupyter.widget-view+json": {
       "model_id": "a53e5ae75bbf47f4aa228af5abbdb066",
       "version_major": 2,
       "version_minor": 0
      },
      "text/plain": [
       "  0%|          | 0/5 [00:00<?, ?it/s]"
      ]
     },
     "metadata": {},
     "output_type": "display_data"
    },
    {
     "data": {
      "application/vnd.jupyter.widget-view+json": {
       "model_id": "e2d38b48d6614be48215c732501e6ca7",
       "version_major": 2,
       "version_minor": 0
      },
      "text/plain": [
       "  0%|          | 0/10 [00:00<?, ?it/s]"
      ]
     },
     "metadata": {},
     "output_type": "display_data"
    },
    {
     "data": {
      "application/vnd.jupyter.widget-view+json": {
       "model_id": "bf5506d2ef2e40df998a310813ccea9b",
       "version_major": 2,
       "version_minor": 0
      },
      "text/plain": [
       "  0%|          | 0/5 [00:00<?, ?it/s]"
      ]
     },
     "metadata": {},
     "output_type": "display_data"
    },
    {
     "data": {
      "application/vnd.jupyter.widget-view+json": {
       "model_id": "530e65033fbf4ffe822d951d03fc27d9",
       "version_major": 2,
       "version_minor": 0
      },
      "text/plain": [
       "  0%|          | 0/10 [00:00<?, ?it/s]"
      ]
     },
     "metadata": {},
     "output_type": "display_data"
    },
    {
     "data": {
      "application/vnd.jupyter.widget-view+json": {
       "model_id": "a00acea4c8a848fc90199537fc6e6b04",
       "version_major": 2,
       "version_minor": 0
      },
      "text/plain": [
       "  0%|          | 0/5 [00:00<?, ?it/s]"
      ]
     },
     "metadata": {},
     "output_type": "display_data"
    },
    {
     "data": {
      "application/vnd.jupyter.widget-view+json": {
       "model_id": "a0320c22275a4b9ba6079e582d5033e4",
       "version_major": 2,
       "version_minor": 0
      },
      "text/plain": [
       "  0%|          | 0/10 [00:00<?, ?it/s]"
      ]
     },
     "metadata": {},
     "output_type": "display_data"
    },
    {
     "data": {
      "application/vnd.jupyter.widget-view+json": {
       "model_id": "06d6e3bb1a0d416ebc9d6a2527dbbfee",
       "version_major": 2,
       "version_minor": 0
      },
      "text/plain": [
       "  0%|          | 0/5 [00:00<?, ?it/s]"
      ]
     },
     "metadata": {},
     "output_type": "display_data"
    },
    {
     "data": {
      "application/vnd.jupyter.widget-view+json": {
       "model_id": "5cd2bccc15384787baa3882550a023e6",
       "version_major": 2,
       "version_minor": 0
      },
      "text/plain": [
       "  0%|          | 0/10 [00:00<?, ?it/s]"
      ]
     },
     "metadata": {},
     "output_type": "display_data"
    },
    {
     "data": {
      "application/vnd.jupyter.widget-view+json": {
       "model_id": "fa5c634456ad4c80a3e1479e43c6ff9e",
       "version_major": 2,
       "version_minor": 0
      },
      "text/plain": [
       "  0%|          | 0/5 [00:00<?, ?it/s]"
      ]
     },
     "metadata": {},
     "output_type": "display_data"
    },
    {
     "data": {
      "application/vnd.jupyter.widget-view+json": {
       "model_id": "f52043d9cf0b41618eccc518a7047302",
       "version_major": 2,
       "version_minor": 0
      },
      "text/plain": [
       "  0%|          | 0/10 [00:00<?, ?it/s]"
      ]
     },
     "metadata": {},
     "output_type": "display_data"
    },
    {
     "data": {
      "application/vnd.jupyter.widget-view+json": {
       "model_id": "11d8c9967ccf4733afdbd3edf3ef65a9",
       "version_major": 2,
       "version_minor": 0
      },
      "text/plain": [
       "  0%|          | 0/5 [00:00<?, ?it/s]"
      ]
     },
     "metadata": {},
     "output_type": "display_data"
    },
    {
     "data": {
      "application/vnd.jupyter.widget-view+json": {
       "model_id": "af0c69fa14194a769a42616e566f13b5",
       "version_major": 2,
       "version_minor": 0
      },
      "text/plain": [
       "  0%|          | 0/10 [00:00<?, ?it/s]"
      ]
     },
     "metadata": {},
     "output_type": "display_data"
    },
    {
     "data": {
      "application/vnd.jupyter.widget-view+json": {
       "model_id": "93b86b9da6354dce9e40227ed3c2bbab",
       "version_major": 2,
       "version_minor": 0
      },
      "text/plain": [
       "  0%|          | 0/5 [00:00<?, ?it/s]"
      ]
     },
     "metadata": {},
     "output_type": "display_data"
    },
    {
     "data": {
      "application/vnd.jupyter.widget-view+json": {
       "model_id": "ed199866af074d908ce99af744bec042",
       "version_major": 2,
       "version_minor": 0
      },
      "text/plain": [
       "  0%|          | 0/10 [00:00<?, ?it/s]"
      ]
     },
     "metadata": {},
     "output_type": "display_data"
    },
    {
     "data": {
      "application/vnd.jupyter.widget-view+json": {
       "model_id": "2b2dc5e71053486cb0f3727d43101b9b",
       "version_major": 2,
       "version_minor": 0
      },
      "text/plain": [
       "  0%|          | 0/5 [00:00<?, ?it/s]"
      ]
     },
     "metadata": {},
     "output_type": "display_data"
    },
    {
     "data": {
      "application/vnd.jupyter.widget-view+json": {
       "model_id": "5556d7117ce94cc6869f5d084e747137",
       "version_major": 2,
       "version_minor": 0
      },
      "text/plain": [
       "  0%|          | 0/10 [00:00<?, ?it/s]"
      ]
     },
     "metadata": {},
     "output_type": "display_data"
    },
    {
     "data": {
      "application/vnd.jupyter.widget-view+json": {
       "model_id": "633f84747052472b8ec967c2f088531e",
       "version_major": 2,
       "version_minor": 0
      },
      "text/plain": [
       "  0%|          | 0/5 [00:00<?, ?it/s]"
      ]
     },
     "metadata": {},
     "output_type": "display_data"
    },
    {
     "data": {
      "application/vnd.jupyter.widget-view+json": {
       "model_id": "4db8d25fa67c4331b4a7e9189703cbd5",
       "version_major": 2,
       "version_minor": 0
      },
      "text/plain": [
       "  0%|          | 0/10 [00:00<?, ?it/s]"
      ]
     },
     "metadata": {},
     "output_type": "display_data"
    },
    {
     "data": {
      "application/vnd.jupyter.widget-view+json": {
       "model_id": "c3762f20fe98444b978d4fc31db0d12f",
       "version_major": 2,
       "version_minor": 0
      },
      "text/plain": [
       "  0%|          | 0/5 [00:00<?, ?it/s]"
      ]
     },
     "metadata": {},
     "output_type": "display_data"
    },
    {
     "data": {
      "application/vnd.jupyter.widget-view+json": {
       "model_id": "23cbef392e8d4bfc84dbd7febc183c96",
       "version_major": 2,
       "version_minor": 0
      },
      "text/plain": [
       "  0%|          | 0/10 [00:00<?, ?it/s]"
      ]
     },
     "metadata": {},
     "output_type": "display_data"
    },
    {
     "data": {
      "application/vnd.jupyter.widget-view+json": {
       "model_id": "7c4b5a3ecf8d4d6d9786a9bf21309693",
       "version_major": 2,
       "version_minor": 0
      },
      "text/plain": [
       "  0%|          | 0/5 [00:00<?, ?it/s]"
      ]
     },
     "metadata": {},
     "output_type": "display_data"
    },
    {
     "data": {
      "application/vnd.jupyter.widget-view+json": {
       "model_id": "f587a777d2424e6eacf0f6bce6a68963",
       "version_major": 2,
       "version_minor": 0
      },
      "text/plain": [
       "  0%|          | 0/10 [00:00<?, ?it/s]"
      ]
     },
     "metadata": {},
     "output_type": "display_data"
    },
    {
     "data": {
      "application/vnd.jupyter.widget-view+json": {
       "model_id": "6c45116b624c46858ad5405329f21d7c",
       "version_major": 2,
       "version_minor": 0
      },
      "text/plain": [
       "  0%|          | 0/5 [00:00<?, ?it/s]"
      ]
     },
     "metadata": {},
     "output_type": "display_data"
    },
    {
     "data": {
      "application/vnd.jupyter.widget-view+json": {
       "model_id": "f84e7e2521494820bd1feb40923f2e93",
       "version_major": 2,
       "version_minor": 0
      },
      "text/plain": [
       "  0%|          | 0/10 [00:00<?, ?it/s]"
      ]
     },
     "metadata": {},
     "output_type": "display_data"
    },
    {
     "data": {
      "application/vnd.jupyter.widget-view+json": {
       "model_id": "91d4f02de06941d2a051004190bf0687",
       "version_major": 2,
       "version_minor": 0
      },
      "text/plain": [
       "  0%|          | 0/5 [00:00<?, ?it/s]"
      ]
     },
     "metadata": {},
     "output_type": "display_data"
    },
    {
     "data": {
      "application/vnd.jupyter.widget-view+json": {
       "model_id": "2e14e971ce14436f9d10258b948a6008",
       "version_major": 2,
       "version_minor": 0
      },
      "text/plain": [
       "  0%|          | 0/10 [00:00<?, ?it/s]"
      ]
     },
     "metadata": {},
     "output_type": "display_data"
    },
    {
     "data": {
      "application/vnd.jupyter.widget-view+json": {
       "model_id": "457af97acb524c428e44b81d7ee2f4ed",
       "version_major": 2,
       "version_minor": 0
      },
      "text/plain": [
       "  0%|          | 0/5 [00:00<?, ?it/s]"
      ]
     },
     "metadata": {},
     "output_type": "display_data"
    },
    {
     "data": {
      "application/vnd.jupyter.widget-view+json": {
       "model_id": "6e429e11494e49c7a0137c1b25c7d65e",
       "version_major": 2,
       "version_minor": 0
      },
      "text/plain": [
       "  0%|          | 0/10 [00:00<?, ?it/s]"
      ]
     },
     "metadata": {},
     "output_type": "display_data"
    },
    {
     "data": {
      "application/vnd.jupyter.widget-view+json": {
       "model_id": "e661d89512164bb4963a794e0634b17a",
       "version_major": 2,
       "version_minor": 0
      },
      "text/plain": [
       "  0%|          | 0/5 [00:00<?, ?it/s]"
      ]
     },
     "metadata": {},
     "output_type": "display_data"
    },
    {
     "data": {
      "application/vnd.jupyter.widget-view+json": {
       "model_id": "6b3f7d740db34706a8cb0ba3ebf076ef",
       "version_major": 2,
       "version_minor": 0
      },
      "text/plain": [
       "  0%|          | 0/10 [00:00<?, ?it/s]"
      ]
     },
     "metadata": {},
     "output_type": "display_data"
    },
    {
     "data": {
      "application/vnd.jupyter.widget-view+json": {
       "model_id": "d36d52c2b94043bc8104ded03827cc4d",
       "version_major": 2,
       "version_minor": 0
      },
      "text/plain": [
       "  0%|          | 0/5 [00:00<?, ?it/s]"
      ]
     },
     "metadata": {},
     "output_type": "display_data"
    },
    {
     "data": {
      "application/vnd.jupyter.widget-view+json": {
       "model_id": "77067d0d0da548cb90a6727af847b31f",
       "version_major": 2,
       "version_minor": 0
      },
      "text/plain": [
       "  0%|          | 0/10 [00:00<?, ?it/s]"
      ]
     },
     "metadata": {},
     "output_type": "display_data"
    },
    {
     "data": {
      "application/vnd.jupyter.widget-view+json": {
       "model_id": "9ffc39982d934ebb8837811899d97889",
       "version_major": 2,
       "version_minor": 0
      },
      "text/plain": [
       "  0%|          | 0/5 [00:00<?, ?it/s]"
      ]
     },
     "metadata": {},
     "output_type": "display_data"
    },
    {
     "data": {
      "application/vnd.jupyter.widget-view+json": {
       "model_id": "3c74d29c9d5545a99de7003117e066df",
       "version_major": 2,
       "version_minor": 0
      },
      "text/plain": [
       "  0%|          | 0/10 [00:00<?, ?it/s]"
      ]
     },
     "metadata": {},
     "output_type": "display_data"
    },
    {
     "data": {
      "application/vnd.jupyter.widget-view+json": {
       "model_id": "d6ca8a7559424763aaf4a3cd38999604",
       "version_major": 2,
       "version_minor": 0
      },
      "text/plain": [
       "  0%|          | 0/5 [00:00<?, ?it/s]"
      ]
     },
     "metadata": {},
     "output_type": "display_data"
    },
    {
     "data": {
      "application/vnd.jupyter.widget-view+json": {
       "model_id": "8d81736181e143768befe7ff9772fa94",
       "version_major": 2,
       "version_minor": 0
      },
      "text/plain": [
       "  0%|          | 0/10 [00:00<?, ?it/s]"
      ]
     },
     "metadata": {},
     "output_type": "display_data"
    },
    {
     "data": {
      "application/vnd.jupyter.widget-view+json": {
       "model_id": "ef28f197a6ad41ff97c2fb751ebf938f",
       "version_major": 2,
       "version_minor": 0
      },
      "text/plain": [
       "  0%|          | 0/5 [00:00<?, ?it/s]"
      ]
     },
     "metadata": {},
     "output_type": "display_data"
    },
    {
     "data": {
      "application/vnd.jupyter.widget-view+json": {
       "model_id": "2f9dd451a6124c1eac39a44475985df6",
       "version_major": 2,
       "version_minor": 0
      },
      "text/plain": [
       "  0%|          | 0/10 [00:00<?, ?it/s]"
      ]
     },
     "metadata": {},
     "output_type": "display_data"
    },
    {
     "data": {
      "application/vnd.jupyter.widget-view+json": {
       "model_id": "4f4b9ee7b0754ae6a761bfb67ec016b5",
       "version_major": 2,
       "version_minor": 0
      },
      "text/plain": [
       "  0%|          | 0/5 [00:00<?, ?it/s]"
      ]
     },
     "metadata": {},
     "output_type": "display_data"
    },
    {
     "data": {
      "application/vnd.jupyter.widget-view+json": {
       "model_id": "c477532c759540b19b2ae5f91e35f537",
       "version_major": 2,
       "version_minor": 0
      },
      "text/plain": [
       "  0%|          | 0/10 [00:00<?, ?it/s]"
      ]
     },
     "metadata": {},
     "output_type": "display_data"
    },
    {
     "data": {
      "application/vnd.jupyter.widget-view+json": {
       "model_id": "a08f6d14d3fd401bbebbdc6ea296b316",
       "version_major": 2,
       "version_minor": 0
      },
      "text/plain": [
       "  0%|          | 0/5 [00:00<?, ?it/s]"
      ]
     },
     "metadata": {},
     "output_type": "display_data"
    },
    {
     "data": {
      "application/vnd.jupyter.widget-view+json": {
       "model_id": "07598222bbd84e3c90bf65aff728db49",
       "version_major": 2,
       "version_minor": 0
      },
      "text/plain": [
       "  0%|          | 0/10 [00:00<?, ?it/s]"
      ]
     },
     "metadata": {},
     "output_type": "display_data"
    },
    {
     "data": {
      "application/vnd.jupyter.widget-view+json": {
       "model_id": "93d607a515ac409a8dcb162055c09c70",
       "version_major": 2,
       "version_minor": 0
      },
      "text/plain": [
       "  0%|          | 0/5 [00:00<?, ?it/s]"
      ]
     },
     "metadata": {},
     "output_type": "display_data"
    },
    {
     "data": {
      "application/vnd.jupyter.widget-view+json": {
       "model_id": "ad18e8a3bcd14709b260d9bc3be45c6d",
       "version_major": 2,
       "version_minor": 0
      },
      "text/plain": [
       "  0%|          | 0/10 [00:00<?, ?it/s]"
      ]
     },
     "metadata": {},
     "output_type": "display_data"
    },
    {
     "data": {
      "application/vnd.jupyter.widget-view+json": {
       "model_id": "d225bac5f9c943978c985d047a15e6c7",
       "version_major": 2,
       "version_minor": 0
      },
      "text/plain": [
       "  0%|          | 0/5 [00:00<?, ?it/s]"
      ]
     },
     "metadata": {},
     "output_type": "display_data"
    },
    {
     "data": {
      "application/vnd.jupyter.widget-view+json": {
       "model_id": "5fb3920d7d8b4c6396f6017794bd1281",
       "version_major": 2,
       "version_minor": 0
      },
      "text/plain": [
       "  0%|          | 0/10 [00:00<?, ?it/s]"
      ]
     },
     "metadata": {},
     "output_type": "display_data"
    },
    {
     "data": {
      "application/vnd.jupyter.widget-view+json": {
       "model_id": "b53474aefdea498d9f9fc7fe1d76fac7",
       "version_major": 2,
       "version_minor": 0
      },
      "text/plain": [
       "  0%|          | 0/5 [00:00<?, ?it/s]"
      ]
     },
     "metadata": {},
     "output_type": "display_data"
    },
    {
     "data": {
      "application/vnd.jupyter.widget-view+json": {
       "model_id": "a32ba8d9caac4ef092ec9e558e5ee746",
       "version_major": 2,
       "version_minor": 0
      },
      "text/plain": [
       "  0%|          | 0/10 [00:00<?, ?it/s]"
      ]
     },
     "metadata": {},
     "output_type": "display_data"
    },
    {
     "data": {
      "application/vnd.jupyter.widget-view+json": {
       "model_id": "c2cb8694e36b4f00a8149a41cffcc505",
       "version_major": 2,
       "version_minor": 0
      },
      "text/plain": [
       "  0%|          | 0/5 [00:00<?, ?it/s]"
      ]
     },
     "metadata": {},
     "output_type": "display_data"
    },
    {
     "data": {
      "application/vnd.jupyter.widget-view+json": {
       "model_id": "26eb4b0842c64aba90def891d9e35ad7",
       "version_major": 2,
       "version_minor": 0
      },
      "text/plain": [
       "  0%|          | 0/10 [00:00<?, ?it/s]"
      ]
     },
     "metadata": {},
     "output_type": "display_data"
    },
    {
     "data": {
      "application/vnd.jupyter.widget-view+json": {
       "model_id": "84315e91520046189f1801b6c51d99c6",
       "version_major": 2,
       "version_minor": 0
      },
      "text/plain": [
       "  0%|          | 0/5 [00:00<?, ?it/s]"
      ]
     },
     "metadata": {},
     "output_type": "display_data"
    },
    {
     "data": {
      "application/vnd.jupyter.widget-view+json": {
       "model_id": "e046b3d096a242b3bc62d091826f6779",
       "version_major": 2,
       "version_minor": 0
      },
      "text/plain": [
       "  0%|          | 0/10 [00:00<?, ?it/s]"
      ]
     },
     "metadata": {},
     "output_type": "display_data"
    },
    {
     "data": {
      "application/vnd.jupyter.widget-view+json": {
       "model_id": "b6b5ca7eac064e3c84ce8098cd027f7f",
       "version_major": 2,
       "version_minor": 0
      },
      "text/plain": [
       "  0%|          | 0/5 [00:00<?, ?it/s]"
      ]
     },
     "metadata": {},
     "output_type": "display_data"
    },
    {
     "data": {
      "application/vnd.jupyter.widget-view+json": {
       "model_id": "eebf79f81cc848f3a00ae33e6663008e",
       "version_major": 2,
       "version_minor": 0
      },
      "text/plain": [
       "  0%|          | 0/10 [00:00<?, ?it/s]"
      ]
     },
     "metadata": {},
     "output_type": "display_data"
    },
    {
     "data": {
      "application/vnd.jupyter.widget-view+json": {
       "model_id": "7c5286fe2dfe4f09a556b8d69c65c0ab",
       "version_major": 2,
       "version_minor": 0
      },
      "text/plain": [
       "  0%|          | 0/5 [00:00<?, ?it/s]"
      ]
     },
     "metadata": {},
     "output_type": "display_data"
    },
    {
     "data": {
      "application/vnd.jupyter.widget-view+json": {
       "model_id": "210b8d15a3e94befaad5681066b2a1e1",
       "version_major": 2,
       "version_minor": 0
      },
      "text/plain": [
       "  0%|          | 0/10 [00:00<?, ?it/s]"
      ]
     },
     "metadata": {},
     "output_type": "display_data"
    },
    {
     "data": {
      "application/vnd.jupyter.widget-view+json": {
       "model_id": "f581414a967243a5994c942775f74ba2",
       "version_major": 2,
       "version_minor": 0
      },
      "text/plain": [
       "  0%|          | 0/5 [00:00<?, ?it/s]"
      ]
     },
     "metadata": {},
     "output_type": "display_data"
    },
    {
     "data": {
      "application/vnd.jupyter.widget-view+json": {
       "model_id": "06a70e351c6b41fdb904bc69067a7a97",
       "version_major": 2,
       "version_minor": 0
      },
      "text/plain": [
       "  0%|          | 0/10 [00:00<?, ?it/s]"
      ]
     },
     "metadata": {},
     "output_type": "display_data"
    },
    {
     "data": {
      "application/vnd.jupyter.widget-view+json": {
       "model_id": "57bf0c3646454f0bb5363b08f73e41b9",
       "version_major": 2,
       "version_minor": 0
      },
      "text/plain": [
       "  0%|          | 0/5 [00:00<?, ?it/s]"
      ]
     },
     "metadata": {},
     "output_type": "display_data"
    },
    {
     "data": {
      "application/vnd.jupyter.widget-view+json": {
       "model_id": "c7cc8c0d06f74650bdfdcf70969a95aa",
       "version_major": 2,
       "version_minor": 0
      },
      "text/plain": [
       "  0%|          | 0/10 [00:00<?, ?it/s]"
      ]
     },
     "metadata": {},
     "output_type": "display_data"
    },
    {
     "data": {
      "application/vnd.jupyter.widget-view+json": {
       "model_id": "ebc7fed3726740b4a3957b12ca101f86",
       "version_major": 2,
       "version_minor": 0
      },
      "text/plain": [
       "  0%|          | 0/5 [00:00<?, ?it/s]"
      ]
     },
     "metadata": {},
     "output_type": "display_data"
    },
    {
     "data": {
      "application/vnd.jupyter.widget-view+json": {
       "model_id": "d7d32ddcb5e44aa1a2b2ba9199ed8aa0",
       "version_major": 2,
       "version_minor": 0
      },
      "text/plain": [
       "  0%|          | 0/10 [00:00<?, ?it/s]"
      ]
     },
     "metadata": {},
     "output_type": "display_data"
    },
    {
     "data": {
      "application/vnd.jupyter.widget-view+json": {
       "model_id": "cd2acad6563e46c9a2c8994084fd775c",
       "version_major": 2,
       "version_minor": 0
      },
      "text/plain": [
       "  0%|          | 0/5 [00:00<?, ?it/s]"
      ]
     },
     "metadata": {},
     "output_type": "display_data"
    },
    {
     "data": {
      "application/vnd.jupyter.widget-view+json": {
       "model_id": "b6bf71ad685c4158a55902cb58fd7ac3",
       "version_major": 2,
       "version_minor": 0
      },
      "text/plain": [
       "  0%|          | 0/10 [00:00<?, ?it/s]"
      ]
     },
     "metadata": {},
     "output_type": "display_data"
    },
    {
     "data": {
      "application/vnd.jupyter.widget-view+json": {
       "model_id": "22558b03fb9342db99dc76a41a447921",
       "version_major": 2,
       "version_minor": 0
      },
      "text/plain": [
       "  0%|          | 0/5 [00:00<?, ?it/s]"
      ]
     },
     "metadata": {},
     "output_type": "display_data"
    },
    {
     "data": {
      "application/vnd.jupyter.widget-view+json": {
       "model_id": "6007d4ef35af4f5c91e4654886ba9fed",
       "version_major": 2,
       "version_minor": 0
      },
      "text/plain": [
       "  0%|          | 0/10 [00:00<?, ?it/s]"
      ]
     },
     "metadata": {},
     "output_type": "display_data"
    },
    {
     "data": {
      "application/vnd.jupyter.widget-view+json": {
       "model_id": "5b1f589734ce490eba6c3911f129d37e",
       "version_major": 2,
       "version_minor": 0
      },
      "text/plain": [
       "  0%|          | 0/5 [00:00<?, ?it/s]"
      ]
     },
     "metadata": {},
     "output_type": "display_data"
    },
    {
     "data": {
      "application/vnd.jupyter.widget-view+json": {
       "model_id": "a7fc151022f742c1b81786452f4053e0",
       "version_major": 2,
       "version_minor": 0
      },
      "text/plain": [
       "  0%|          | 0/10 [00:00<?, ?it/s]"
      ]
     },
     "metadata": {},
     "output_type": "display_data"
    },
    {
     "data": {
      "application/vnd.jupyter.widget-view+json": {
       "model_id": "cefc7d3760ac433aa7f4560819dca199",
       "version_major": 2,
       "version_minor": 0
      },
      "text/plain": [
       "  0%|          | 0/5 [00:00<?, ?it/s]"
      ]
     },
     "metadata": {},
     "output_type": "display_data"
    },
    {
     "data": {
      "application/vnd.jupyter.widget-view+json": {
       "model_id": "0accedf363894a72a54d3d8e25d9884f",
       "version_major": 2,
       "version_minor": 0
      },
      "text/plain": [
       "  0%|          | 0/10 [00:00<?, ?it/s]"
      ]
     },
     "metadata": {},
     "output_type": "display_data"
    },
    {
     "data": {
      "application/vnd.jupyter.widget-view+json": {
       "model_id": "2483b8eb18d44d2baea73d4f05b45ce6",
       "version_major": 2,
       "version_minor": 0
      },
      "text/plain": [
       "  0%|          | 0/5 [00:00<?, ?it/s]"
      ]
     },
     "metadata": {},
     "output_type": "display_data"
    },
    {
     "data": {
      "application/vnd.jupyter.widget-view+json": {
       "model_id": "831f1f8afa1d40d2997a3e80cdad25ad",
       "version_major": 2,
       "version_minor": 0
      },
      "text/plain": [
       "  0%|          | 0/10 [00:00<?, ?it/s]"
      ]
     },
     "metadata": {},
     "output_type": "display_data"
    },
    {
     "data": {
      "application/vnd.jupyter.widget-view+json": {
       "model_id": "e0f609b98027401c82d6486ad7bfafdc",
       "version_major": 2,
       "version_minor": 0
      },
      "text/plain": [
       "  0%|          | 0/5 [00:00<?, ?it/s]"
      ]
     },
     "metadata": {},
     "output_type": "display_data"
    },
    {
     "data": {
      "application/vnd.jupyter.widget-view+json": {
       "model_id": "b96a05b82b6d4d13b693a1e4a5bc6893",
       "version_major": 2,
       "version_minor": 0
      },
      "text/plain": [
       "  0%|          | 0/10 [00:00<?, ?it/s]"
      ]
     },
     "metadata": {},
     "output_type": "display_data"
    },
    {
     "data": {
      "application/vnd.jupyter.widget-view+json": {
       "model_id": "c109bc20a5ba4d0e8374585ce1229860",
       "version_major": 2,
       "version_minor": 0
      },
      "text/plain": [
       "  0%|          | 0/5 [00:00<?, ?it/s]"
      ]
     },
     "metadata": {},
     "output_type": "display_data"
    },
    {
     "data": {
      "application/vnd.jupyter.widget-view+json": {
       "model_id": "daeecc6adb874c77a08318c56151f595",
       "version_major": 2,
       "version_minor": 0
      },
      "text/plain": [
       "  0%|          | 0/10 [00:00<?, ?it/s]"
      ]
     },
     "metadata": {},
     "output_type": "display_data"
    },
    {
     "data": {
      "application/vnd.jupyter.widget-view+json": {
       "model_id": "3dc69213052c430abd2dbb6f75bc02fe",
       "version_major": 2,
       "version_minor": 0
      },
      "text/plain": [
       "  0%|          | 0/5 [00:00<?, ?it/s]"
      ]
     },
     "metadata": {},
     "output_type": "display_data"
    },
    {
     "data": {
      "application/vnd.jupyter.widget-view+json": {
       "model_id": "e1c9ab2c837e4ae5a099d8c0c8b48b4a",
       "version_major": 2,
       "version_minor": 0
      },
      "text/plain": [
       "  0%|          | 0/10 [00:00<?, ?it/s]"
      ]
     },
     "metadata": {},
     "output_type": "display_data"
    },
    {
     "data": {
      "application/vnd.jupyter.widget-view+json": {
       "model_id": "8c6e68bb2803421e9013a0024b372441",
       "version_major": 2,
       "version_minor": 0
      },
      "text/plain": [
       "  0%|          | 0/5 [00:00<?, ?it/s]"
      ]
     },
     "metadata": {},
     "output_type": "display_data"
    },
    {
     "data": {
      "application/vnd.jupyter.widget-view+json": {
       "model_id": "08b376677db444b8aba1df0a8792b9db",
       "version_major": 2,
       "version_minor": 0
      },
      "text/plain": [
       "  0%|          | 0/10 [00:00<?, ?it/s]"
      ]
     },
     "metadata": {},
     "output_type": "display_data"
    },
    {
     "data": {
      "application/vnd.jupyter.widget-view+json": {
       "model_id": "6c2371d9a7c8462b83eda28ac4b75232",
       "version_major": 2,
       "version_minor": 0
      },
      "text/plain": [
       "  0%|          | 0/5 [00:00<?, ?it/s]"
      ]
     },
     "metadata": {},
     "output_type": "display_data"
    },
    {
     "data": {
      "application/vnd.jupyter.widget-view+json": {
       "model_id": "57985066cd6d4e41882c7336d39b5a1e",
       "version_major": 2,
       "version_minor": 0
      },
      "text/plain": [
       "  0%|          | 0/10 [00:00<?, ?it/s]"
      ]
     },
     "metadata": {},
     "output_type": "display_data"
    },
    {
     "data": {
      "application/vnd.jupyter.widget-view+json": {
       "model_id": "ea2bf6a2a20743c5b788e21e8a3b1293",
       "version_major": 2,
       "version_minor": 0
      },
      "text/plain": [
       "  0%|          | 0/5 [00:00<?, ?it/s]"
      ]
     },
     "metadata": {},
     "output_type": "display_data"
    },
    {
     "data": {
      "application/vnd.jupyter.widget-view+json": {
       "model_id": "292c7996bc4840e78a3247c3dd3db0a0",
       "version_major": 2,
       "version_minor": 0
      },
      "text/plain": [
       "  0%|          | 0/10 [00:00<?, ?it/s]"
      ]
     },
     "metadata": {},
     "output_type": "display_data"
    },
    {
     "data": {
      "application/vnd.jupyter.widget-view+json": {
       "model_id": "fee1171f0d924d7f80d7b77d622c8d14",
       "version_major": 2,
       "version_minor": 0
      },
      "text/plain": [
       "  0%|          | 0/5 [00:00<?, ?it/s]"
      ]
     },
     "metadata": {},
     "output_type": "display_data"
    },
    {
     "data": {
      "application/vnd.jupyter.widget-view+json": {
       "model_id": "77d2ab9c3e39457aa0ac13145c930139",
       "version_major": 2,
       "version_minor": 0
      },
      "text/plain": [
       "  0%|          | 0/10 [00:00<?, ?it/s]"
      ]
     },
     "metadata": {},
     "output_type": "display_data"
    },
    {
     "data": {
      "application/vnd.jupyter.widget-view+json": {
       "model_id": "afad813ecdad47cd86228f42428052be",
       "version_major": 2,
       "version_minor": 0
      },
      "text/plain": [
       "  0%|          | 0/5 [00:00<?, ?it/s]"
      ]
     },
     "metadata": {},
     "output_type": "display_data"
    },
    {
     "data": {
      "application/vnd.jupyter.widget-view+json": {
       "model_id": "15741915b57c42eba638dba2b1870e8d",
       "version_major": 2,
       "version_minor": 0
      },
      "text/plain": [
       "  0%|          | 0/10 [00:00<?, ?it/s]"
      ]
     },
     "metadata": {},
     "output_type": "display_data"
    },
    {
     "data": {
      "application/vnd.jupyter.widget-view+json": {
       "model_id": "3af94182a18f43218b9ed4d2484475b3",
       "version_major": 2,
       "version_minor": 0
      },
      "text/plain": [
       "  0%|          | 0/5 [00:00<?, ?it/s]"
      ]
     },
     "metadata": {},
     "output_type": "display_data"
    },
    {
     "data": {
      "application/vnd.jupyter.widget-view+json": {
       "model_id": "dfa31784738745e79b79f3c55909308d",
       "version_major": 2,
       "version_minor": 0
      },
      "text/plain": [
       "  0%|          | 0/10 [00:00<?, ?it/s]"
      ]
     },
     "metadata": {},
     "output_type": "display_data"
    },
    {
     "data": {
      "application/vnd.jupyter.widget-view+json": {
       "model_id": "a1d68605b5fc48aebd990a90a6852bed",
       "version_major": 2,
       "version_minor": 0
      },
      "text/plain": [
       "  0%|          | 0/5 [00:00<?, ?it/s]"
      ]
     },
     "metadata": {},
     "output_type": "display_data"
    },
    {
     "data": {
      "application/vnd.jupyter.widget-view+json": {
       "model_id": "aad2a1f66dfb4bc282127b35585f5482",
       "version_major": 2,
       "version_minor": 0
      },
      "text/plain": [
       "  0%|          | 0/10 [00:00<?, ?it/s]"
      ]
     },
     "metadata": {},
     "output_type": "display_data"
    },
    {
     "data": {
      "application/vnd.jupyter.widget-view+json": {
       "model_id": "04d5d24921324ddfb22b8bd1b0cf0dd6",
       "version_major": 2,
       "version_minor": 0
      },
      "text/plain": [
       "  0%|          | 0/5 [00:00<?, ?it/s]"
      ]
     },
     "metadata": {},
     "output_type": "display_data"
    },
    {
     "data": {
      "application/vnd.jupyter.widget-view+json": {
       "model_id": "1544138515ae4f2b938312f51a01f16d",
       "version_major": 2,
       "version_minor": 0
      },
      "text/plain": [
       "  0%|          | 0/10 [00:00<?, ?it/s]"
      ]
     },
     "metadata": {},
     "output_type": "display_data"
    },
    {
     "data": {
      "application/vnd.jupyter.widget-view+json": {
       "model_id": "da609ceefc5641fab96adad2ec83f83e",
       "version_major": 2,
       "version_minor": 0
      },
      "text/plain": [
       "  0%|          | 0/5 [00:00<?, ?it/s]"
      ]
     },
     "metadata": {},
     "output_type": "display_data"
    },
    {
     "data": {
      "application/vnd.jupyter.widget-view+json": {
       "model_id": "1862e61ebf4c4248a71918a8f6db5af2",
       "version_major": 2,
       "version_minor": 0
      },
      "text/plain": [
       "  0%|          | 0/10 [00:00<?, ?it/s]"
      ]
     },
     "metadata": {},
     "output_type": "display_data"
    },
    {
     "data": {
      "application/vnd.jupyter.widget-view+json": {
       "model_id": "27ac89ac692641ca88d168c278336b1c",
       "version_major": 2,
       "version_minor": 0
      },
      "text/plain": [
       "  0%|          | 0/5 [00:00<?, ?it/s]"
      ]
     },
     "metadata": {},
     "output_type": "display_data"
    },
    {
     "data": {
      "application/vnd.jupyter.widget-view+json": {
       "model_id": "c0259730ee7249d0986a541c091fb2e3",
       "version_major": 2,
       "version_minor": 0
      },
      "text/plain": [
       "  0%|          | 0/10 [00:00<?, ?it/s]"
      ]
     },
     "metadata": {},
     "output_type": "display_data"
    },
    {
     "data": {
      "application/vnd.jupyter.widget-view+json": {
       "model_id": "abe29d8364eb4465a3a32114ea850319",
       "version_major": 2,
       "version_minor": 0
      },
      "text/plain": [
       "  0%|          | 0/5 [00:00<?, ?it/s]"
      ]
     },
     "metadata": {},
     "output_type": "display_data"
    },
    {
     "data": {
      "application/vnd.jupyter.widget-view+json": {
       "model_id": "feac0629c21d4c3faf382feb7afd7b10",
       "version_major": 2,
       "version_minor": 0
      },
      "text/plain": [
       "  0%|          | 0/10 [00:00<?, ?it/s]"
      ]
     },
     "metadata": {},
     "output_type": "display_data"
    },
    {
     "data": {
      "application/vnd.jupyter.widget-view+json": {
       "model_id": "5c65131c9eff4385afa79772291e12a2",
       "version_major": 2,
       "version_minor": 0
      },
      "text/plain": [
       "  0%|          | 0/5 [00:00<?, ?it/s]"
      ]
     },
     "metadata": {},
     "output_type": "display_data"
    },
    {
     "data": {
      "application/vnd.jupyter.widget-view+json": {
       "model_id": "a2f80285deb8439b98fa9e6acd64c307",
       "version_major": 2,
       "version_minor": 0
      },
      "text/plain": [
       "  0%|          | 0/10 [00:00<?, ?it/s]"
      ]
     },
     "metadata": {},
     "output_type": "display_data"
    },
    {
     "data": {
      "application/vnd.jupyter.widget-view+json": {
       "model_id": "fc975c2a93d94287bea11050fddfca37",
       "version_major": 2,
       "version_minor": 0
      },
      "text/plain": [
       "  0%|          | 0/5 [00:00<?, ?it/s]"
      ]
     },
     "metadata": {},
     "output_type": "display_data"
    },
    {
     "data": {
      "application/vnd.jupyter.widget-view+json": {
       "model_id": "06fb9fc1ca684148864b3eceff6fb91e",
       "version_major": 2,
       "version_minor": 0
      },
      "text/plain": [
       "  0%|          | 0/10 [00:00<?, ?it/s]"
      ]
     },
     "metadata": {},
     "output_type": "display_data"
    },
    {
     "data": {
      "application/vnd.jupyter.widget-view+json": {
       "model_id": "15cdfc4ea53e4477951a675d46a5fa22",
       "version_major": 2,
       "version_minor": 0
      },
      "text/plain": [
       "  0%|          | 0/5 [00:00<?, ?it/s]"
      ]
     },
     "metadata": {},
     "output_type": "display_data"
    },
    {
     "data": {
      "application/vnd.jupyter.widget-view+json": {
       "model_id": "cd7adaaf724a49209f0c4f55f105aebc",
       "version_major": 2,
       "version_minor": 0
      },
      "text/plain": [
       "  0%|          | 0/10 [00:00<?, ?it/s]"
      ]
     },
     "metadata": {},
     "output_type": "display_data"
    },
    {
     "data": {
      "application/vnd.jupyter.widget-view+json": {
       "model_id": "2deaceb0568345cdb37995a588ac4d60",
       "version_major": 2,
       "version_minor": 0
      },
      "text/plain": [
       "  0%|          | 0/5 [00:00<?, ?it/s]"
      ]
     },
     "metadata": {},
     "output_type": "display_data"
    },
    {
     "data": {
      "application/vnd.jupyter.widget-view+json": {
       "model_id": "bb409e2ee0d548f4a7a2ea756d8883db",
       "version_major": 2,
       "version_minor": 0
      },
      "text/plain": [
       "  0%|          | 0/10 [00:00<?, ?it/s]"
      ]
     },
     "metadata": {},
     "output_type": "display_data"
    },
    {
     "data": {
      "application/vnd.jupyter.widget-view+json": {
       "model_id": "7ea3b979103b439b93240dec59802d01",
       "version_major": 2,
       "version_minor": 0
      },
      "text/plain": [
       "  0%|          | 0/5 [00:00<?, ?it/s]"
      ]
     },
     "metadata": {},
     "output_type": "display_data"
    },
    {
     "data": {
      "application/vnd.jupyter.widget-view+json": {
       "model_id": "262a8a9f48634c38992b978bcfbec648",
       "version_major": 2,
       "version_minor": 0
      },
      "text/plain": [
       "  0%|          | 0/10 [00:00<?, ?it/s]"
      ]
     },
     "metadata": {},
     "output_type": "display_data"
    },
    {
     "data": {
      "application/vnd.jupyter.widget-view+json": {
       "model_id": "6cb4ef45df4d46138b0fdc83a99715e2",
       "version_major": 2,
       "version_minor": 0
      },
      "text/plain": [
       "  0%|          | 0/5 [00:00<?, ?it/s]"
      ]
     },
     "metadata": {},
     "output_type": "display_data"
    },
    {
     "data": {
      "application/vnd.jupyter.widget-view+json": {
       "model_id": "a06ce98e049445ada12d58b31f187c49",
       "version_major": 2,
       "version_minor": 0
      },
      "text/plain": [
       "  0%|          | 0/10 [00:00<?, ?it/s]"
      ]
     },
     "metadata": {},
     "output_type": "display_data"
    },
    {
     "data": {
      "application/vnd.jupyter.widget-view+json": {
       "model_id": "6d99fe69de464d9e9592a8be838205ed",
       "version_major": 2,
       "version_minor": 0
      },
      "text/plain": [
       "  0%|          | 0/5 [00:00<?, ?it/s]"
      ]
     },
     "metadata": {},
     "output_type": "display_data"
    },
    {
     "data": {
      "application/vnd.jupyter.widget-view+json": {
       "model_id": "1ffaa3535ad741719e8d821d0a25f805",
       "version_major": 2,
       "version_minor": 0
      },
      "text/plain": [
       "  0%|          | 0/10 [00:00<?, ?it/s]"
      ]
     },
     "metadata": {},
     "output_type": "display_data"
    },
    {
     "data": {
      "application/vnd.jupyter.widget-view+json": {
       "model_id": "885729c2ed12440290bc7bfc476e9cb2",
       "version_major": 2,
       "version_minor": 0
      },
      "text/plain": [
       "  0%|          | 0/5 [00:00<?, ?it/s]"
      ]
     },
     "metadata": {},
     "output_type": "display_data"
    },
    {
     "data": {
      "application/vnd.jupyter.widget-view+json": {
       "model_id": "6649ca2e9927484b80e1da35769dec4c",
       "version_major": 2,
       "version_minor": 0
      },
      "text/plain": [
       "  0%|          | 0/10 [00:00<?, ?it/s]"
      ]
     },
     "metadata": {},
     "output_type": "display_data"
    },
    {
     "data": {
      "application/vnd.jupyter.widget-view+json": {
       "model_id": "34e854d0508f44abacead4a61e7f5d28",
       "version_major": 2,
       "version_minor": 0
      },
      "text/plain": [
       "  0%|          | 0/5 [00:00<?, ?it/s]"
      ]
     },
     "metadata": {},
     "output_type": "display_data"
    },
    {
     "data": {
      "application/vnd.jupyter.widget-view+json": {
       "model_id": "c8f3863316ea4b119a3bb46fd33f52cc",
       "version_major": 2,
       "version_minor": 0
      },
      "text/plain": [
       "  0%|          | 0/10 [00:00<?, ?it/s]"
      ]
     },
     "metadata": {},
     "output_type": "display_data"
    },
    {
     "data": {
      "application/vnd.jupyter.widget-view+json": {
       "model_id": "49d8fb6068a1488b8f9112f08d0ee15f",
       "version_major": 2,
       "version_minor": 0
      },
      "text/plain": [
       "  0%|          | 0/5 [00:00<?, ?it/s]"
      ]
     },
     "metadata": {},
     "output_type": "display_data"
    },
    {
     "data": {
      "application/vnd.jupyter.widget-view+json": {
       "model_id": "4cc797acf6524933bb6bddf12130de07",
       "version_major": 2,
       "version_minor": 0
      },
      "text/plain": [
       "  0%|          | 0/10 [00:00<?, ?it/s]"
      ]
     },
     "metadata": {},
     "output_type": "display_data"
    },
    {
     "data": {
      "application/vnd.jupyter.widget-view+json": {
       "model_id": "68dac21ce55847629f47f315a32c8d3b",
       "version_major": 2,
       "version_minor": 0
      },
      "text/plain": [
       "  0%|          | 0/5 [00:00<?, ?it/s]"
      ]
     },
     "metadata": {},
     "output_type": "display_data"
    },
    {
     "data": {
      "application/vnd.jupyter.widget-view+json": {
       "model_id": "611473d288f741ea8d686296c08cd968",
       "version_major": 2,
       "version_minor": 0
      },
      "text/plain": [
       "  0%|          | 0/10 [00:00<?, ?it/s]"
      ]
     },
     "metadata": {},
     "output_type": "display_data"
    },
    {
     "data": {
      "application/vnd.jupyter.widget-view+json": {
       "model_id": "6aa64b12ef9446ccb8472dbf462094e0",
       "version_major": 2,
       "version_minor": 0
      },
      "text/plain": [
       "  0%|          | 0/5 [00:00<?, ?it/s]"
      ]
     },
     "metadata": {},
     "output_type": "display_data"
    },
    {
     "data": {
      "application/vnd.jupyter.widget-view+json": {
       "model_id": "7dab85e6c2c0473c88a19cd6ea5510ca",
       "version_major": 2,
       "version_minor": 0
      },
      "text/plain": [
       "  0%|          | 0/10 [00:00<?, ?it/s]"
      ]
     },
     "metadata": {},
     "output_type": "display_data"
    },
    {
     "data": {
      "application/vnd.jupyter.widget-view+json": {
       "model_id": "73aed22d766c4afaac6ccae63b3110f5",
       "version_major": 2,
       "version_minor": 0
      },
      "text/plain": [
       "  0%|          | 0/5 [00:00<?, ?it/s]"
      ]
     },
     "metadata": {},
     "output_type": "display_data"
    },
    {
     "data": {
      "application/vnd.jupyter.widget-view+json": {
       "model_id": "d1701b11d50943b3bd43a7e04e0d285e",
       "version_major": 2,
       "version_minor": 0
      },
      "text/plain": [
       "  0%|          | 0/10 [00:00<?, ?it/s]"
      ]
     },
     "metadata": {},
     "output_type": "display_data"
    },
    {
     "data": {
      "application/vnd.jupyter.widget-view+json": {
       "model_id": "8b189b1b95f740a2bf4b2f858ede0908",
       "version_major": 2,
       "version_minor": 0
      },
      "text/plain": [
       "  0%|          | 0/5 [00:00<?, ?it/s]"
      ]
     },
     "metadata": {},
     "output_type": "display_data"
    },
    {
     "data": {
      "application/vnd.jupyter.widget-view+json": {
       "model_id": "3041bece14a4438daf065d5944e06986",
       "version_major": 2,
       "version_minor": 0
      },
      "text/plain": [
       "  0%|          | 0/10 [00:00<?, ?it/s]"
      ]
     },
     "metadata": {},
     "output_type": "display_data"
    },
    {
     "data": {
      "application/vnd.jupyter.widget-view+json": {
       "model_id": "3f81aff7a6474411bcd0950764af64b0",
       "version_major": 2,
       "version_minor": 0
      },
      "text/plain": [
       "  0%|          | 0/5 [00:00<?, ?it/s]"
      ]
     },
     "metadata": {},
     "output_type": "display_data"
    },
    {
     "data": {
      "application/vnd.jupyter.widget-view+json": {
       "model_id": "93a423180de348ba86b120b5c338b234",
       "version_major": 2,
       "version_minor": 0
      },
      "text/plain": [
       "  0%|          | 0/10 [00:00<?, ?it/s]"
      ]
     },
     "metadata": {},
     "output_type": "display_data"
    },
    {
     "data": {
      "application/vnd.jupyter.widget-view+json": {
       "model_id": "187072709209465bb481d578931e3ab2",
       "version_major": 2,
       "version_minor": 0
      },
      "text/plain": [
       "  0%|          | 0/5 [00:00<?, ?it/s]"
      ]
     },
     "metadata": {},
     "output_type": "display_data"
    },
    {
     "data": {
      "application/vnd.jupyter.widget-view+json": {
       "model_id": "bed513fcdeb34cbdbbd8a9fb189eb8b9",
       "version_major": 2,
       "version_minor": 0
      },
      "text/plain": [
       "  0%|          | 0/10 [00:00<?, ?it/s]"
      ]
     },
     "metadata": {},
     "output_type": "display_data"
    },
    {
     "data": {
      "application/vnd.jupyter.widget-view+json": {
       "model_id": "c51dd425455d468f8cd60f7073b9074f",
       "version_major": 2,
       "version_minor": 0
      },
      "text/plain": [
       "  0%|          | 0/5 [00:00<?, ?it/s]"
      ]
     },
     "metadata": {},
     "output_type": "display_data"
    },
    {
     "data": {
      "application/vnd.jupyter.widget-view+json": {
       "model_id": "80e525ba4c1747d882107e36cf9ba78a",
       "version_major": 2,
       "version_minor": 0
      },
      "text/plain": [
       "  0%|          | 0/10 [00:00<?, ?it/s]"
      ]
     },
     "metadata": {},
     "output_type": "display_data"
    },
    {
     "data": {
      "application/vnd.jupyter.widget-view+json": {
       "model_id": "826c594a43ce405eaa6a3756f318226b",
       "version_major": 2,
       "version_minor": 0
      },
      "text/plain": [
       "  0%|          | 0/5 [00:00<?, ?it/s]"
      ]
     },
     "metadata": {},
     "output_type": "display_data"
    },
    {
     "data": {
      "application/vnd.jupyter.widget-view+json": {
       "model_id": "c7af69a76e02495ab6ebfe069e3bc051",
       "version_major": 2,
       "version_minor": 0
      },
      "text/plain": [
       "  0%|          | 0/10 [00:00<?, ?it/s]"
      ]
     },
     "metadata": {},
     "output_type": "display_data"
    },
    {
     "data": {
      "application/vnd.jupyter.widget-view+json": {
       "model_id": "12f2304459a54610ba52e0bcb61af6b7",
       "version_major": 2,
       "version_minor": 0
      },
      "text/plain": [
       "  0%|          | 0/5 [00:00<?, ?it/s]"
      ]
     },
     "metadata": {},
     "output_type": "display_data"
    },
    {
     "data": {
      "application/vnd.jupyter.widget-view+json": {
       "model_id": "97aefc5c9b794a3fac11e08faafc196f",
       "version_major": 2,
       "version_minor": 0
      },
      "text/plain": [
       "  0%|          | 0/10 [00:00<?, ?it/s]"
      ]
     },
     "metadata": {},
     "output_type": "display_data"
    },
    {
     "data": {
      "application/vnd.jupyter.widget-view+json": {
       "model_id": "040be7cb58cb4b7a9d6a5e88ac6f94fd",
       "version_major": 2,
       "version_minor": 0
      },
      "text/plain": [
       "  0%|          | 0/5 [00:00<?, ?it/s]"
      ]
     },
     "metadata": {},
     "output_type": "display_data"
    },
    {
     "data": {
      "application/vnd.jupyter.widget-view+json": {
       "model_id": "b06ead680b914f959bc8e865cf1fca3b",
       "version_major": 2,
       "version_minor": 0
      },
      "text/plain": [
       "  0%|          | 0/10 [00:00<?, ?it/s]"
      ]
     },
     "metadata": {},
     "output_type": "display_data"
    },
    {
     "data": {
      "application/vnd.jupyter.widget-view+json": {
       "model_id": "48cf3f7d8aff4473bc12dda8dfd15d7f",
       "version_major": 2,
       "version_minor": 0
      },
      "text/plain": [
       "  0%|          | 0/5 [00:00<?, ?it/s]"
      ]
     },
     "metadata": {},
     "output_type": "display_data"
    },
    {
     "data": {
      "application/vnd.jupyter.widget-view+json": {
       "model_id": "3344edda0dd44e8d9f26e23ad03a122c",
       "version_major": 2,
       "version_minor": 0
      },
      "text/plain": [
       "  0%|          | 0/10 [00:00<?, ?it/s]"
      ]
     },
     "metadata": {},
     "output_type": "display_data"
    },
    {
     "data": {
      "application/vnd.jupyter.widget-view+json": {
       "model_id": "2ca9765a97544586a378b7990aaa877e",
       "version_major": 2,
       "version_minor": 0
      },
      "text/plain": [
       "  0%|          | 0/5 [00:00<?, ?it/s]"
      ]
     },
     "metadata": {},
     "output_type": "display_data"
    },
    {
     "data": {
      "application/vnd.jupyter.widget-view+json": {
       "model_id": "a80ae5ab7bb64a46bd1e87fa85d019ef",
       "version_major": 2,
       "version_minor": 0
      },
      "text/plain": [
       "  0%|          | 0/10 [00:00<?, ?it/s]"
      ]
     },
     "metadata": {},
     "output_type": "display_data"
    },
    {
     "data": {
      "application/vnd.jupyter.widget-view+json": {
       "model_id": "8b42d2174902485c8d430aa81f1ca0fd",
       "version_major": 2,
       "version_minor": 0
      },
      "text/plain": [
       "  0%|          | 0/5 [00:00<?, ?it/s]"
      ]
     },
     "metadata": {},
     "output_type": "display_data"
    },
    {
     "data": {
      "application/vnd.jupyter.widget-view+json": {
       "model_id": "ae7e233b01e84ae1a089c21214582a30",
       "version_major": 2,
       "version_minor": 0
      },
      "text/plain": [
       "  0%|          | 0/10 [00:00<?, ?it/s]"
      ]
     },
     "metadata": {},
     "output_type": "display_data"
    },
    {
     "data": {
      "application/vnd.jupyter.widget-view+json": {
       "model_id": "3ee98741b1b34bdbb3ad021d4545df26",
       "version_major": 2,
       "version_minor": 0
      },
      "text/plain": [
       "  0%|          | 0/5 [00:00<?, ?it/s]"
      ]
     },
     "metadata": {},
     "output_type": "display_data"
    },
    {
     "data": {
      "application/vnd.jupyter.widget-view+json": {
       "model_id": "745174a73f0241c48e9087fe830775a8",
       "version_major": 2,
       "version_minor": 0
      },
      "text/plain": [
       "  0%|          | 0/10 [00:00<?, ?it/s]"
      ]
     },
     "metadata": {},
     "output_type": "display_data"
    },
    {
     "data": {
      "application/vnd.jupyter.widget-view+json": {
       "model_id": "de3e3b4a4aa04d14aa7786f29b100a74",
       "version_major": 2,
       "version_minor": 0
      },
      "text/plain": [
       "  0%|          | 0/5 [00:00<?, ?it/s]"
      ]
     },
     "metadata": {},
     "output_type": "display_data"
    },
    {
     "data": {
      "application/vnd.jupyter.widget-view+json": {
       "model_id": "3ebb0f05afbd4c1fadb84c88c58774f3",
       "version_major": 2,
       "version_minor": 0
      },
      "text/plain": [
       "  0%|          | 0/10 [00:00<?, ?it/s]"
      ]
     },
     "metadata": {},
     "output_type": "display_data"
    },
    {
     "data": {
      "application/vnd.jupyter.widget-view+json": {
       "model_id": "4d77cf4842ba40ac93c55670d3447c75",
       "version_major": 2,
       "version_minor": 0
      },
      "text/plain": [
       "  0%|          | 0/5 [00:00<?, ?it/s]"
      ]
     },
     "metadata": {},
     "output_type": "display_data"
    },
    {
     "data": {
      "application/vnd.jupyter.widget-view+json": {
       "model_id": "9bda0dcf16ae44eda74f02799edf967e",
       "version_major": 2,
       "version_minor": 0
      },
      "text/plain": [
       "  0%|          | 0/10 [00:00<?, ?it/s]"
      ]
     },
     "metadata": {},
     "output_type": "display_data"
    }
   ],
   "source": [
    "M = []\n",
    "for n in range(n_batches):\n",
    "    agent = GlobalNoveltor(estimators = [Estimator(approximator=bQt_novel_alpha(gamma=0.8), mask=identity()), \n",
    "                               Estimator(approximator=bellman_N_table(alpha=0.1, gamma=0.8), mask=identity()),\n",
    "                               Estimator(global_N_abstractor(alpha=0.1, gamma=0.8), mask=global_context()),\n",
    "                               Estimator(global_Q_abstractor(gamma=0.8), mask=global_context())],\n",
    "                    buffer = ReplayMemory(max_size=10000),\n",
    "                    targets = [Target()],\n",
    "                    counter = state_table(),\n",
    "                    batch_size=batch_size)\n",
    "    \n",
    "    # set action selection to be explorative: \"novelty\"\n",
    "    agent.action_selection = \"novelty\"\n",
    "\n",
    "    trajectories = []\n",
    "    metrics = []\n",
    "    for i in tqdm(range(n_exploratory_episodes)):\n",
    "        trajectory, G = run_trajectory(env, agent, epsilons[i], abstract=False)\n",
    "\n",
    "        trajectories.append(trajectory)\n",
    "\n",
    "        metrics.append({\n",
    "            'Q': dict(agent.estimators[0].approximator.table), \n",
    "            'N': dict(agent.estimators[1].approximator.table),\n",
    "            'Na': dict(agent.estimators[2].approximator.evaluate(0)),\n",
    "            'Qa': dict(agent.estimators[3].approximator.evaluate(0)),\n",
    "            'V': dict(agent.counter.table),\n",
    "            'U': dict(agent.estimators[0].visits),\n",
    "            'G': G\n",
    "            })\n",
    "        \n",
    "    # set action selection to be exploitative: \"greedy\"\n",
    "    agent.action_selection = \"greedy\"\n",
    "\n",
    "    for i in tqdm(range(n_greedy_episodes)):\n",
    "        trajectory, G = run_trajectory(env, agent, epsilons[i], abstract=False)\n",
    "\n",
    "        trajectories.append(trajectory)\n",
    "\n",
    "        metrics.append({\n",
    "            'Q': dict(agent.estimators[0].approximator.table), \n",
    "            'N': dict(agent.estimators[1].approximator.table),\n",
    "            'Na': dict(agent.estimators[2].approximator.evaluate(0)),\n",
    "            'Qa': dict(agent.estimators[3].approximator.evaluate(0)),\n",
    "            'V': dict(agent.counter.table),\n",
    "            'U': dict(agent.estimators[0].visits),\n",
    "            'G': G\n",
    "            })\n",
    "    \n",
    "    M.append(metrics)"
   ]
  },
  {
   "cell_type": "code",
   "execution_count": 60,
   "metadata": {},
   "outputs": [],
   "source": [
    "R = np.zeros((n_batches, n_exploratory_episodes+n_greedy_episodes))\n",
    "\n",
    "for i, batch in enumerate(M):\n",
    "    for j, metrics in enumerate(batch):\n",
    "        for exp, g in enumerate(metrics['G']):\n",
    "            R[i,j] += gamma**exp*g"
   ]
  },
  {
   "cell_type": "code",
   "execution_count": 61,
   "metadata": {},
   "outputs": [],
   "source": [
    "y = np.mean(R, axis=0)\n",
    "yCI = list(map(lambda p: bootstrap_empirical(p)(0.95), R.T))\n",
    "Y = np.transpose(yCI)"
   ]
  },
  {
   "cell_type": "code",
   "execution_count": 62,
   "metadata": {
    "scrolled": false
   },
   "outputs": [
    {
     "data": {
      "application/javascript": [
       "/* Put everything inside the global mpl namespace */\n",
       "/* global mpl */\n",
       "window.mpl = {};\n",
       "\n",
       "mpl.get_websocket_type = function () {\n",
       "    if (typeof WebSocket !== 'undefined') {\n",
       "        return WebSocket;\n",
       "    } else if (typeof MozWebSocket !== 'undefined') {\n",
       "        return MozWebSocket;\n",
       "    } else {\n",
       "        alert(\n",
       "            'Your browser does not have WebSocket support. ' +\n",
       "                'Please try Chrome, Safari or Firefox ≥ 6. ' +\n",
       "                'Firefox 4 and 5 are also supported but you ' +\n",
       "                'have to enable WebSockets in about:config.'\n",
       "        );\n",
       "    }\n",
       "};\n",
       "\n",
       "mpl.figure = function (figure_id, websocket, ondownload, parent_element) {\n",
       "    this.id = figure_id;\n",
       "\n",
       "    this.ws = websocket;\n",
       "\n",
       "    this.supports_binary = this.ws.binaryType !== undefined;\n",
       "\n",
       "    if (!this.supports_binary) {\n",
       "        var warnings = document.getElementById('mpl-warnings');\n",
       "        if (warnings) {\n",
       "            warnings.style.display = 'block';\n",
       "            warnings.textContent =\n",
       "                'This browser does not support binary websocket messages. ' +\n",
       "                'Performance may be slow.';\n",
       "        }\n",
       "    }\n",
       "\n",
       "    this.imageObj = new Image();\n",
       "\n",
       "    this.context = undefined;\n",
       "    this.message = undefined;\n",
       "    this.canvas = undefined;\n",
       "    this.rubberband_canvas = undefined;\n",
       "    this.rubberband_context = undefined;\n",
       "    this.format_dropdown = undefined;\n",
       "\n",
       "    this.image_mode = 'full';\n",
       "\n",
       "    this.root = document.createElement('div');\n",
       "    this.root.setAttribute('style', 'display: inline-block');\n",
       "    this._root_extra_style(this.root);\n",
       "\n",
       "    parent_element.appendChild(this.root);\n",
       "\n",
       "    this._init_header(this);\n",
       "    this._init_canvas(this);\n",
       "    this._init_toolbar(this);\n",
       "\n",
       "    var fig = this;\n",
       "\n",
       "    this.waiting = false;\n",
       "\n",
       "    this.ws.onopen = function () {\n",
       "        fig.send_message('supports_binary', { value: fig.supports_binary });\n",
       "        fig.send_message('send_image_mode', {});\n",
       "        if (fig.ratio !== 1) {\n",
       "            fig.send_message('set_dpi_ratio', { dpi_ratio: fig.ratio });\n",
       "        }\n",
       "        fig.send_message('refresh', {});\n",
       "    };\n",
       "\n",
       "    this.imageObj.onload = function () {\n",
       "        if (fig.image_mode === 'full') {\n",
       "            // Full images could contain transparency (where diff images\n",
       "            // almost always do), so we need to clear the canvas so that\n",
       "            // there is no ghosting.\n",
       "            fig.context.clearRect(0, 0, fig.canvas.width, fig.canvas.height);\n",
       "        }\n",
       "        fig.context.drawImage(fig.imageObj, 0, 0);\n",
       "    };\n",
       "\n",
       "    this.imageObj.onunload = function () {\n",
       "        fig.ws.close();\n",
       "    };\n",
       "\n",
       "    this.ws.onmessage = this._make_on_message_function(this);\n",
       "\n",
       "    this.ondownload = ondownload;\n",
       "};\n",
       "\n",
       "mpl.figure.prototype._init_header = function () {\n",
       "    var titlebar = document.createElement('div');\n",
       "    titlebar.classList =\n",
       "        'ui-dialog-titlebar ui-widget-header ui-corner-all ui-helper-clearfix';\n",
       "    var titletext = document.createElement('div');\n",
       "    titletext.classList = 'ui-dialog-title';\n",
       "    titletext.setAttribute(\n",
       "        'style',\n",
       "        'width: 100%; text-align: center; padding: 3px;'\n",
       "    );\n",
       "    titlebar.appendChild(titletext);\n",
       "    this.root.appendChild(titlebar);\n",
       "    this.header = titletext;\n",
       "};\n",
       "\n",
       "mpl.figure.prototype._canvas_extra_style = function (_canvas_div) {};\n",
       "\n",
       "mpl.figure.prototype._root_extra_style = function (_canvas_div) {};\n",
       "\n",
       "mpl.figure.prototype._init_canvas = function () {\n",
       "    var fig = this;\n",
       "\n",
       "    var canvas_div = (this.canvas_div = document.createElement('div'));\n",
       "    canvas_div.setAttribute(\n",
       "        'style',\n",
       "        'border: 1px solid #ddd;' +\n",
       "            'box-sizing: content-box;' +\n",
       "            'clear: both;' +\n",
       "            'min-height: 1px;' +\n",
       "            'min-width: 1px;' +\n",
       "            'outline: 0;' +\n",
       "            'overflow: hidden;' +\n",
       "            'position: relative;' +\n",
       "            'resize: both;'\n",
       "    );\n",
       "\n",
       "    function on_keyboard_event_closure(name) {\n",
       "        return function (event) {\n",
       "            return fig.key_event(event, name);\n",
       "        };\n",
       "    }\n",
       "\n",
       "    canvas_div.addEventListener(\n",
       "        'keydown',\n",
       "        on_keyboard_event_closure('key_press')\n",
       "    );\n",
       "    canvas_div.addEventListener(\n",
       "        'keyup',\n",
       "        on_keyboard_event_closure('key_release')\n",
       "    );\n",
       "\n",
       "    this._canvas_extra_style(canvas_div);\n",
       "    this.root.appendChild(canvas_div);\n",
       "\n",
       "    var canvas = (this.canvas = document.createElement('canvas'));\n",
       "    canvas.classList.add('mpl-canvas');\n",
       "    canvas.setAttribute('style', 'box-sizing: content-box;');\n",
       "\n",
       "    this.context = canvas.getContext('2d');\n",
       "\n",
       "    var backingStore =\n",
       "        this.context.backingStorePixelRatio ||\n",
       "        this.context.webkitBackingStorePixelRatio ||\n",
       "        this.context.mozBackingStorePixelRatio ||\n",
       "        this.context.msBackingStorePixelRatio ||\n",
       "        this.context.oBackingStorePixelRatio ||\n",
       "        this.context.backingStorePixelRatio ||\n",
       "        1;\n",
       "\n",
       "    this.ratio = (window.devicePixelRatio || 1) / backingStore;\n",
       "    if (this.ratio !== 1) {\n",
       "        fig.send_message('set_dpi_ratio', { dpi_ratio: this.ratio });\n",
       "    }\n",
       "\n",
       "    var rubberband_canvas = (this.rubberband_canvas = document.createElement(\n",
       "        'canvas'\n",
       "    ));\n",
       "    rubberband_canvas.setAttribute(\n",
       "        'style',\n",
       "        'box-sizing: content-box; position: absolute; left: 0; top: 0; z-index: 1;'\n",
       "    );\n",
       "\n",
       "    var resizeObserver = new ResizeObserver(function (entries) {\n",
       "        var nentries = entries.length;\n",
       "        for (var i = 0; i < nentries; i++) {\n",
       "            var entry = entries[i];\n",
       "            var width, height;\n",
       "            if (entry.contentBoxSize) {\n",
       "                if (entry.contentBoxSize instanceof Array) {\n",
       "                    // Chrome 84 implements new version of spec.\n",
       "                    width = entry.contentBoxSize[0].inlineSize;\n",
       "                    height = entry.contentBoxSize[0].blockSize;\n",
       "                } else {\n",
       "                    // Firefox implements old version of spec.\n",
       "                    width = entry.contentBoxSize.inlineSize;\n",
       "                    height = entry.contentBoxSize.blockSize;\n",
       "                }\n",
       "            } else {\n",
       "                // Chrome <84 implements even older version of spec.\n",
       "                width = entry.contentRect.width;\n",
       "                height = entry.contentRect.height;\n",
       "            }\n",
       "\n",
       "            // Keep the size of the canvas and rubber band canvas in sync with\n",
       "            // the canvas container.\n",
       "            if (entry.devicePixelContentBoxSize) {\n",
       "                // Chrome 84 implements new version of spec.\n",
       "                canvas.setAttribute(\n",
       "                    'width',\n",
       "                    entry.devicePixelContentBoxSize[0].inlineSize\n",
       "                );\n",
       "                canvas.setAttribute(\n",
       "                    'height',\n",
       "                    entry.devicePixelContentBoxSize[0].blockSize\n",
       "                );\n",
       "            } else {\n",
       "                canvas.setAttribute('width', width * fig.ratio);\n",
       "                canvas.setAttribute('height', height * fig.ratio);\n",
       "            }\n",
       "            canvas.setAttribute(\n",
       "                'style',\n",
       "                'width: ' + width + 'px; height: ' + height + 'px;'\n",
       "            );\n",
       "\n",
       "            rubberband_canvas.setAttribute('width', width);\n",
       "            rubberband_canvas.setAttribute('height', height);\n",
       "\n",
       "            // And update the size in Python. We ignore the initial 0/0 size\n",
       "            // that occurs as the element is placed into the DOM, which should\n",
       "            // otherwise not happen due to the minimum size styling.\n",
       "            if (width != 0 && height != 0) {\n",
       "                fig.request_resize(width, height);\n",
       "            }\n",
       "        }\n",
       "    });\n",
       "    resizeObserver.observe(canvas_div);\n",
       "\n",
       "    function on_mouse_event_closure(name) {\n",
       "        return function (event) {\n",
       "            return fig.mouse_event(event, name);\n",
       "        };\n",
       "    }\n",
       "\n",
       "    rubberband_canvas.addEventListener(\n",
       "        'mousedown',\n",
       "        on_mouse_event_closure('button_press')\n",
       "    );\n",
       "    rubberband_canvas.addEventListener(\n",
       "        'mouseup',\n",
       "        on_mouse_event_closure('button_release')\n",
       "    );\n",
       "    // Throttle sequential mouse events to 1 every 20ms.\n",
       "    rubberband_canvas.addEventListener(\n",
       "        'mousemove',\n",
       "        on_mouse_event_closure('motion_notify')\n",
       "    );\n",
       "\n",
       "    rubberband_canvas.addEventListener(\n",
       "        'mouseenter',\n",
       "        on_mouse_event_closure('figure_enter')\n",
       "    );\n",
       "    rubberband_canvas.addEventListener(\n",
       "        'mouseleave',\n",
       "        on_mouse_event_closure('figure_leave')\n",
       "    );\n",
       "\n",
       "    canvas_div.addEventListener('wheel', function (event) {\n",
       "        if (event.deltaY < 0) {\n",
       "            event.step = 1;\n",
       "        } else {\n",
       "            event.step = -1;\n",
       "        }\n",
       "        on_mouse_event_closure('scroll')(event);\n",
       "    });\n",
       "\n",
       "    canvas_div.appendChild(canvas);\n",
       "    canvas_div.appendChild(rubberband_canvas);\n",
       "\n",
       "    this.rubberband_context = rubberband_canvas.getContext('2d');\n",
       "    this.rubberband_context.strokeStyle = '#000000';\n",
       "\n",
       "    this._resize_canvas = function (width, height, forward) {\n",
       "        if (forward) {\n",
       "            canvas_div.style.width = width + 'px';\n",
       "            canvas_div.style.height = height + 'px';\n",
       "        }\n",
       "    };\n",
       "\n",
       "    // Disable right mouse context menu.\n",
       "    this.rubberband_canvas.addEventListener('contextmenu', function (_e) {\n",
       "        event.preventDefault();\n",
       "        return false;\n",
       "    });\n",
       "\n",
       "    function set_focus() {\n",
       "        canvas.focus();\n",
       "        canvas_div.focus();\n",
       "    }\n",
       "\n",
       "    window.setTimeout(set_focus, 100);\n",
       "};\n",
       "\n",
       "mpl.figure.prototype._init_toolbar = function () {\n",
       "    var fig = this;\n",
       "\n",
       "    var toolbar = document.createElement('div');\n",
       "    toolbar.classList = 'mpl-toolbar';\n",
       "    this.root.appendChild(toolbar);\n",
       "\n",
       "    function on_click_closure(name) {\n",
       "        return function (_event) {\n",
       "            return fig.toolbar_button_onclick(name);\n",
       "        };\n",
       "    }\n",
       "\n",
       "    function on_mouseover_closure(tooltip) {\n",
       "        return function (event) {\n",
       "            if (!event.currentTarget.disabled) {\n",
       "                return fig.toolbar_button_onmouseover(tooltip);\n",
       "            }\n",
       "        };\n",
       "    }\n",
       "\n",
       "    fig.buttons = {};\n",
       "    var buttonGroup = document.createElement('div');\n",
       "    buttonGroup.classList = 'mpl-button-group';\n",
       "    for (var toolbar_ind in mpl.toolbar_items) {\n",
       "        var name = mpl.toolbar_items[toolbar_ind][0];\n",
       "        var tooltip = mpl.toolbar_items[toolbar_ind][1];\n",
       "        var image = mpl.toolbar_items[toolbar_ind][2];\n",
       "        var method_name = mpl.toolbar_items[toolbar_ind][3];\n",
       "\n",
       "        if (!name) {\n",
       "            /* Instead of a spacer, we start a new button group. */\n",
       "            if (buttonGroup.hasChildNodes()) {\n",
       "                toolbar.appendChild(buttonGroup);\n",
       "            }\n",
       "            buttonGroup = document.createElement('div');\n",
       "            buttonGroup.classList = 'mpl-button-group';\n",
       "            continue;\n",
       "        }\n",
       "\n",
       "        var button = (fig.buttons[name] = document.createElement('button'));\n",
       "        button.classList = 'mpl-widget';\n",
       "        button.setAttribute('role', 'button');\n",
       "        button.setAttribute('aria-disabled', 'false');\n",
       "        button.addEventListener('click', on_click_closure(method_name));\n",
       "        button.addEventListener('mouseover', on_mouseover_closure(tooltip));\n",
       "\n",
       "        var icon_img = document.createElement('img');\n",
       "        icon_img.src = '_images/' + image + '.png';\n",
       "        icon_img.srcset = '_images/' + image + '_large.png 2x';\n",
       "        icon_img.alt = tooltip;\n",
       "        button.appendChild(icon_img);\n",
       "\n",
       "        buttonGroup.appendChild(button);\n",
       "    }\n",
       "\n",
       "    if (buttonGroup.hasChildNodes()) {\n",
       "        toolbar.appendChild(buttonGroup);\n",
       "    }\n",
       "\n",
       "    var fmt_picker = document.createElement('select');\n",
       "    fmt_picker.classList = 'mpl-widget';\n",
       "    toolbar.appendChild(fmt_picker);\n",
       "    this.format_dropdown = fmt_picker;\n",
       "\n",
       "    for (var ind in mpl.extensions) {\n",
       "        var fmt = mpl.extensions[ind];\n",
       "        var option = document.createElement('option');\n",
       "        option.selected = fmt === mpl.default_extension;\n",
       "        option.innerHTML = fmt;\n",
       "        fmt_picker.appendChild(option);\n",
       "    }\n",
       "\n",
       "    var status_bar = document.createElement('span');\n",
       "    status_bar.classList = 'mpl-message';\n",
       "    toolbar.appendChild(status_bar);\n",
       "    this.message = status_bar;\n",
       "};\n",
       "\n",
       "mpl.figure.prototype.request_resize = function (x_pixels, y_pixels) {\n",
       "    // Request matplotlib to resize the figure. Matplotlib will then trigger a resize in the client,\n",
       "    // which will in turn request a refresh of the image.\n",
       "    this.send_message('resize', { width: x_pixels, height: y_pixels });\n",
       "};\n",
       "\n",
       "mpl.figure.prototype.send_message = function (type, properties) {\n",
       "    properties['type'] = type;\n",
       "    properties['figure_id'] = this.id;\n",
       "    this.ws.send(JSON.stringify(properties));\n",
       "};\n",
       "\n",
       "mpl.figure.prototype.send_draw_message = function () {\n",
       "    if (!this.waiting) {\n",
       "        this.waiting = true;\n",
       "        this.ws.send(JSON.stringify({ type: 'draw', figure_id: this.id }));\n",
       "    }\n",
       "};\n",
       "\n",
       "mpl.figure.prototype.handle_save = function (fig, _msg) {\n",
       "    var format_dropdown = fig.format_dropdown;\n",
       "    var format = format_dropdown.options[format_dropdown.selectedIndex].value;\n",
       "    fig.ondownload(fig, format);\n",
       "};\n",
       "\n",
       "mpl.figure.prototype.handle_resize = function (fig, msg) {\n",
       "    var size = msg['size'];\n",
       "    if (size[0] !== fig.canvas.width || size[1] !== fig.canvas.height) {\n",
       "        fig._resize_canvas(size[0], size[1], msg['forward']);\n",
       "        fig.send_message('refresh', {});\n",
       "    }\n",
       "};\n",
       "\n",
       "mpl.figure.prototype.handle_rubberband = function (fig, msg) {\n",
       "    var x0 = msg['x0'] / fig.ratio;\n",
       "    var y0 = (fig.canvas.height - msg['y0']) / fig.ratio;\n",
       "    var x1 = msg['x1'] / fig.ratio;\n",
       "    var y1 = (fig.canvas.height - msg['y1']) / fig.ratio;\n",
       "    x0 = Math.floor(x0) + 0.5;\n",
       "    y0 = Math.floor(y0) + 0.5;\n",
       "    x1 = Math.floor(x1) + 0.5;\n",
       "    y1 = Math.floor(y1) + 0.5;\n",
       "    var min_x = Math.min(x0, x1);\n",
       "    var min_y = Math.min(y0, y1);\n",
       "    var width = Math.abs(x1 - x0);\n",
       "    var height = Math.abs(y1 - y0);\n",
       "\n",
       "    fig.rubberband_context.clearRect(\n",
       "        0,\n",
       "        0,\n",
       "        fig.canvas.width / fig.ratio,\n",
       "        fig.canvas.height / fig.ratio\n",
       "    );\n",
       "\n",
       "    fig.rubberband_context.strokeRect(min_x, min_y, width, height);\n",
       "};\n",
       "\n",
       "mpl.figure.prototype.handle_figure_label = function (fig, msg) {\n",
       "    // Updates the figure title.\n",
       "    fig.header.textContent = msg['label'];\n",
       "};\n",
       "\n",
       "mpl.figure.prototype.handle_cursor = function (fig, msg) {\n",
       "    var cursor = msg['cursor'];\n",
       "    switch (cursor) {\n",
       "        case 0:\n",
       "            cursor = 'pointer';\n",
       "            break;\n",
       "        case 1:\n",
       "            cursor = 'default';\n",
       "            break;\n",
       "        case 2:\n",
       "            cursor = 'crosshair';\n",
       "            break;\n",
       "        case 3:\n",
       "            cursor = 'move';\n",
       "            break;\n",
       "    }\n",
       "    fig.rubberband_canvas.style.cursor = cursor;\n",
       "};\n",
       "\n",
       "mpl.figure.prototype.handle_message = function (fig, msg) {\n",
       "    fig.message.textContent = msg['message'];\n",
       "};\n",
       "\n",
       "mpl.figure.prototype.handle_draw = function (fig, _msg) {\n",
       "    // Request the server to send over a new figure.\n",
       "    fig.send_draw_message();\n",
       "};\n",
       "\n",
       "mpl.figure.prototype.handle_image_mode = function (fig, msg) {\n",
       "    fig.image_mode = msg['mode'];\n",
       "};\n",
       "\n",
       "mpl.figure.prototype.handle_history_buttons = function (fig, msg) {\n",
       "    for (var key in msg) {\n",
       "        if (!(key in fig.buttons)) {\n",
       "            continue;\n",
       "        }\n",
       "        fig.buttons[key].disabled = !msg[key];\n",
       "        fig.buttons[key].setAttribute('aria-disabled', !msg[key]);\n",
       "    }\n",
       "};\n",
       "\n",
       "mpl.figure.prototype.handle_navigate_mode = function (fig, msg) {\n",
       "    if (msg['mode'] === 'PAN') {\n",
       "        fig.buttons['Pan'].classList.add('active');\n",
       "        fig.buttons['Zoom'].classList.remove('active');\n",
       "    } else if (msg['mode'] === 'ZOOM') {\n",
       "        fig.buttons['Pan'].classList.remove('active');\n",
       "        fig.buttons['Zoom'].classList.add('active');\n",
       "    } else {\n",
       "        fig.buttons['Pan'].classList.remove('active');\n",
       "        fig.buttons['Zoom'].classList.remove('active');\n",
       "    }\n",
       "};\n",
       "\n",
       "mpl.figure.prototype.updated_canvas_event = function () {\n",
       "    // Called whenever the canvas gets updated.\n",
       "    this.send_message('ack', {});\n",
       "};\n",
       "\n",
       "// A function to construct a web socket function for onmessage handling.\n",
       "// Called in the figure constructor.\n",
       "mpl.figure.prototype._make_on_message_function = function (fig) {\n",
       "    return function socket_on_message(evt) {\n",
       "        if (evt.data instanceof Blob) {\n",
       "            /* FIXME: We get \"Resource interpreted as Image but\n",
       "             * transferred with MIME type text/plain:\" errors on\n",
       "             * Chrome.  But how to set the MIME type?  It doesn't seem\n",
       "             * to be part of the websocket stream */\n",
       "            evt.data.type = 'image/png';\n",
       "\n",
       "            /* Free the memory for the previous frames */\n",
       "            if (fig.imageObj.src) {\n",
       "                (window.URL || window.webkitURL).revokeObjectURL(\n",
       "                    fig.imageObj.src\n",
       "                );\n",
       "            }\n",
       "\n",
       "            fig.imageObj.src = (window.URL || window.webkitURL).createObjectURL(\n",
       "                evt.data\n",
       "            );\n",
       "            fig.updated_canvas_event();\n",
       "            fig.waiting = false;\n",
       "            return;\n",
       "        } else if (\n",
       "            typeof evt.data === 'string' &&\n",
       "            evt.data.slice(0, 21) === 'data:image/png;base64'\n",
       "        ) {\n",
       "            fig.imageObj.src = evt.data;\n",
       "            fig.updated_canvas_event();\n",
       "            fig.waiting = false;\n",
       "            return;\n",
       "        }\n",
       "\n",
       "        var msg = JSON.parse(evt.data);\n",
       "        var msg_type = msg['type'];\n",
       "\n",
       "        // Call the  \"handle_{type}\" callback, which takes\n",
       "        // the figure and JSON message as its only arguments.\n",
       "        try {\n",
       "            var callback = fig['handle_' + msg_type];\n",
       "        } catch (e) {\n",
       "            console.log(\n",
       "                \"No handler for the '\" + msg_type + \"' message type: \",\n",
       "                msg\n",
       "            );\n",
       "            return;\n",
       "        }\n",
       "\n",
       "        if (callback) {\n",
       "            try {\n",
       "                // console.log(\"Handling '\" + msg_type + \"' message: \", msg);\n",
       "                callback(fig, msg);\n",
       "            } catch (e) {\n",
       "                console.log(\n",
       "                    \"Exception inside the 'handler_\" + msg_type + \"' callback:\",\n",
       "                    e,\n",
       "                    e.stack,\n",
       "                    msg\n",
       "                );\n",
       "            }\n",
       "        }\n",
       "    };\n",
       "};\n",
       "\n",
       "// from http://stackoverflow.com/questions/1114465/getting-mouse-location-in-canvas\n",
       "mpl.findpos = function (e) {\n",
       "    //this section is from http://www.quirksmode.org/js/events_properties.html\n",
       "    var targ;\n",
       "    if (!e) {\n",
       "        e = window.event;\n",
       "    }\n",
       "    if (e.target) {\n",
       "        targ = e.target;\n",
       "    } else if (e.srcElement) {\n",
       "        targ = e.srcElement;\n",
       "    }\n",
       "    if (targ.nodeType === 3) {\n",
       "        // defeat Safari bug\n",
       "        targ = targ.parentNode;\n",
       "    }\n",
       "\n",
       "    // pageX,Y are the mouse positions relative to the document\n",
       "    var boundingRect = targ.getBoundingClientRect();\n",
       "    var x = e.pageX - (boundingRect.left + document.body.scrollLeft);\n",
       "    var y = e.pageY - (boundingRect.top + document.body.scrollTop);\n",
       "\n",
       "    return { x: x, y: y };\n",
       "};\n",
       "\n",
       "/*\n",
       " * return a copy of an object with only non-object keys\n",
       " * we need this to avoid circular references\n",
       " * http://stackoverflow.com/a/24161582/3208463\n",
       " */\n",
       "function simpleKeys(original) {\n",
       "    return Object.keys(original).reduce(function (obj, key) {\n",
       "        if (typeof original[key] !== 'object') {\n",
       "            obj[key] = original[key];\n",
       "        }\n",
       "        return obj;\n",
       "    }, {});\n",
       "}\n",
       "\n",
       "mpl.figure.prototype.mouse_event = function (event, name) {\n",
       "    var canvas_pos = mpl.findpos(event);\n",
       "\n",
       "    if (name === 'button_press') {\n",
       "        this.canvas.focus();\n",
       "        this.canvas_div.focus();\n",
       "    }\n",
       "\n",
       "    var x = canvas_pos.x * this.ratio;\n",
       "    var y = canvas_pos.y * this.ratio;\n",
       "\n",
       "    this.send_message(name, {\n",
       "        x: x,\n",
       "        y: y,\n",
       "        button: event.button,\n",
       "        step: event.step,\n",
       "        guiEvent: simpleKeys(event),\n",
       "    });\n",
       "\n",
       "    /* This prevents the web browser from automatically changing to\n",
       "     * the text insertion cursor when the button is pressed.  We want\n",
       "     * to control all of the cursor setting manually through the\n",
       "     * 'cursor' event from matplotlib */\n",
       "    event.preventDefault();\n",
       "    return false;\n",
       "};\n",
       "\n",
       "mpl.figure.prototype._key_event_extra = function (_event, _name) {\n",
       "    // Handle any extra behaviour associated with a key event\n",
       "};\n",
       "\n",
       "mpl.figure.prototype.key_event = function (event, name) {\n",
       "    // Prevent repeat events\n",
       "    if (name === 'key_press') {\n",
       "        if (event.which === this._key) {\n",
       "            return;\n",
       "        } else {\n",
       "            this._key = event.which;\n",
       "        }\n",
       "    }\n",
       "    if (name === 'key_release') {\n",
       "        this._key = null;\n",
       "    }\n",
       "\n",
       "    var value = '';\n",
       "    if (event.ctrlKey && event.which !== 17) {\n",
       "        value += 'ctrl+';\n",
       "    }\n",
       "    if (event.altKey && event.which !== 18) {\n",
       "        value += 'alt+';\n",
       "    }\n",
       "    if (event.shiftKey && event.which !== 16) {\n",
       "        value += 'shift+';\n",
       "    }\n",
       "\n",
       "    value += 'k';\n",
       "    value += event.which.toString();\n",
       "\n",
       "    this._key_event_extra(event, name);\n",
       "\n",
       "    this.send_message(name, { key: value, guiEvent: simpleKeys(event) });\n",
       "    return false;\n",
       "};\n",
       "\n",
       "mpl.figure.prototype.toolbar_button_onclick = function (name) {\n",
       "    if (name === 'download') {\n",
       "        this.handle_save(this, null);\n",
       "    } else {\n",
       "        this.send_message('toolbar_button', { name: name });\n",
       "    }\n",
       "};\n",
       "\n",
       "mpl.figure.prototype.toolbar_button_onmouseover = function (tooltip) {\n",
       "    this.message.textContent = tooltip;\n",
       "};\n",
       "mpl.toolbar_items = [[\"Home\", \"Reset original view\", \"fa fa-home icon-home\", \"home\"], [\"Back\", \"Back to previous view\", \"fa fa-arrow-left icon-arrow-left\", \"back\"], [\"Forward\", \"Forward to next view\", \"fa fa-arrow-right icon-arrow-right\", \"forward\"], [\"\", \"\", \"\", \"\"], [\"Pan\", \"Left button pans, Right button zooms\\nx/y fixes axis, CTRL fixes aspect\", \"fa fa-arrows icon-move\", \"pan\"], [\"Zoom\", \"Zoom to rectangle\\nx/y fixes axis, CTRL fixes aspect\", \"fa fa-square-o icon-check-empty\", \"zoom\"], [\"\", \"\", \"\", \"\"], [\"Download\", \"Download plot\", \"fa fa-floppy-o icon-save\", \"download\"]];\n",
       "\n",
       "mpl.extensions = [\"eps\", \"jpeg\", \"pdf\", \"png\", \"ps\", \"raw\", \"svg\", \"tif\"];\n",
       "\n",
       "mpl.default_extension = \"png\";/* global mpl */\n",
       "\n",
       "var comm_websocket_adapter = function (comm) {\n",
       "    // Create a \"websocket\"-like object which calls the given IPython comm\n",
       "    // object with the appropriate methods. Currently this is a non binary\n",
       "    // socket, so there is still some room for performance tuning.\n",
       "    var ws = {};\n",
       "\n",
       "    ws.close = function () {\n",
       "        comm.close();\n",
       "    };\n",
       "    ws.send = function (m) {\n",
       "        //console.log('sending', m);\n",
       "        comm.send(m);\n",
       "    };\n",
       "    // Register the callback with on_msg.\n",
       "    comm.on_msg(function (msg) {\n",
       "        //console.log('receiving', msg['content']['data'], msg);\n",
       "        // Pass the mpl event to the overridden (by mpl) onmessage function.\n",
       "        ws.onmessage(msg['content']['data']);\n",
       "    });\n",
       "    return ws;\n",
       "};\n",
       "\n",
       "mpl.mpl_figure_comm = function (comm, msg) {\n",
       "    // This is the function which gets called when the mpl process\n",
       "    // starts-up an IPython Comm through the \"matplotlib\" channel.\n",
       "\n",
       "    var id = msg.content.data.id;\n",
       "    // Get hold of the div created by the display call when the Comm\n",
       "    // socket was opened in Python.\n",
       "    var element = document.getElementById(id);\n",
       "    var ws_proxy = comm_websocket_adapter(comm);\n",
       "\n",
       "    function ondownload(figure, _format) {\n",
       "        window.open(figure.canvas.toDataURL());\n",
       "    }\n",
       "\n",
       "    var fig = new mpl.figure(id, ws_proxy, ondownload, element);\n",
       "\n",
       "    // Call onopen now - mpl needs it, as it is assuming we've passed it a real\n",
       "    // web socket which is closed, not our websocket->open comm proxy.\n",
       "    ws_proxy.onopen();\n",
       "\n",
       "    fig.parent_element = element;\n",
       "    fig.cell_info = mpl.find_output_cell(\"<div id='\" + id + \"'></div>\");\n",
       "    if (!fig.cell_info) {\n",
       "        console.error('Failed to find cell for figure', id, fig);\n",
       "        return;\n",
       "    }\n",
       "    fig.cell_info[0].output_area.element.one(\n",
       "        'cleared',\n",
       "        { fig: fig },\n",
       "        fig._remove_fig_handler\n",
       "    );\n",
       "};\n",
       "\n",
       "mpl.figure.prototype.handle_close = function (fig, msg) {\n",
       "    var width = fig.canvas.width / fig.ratio;\n",
       "    fig.cell_info[0].output_area.element.off(\n",
       "        'cleared',\n",
       "        fig._remove_fig_handler\n",
       "    );\n",
       "\n",
       "    // Update the output cell to use the data from the current canvas.\n",
       "    fig.push_to_output();\n",
       "    var dataURL = fig.canvas.toDataURL();\n",
       "    // Re-enable the keyboard manager in IPython - without this line, in FF,\n",
       "    // the notebook keyboard shortcuts fail.\n",
       "    IPython.keyboard_manager.enable();\n",
       "    fig.parent_element.innerHTML =\n",
       "        '<img src=\"' + dataURL + '\" width=\"' + width + '\">';\n",
       "    fig.close_ws(fig, msg);\n",
       "};\n",
       "\n",
       "mpl.figure.prototype.close_ws = function (fig, msg) {\n",
       "    fig.send_message('closing', msg);\n",
       "    // fig.ws.close()\n",
       "};\n",
       "\n",
       "mpl.figure.prototype.push_to_output = function (_remove_interactive) {\n",
       "    // Turn the data on the canvas into data in the output cell.\n",
       "    var width = this.canvas.width / this.ratio;\n",
       "    var dataURL = this.canvas.toDataURL();\n",
       "    this.cell_info[1]['text/html'] =\n",
       "        '<img src=\"' + dataURL + '\" width=\"' + width + '\">';\n",
       "};\n",
       "\n",
       "mpl.figure.prototype.updated_canvas_event = function () {\n",
       "    // Tell IPython that the notebook contents must change.\n",
       "    IPython.notebook.set_dirty(true);\n",
       "    this.send_message('ack', {});\n",
       "    var fig = this;\n",
       "    // Wait a second, then push the new image to the DOM so\n",
       "    // that it is saved nicely (might be nice to debounce this).\n",
       "    setTimeout(function () {\n",
       "        fig.push_to_output();\n",
       "    }, 1000);\n",
       "};\n",
       "\n",
       "mpl.figure.prototype._init_toolbar = function () {\n",
       "    var fig = this;\n",
       "\n",
       "    var toolbar = document.createElement('div');\n",
       "    toolbar.classList = 'btn-toolbar';\n",
       "    this.root.appendChild(toolbar);\n",
       "\n",
       "    function on_click_closure(name) {\n",
       "        return function (_event) {\n",
       "            return fig.toolbar_button_onclick(name);\n",
       "        };\n",
       "    }\n",
       "\n",
       "    function on_mouseover_closure(tooltip) {\n",
       "        return function (event) {\n",
       "            if (!event.currentTarget.disabled) {\n",
       "                return fig.toolbar_button_onmouseover(tooltip);\n",
       "            }\n",
       "        };\n",
       "    }\n",
       "\n",
       "    fig.buttons = {};\n",
       "    var buttonGroup = document.createElement('div');\n",
       "    buttonGroup.classList = 'btn-group';\n",
       "    var button;\n",
       "    for (var toolbar_ind in mpl.toolbar_items) {\n",
       "        var name = mpl.toolbar_items[toolbar_ind][0];\n",
       "        var tooltip = mpl.toolbar_items[toolbar_ind][1];\n",
       "        var image = mpl.toolbar_items[toolbar_ind][2];\n",
       "        var method_name = mpl.toolbar_items[toolbar_ind][3];\n",
       "\n",
       "        if (!name) {\n",
       "            /* Instead of a spacer, we start a new button group. */\n",
       "            if (buttonGroup.hasChildNodes()) {\n",
       "                toolbar.appendChild(buttonGroup);\n",
       "            }\n",
       "            buttonGroup = document.createElement('div');\n",
       "            buttonGroup.classList = 'btn-group';\n",
       "            continue;\n",
       "        }\n",
       "\n",
       "        button = fig.buttons[name] = document.createElement('button');\n",
       "        button.classList = 'btn btn-default';\n",
       "        button.href = '#';\n",
       "        button.title = name;\n",
       "        button.innerHTML = '<i class=\"fa ' + image + ' fa-lg\"></i>';\n",
       "        button.addEventListener('click', on_click_closure(method_name));\n",
       "        button.addEventListener('mouseover', on_mouseover_closure(tooltip));\n",
       "        buttonGroup.appendChild(button);\n",
       "    }\n",
       "\n",
       "    if (buttonGroup.hasChildNodes()) {\n",
       "        toolbar.appendChild(buttonGroup);\n",
       "    }\n",
       "\n",
       "    // Add the status bar.\n",
       "    var status_bar = document.createElement('span');\n",
       "    status_bar.classList = 'mpl-message pull-right';\n",
       "    toolbar.appendChild(status_bar);\n",
       "    this.message = status_bar;\n",
       "\n",
       "    // Add the close button to the window.\n",
       "    var buttongrp = document.createElement('div');\n",
       "    buttongrp.classList = 'btn-group inline pull-right';\n",
       "    button = document.createElement('button');\n",
       "    button.classList = 'btn btn-mini btn-primary';\n",
       "    button.href = '#';\n",
       "    button.title = 'Stop Interaction';\n",
       "    button.innerHTML = '<i class=\"fa fa-power-off icon-remove icon-large\"></i>';\n",
       "    button.addEventListener('click', function (_evt) {\n",
       "        fig.handle_close(fig, {});\n",
       "    });\n",
       "    button.addEventListener(\n",
       "        'mouseover',\n",
       "        on_mouseover_closure('Stop Interaction')\n",
       "    );\n",
       "    buttongrp.appendChild(button);\n",
       "    var titlebar = this.root.querySelector('.ui-dialog-titlebar');\n",
       "    titlebar.insertBefore(buttongrp, titlebar.firstChild);\n",
       "};\n",
       "\n",
       "mpl.figure.prototype._remove_fig_handler = function (event) {\n",
       "    var fig = event.data.fig;\n",
       "    fig.close_ws(fig, {});\n",
       "};\n",
       "\n",
       "mpl.figure.prototype._root_extra_style = function (el) {\n",
       "    el.style.boxSizing = 'content-box'; // override notebook setting of border-box.\n",
       "};\n",
       "\n",
       "mpl.figure.prototype._canvas_extra_style = function (el) {\n",
       "    // this is important to make the div 'focusable\n",
       "    el.setAttribute('tabindex', 0);\n",
       "    // reach out to IPython and tell the keyboard manager to turn it's self\n",
       "    // off when our div gets focus\n",
       "\n",
       "    // location in version 3\n",
       "    if (IPython.notebook.keyboard_manager) {\n",
       "        IPython.notebook.keyboard_manager.register_events(el);\n",
       "    } else {\n",
       "        // location in version 2\n",
       "        IPython.keyboard_manager.register_events(el);\n",
       "    }\n",
       "};\n",
       "\n",
       "mpl.figure.prototype._key_event_extra = function (event, _name) {\n",
       "    var manager = IPython.notebook.keyboard_manager;\n",
       "    if (!manager) {\n",
       "        manager = IPython.keyboard_manager;\n",
       "    }\n",
       "\n",
       "    // Check for shift+enter\n",
       "    if (event.shiftKey && event.which === 13) {\n",
       "        this.canvas_div.blur();\n",
       "        // select the cell after this one\n",
       "        var index = IPython.notebook.find_cell_index(this.cell_info[0]);\n",
       "        IPython.notebook.select(index + 1);\n",
       "    }\n",
       "};\n",
       "\n",
       "mpl.figure.prototype.handle_save = function (fig, _msg) {\n",
       "    fig.ondownload(fig, null);\n",
       "};\n",
       "\n",
       "mpl.find_output_cell = function (html_output) {\n",
       "    // Return the cell and output element which can be found *uniquely* in the notebook.\n",
       "    // Note - this is a bit hacky, but it is done because the \"notebook_saving.Notebook\"\n",
       "    // IPython event is triggered only after the cells have been serialised, which for\n",
       "    // our purposes (turning an active figure into a static one), is too late.\n",
       "    var cells = IPython.notebook.get_cells();\n",
       "    var ncells = cells.length;\n",
       "    for (var i = 0; i < ncells; i++) {\n",
       "        var cell = cells[i];\n",
       "        if (cell.cell_type === 'code') {\n",
       "            for (var j = 0; j < cell.output_area.outputs.length; j++) {\n",
       "                var data = cell.output_area.outputs[j];\n",
       "                if (data.data) {\n",
       "                    // IPython >= 3 moved mimebundle to data attribute of output\n",
       "                    data = data.data;\n",
       "                }\n",
       "                if (data['text/html'] === html_output) {\n",
       "                    return [cell, data, j];\n",
       "                }\n",
       "            }\n",
       "        }\n",
       "    }\n",
       "};\n",
       "\n",
       "// Register the function which deals with the matplotlib target/channel.\n",
       "// The kernel may be null if the page has been refreshed.\n",
       "if (IPython.notebook.kernel !== null) {\n",
       "    IPython.notebook.kernel.comm_manager.register_target(\n",
       "        'matplotlib',\n",
       "        mpl.mpl_figure_comm\n",
       "    );\n",
       "}\n"
      ],
      "text/plain": [
       "<IPython.core.display.Javascript object>"
      ]
     },
     "metadata": {},
     "output_type": "display_data"
    },
    {
     "data": {
      "text/html": [
       "<img src=\"data:image/png;base64,iVBORw0KGgoAAAANSUhEUgAAAlgAAAF3CAYAAAB5dDWiAAAgAElEQVR4XuxdB3ib1dV+bcu2JO9tJ7az905IQoAkUKBAAxQCLW3ZNGEFCmWWPX6aAqUl7FFmQtmj7BESQgYJSSCJs5f33rJsTUv6n3MdGduRbH3SJ30a5z74sYnufO+RvlfnnvueKIfD4QAXRoARYAQYAUaAEWAEGAHZEIhigiUbltwRI8AIMAKMACPACDACAgEmWGwIjAAjwAgwAowAI8AIyIwAEyyZAeXuGAFGgBFgBBgBRoARYILFNsAIMAKMACPACDACjIDMCDDBkhlQ7o4RYAQYAUaAEWAEGAEmWGwDjAAjwAgwAowAI8AIyIwAEyyZAeXuGAFGgBFgBBgBRoARYILFNsAIMAKMACPACDACjIDMCDDBkhlQ7o4RYAQYAUaAEWAEGAEmWGwDjAAjwAgwAowAI8AIyIwAEyyZAeXuGAFGgBFgBBgBRoARYILFNsAIMAKMACPACDACjIDMCDDBkhlQ7o4RYAQYAUaAEWAEGAEmWGwDjAAjwAgwAowAI8AIyIwAEyyZAeXuGAFGgBFgBBgBRoARYILFNsAIMAKMACPACDACjIDMCDDBkhlQ7o4RYAQYAUaAEWAEGAEmWGwDjAAjwAgwAowAI8AIyIwAEyyZAeXuGAFGgBFgBBgBRoARYILFNsAIMAKMACPACDACjIDMCDDBkhlQ7o4RYAQYAUaAEWAEGAEmWGwDjAAjwAgwAowAI8AIyIwAEyyZAeXuGAFGgBFgBBgBRoARYILFNsAIMAKMACPACDACjIDMCDDBkhlQ7o4RYAQYAUaAEWAEGAEmWGwDjAAjwAgwAowAI8AIyIwAEyyZAeXuGAFGgBFgBBgBRoARYILFNsAIMAKMACPACDACjIDMCDDBkhlQ7o4RYAQYAUaAEWAEGAEmWGwDjAAjwAgwAowAI8AIyIwAEyyZAeXuGAFGgBFgBBgBRoARYILFNsAIMAKMACPACDACjIDMCDDBkhlQ7o4RYAQYAUaAEWAEGAEmWGwDjAAjwAgwAowAI8AIyIwAEyyZAeXuGAFGgBFgBBgBRoARYILFNsAIMAKMACPACDACjIDMCDDBkhlQ7o4RYAQYAUaAEWAEGAEmWGwDjAAjwAgwAowAI8AIyIwAEyyZAeXuGAFGgBFgBBgBRoARYILFNsAIMAKMACPACDACjIDMCDDBkhlQ7o4RYAQYAUaAEWAEGAEmWGwDjAAjwAgwAowAI8AIyIwAEyyZAeXuGAFGgBFgBBgBRoARYILFNsAIMAKMACPACDACjIDMCDDBkgBocnIy8vPzJbTgqowAI8AIMAKMACNACFRWVqKtrS1iwGCCJWGrx48fjz179khowVUZAUaAEWAEGAFGgBCItGcoEywJdh9pxiEBGq7KCDACjAAjwAj0i0CkPUOZYEl4Q0SacUiAhqsyAowAI8AIMAJMsHogwARLwhuCCZYEsLgqI8AIMAJHEHA4HIxFBCEQFRXlcrWR9gxlgiXB6CPNOCRAw1UZAUaAETgKAavVioqKCpjNZkYnghCIj49HQUEBYmNje6060p6hTLAkGH2kGYcEaLgqI8AIMAJHIVBcXIykpCRkZGTAnVeDYQsvBMhb2dTUBL1ej+HDhzPBCq/t9d9qmGD5D1vumRFgBMILAXrQ7tu3D2PGjEF0dHR4LY5X0y8Cdrsd+/fvx9ixY3sR60h7hrIHS8IbJdKMQwI0XJURYAQYgV4IOAlW34cswxT+CLjb+0h7hjLBkmDrkWYcEqDhqowAI8AIRATBUqlU6OzslLTbW7duxUsvvYTnn39eUrtQrcwEq2vnmGBJsGAmWBLA4qqMACMQ0QiEqwdLKsGy2WyIiYmJKFtggsUES7LBM8GSDBk3YAQYgQhFINgI1po1a3D33XfDaDQiPT0dr7zyCk499VQsX74cs2bNwoMPPoiysjK8/PLLuOyyy6DRaLBt2zYRsH3NNdfgpptuEjvZk2B99NFHuP/++0ExR5MmTcILL7wggvqpfVpaGoqKipCVlYWrr74aDz30EL799lvQPO666y4MGzYMP/30k/j94YcfQq1Wo6SkBBdddBF0Oh1OOOEEfPnll9iwYUPIpWhjgsUES/LHHhMsyZBxA0aAEYhQBIKJYDU3N2PBggX46quvkJKSgnfeeUeQmr/+9a+4/PLL8eyzz+Laa6/Fli1bkJiYKAgS3YBctWoVDAYDZsyYASJTRKKcBKuurg5Tp07Fjz/+iMLCQlx//fVISEjAww8/LNqTPAWNR1IFRKp6Eiyay86dO8UtuzPPPBN//OMfceGFF+Lss8/GWWedhcWLF+Ozzz4Tf1M/oZYDlwkWEyzJH3tMsCRDFhQN6M1epdejRq9HTmIi0jUaJMTGhvW1cYr3oLJo0aKg2AOeROQh4Oohe9v7O3Cgrl1WMEbnJOLR86f02yeRlUsvvVRoM1EhjxN5msg7dN999wlS9P333+PYY48VrxNBIq8WkS4qRMRGjhyJJUuWdBOsTz75BCtWrMB7770n6mzfvh1XXnklNm/eLNpTX+S5otKXYN1zzz1Yt26deO2BBx4QR4jkXSOvV1VVFbRarXiNPG3kBWOCJavJBKwzjsGSADUTLAlgBUlVU2cn9jY0oKqtDUnx8TBarSBNabVKhcFJSchMSEByfDxUYXaN3Pmg2LRpU5DsBE8j0hAIJoL16aefiqO///3vf0dtw7nnnouNGzeKAPRzzjnHLcEaNWqUIFxOD9bHH3+MN954oxfBuuqqq4RHiwjWKaecIo77XBEspzeLXqO/KWiejhr7Eiz6f/J0McEKzXcPEywJ+8YESwJYQVC10WDA9tpa2B0OpKvVvTxWFpsNerMZNocDMdHRyNJqMSgpCSlqtSBfoV6YYIX6Dob+/IPpiLCxsRGTJ0/GN998g4kTJwpCs3fvXtAXECJKTzzxhIjHIo9WXl6eR0eEtbW1mDZtmtsjQm8IFh0J0jEhHxGGvv3TCphgSdhHJlgSwFKwaqfdjgNNTShpaUGqB4TJZrejw2oFebuoEMki71aaRoOkuLiQPEpkgqWgAfLQAoFgIlg0HzoCvP3220WQOxEsOs5btmyZIFk5OTki6P3dd98VgeUUl0XeIwpypyM7d0HuFMdFnidaa98gd28I1uHDh4XXy2KxYP78+XjzzTdx4MABJCcnh5RVcQxW13YxwZJgtkywJIClUFWdyYSiujq0WyzI1GoR7SbpqLvp0QeDsbNTEC76O16lEp4t8nAR8QqVo0QmWAoZIA/bjUCwESwpW9P3iE9KW1/qUkA93SYk5fv169cLTxZ52kKtMMFigiXZZplgSYYsYA3oGLCstRV7GxtFAHtiXJwsY1ttNkHWrHa7IGsUszUoMVF4xjR9EpnKMqBMnTDBkglI7sZrBJhgSYeO4rfoYgrlbYyLi8MzzzyD2bNnS+9I4RZMsJhgSTZBJliSIQtIA4PVil11daCYqwyt1m9eJiJxHRaL8HBRoHxKfLzwbtGtRAqgl+ot8yc4FLRLZc6cOf4chvtmBNwiEMoEi7fVNwSYYDHBkmxBTLAkQ+bXBvQmrm1vF0eCdHRHXqVAForZIu8WEa/Y6GgMSk5GdkKCIF6xEabcHEjceazQQIAJVmjskz9myQSLCZZku2KCJRkyvzWgW4D7GhtRodMJD1KcwoSGAuuJbNG8yL2fqdEg70igvFaBo8Rdu3YJ7OnGFBdGQAkEmGApgXpwjMkEiwmWZEtkgiUZMr80aDIYsKOuDp02myBXRGiCqZBHi44t6YdKTkICpg8aFNApcgxWQOHmwVwgwAQrcs2CCRYTLMnWzwRLMmSyNiAv0eHmZhxqbhbHcMEcZO5cOM2ZbiT+atgwWbEYqDMmWAMhxK/7GwEmWP5GOHj7Z4LFBEuydTLBkgyZbA1IFJS8VvQ7Q6MR4qChUJhghcIu8Rz9gQATLH+gGhp9MsFigiXZUplgSYbM5wZ03FbZ1oZd9fXQqlTitl4oFSZYobRbPFc5EQhXguVMldMfVvfee6/IRfib3/xGpOehpM6kJE+FUvJQH+GcJ5QJFhMsyZ8lTLAkQ+ZTA8obuLuhAXXt7UI0NFREPnsumgmWTybAjUMYgUgmWD23TSnRUiVNhwkWEyzJ9scESzJkXjeo1etRVF8vtKXSAiy/4PWkXTRUimA9/vjjYjZ//etf5VwO98UIeIxAsBGsNWvW4O677xapctLT00VqHMo/uHz5csyaNQsPPvggysrKRFJoIkUajUakymlqanKbKuejjz4SqXLsdrvLVDmDBw/GeeedhyS6UZyWhmeffVbkQyQPFs2F2paWlqKyshIlJSW44IILsHTpUoEx1bvhhhvEPH7961/j/fffx6FDhzzGX8mKTLCYYEm2PyZYkiGT3IBkDg40NqJMp/Moj6DkAQLcQCmCFeBl8nCMwFEIuHzIfrwEqN8nL1rZY4HfPtNvn83NzViwYAG++uorpKSk4J133gHlEaQvIJR3kIjPtddeiy1btiAxMdGjZM91dXWYOnXqgMme+3qwiFT1JFiffPKJSDJNJG3EiBHYunUrMjMzxd8rV64EPXduueUWcdTIBEte0/F3b5yLUALCTLAkgOVF1RajUQSymzs7RSB7sMkveLEkMMHyBjVuEw4IBBPB+uyzz3DppZeioKBAQEtkhrxKRGzuu+8+PPzwwyIZtPP2LZEi8moR6aJCRGzkyJFYsmSJIEeULJqI0YoVK/Dee++JOtu3bxcJpDdv3iwImjPZ80AEy2az4f/+7/9EHyeddJL4m0iesy/69x07dghPGBOs0HpnMMGSsF9MsCSAJaGqzW5HSWur8FxRDsEEmfIISpiC36oqRbDow53Kt99+67e1cceMQH8IBNMR4aeffiqO/sgL1Lece+65oNRSFHx+zjnniJddEaxRo0YJwuUkWB9//DHeeOONXgTrqquuEh4tKQTL6c2icel9S0eHqampcPbFBCt032dMsCTsHRMsCWB5WJXUzynVTavJJNTPQ0V+wcPlKebBYh0sT3eI6/kLgWAiWI2NjeIWH8U1UXYD8kDt3bsXmzZtAhGlJ554QsRjkUcrLy/PoyPC2tpaTJs2bcAjwr/85S8YN26ciOOi0veI0BXBovcv3TykL0h8ROgvC/V/v0ywJGDMBEsCWANUpQ9fkl+gW4Jx0dFICeFA9v6WqpQHiwmWfLbKPXmHQDARLFoBHQHefvvtIsidCBYdwS1btkyQrJycHBH0/u677+LLL78UcVkUlE5B7lVVVW6D3CmOiwgTrXXSpEl44YUXxNFjTw8WebRIkkGtVuPJJ5/E119/3SsGyxXBOvHEE8U86GiSAvLp6JD+/+eff/ZuMwLcioPcuwBngiXB8JhgSQCrn6qUJHlPQwNq9HoRaxXOiZGZYMljM9xL6CEQbARLCoLBIK3Q3t4uYrGo0M1CuuFIBC4UChMsJliS7ZQJlmTIjmrQZjZjc1WV+MZHeQTDvTDBCvcd5vW5Q4AJlm+28cwzz4i4MArIHzp0qPCwkactFAoTLCZYku2UCZZkyI5qQJ6r6rY2pEUAuaLFK0WwSE+HCl1H58IIKIFAKBMsJfAKpzGZYDHBkmzPTLAkQ9arAb3p1pSWQq1SIS4mxrfOQqS1UgQrRODhaYYxAkywwnhzB1gaEywmWJKtnwmWZMh6NTBYrfi+tBTZCQm+dRRCrZlghdBm8VRlRYAJlqxwhlRnTLCYYEk2WCZYkiHr1YByCv5UU4McJli+AelBa9LSofLQQw95UJurMALyI8AES35MQ6VHJlhMsCTbKhMsyZD1arCrrg71HR1hK8ngCh2lPFgs0+CbrXJr3xFgguU7hqHaAxMsJliSbZcJlmTIuhvQG251SYlQaldFR3vfUYi1ZIIVYhvG05UNgUgmWKRjRd7jE044wSM8KRF1dHQ05s2bJ+q/9tprWL9+PV566SWP2kupJHVu1Hd/bZzK9j3nwASLCZYUmxR1mWBJhqy7ASm2rysri6j4K1o8EyzvbYZbhjYCoUiwKC9gjAwXcKSSmJ7q7lIIljfzlTo3Jljevw/DUmj0u+++E0k5LRaL+Ebw4osvCuXcnsWTOn1hZYLlvaGRNAMlclYiwJ0+6LeX6zE4LR7ZyfHeL8KLlkywvACNm4QFAsFGsF5//XXhVaI8f+RZ2rlzp0hFQ94iStxMyeUpfc7u3bvx9NNPi0TOZrMZM2fOxHPPPYfY2FgUFRXhxhtvhE6nE8rspFNFCu7Nzc246KKLhBgopeKh34899hhKSkpA3inKg0iFVN0pdQ79dpb9+/dj/vz5YnzSuaL4SRIZ/eijj4Re4L59+0QS6uXLl4smRJCOP/54kdaHUvXcc889IkdicXGxmC/9//nnnw/qlwRTTSaTeBb+/e9/F7kWqf3s2bOxdu1aULqff//736B8jFRonaS/RXOheo8//rh4dvYkZZTUmpTuSZ+LElA/+OCDQhmfPVhHv23DjmARo6eknJTcc8KECfj973+PM844QxiEs3hSx9UnHBMs7z/3t9fUoMVkQnJ8YAmO0WLDc6vLseFAK6KjgJnDU3Dm1GyMG5QgPkT8XZhg+Rth7j9YEXBHsJzxgT3nTZ/VThJCBIbS1/QtK1euFGlo3n77bZHixllc1e3btqamBjNmzBCpZojE0HOhpaWlm2DdeuutgnDl5uZi9erVQtSTCA0d2xF5IRJF6W7mzp2LDz74AIMHD+5FlmjORLgefvhhEAE55phjBLGi36NHjxakjea+ePFiQW6or57FlQeLiNaOHTuQkpIi+iHiQ8SKyM6QIUMEMaTPsEsuuQQXXnghTjvtNLEmIoSbN2/GAw88INpdfPHFgqi1tbWJvqg95UYkMrVlyxb86U9/wsGDB8VYRJjo36jewoULcfrpp+Pqq6/uRbCmTp0q1kmvERGltTPBcv0uDDuCRW+22267TbBzKpT3iYyACFfPN+RAdZhgyfexbXc4sKq4WJCrQMZfVTab8M/PS1DZYsIZkzNhszuwZl8zLJ0OjMjWYMHUbBw3KhWxMf6LCVOKYNEDhQolruXCCCiBQDARrP/973948803Ra5BKpTg+amnnuomWF999ZUgblRuueUWvPfeeyIXIRXyAJ111lm49NJLMWfOHIwYMaIbTvJclZeXC0/Sf//7XxFGQoX+n/onT9lNN92EMWPGCBJEZOvAgQPdKXCcHbkiWKtWrRJeNCrkIDj55JOFl4wI0t/+9jdBcKhkZWUJwucsRLKIBJJHi7xLRKDIyUBzokLtyctF/dEexcfHCw8X5UmsqKjAP//5T1GvJ2ZODxYRTXJg1NfXizrkycvIyGCC5eYNFnYE6/333xeuVTJ2KuTyJQOjpJ3O4kkdV3ixB8u7j2m92Yz15eUBPR5cf6AFz60qB/molpxSiDmjuj4s9cZOrNzdiC93NKK5w4pUrQpnTM7CqRMzkKKN9W6B/bRSimDJvhDukBGQiEAwHRESWXjrrbe6Mxv0JVg9A8pvvvlmFBQUCM9Mz0IeLvIGkYeqbyGvDhE4VwSLjvjIy0TJpcmzRCErfctAMVjk8SKyRkd+fWOoiOAcPnxYHH32LUT+iDz+5z//EV478tT1be8MUn/iiSdQWVnZi2A5MXNHsMgrRsmo2YPl+s0RlgSL3kxvvPGGWPGePXvEN4e+BGugOtSWXLL04yz0zcDpGZD4WRPR1St1Ouyqr0dWAPSvrDY7Xl9XhS+LGlGQrsatC4ZhcJr6KPw7bQ5sPNSCz7Y34FCdAXExUZg3Nh0LpmahMEO+HIlKEazPP/9crHnBggURbXu8eOUQCCaCVV1dLY7LnEeElEqKvE/OGKyeBIv+jUgWHfGRF6u1tVUcveXn52Ps2LEi4fIpp5wivD90rEbkyt0RofMWIREUIkEffvihOMLrWygOqq6uDo888oh4qe8twv4IFnm1hg8fLrxVVIgATpkyRYxH3jY6RiTyR44H8sy5I1jOI8KtW7ciOTmZjwhleOuEHcGi4EFi6c4jwm+++Ua4anseEXpSxxW27MHyzuJIXLTdbBYSDf4sjXoL/vVlCQ7UGjBvTBqu+lUB1LH9p+ShD0mq/+m2evx4uBV2BzClIAkLpmVh2pBkRPsYp6UUwWIdLH9aGvftCQLBRLBovq+++iqWLl0q4qxmzZolAtCJ8LiSRKD4JPqhQh4e8u5Q/BV5sShInciZ1WoVJIQC551B7lVVVZg+fboIMH/00Ue7ZRpobOrDlfeLxqDjPIp/ohuMd955p4iX6kn6+iNYNDbNiQgSBZ6T9+2LL74QcVJ0khMXF9cdkE/Eyx3Bonk4g9zpb6pHsW6ugtzJk0ZHixRMf8cdd7AHy80bIuwIFgWw0zk3ESoiRH/4wx9E8F/fIPeB6jDB8uQjdOA6Nrsd3xYXI02tRowf9a92lLdh2VdlMFhsuGJ+Pn49MUNyEHt9mwVfFTVg5a4m0c+g1Hjh0TpxXPqARM0dEkywBrYRrhGeCAQbwaKbeYmJicLzRIHbQ4cOFeQgEOWqq64SxIt+R0JhHayuXQ47gkWLolsg1113XS+ZBvrmcO+99wpm765OXymHvm8E9mBJ/2jQmUz4oaLCb/FXFED//uZavPtjLTKT4nDLb4ZhZI5W+kR7tKCbh2v2NuPzHQ2oaTUjIT5GxGidPjkLWUnSvHBMsHzaCm4cwggEG8Eiz9Bnn30mPE9EdigWKsHPYQtGo1EcCVIgOsVCkdcnEgoTrDAmWP4yYCZY0pEt1+mwp6EBWVrfSI+rkSlg/YlvSrGtTC+O82749RAkaXrrnUmf8S8tiLxtK20TcVpFFXoh83DsyFScNTUbo/M8S1jNBMuXHeC2oYxAsBGsUMYy1ObOBIsJlmSbZYIlGTJsrqqCyWpFgszxV4fqOvDPL0rQpLfiD8fmYeHMHJ/jpfpbXVmjEZ9vb8Da/c2w2hwYlaPFmdOyceyIVKhi3OtpMcGSbjPcIjwQYIIVHvvozSqYYDHBkmw3TLCkQUbkgvSv0jUa2cgPvXG/3tmIV9dWQRsXgxtPH4IphcnSJuZDbZ3Bim92NYlYrVZDJzISY4XMwykTM5CkPtp7phTBouBdKhSEy4URUAIB50OWNKBIsJNL5CBAwfYU6E+3LnsKOkfaMzQsY7D8ZcaRZhy+4thiNGJTZaVs8Vcmqw0vrK7A2v0tGJObgJvPGIoMiTFRvq7J2d7aaceGg634bHs9ShqMiFNF4cRxGVgwJQv56b/IQihFsORaJ/fDCPiCAN2OIwVz0moKROYEX+bKbeVBgIh1U1MT9Hq9kI/oWSLtGcoES4JNRZpxSIDGZdWSlhYcaG5GpsZ3Xamqli5V9opmE34zJQuXnDDIrwrsnq6dPkz2VncIorX5sA4OUnEekiTS8UwpTILN4UCH1YpfDRvmaZey1KMPOCr0YOPCCCiFAAWUkzo45cjjEjkIUDA/yUVQ/kYmWJGz7z6tlAmWNPg2VlSAPDjaPm8yab0APxxswTPflotm155ciONHd6myB1up1Znx5Y4GrNrdBKPVLjxZlKJnxohEnD7ql/QagZg362AFAmUew1ME6IsIl8hBwJ23MtKeoezBkmDzkWYcEqA5qqrFZhPxV3R70NujAVJbX7GhStziI7Jy62+G9Tp+82V+/mxrMNuwem8TvtjegLo2C0bnafHNDSf5c8ij+maCFVC4eTBGgBHwAIFIe4YywfLAKJxVIs04JEBzVNUmgwGbq6uR7aU8QxOpsn9Viv01HZhLquwnFUAT178quy/z9UdbSi69ubgVnQ4bbpw/2R9DuO2TCVZA4ebBGAFGwAMEIu0ZygTLA6NggiUBpCNVDzU3o7i5GRleECzSnHr8q1KQJ+jyeYNx2qRMr71g0mcubwulgtyZYMm7j9wbI8AI+I4AEyzfMQzbHiLNOHzZyPXl5SB1KLXKc+FPEvb8cGsd3tlUg/SEWNz8m2EYneuZoKcvc/VnWyZY/kSX+2YEGIFQQiDSnqHswZJgnZFmHBKg6VXV3NmJVSUlyJGQhkJv6sRT35Thp9I2TC1Mwg2nDUWyjKrs3q7F13ZKEazbbrtNTJ0SznJhBBgBRiAYEIi0ZygTLAlWF2nGIQGaXlUbDQZsqaryWP/qcL0Bj31RgoY2C34/OxfnzcxFDOWlCYOiFMEKA+h4CYwAIxBmCETaM5QJlgQDjjTjkABNr6r7GhtRqdMhbQD9K7q6vXJ3E15eUwlNXLTwWlFOwXAqTLDCaTd5LYwAI+ALApH2DGWCJcFaIs04JEDTq+r3paWIjY5GfD/xV2arHS9+V4E1+5pFXj+Kt8pSSJXd23V60k4pgnXxxReL6a1YscKTaXIdRoARYAT8jkCkPUOZYEkwqUgzDgnQdFc1Wq34rrS03/iralJl/6IE5U0mnD45E5edMBixqvDMVaYUweJbhN5YL7dhBBgBfyIQac9QJlgSrCnSjEMCNN1V6zs6sLW62i3B2nSoFU+vLIPdAVxzcgHmjkn3ZpiQacMEK2S2iifKCDACfkYg0p6hTLAkGFSkGYcEaLqr7mloQI1ej1T1LwmPnS8eqjPg9nf2Y3BavFBlL8jwPUehN3MMZBsmWIFEm8diBBiBYEYg0p6hASVYixcv7lcw8sUXXwxm20CkGYfUzaCgdToe1KpUiI05WnX9/c21eGtTDZ65dDxyU+Kldh+S9ZlgheS28aQZAUbADwhE2jM0oATr9ddfF1v2448/YseOHbjgggvE/7/77ruYPXs2/vWvf/lhS+XrMtKMQypyHRYL1paXu02P8+D/DqGiyYQXr5gQssrsUjFRimDNmzdPTHXt2rVSp8z1GQFGgBHwCwKR9gwNKMFy7tjxxx+P77//Hqojt8wsFgvOOOMMrFq1yi+bKlenkWYcUnGrbW/Htpoal/pXlJfvkheKcMywFPz19KFSuw7Z+koRrJAFjCfOCDACYYtApD1DFSFYo0ePxrZt25BwROm7o6CJqLkAACAASURBVKMD06dPx/79+4PasCLNOKRuRlFdHRo7OpDiIv6KxERve3s/Fp+Yj9MnZ0ntOmTrM8EK2a3jiTMCjIDMCETaM1QRgkXpO1599VX89re/Fdv38ccf489//jNuueUWmbdT3u4izTikoEfxV6uKi5EUHw9V9NGSC59tq8er66rw+IVjURgBwe1O7JQiWM8884yYwpIlS6RsI9dlBBgBRsBvCETaM1QRgkW7RzFYdExID+b58+dj6tSpfttUuTqONOOQglu7xYJ1ZWVu0+M8+nkxdle249UrJyE6Spk0OGRrUQEeWymCxTpYUqyX6zICjEAgEIi0Z2jACZbdbsfkyZOxa9euQOynrGNEmnFIAa+qrQ076+uRpdUe1YyIzRUv7cLoXC3uOGuElG5lqWuz29FgMAhyRb41SuHjyssmy2B9OmGC5Q9Uuc9IQ8DeaUdHQwdaS1qh0qiQPDgZ6jQ1YmKPvq0cadiE0noj7RkacIJFxnD++efjueeeQ1ZWaMXiRJpxSHnjUnC7zmQSR4R9S2WzCTe8sRcXHz8I58zIkdKtz3UtNhuajEaMSk9HYUoKqvR6FDc3w+5wBIRoMcHyeQu5gwhGwGqwQl+tR0tJC4hkxSbEwmFzoNPUKb4wJeQkIGlQEjRpGsTEMdkKdlOJtGeoIgTrvPPOw/r163HyyScjMTGx2yZYByvY3x6u50dkZeXhw0hTqxHjIv5q5a5GPL+6Av/43WiMzksI2CJJNqLdasW03FzkJSV1j2vu7ERlWxsONzfD5nAg3Y8eLSZYAdtuHihMECCPt6nFBF25TpCrqJgoqFPViO6TTsthd8DSbhFki0pidiKS8plsBbMZMMEKwO449bD6DnXppZcGYHTvh4g04/AUqTazGRtI/+rIrdC+7Z78phQbD7Vi+VWTERsTmJyDLSYTYqKiMD0vz+WtRppjN9FqaenyaKnVsh8dMsHy1Iq4XqQjYLPaxDFgy+EWWPQWxMTHID4l3qO4SUG2OizoNHSC4gASsxKRNDhJHCOq4lWRDm3QrD/SnqGKeLCCZrclTiTSjMNTeCp1Ouyi+Cs3BOua13YjOzkODywc5WmXXtcjokTxVpkaDSbn5kJ9RGutvw7pGJHWcKilBRSvRUTLlRK9N5NSimD9/PPPYrokf8KFEQhmBIgYtVW1QVeqE8eAcclxiNXEej3lXmQrCtBmaZGSn8Jky2tE5WsYac9QRQhWS0sLHnvsMezcuRMmk6l797755hv5dtIPPUWacXgK4daqKnRYrUiMizuqSZPegitf3Y3fz8rFBcfmedqlV/WIzBC5Gp6aijGZmS6PKwciWhSsf5CODmUiWkoRLK8A5EaMQIAQoGNAY7MRraWt6KjrQHRMNOJT4486BvR1OjSOtcMKiuWios3UCs+WNl0LlZo9W77iK7V9pD1DFSFYZ599Nk466SQR6P7vf/8bL7/8MsaNG4elS5dK3a+A1o804/AEXCIi3xYXizgmV/IL6/Y3Y9nXZbjv3JGYXPBLHJQnfUupY7Ra0WaxYFJ2NvKTkz06VnDXP3m0iGgdam4GESRfPFpKESz2YEmxHq4bKARslq5jwOZDzeJIj0hOfLJnx4C+zrGbbHX0IFv5TLZc4Wo1WmFoMgjPn5wl0p6hihAsOragBwDJNRQVFcFms+HUU0/F6tWr5dxL2fuKNOPwBMBWkwkbKyrcxl+9+F0Fvt3dKOKv1H66Uk1zoKPBGYMGCaInV7EeIVrk0SKilKpWI85FEuv+xlOKYLEOllxWwP3IgQAFo7dVtqG1rFXcAqTYKiU9SH09W5p0DZLzk0G/fTmelAMrpfugWLjqLdWgo9bCEwplnU6kPUMVIViU2JkSPlNOwv/+979CroHI1uHDh2XdTLk7izTj8AS/stZW7GtsRKYL/Stq/9f/7kW8KhoPXzDGk+4k1aEPyUajUUhD0E1Bbaz3cRv9DewkWhSjRX9LIVpMsCRtKVcOIwToAd19DNhw5BgwRf5jQF8h60W2HIA6XY2UgpSIJFu0Z7U7asUNTiKbQ+YO8RXeXu0j7RmqCMH6xz/+gauvvlpINVx++eVCzf2mm27CXXfdJetmyt1ZpBmHJ/j9WFkpbuMluIi/0ps6cdmLO3H2tGxcOnewJ915XMcZb0XaVuOzsmS//edqIkSuatrbcaCpCXSMSEeHA3m0mGB5vKVcMUwQoGPA9tp2tBS3iNgnlVaFuMQ4n47tAwWNIFsGq4jbokLyEMkFySJmK1brny9wgVqbJ+M07GsQtzjp9iV5GplgeYKa+zqKEKye07FYLCLQPTk52beVBKA1E6zeIBPhWFVSIm7suUpBs6VYh4c/K8btC4Zh1ohU2XbI1NkJOhYkYjU0NTXgH9xOonWwqQlm8mjFxyPezW1FJliybTt3FOQImPVmcQxI3g/yhFBslZLHgL7C5SRbJP1A60kbkYaM0RkB/7zxdR2etqd9qy2qRWJOIuiYkAmWp8gFGcGiIPcTTzxR5CCkeKxA54fzFjYmWL2RazYaQR4sd/pXr6+vwic/1+O1xZOQpJHnxg5pbpH3iI4Es3uI1Hq7p760I/JUo9cLj5Y7osUEyxeEuW2wI0DEg4KhyVtFx4HdoqAB0rsLFD60zva6dmSOyUTGqIxADRuwcejiQdXmKnHLkgRdO82dTLBkQF8RD9aGDRtEomf62b17t0j0TITrlltukWFJ/uuCCVZvbEkJnW7auYu/+ts7+2G02vHEReNk2ZQmgwGa2FhMy8tzKQkhyyBedOIkWhQMT961nh4tpQjWM888I1ayZMkSL1bETRiB/hGgB7A4BjzcAqvJiriEOJHGJlS+LHuzv3abHR31Hcgan4X04enedBGUbcxtZlRsrBDHuE6PIxMsebZKEYLlnDrdIPz222/x5JNPijissrIyeVblp16YYPUGltTbad+I9PQtJqsNl7xQhJPHZ+CqX/l2E4WkIBoNBuQmJWFidvaAcU9+2v4BuyUyVXskRouIVkp8vIgNI42wXw0bNmB7rsAIBDsCdAyoq9CJY0A40HUbMIKU0kkI1dBgQNbELKQNTQv27RpwfiTHULmpElHRUYJgOQsTrAGh86iCIgSLchGWlpZi0qRJ4piQfoYPH+7RhJWsxATrF/TpmG5VcTGytFqX31p3Vuhx/0eHcMOvh2DeWO+/7YlkzQYDRmdkYGRGhkutLSVtwtXYRLTq2tuxv6kJBosF2rg4JljBtkk8H48R6BYFLWlFe327OEISuQHD7BjQU0CIZNGRWu6UXHHbMFSLU46BSBbtZ8/CBEueXVWEYJ1//vk4ePAgiLCQ4CgdD44ePVqeFfmxFyZYv4BLpGdzVZXb+Kt3f6zBOz/W4oXLJyAz6WiFd0+2qd1igcFqxdQ+yZo9aRsMdcjzRkRLZzZjXFZWQKc0b948Md7atWsDOi4PFj4IEJEgQiVEQdstQh8qLik0bgP6exeEJ6vRgNxpuUgeFPwXtPri4ZRjoLiyhKyEo+BigiWPBSlCsJxT37t3Lyg9zrJly0C3CauqquRZlZ96YYL1C7AHGhtRptO5Ffa8/6ODqG214PnLJ3i1GxRAT8dr/SVr9qrjCGnEQqMRstF+WCZ5NPTVehFfJUduQD9MMSi6JA8QBfbnTc9DUq7/slT4Y7FOOYaEnASXJxBMsORBXRGCtW7dOqxZswbfffcd9u3bh2OOOUYcE958883yrMpPvTDB+gXYdWVl4rjOVTLlTptDxF/NHpGCG04bKmk3RLLmjg6ROHpSTo5HyZolDRAhlZlgRchGy7hMk84kYqtIaoFicii+KsZP2RdknLaiXRERMbeakXdMHhKzExWdi6eD95RjoH12VZhgeYpm//UUIVjnnHNOt0wD3SAMlZsnTLC6jIkCuL8rKXF7PHiwtgN/e/cArvpVAX49MdNjSyV9KQpmH56ejjEZGZKTNXs8UARUZIIVAZsswxJ7yiyQ3EJMXAzUKWpBsLh4hkCnqRNmnRmDZw+GNkPrWSOFatGxZuWPld1yDO6mwQRLng1ShGDR1FtbW1FcXCx0sEKlMMHq2inyMG2trnZLsD75uQ6vr68W8gz56b2DJ93tNcVa6WVK1hwq9uTPeTLB8ie6od+3UFuva0fzweZumYWet8hCf4WBXQGRLIveIkiWJk2+fKhyroLkGMp/KEd80sACsEyw5EFeEYL14Ycf4vbbbxdJnolk7dixA3fccQe++OILeVblp16YYHUBu7ehAVVtbUhzk1j54U+Lsb+mA68snuiRd5JU2R0AZuTlue3TT1satt1efPHFYm0rVqwI2zXywqQjYOk4knS5tDUs1NalI+C/FhS7Ril28o/NF17AYCru5BjczZEJljy7pwjBmjZtmoi/ohuE27ZtEyuZOHEidu3a5dOqKFieBBbtdjtuvPFGXH/99Uf1197ejnPPPRdbtmwRsV+kw+VpYYLVhdSa0lLEx8S41KOiGKrL/7MT4wcl4vYz+5feoOvfDQYDUtRqcVPQX8maPd1frscIhCMC9D4ztZrQWtqK9pp2Ia8Qnxp8SZfDAXsisDaTTZAsShUUDKU/OQYmWP7dIUUIFh1fbNq0CUS0nARr8uTJIOFRb8v+/ftBKXh++uknIX5JR49fffUVRowY0atLs9mMH374AR0dHeL2IhMsaYjTUd73paVujwfLm4z463/34dITBuPs6dluOyetKIq3omTNJGFANwa5MAKMgHwIkPI4xdy0HGqBUWcUgqAUuB4qMa/yIRHYnkjSwm61C5Kl9LGrkGMoqhWq+67kGJhg+dc2FCFYf/zjH3HFFVeIY0K6Tfivf/1LHBX6cpzx8MMPw2Aw4MEHHxSI0ZFjZmam25uJNO5DDz3EBEuifZGu0881NW4J1tc7G/HidxV45ILRGJlztL4KDad0smaJSw7J6rfddpuY96OPPhqS8+dJe48AHe/oa7pkFijWilLYUCobLoFDgBTvYYeIyVIS+8b9jULHzJ0cAxMs/9qEIgSrpaVFHOF9+eWXwtt0xhln4IknnkBamvepB6677jpMmTIFixcvFog999xzOHDgAB5//HGXCDLB8s6wdtfXi3QwqWrXMQbLvi7FlmIdll81GTEubiJ1WCyCYE0fNMhtDkPvZsateiLAQe6RZw8909hE4YjMQlxM5AERJCsm2Yvo6GgMnjUYsdqj04n5e5qU0qh2Ry0ScxIl3wrlGCx5difgBIvio2699VbhtZJa5syZg5qamqOakTK8yWQSSaMXLVokXn/22WeFWrwvBIviuZxJc6lPIoauxpe6jlCtT2R4dUkJEmJjERvj+oP7qld2YXCaGveeO9LlMus6OkQwe05iaGjGhOpeMcEK1Z2TNm9OYyMNr0DXptg30hIjkuVMpByIOXgqx8AeLP/uRsAJFi2HgtspyF3O8sgjj4i4KucR4Z133omMjAw+IpQRZPI+rS0rc3s8WN9mwTWv7cYfjs3D72bluhy5vqMD84YMQUIcH1nIuDVHdcUEy5/oKts3kSqK86GHKIlGUmB1JKSxiTY3QdVeCkv6NCAqdGI2iWRR/NugmYMCkhib5BgqNlaI+C9vSR17sOR5jytCsO6++26RFodisRJ7eDKOO+44r1dFx4HOIHfyks2YMUMEubtLIs1HhNKhrtHrsb221i3B+n5fM578pgwPLByJiflHp46gwHa92YyThw/nQFvp8EtqwQRLElxBX5mClenBKUhVhQ6ku0RioL48RIN+0c4JOmzQlr2D5L3LEN2phyVlPNrG3w5L5qyQWQKl1KFYrEHHDBJirv4qUuUY2IPlr53o6lcRgkUerL6FbrasXr3ap9XScSAd6dE3vJ4yDc8//zyqq6u7vVt0Y5GO+vR6vQiEp2D3yy67bMCxI12mYUdtLShHYHK86+vHz68ux3d7mrH86smIVx39DZOSNyfFx4v8glz8iwATLP/iG4je6RYgKYSTIGhbVZu4mSZIVVJcQDwhgVjjQGPEtu5GStH9iNPtgiVlAky5JyOx+HVEW3Uw5ZyEtnG3oDOpfzmYgcYI1OvGJqO4xUm5C/2RgsgbOQYmWP7dfUUIln+X5L/eI5lgkb7V6uJiQZDcSSrcsGIvEuJjsPT3o11uAmlejc/KEtIMXPyLQFNTkxiAjsm5hA4C9JCkIyW6Vk+aVUSyolXRglT546EcrMhEWfVI2vcEEkrfgkOlRdvYG2EY+gcgKgZRFh2SDr2IhJIVgMMOw5DfQz96CezxwW/r5IHUpGuQNy1P7KtcxVs5BiZYcu2A636YYEnAN5IJFh3trS8vd3s8qDNYccVLu3DOjGxcfPxgl6hS/NWx+fms1i7B5rhq+CNA8S5EqvTVenTUdQgPPB0j0fGfnA/hkEDS4YCm6nMk73kEMeZGGAafibbxt8Guzjpq+jGGSiTtfRza6i9gVyWgfeSVaB9+CRATXCrqfSduaDAgITsBOVNyhOirHEXIMRxuFv3KoXPGMVhy7IpCR4TyTD3wvUQywaLUOEV1dW4J1o+HW/Ho5yW446zhOGbY0R4qp2r7KcOHu72BGPgdDd8RKR0VlYULF4bvIkN4ZRQrQ3E5+io9KMky5YpSaVSCVEVqouWY9hKk7nwQ8Y2b0JkwFK2T7oUla86AuxzbsgPJe/6J+OafYFPnCm+XMf+soA6E76jvQGJeInIm+U6yfJFjYA/WgOblUwX2YEmAL5IJ1k81NWg3m5Ho5vbfq2sr8fn2Brx25SQkqlVHoUraV5Rv8ITCQgmIc1VvEeAYLG+R8187uvlHpKqtsg2kkURvCBIBpR85vA7+m7mfe7aZkHTwBSQefhlANPSjrkL7iD8DMRJuGjscUNd+i+S9j0HVUQ5L8ji0TaBA+Nl+nrx33dMXTkO9Acn5yciemO01qRZyDJsroc3QyurtZA+Wd/vat1VACRYFmvdXBg0aJM+q/NRLpBIsm92Ob4uLkaZWI8ZNSpvb3t4Pq82Oxy8c5xL9FqMRg5OTRVocLv5HQCmC5fTM0ANEFacSR13RsdFdv1XREUUkhJyC3iI8VORloETAiIK4TUbeqogmVUfeAvF1a5Gy6yGoDBUwZc+FbuI9sCUUeP8GsVuQUPYuEvc/gxhrK0w5Jx4JhO+dMs37AeRrSfZBR8KpQ1ORNT5Lsj3QrdLyH8oRnxTvtRwDe7Dk209XPQWUYA0bNkwYERlWeXm5UG4nSQWdTofCwkKUlJT4d7U+9h6pBEtnMuGHykpka7UuETRabLjkhSL8elImFp/o+sORBUZ9ND6JzQNJsJykikiEqcUkZup8n5OiuEP4LiFUrWM0MV2aTUdIBv0tCFhsTDcZkysuRSJkslSnYGPyTnU0dEBfqQd5AiJGTkECgtHGWqTs/gc0Nd/Aps6BbsKdMOWdSoYjoRf3VaOsbUg8+CISRSC8DYbC86Efcx3s8Zmy9C9XJ06SlTY8DZljMz0mWXLJMTDBkmsnXfcTUILlnMKSJUtEepwzzzxT/NOnn36KdevWBX3etEglWOU6HfY0NCDLDcHaUd6GB/93GDedPhTHj3ad7ogC3OcOGeL2iNG/Zh55vfubYJEOk6HZgLaKNtD1c/LMiOMurfvjLiIfdEvO3mkXkgP0m/5NEDInEYuCIFtEvFRalfhN/ZI3zOkJo9fp70B5gOghSByRfov50n92h/h/599EpMgb0VbdBrvFjihVlPAs+FPzKCSt2m5FQskbSNr/NKLsZnQMu1gQH4fKdd5SX9cYY6hC0r5l0FZ9BnuMFu0jF6Nj+KVwqDS+di1be7IlislKH5mOjNEZA9q1nHIMTLBk20aXHSlCsEiHqqioqNeEZs6ciS1btvh3tT72HqkEa0tVFQxWq1ty9NamGry/uRb/uWIi0hOPzrlFAqM6sxkU4B4t0zdUH7cy7Jv7g2ARiaDjLvLMUOyHIFVaeWOIBImxOQT56iZjnXZBZAQRO+IBJ68QHbMJIkbB4eQRU6u6Yll6ECB6eDmJXDehc6CL5Nm7CB6N56xHbcW/d3YRKPFbdNhFsFwVJzkk0kekKuJu/nn4bopt3obUovsRqz8AS9pUtE6+H53JYzxs7Vu12NadSN79SI9A+BtgzD87aALhSY6DYrLIi0VEy11xyjEQmddmuj5R8A2prtaa/S/DnDQJuWedI0d33X1E2jNUEYI1d+5cXHLJJbjooosE8MuXL8eKFSuwfv16WTdT7s4izTgIPyJHq4qLka7RuCVH935wEI16C569bIJLyElglILjZwR5jJ3c9qJkf59//rkYfsGCBT5NQ0gItJigq9SBrpcHS2C2kxD1JGFElHqSMPH3kYTj4jf9RwT/yO/u23r0/9FR3Z6Dfuv6hGZkNo6ytCB577+QUP4B7LEpaBt/CwwFCwNPbigQvm41kvdQIHwprMnjoJtwGyyZxwbFxhDJIk9W9oRspA1zfRIgtxyDq4XH169Hxo+L0ZH9ayRc+56s2ETaM1QRgkXxVzfccAO+//578aE2f/58LFu2TMRhBXOJNOOgvaDg9E1VVW7jryiw/ZLni3Dc6DRcf+oQl9vXaDBgbGYmhqSmBvP28tyOIGCz2GBsMQpPVXtDO2Dn225sHF4g4LBDU/GRIDQUcN5RsBD6cbfAHu+aPHgxgndN7FZoy95F0oFnEGNpgSl7viB9nUmuE9R7N4h3rcizSl9kcibnIKWwt9yNP+QY+s4y2lSPrO/PhSNag5pZ76DgV5O8W4ibVpH2DFWEYMm6YwHsLNKMg6AtaWnBgeZmZGpcxyzsr+nAne8dwDUnF+KUCa6VlCn+anZ+vvCCcQkMApQKikqeh2mJhIJ4i0lICFBqFirOo7dI1WUKzE6F5yiqtgNIKXoA8S0/w5o0CrrJ98OSPj2oFktq8YmH/iNS78DeCcOQ3wVFILyTZOVOzRUyDlT8JcfQa0McNmRsvBxxzdtQN/N1cUQ4ZK7rL83ebmSkPUMVIViU6Pnmm28W+QHXrl2LXbt2iSD3a665xtt9C0i7SDMOAnVTRQWsdju0sUfHVtHrH22twxs/VOOpi8dhUJprBWUiWJTgOS7Gf0lOA2IAITSIJzFYzrQsRKqcCuIUxxTJYpchtMVBOdWozg4k7X8GCSXL4YiOh37MEhHIjmjXnx/BsIiuQPgnoK369Egg/CJ0DL9M0UB4em/S5RHKW0jxhf6SY+iJf9L+p5B04Fnoxt8GXf7FIjaRCZZvFqoIwTrttNPw5z//GUuXLsX27dths9kwdepU7Ny507fV+Ll1pBEsq80m9K/o9qC7G1tLPzmMQ3UGvLxooss6JDBKOlrzhg718+5w9z0RcEew6NuxOP6r1ot8dxTLFBMfI4Kz2VPFNuQ1AkLocyVSdv0DMaZaGHNPhW7iHbBrQiexe2zrLiTveRTxTVuEdETbWGcgvDJfDMVRfbNRXN4Q+SgTJQivStzIuMZNyNh4Bcw589E881l0WmxMsCRi6Kq6IgTLeWNw2rRp2LZtm5hXz79lWJdfuog0gtVsNOJH0r9KcH2FmhJAX/biTkzKT8KtC4a5xLzVZEJeUpJI8swlcAj0JFhEqkSuuxp9VwLhTjti1Edy3cmUCy1wK+ORgg2BmI4KIRaqrl+LTm0+dBPvFg/qkCwOB+Lr1ojUO7EdJV2B8ONv9Shljz/WSySLfvxJrqLNjSLuClEq1M//EI64NKHfxh4s33dUEYJFtwi/+OILEdz+888/Y/fu3Vi0aBE2btzo+4r82EOkEaxDzc04TPFXbvSvShuNuPnNfbh83mCcOTXbJfJ0PDgtLw+5iYl+3Bnuui8CRLDoVtJnr30m8t3ZOm1QxasQlxQnW4JZRj3CEbBZkHj4FSQdfJ6EwdA+8gq0j7xK0aM12XaEAuHL3xN6XV2B8PPQOvVh5QP0ZVvgkY4cdmRsWoS4ps1omvM6LBkzxAtMsOQBWhGCtWbNGtx55504cOAA5s2bh82bN+Ott94CEa9gLpFGsDaUl4vtUKuOzi1I//7ljga89H0l/vmHMRie7VqTpd5gwNzCQhYYDbBhE8Ey68147/H3oE5RszZTgPEP9+HoSCml6EHh5TFnzIZu0r3oTBoedsvuCoR/SeRJtKZMQNOcV+FQ+U9/KtAAJh54Hsn7n0Db2L+ifdSV3cMzwZJnJxQhWDT1lpYW/PDDD0K8b86cOcjIcH0DTZ5lytNLJBEsc2cnVpeU9Bt/9e8vS7CtrA2vXTkZMUf0hnoiTbFXLSYTTh0xggVG5TFBj3u5++670VrWituvvZ3VxD1GjSsOhAAdJyXvflQEhNviM9E2/jYYB58pW4qbgcZX6nVt2XtILbpX5DZsPuYpINr1l06l5ufNuHFNW5Hxw6UwZ81B8+wXe+mSMcHyBtGj2yhCsC677DK89tprvWZDQe8vv0zZ1IO3RBLBIu0qUnB3F39FxPjKV3ZjSKYad//WtX4MCYzS7cOZgwcH76aG8cxK15SKAHZO1xLGmxyopTnsQjsqed/jIK+OYegf0Db2Rjhiu2QEIqEkHngWyfufQkfhedBN/r+QJpXR5hZkrT1XHO02zP8I9vjeDg4mWPJYtCIEa/r06SL2qmehW4R0ozCYSyQRrP2NjaAchO60q2p1Zix5fQ/+NCcP583MdbltRNJGZ2RgWJrCwoLBbFR+nBsTLD+CG0Fdq3T7kFp0H+Jai2ChoO8pD8CaKq8AZUjA6XAgZecDSCh7B/rR10I/5vqQmPZRk3TYkb75asTXbxBHnpbMWUdVYYIlz9YGlGA99dRTePLJJ1FZWYmCgoLuFej1epH8+ZVXXpFnVX7qJZII1trSUsRER7uNv/pubxOeXlmO/ztvFMYPdh3ATvFXswcPZoFRP9ljf91ecMEFIu3Gc0ufYw+WAviHw5BdmlZPI6FkRZem1dgb0DH0T2FxPOb1/jhsSNtyAzR1q9A66X4Yhl7gdVdKNUw4/ApS9vwTbaOvQ/uYJS6nwQRLWn7mogAAIABJREFUnt0JKMHS6XQi9uqmm27C448/3r2C5ORkpIWAlyNSCJbRasWa0lK3x4O0cc9+W47v9zVjxdWTEaeKdmmNdSQwOmwY4t0EyctjwtyLKwREkHubGZ+8/AkTLDYRaQgITatVSNn19y5Nq7xfQzfhTtg1OdL6CdfaNhMyN16B2JYdaDnmCZjyTgmZlca2bEfmhothSZ+BpjkvA1GuNb6YYMmzpQElWPJMWbleIoVgkbTCT9XV/RKs65bvQapWhYfOH+1yQyhI3mK340QWGFXEYJlgKQJ7yA9KquZErNR136FTMxi6SaRpdWLIr0vuBURZWpG54SKoDJVomvNK0KUBcrXeKItOxF1F2SxomP8h7GrX0jrUlgmWPBajCMH6+OOPceutt4KSPtvtdnGTkJTCLRaLPKvyUy+RQrD2NDSgRq9Hqtp16puWDisWvbwLC4/JwYXHDXKJNgmMkvbVhGz3b2I/bRN3C4AJFpuBJATsVpGTjwK5o+xWtI+4Au2jrg4PTStJQHheOcZQjcwNf0SUzYzG498IimTRbmfvcCBty/VQ161G87H/gTnr+H4XygTLczvor6YiBGvEiBF45513cMwxx8izigD1EgkEi8jud6Wl0KhUbnMHbjzYgse+LMVdZw/H9KG9M747t4IFRgNklG6GYYKlLP6hNHpc889IKbofsfqDMKfPgG7yfehMGhV0SxBJkJsMiImNgTpN7TZ9VyAnTkmtyZNlVyWi8YS3gvYYNaF4BVJ2L4V+5FXQj7txQIiYYA0IkUcVFCFYxx13nNDACrUSCQTLYLXi+wHir17+vlKIjL5+1WQkxLs+wyeCdUJhIZLi40Ntm8NivqeccgpMLSa89fRbHIMVFjsq/yKiLC1I3vtvJJS/D1tsKtrG3wpjAaVMiZJ/MB97tBqtIqYwc2wmzK1mkfZJk6ERZEvpEte4GRk/LkJnwlDhyQo26QrKsZi5/k+wpE1G05zXPLqkwARLHqtShGD97W9/A90cPP/88xHf4wFMxCuYSyQQrNr2dvxcU4McN/kHaX9ueWuf2KbH/jjW5XY5BUZPGT5c3ETkogwCLNOgDO5BP6rDAU3lxyKxMaWB6ShYCP24W4I2DQzl0aSk5HnT86DN0IqQEkr/VL+rHtFx0SJTgdJFXf0V0n66CZaMY9A0+z9ATHB8sSTNsqy15wntMqF3pXEtqdMXPyZY8liUIgTrpJNOOmr2FIO1evVqeVblp14igWDtrKtDQ0cHUtzEXxnMNlz6YhFOn5yFP8/Pd4l0h8UCdWwsZrHAqJ8s0bNumWB5hlMk1VLpDwstp/imLbAmjhDHgZaMmUEJAREpY6MR8cnxyJ2ai1htbK95WtotqCuqE4nMNZkaxXNsJpS8IS4IGPNOQ8uMf7m9oRcwsCnu6qeboKn5Ck2znpN0WYEJljy7pAjBkmfqge8l3AkWfaBRepzEuDio3HietpW24aFPDuOWM4ZizijXAqIsMBp42+w7IsmgNB9qxpUXXclHhMpvh/IzsJlEUubEQ6/AERWD9tHXon3EpUB0nPJzczEDEW/VaEBKQQqyxme5zaVJCc1bS1rReKARcYlxiEtQdj1Je/+FpEMvoX3YRWibcKeix63a0reRuvMBcWGBjn+lFCZYUtByX1cRgrV27VqXM6LEz8Fcwp1gUWqbdWVl/coz/PeHany4tQ4vL5qI1D7fKJ17R/FX5L3K0IZPUtRgtktXc+Mg91DbMf/NN75+PVJ2PgiVoQKm7LkiMbNN69r77L9ZeN5zp6lTeKWyJmQhdUiqR8HsxhYj6nbUwWqyQpup9aiN5zOSUNPhQOr2O6Ct/Bht425C+8jFEhrLV1Wl24us9X+ANXmsiAtDdG/v30AjMcEaCCHPXleEYJ166qndszObzdi2bRsoVc66des8m7VCtcKdYFW3tWFHXV2/BOvu9w+g1dCJpy8Z73YXSGD0V8OGuVWBV2j7ImpYJlgRtd0uFxttqkfK7n9AU/0VbOps6CbcBVPeqYp6VQbaFRFvZXMgb0ZXvJWUYrPa0HSgSXi06JahSq1QQma7Fembr4W6YT1apv4DxoJzpCzD57qkwJ+19nxEW5rRMO9D2LTSc8EywfJ5G0QHihCsvlMvKSnBAw88cFQCaHmWKF8v4U6wttfUoMVkQrKbm3/WTjsufqEIc8ekYckpQ1wCa7HZYOrsxEnDhskHPPckGQEmWJIhC58GDhvoeCh53zJEdRrQMexC6Mf8BY5Y1ymtgmHh3fFWSfHImZrj01Ffe1278GZFRUcJoqVEIZKT8cOliG3bj+ZZz8KcPTcw0yAP2rbboa36FM3HPOW1yjwTLHm2KygIFi1l2rRpwpMVzCWcCZbd4cCq4mJBrtzFX+2tbsfd7x/EklMK8avxvbOvO/dNZzIJD9jEHE6roaQtM8FSEn3lxo5t3Y0USsys2w1L6iToJt0Ha+oE5Sbkwcg9460yx2XKIr1Asg4NuxtAZIuODKPdpPPyYHpeV4k2NyJz/YWg303HvQ5r6kSv+/K0oab8A6TtuBvtwy5G28Q7PW12VD0mWF5D16uhIgRr6dKl3ZMgJfeff/4ZdFT4+eefy7MqP/USzgSrzWzGhvLyfo8HP9hSizc31uCZS8YjN9X1NWSKv5qam4u8pCQ/7QJ36wkCTLA8QSl86tA1/KT9TyKh5E04VFq0jfsrDEMuUP4m2wAQd8dbjc9C6lDP4q083TXyirVVtKF+d704LqTbiIEuMR3lyFz/RzFs4wlvwpbg2vMvx7xU+oPIXPt7dCaNQOPxbwIx3gf8M8GSY0cUOiKk40BnUalUGDZsGM4777xemljyLE/eXsKZYFXqdNhVX4+sfvSvHvr4EEobjfjPFRPdBpESwTq+sNDtMaO8O8K9uUNg165dqNpShfFjx/MtwnA2E0rMXPM1UnYtRYy5AYZBv0HbhNv7zTMXLHCYdCY4Or2Lt5KyBrPejPqietB4Ssg5kNAnHRfa4zMFybLHu/b+S1lT37p0FJy57vciObeIu0oo9KU7zkXoE3q/NFbEg+Uc3mQyiT/VbjSXZFqjbN2EM8Gi5M50i5AkGlwVm92By14swtQhybj5DNfxVXTM2Gw0ggVGZTM5nzpiHSyf4Av6xjEdZUjZ+XeoG9ahU1sobgeas/vPMRcMixLxVk1GEWeVOy3Xp3grT9dDcg4kW0I/5Mnqq6nlaT/e1ouvXycC363JY8RxoUOV4G1XLtulbr8L2ooP0Tzj3zANOsPnvtmD5TOEogNFCNbBgwdxySWXgH7Tm23MmDF4/fXXMWpU8OW/6glzuBIsUl7/trgYaWq1W+X14noDbn17PxbNz8cZU7JcWh+l2YmLicHs/OC9Ai7P2yb4e9m4cSNqfq7BzOkz2YMV/Nvl+QxtFpGwV1v+AeIbNgBRKrSPXAT9qCuBGGUCuj2fPCDirRoMSClMgVzxVlLGNzYbUbu9FrZOGzTpmoDKOWgq/oe07XfAlHWCCHyXKp3gbp2aio+Rtv1v6BhyAXST75cCh9u6TLBkgVEZgnXiiSfiL3/5CxYuXChW8cEHH+Cpp57CmjVr5FmVn3oJV4LVajJhY0VFv/FXn2+vxytrq/CvP43F0EyNS4RJYHRkejpGpKf7aQe4W08R4BgsT5EKjXoUX0OkSlP5iUhvY49NgWHwmeKGoC0xNG7s+jPeSsou2iw2NO5rRGt5qyBZqvjAyTkkHvqPyP9oyD8brVMf9lkyI6a9REgy2BIK0HDC27KRbCZYUizKfV1FPFikebV9+/Zes3L1b/IsUb5ewpVglbW2Yl9jIzL7EQZ97IsSFFXo8dqVkxDtJhksxV/NHDy4337k2w3uqT8EmGCFvn3QVX9N1RfQlr+PuNYisSBz5rEwFJ4PY+4pQZPvzhOku+OtKJ9gpjR9K0/6l1qHTk7aa9tRt7NLzkGT5vpLo9R+B6zvcCB591IklrwBPXkex908YBO3FWwmISYa01GBhnnvy0q0mWB5vy09WypCsEix/fbbb8eCBQvEXD799FP885//hDuFd3mW6nsv4UqwNldVwWS1IsFN/BV9GC16eRdGZGtx59kj3AJJBOvEoUOhiZWmGuz7znAPfRFgghWiNuFwIK5lm/BWUQLhaJsBNnUODAXnwlCwUHgqQqnQZwelvIlPjA9YvJUUfKwGq7hl2FHfETg5B4cNaT/dDE3N19BNvAsdwy6SMuXuuilF9yOh7B20THsExvyzverDXSOR3zFNIxJsy1nC9RnqDiNFCNbu3btFDFZlZaWYV0FBAZYvXw4CP5hLOBpH55H4qwyNxq1nqrrVhOuX78VFxw3Cuce41rey2mwwdHYKBXcuyiPABEv5PZAyg2hzEzSVHwtiFdteDEeUCqbcX8FQcF5X4HpUjJTugqKuM94quSBZ5BOMiQ3ONTjsDnFc2LCnQQTcU05DvxebGRk/LkZc01a0iMD00yUNqa7+Euk/3YSOgoXQTf27pLYDVaZ9o0sIhXMLEZ8kr7RFOD5D+8NTEYLlnJBerxdB7snJyQPteVC8Ho7G0WI0YlNlZb/xV6t2N+HZVeX4++9GYWyeazVoEhjNTEjAZBYYDQpbZYIVFNvQ/yQcNlCeQOGtqvsOUY5OWBNHwFB4nvBI+OM6f6BQCZZ4KynrNbeZUVtUC4ve0pXPMDpKSnPJdaOsbcjccDFUHSVomv0SLJmzPOqDtLWy1i6ETZ2LxrnvCt0zOQt58zJGZSB9pPyxtOH4DA06gkXHgYsWLUJaWpqYW3NzM1599VXcfLMP59FyWpibvsLROEpaWnCgqanfuKmnV5Zhw4EWLL96MmJjol2iQ8eDRK4GhwhZDoC5KDrESy+9hMb9jbhw4YV8i1DRnTh6cIqZ0VZ8AG3F/xBjqoM9RgvjoNNFbJU1barPgc9KL5fircgLMmj6oKCIt5KCB8276WATWg63ID41HrEa/4Y7RBvrhBBpdKdeJGXuTB7T/3RtFmRu+CNU+mI0znsXnUny3rynI1PKBVl4QqFf1O/D8RkadATLVVqc6dOnC0X3YC7haBw/VFSA1PT7i5u69rXdyEyKw4PnuX8z1xsMOC4/HykhomkWzHYm19zCUgfLYUeUzXTkx9jjt5E0AITAZicltw02yQKbGZqalYJYxTduEltsSZva5a0adIbsukhy2ZCUfpzxVnTEljctLyD6VlLmJ6UuxY3V7qgVQqjqDLVf5RxU+kPI3HARHDHxaDz+Ldi0g9xONXkXBcivQMuUh2AsPE/KkgasS/vXUdeB/Nn5fiPG4fgMDTqCNWnSJOzcubN7XrSxEydOBMVmBXMJN+OgxMyUfzBLq3X7AdLcbsXiV3bh/Jk5+OMc1298EhhtMhhwyogRbvMYBvO+huvcFCFYDgeiLU2I6iTy4yRARIgMboiRkywdeb2T/r8ncTIhWvz/kX+zmz3aLlt8JmyaQbBpBwvCZdMMFn/T7056gAWIgKl0e8URICXfjba2wRaXBmP+bwWx6kwa6dFaQqGSM59g0uAkZE/IDtp4KylY0k26hr0N0FfqocnQ+NUTHNf8MzI2XoFObb7wZDniUo+aqrpmJdK3/gWGwWehddojsns6Ke4qMTcROZP9l0c23J6hA9mTIjFY11xzjfCakBYWlSeffFI84J9//vmB5tvv68uWLcMzzzwj+r7xxhtx/fXXH1V/5cqVuOOOO0Aq8pSm5+6778b555/v0bjhZhxEiugGISVndlfoaPDfX5Xi3nNGYEqh61g5o9UqBErnFITWDSePNj1EKwU0BsthR1zLdtADQF37LVSGrssrUoo9RgNHjPrIj/Pvnr8Hfh1R0Yg21UFlrEaMoarrx1gldKP6FkHAiHz1IF6/kDEiYN4H91JsjabqM0Gs4nR74EAUzFknCFJlyj0JiA5AELUU8H2s64y3IuHQtGFpfvX2+DhVyc3py7++Ro/6nV35DP0ZAK+u+RZpW2+ANW0KGue80utLANkyxV3Z49KFJIPcSvCkDUYphYbOGyrW6a8Sbs/QgXBShGARuXnooYfw9ddfiyD3008/HXfddRc0Gu+1SPbv34+zzz4bP/30k+iTjhy/+uorjBjRW1Zg27ZtyMrKQn5+PmpqakS9oqIi8W8DlXAzjoNNTaAYrIx+9K/+s6YC3+xsxPKrJkMT5/oWEBG1YWlpGJUhf46tgfaEX3eNgN8Jlt2K+KbNR0jVKsSYG8VELGlTYM46XghhdhEmIkbOH3cESi37t/GeqJCeVEwP0qVyEi8nCbO2DkDA8nt5v8gzdhQBI3mFpi1Cs0pT8w2i7GZB3gyFC4XEgl0j73X3YLF7Cgy3WW3iSDAhS970L8GyRpoHrbPihwoRl+XP25Da0reRuvMBGHNORssxy4BoFWCnuKuLEdu2Dw0nvIPOlLGyQ0NHg9mTspFSkCJ73z07DLdn6EBgKUKwBpqUN68//PDDMBgMePDBB0Vz8lJlZmYOGDhPx5Vvvvkm6PdAJdyMY315OeiejFrl/hvLTW/uFcd+j/7BffAlxV8dk5fXb6LogbDl1+VFwB8Ei479KD2LunYl1HVrxJGXIyoGloyZMOadClPOybBr/He8IC9Cv/QmCFg36arGLwSsUvwdbdW5IGBZ3ceP5FVQ130PlaEcjuhYGHNPFd4qS+axIK9aOBZnPsHYhFjkTc3zq2cnWPBrq2xDzfYacYxGJy7+Kkn7nkTSwee6Ut9Mug/Jex9D4uFX0DrpPhiG/kH2YYk8kteKYq/8fXMy3J6hA22GIgTrnnvuwS233IKkpCThddqyZQuefvpp/O53vxtovm5fv+666zBlyhQsXrxY1Hnuuedw4MABPP74427brF+/Xuhxkfcr1gNxzHAyDnNnJ1aXlPR7PNhh7sSlL+zEgqlZuHye+/yCLDDqtdn6raFcBCvKqhfkgUgVJayleChHdJzIp2YSpGo+HHFdt4HDtURZ27s9YCo6cuxx/OgkYJTElzSrDPlnhj0e4Rhv5YntEqmkwHdDnQEaN+nCPOlnwDoOB1KK7kFC+QeCrGtqV4pbpi3T/y27p5eSYBsbjeLWICXB9ncJp2eoJ1gpQrAmT54sjuW++eYb0HXyJ554Ar/5zW9Ax3f9lTlz5ohjvb6FYqjo2JHS7ZD8A5Vnn31WJJN2R7DKyspw0kkn4Y033sBxxx3ncliK56IfZ2lpaXE5vidAB1udho4ObK2pQXY/x4M/leiw9NNi3LZgGGaPODroktZEAqMdVqsQGPXnt7pgwy/Y5+MLwSLRS3XtKlBMCN14i3JYYVclwJRzIky5p8CcPVf2GJBgx7Pf+dlMQHS87A+/YMTE0m6BtcOKzPGZSB2SGnHveQp8r9hQgei4aP9KONg7kb71euEp7tQWoGHeB3DEJsluEpR4O3VYKjLHZMret6sOmWAFAGZn3kFKlzNr1iycd955cCXdIGUqjzzyCDo6OrqPCO+8805kZGS4PCKsr68X5Grp0qX47W9/6/Ew4WIc9E1sZ3096tvbkdZP3NuKDVX430/1eGXRRKRoXevBtJnNSFOrMTUvPGNMPDaOIKv45z//Ge017Xjsnsc8uv0UY6gWAeoUqE43mqJgFzfeSE3clHsqzJlzgJjwCs4Osi0L6umQ2jndMlNpVMidmgt1ijqo5+vPyRmaDKjYWIGE7AREu9EFlGN8OpJPPPg8jPlnyq53RfOjywk2s00otvszrqwnFuHyDPV0fxXxYC1cuFCQnzVr1gjtK7rNR96pvgmgPV0E1aPjQGeQO90inDFjhghyHz58eK9udDqdIFd0g/Gyyy6TMoRI5bNnzx5JbYKtMpGrvY2NKG5uRk5iotv0ODTvO987gHZTJ5682H0KI/KETczORn6Kf4Mjgw3HUJjPQDINKv3hX0iVrksihdShRTxV7imwpE/vCrLlEtEIiFuCLSbh6cgYnRGwh3Ewg954oBHNh5qRmOM6s0Uwz53m5tS8GjxrcEAvJ4TDM1TK3ipCsIxGo7hBSEeFRICqqqqELhbdJvSl0HEgHemR8fSUaSD5h+rqauHd+vvf/y5uMI4Z80vQNh0nujsmDCf27SRXdHOQpBmi+wnUNHfaccnzRThxXDquObnQ7bZQ/NVxBQUsMOqL4fqp7VEEy+FArG7PkZt/K0XOO/FNNmFoF6nKOxXWlIkRcdTlJ8jDrltjCwm4AjlTckKWTPhjUyh2qerHKlhN1pD05hFhJm0v8kYGMrSDCZY/rDFM+gxl4yBytY88Vx6QK9quXZV63PfhIVx/6hBBslwV6rPRaMQpw4ezwGiQ2Th9waBbTw/cdC807TtEPBUFqquMXTGMluRxXUHqeaeiM3EEk6og2z+lpyMC2ZsMwrtBwqGxbkIElJ6nkuNTPFrZ+jJBsGLcSNgoOT93Y4tkzi1GoXkV6H0N5WeoN3sZUA8WxVtt3rxZ3NjryZrpQU3/b7FYvFlDwNqEqnEQvvsbG3HYQ3JFgL63uRZvb6rBc5eNR7ab2yUkMEr7dnyhew9XwDaHB+qFwLHTxsOma8SmRQmIsTQLsUs68qOjP1PeKbBp3d8KZSgjG4HuQPZxRwLZ/Zz0OJTRbqtuQ+3PtUjITQioJ8gXzEjzKmtClrikEOgSqs9Qb3EKKMHydpLB0i4UjcNJrg61tCBngGPBnjg/+NEhVLWY8PzlE9yn0TEaMSQlBaMzA3MDJVjsIBTmcezoLMDQgu9u/zXMgyim6lewqwcW0w2FtfEc/YOAM5dgrDq2K5A9NXID2T1FmDCrK6pDe107tBlaT5spVo/Ic4wqBoOPHezXAH13CwzFZ6gvmxVQgkVxUP2VQYPcJ7n0ZZFytQ0146A3/4GmJhxqbh4w5qonRja7A5e8UISZw1Nw42lD3cJH8VfHDBrEAqNyGZiM/Rx7zDRYOmz4+JXPQ+r4QkYIuCsJCJD8gLHZiNShXVf2A3WrTMIUg7YqpZkp31COaFV0wI/cpIBCN0E76jtQeHyhYuQ51J6hUvB1VTegBGvYEa0kevCXl5cjNTVVBKTTzb7CwkKUlJT4uh6/tg8l4/CWXBGAh+oMuP2d/bjypAKcNsm9d4oI1vyhQ6H1QKTVrxvDnR+FgC86WAxnZCFgajWBgrYpyW9SrvxaS5GAJpFTkm7QZmkV8Qx5grGh0SBS4WSNV86THUrPUE8wHahOQAmWczJLlizBGWecgTPPPFP806effop169bh0UcfHWi+ir4eKsbhJFeUa3AgKQZXgH66rR6vravC4xeORWGG6/yQnXY79GYzTh4+PGRiDxQ1ngAPzgQrwICH4HBORXYiBTkTc4La+xIK8JJsQ9OBJiTkBF9ORpLaoJ8hc4co6tEOlWeoXPamCMFyKrn3XMTMmTNFypxgLqFgHESuiFjR0aA35Irwf/TzYuyuaseriye5lXIgcpWiVmMaC4wGpcnq9XqUrStDSlqKoh+oQQkOTwqWDgsoHoeOA9OGpfk9B10kQE5ewOot1QLbYItfa69tR96MPMU9lKHwDJXTVhUhWHPnzhU5AC+66CKxluXLl2PFihWg3IDBXILdOIhcUbwV3Rj0llxRH1e8tAtjchPwt7N6i7T23JsGgwETsrJQwAKjQWuyAwmNBu3EeWJ+Q8CZpJlkBSiQXZPm2kPttwmEecdErsrXl4u8fsEi3UBHwCQlQQQrkJpXrrY62J+hcpunIgSL4q9uuOEGfP/992LD58+fj2XLlok4rGAuwWwcTnJFnqssrRYx0dFeQVnZbMINb+zFJScMwm+n57jtg+Kv5hQUIFXNN428AtrPjd5++2007GnAOWecEzQf9H5eMnc/AAIUjE2xQimFKV2B7CGk3RRKm6uv0aP6p2ok5iYqTmiE5lWzEUPmDUFcgvKproL5GeoPG1OEYPljIYHoM1iNo9tz1dQkkjd7S64Iw5W7GvH86gr84/ejMTrXdSwBjUceLBIYjY2JCQT0PIZEBDgGSyJgYV5dBLJ3dgWyB8ODP5zhps/H+l310Ffroc1UVrqB5COyxmWJY+BgKMH6DPUXNkywJCAbjMZBb2YSECWVdl/JFUHxxNel+PGwDsuvmgxVTJRLdEydneLfWWBUgvEEuCoTrAADHqTDUVyQsdEITboG2ZOyg8KLEaRQyTot8hZW/FABREMxzOm4kk6ICo4rCJqbjcH4DJV14/t0xgRLArrBZhxykyuC4upXdyM3JQ73LxzlFpkWo1Ekdx7LAqMSrCewVZlgBRbvYBzNarDC3GYWx4GUqDk6xruwgWBcWyjMidLREMkiLxZpZAWyODWvCuYUCHIdLCXYnqH+xoUJlgSEg804KKBdLs8VwdCot+CqV3fjgtm5+P3sPLfIUPzVjEGDhHgpl+BEgAlWcO5LIGYlAtmbjUIsNHdKblA9YAOx/mAao/lwMxr3NwY8UTZpXiXnJ4s8ksFUgu0Z6m9sFCFYNpsNL730EoqLi/HII4+gtLQUVVVVOP744/29Xp/6DybjONzcjL0NDYLk+BJz1ROQdfubsezrMtx/7khMKnAvOEgEa96QIUiIUz5o0qcNDePGTLDCeHP7WZoIZG8yIrkgWcTecCC7snZAnqSqrVWw6AMn3UCq/NYOqwhsV8WrlAWgz+jB9AwNBDCKEKwrr7xSJHz+7rvvsGfPHqHkfvLJJ2Pr1q2BWLPXYwSLcRQ3N2OPzOSKQHnhuwqs2t2IFVdNQXysa5c2CYy2mc0iwF3pK79eb2QENFy5ciVqd9TixONP5IdsBOz3/7d3JtBVVdf/32QeyJwQQgZCQoIWZBQwyKjQWi2IgBXRf8UqioIUai3gtCqggtUFtArO4lAtiuBIUauCSH8MggWKGECmME8hJC95mf9rH30YIC9597577j33vu9di4WSc8/d57P3y/m+fc7dh4foLnETC6zUS1Ippk0MPp+K+J2Xavd9vY/CWoaZIni45lXrbq0ptk2sIgR+NkOVOdQsMJYIrG50u6CZAAAgAElEQVTdutG3335Lnr95sF26dKHNmzebNW5dz1EhOGSJKwYy+Y3tFBEaRLNv6OCVT1lVFbUMD6ceKDCqK4bMvAl1sMykbd2zeCM7LwlFxkeKtwR5IselFoHSI6V0+JvDFN06WqrwZZHN/k/vmS71OXrpqjCH6rVdz32WCKzevXvTunXrqHv37rRp0yY6ffq0qIUFgdW0C/cUF9O2Y8fE4cohOutceXtCaUUNjX1hKw3r3opu6Zvu1ZAT5eV0cUoKZaHAqJ7Pm2n38LL7gbUHqG1ba4/GMG3AAfqg6opqqiyppMS8RErMTcRGdoXj4Ni2Y1RSVELRKXL2roqaVycrKKtfFoXHhCtJAgLLBLc8/fTTQmBx5fYpU6bQK6+8QuPHj6c777zThKfrf4SVwSHE1fHjooio0eKKiWzYXUKzP9pN036TQz1z4rxC4v1Xl2VkUEKkOm+m6Peoc+/EHizn+pZHxvtsKk9XUkhEyI8V2RV6U8zZ5PWPrrb6p9INRFKyjK5jLkrKS6LE9on6jZR8p5VzqOShNdq9JRkstoT3Xy1fvpz4jRc++Jn3YKl+WRUcssUVc3/164P0waZjtGjcJRQT2fjGSFFA76cCo2EoMKp0uEJgKe0e3cZ5hFVweDAl5SdRTFqM6SUAdBuPG8U+uaI1RRSZFGmo33ifV31tPWX1zTK0X6NdZtUcavQ4fO3PEoH18ccf01VXXUXBNpukrQiOvcXF9D+JmStPoExbXEju6jqad/PFXmOHC4zW1ddTv7ZtfY0vtLOIAASWReAlPbbGXSOWAjljxcuBEFaSQJvQbfGeYnGMFVfUN+LiL76uoy7K6J1heeX45sZjxRzanE0yf26JwLr22mtp48aNxH/zgc8FBQUyx2hY32YHh1niyl1dS797bgtd2TGZ7hyU6ZXXabeb2sTEiD1YuNQmAIGltn98ta6hsOKMFU/KZhet9NVWtPONAJdu4LMKWTBHJPh/livvu4pOjRY1z1S/zJ5DreZhicDiQRcXF9M777xDb775Jh04cIDGjBlDM2bMsJpHk883Mzj2nT5N/zt2jJIl7blqONAtRaX0yLJdNPlXbalfB+/r90e5wGhaGqW2NOabl9LOtrlxEFj2diALK15OCo0IpaSLkkShSlRit7dPG1rPLyfsX72fQqNDRVZS78X7urhaf9t+bSk0MlRvN6bdZ+YcatqgmniQZQLLY1NhYSE99thjQmhVV1erwMSrDWYFx/6SEtpy5IiUtwUbG9zitYfp7fVH6PlbO1JSjPdXvHmDOy8PtkSBUaXjlI2bOXMm8VLElHFTUAdLeW/9bKBHWIVFhVFifiKElY18p9VUPoj50DeHKLpVNLUIavzc1+b65JpXXJojLtP7i0nN9WHmz82aQ80cU1PPskRgHT58mN566y0hqurq6uimm26i0aNHU3q69/IAKgAzIzjMFlfM9S9Ld9LRM1W0cGxHr5hr6+ro9E8FRoNa6PtloIIPA8mGQKqDxd/kaytrqUVwC5ERsFsRXM5oVJ2potCoUErqkCQmXWSsnP9p5b1YJftLKColSvNgOXPFldozLsvQLdA0P9TPG8yYQ/000dDbLRFYubm5QlDxsmDHjt4ndUNHakBnsoPDCnFVU1sv9l9d1j6OJv0y2yslUWA0LEycQYjLHgScJrB4My9XKmchxX/zW1PEWr+ehKgKiwmjuuo6sbTGV1BoEIVFhymdwfMcyMzFIVlYtWzV0jaTpT0+BWpbybWriv6viHhflpYCsVxctuJEBWVenkkRcf7v4zKLkuw51Kxx+PocSwSWr8ap1k5mcBTxsuDRo6bsuWrIdccRF01/eweNvyKThnRK9oqcC4xelJxMbePjVXML7GmEwHXXXSeqe7/4xItKC4zGnMeTR0MhdbZNCxIZnvDYcIqIjxDiiYUV/+GDjT2XKGVwppLKj5cTL6Hw//MVEhki7lchM+QRVjwWfisQwipwP8Ycq/u/3q+pdAPHdny7eEru4P13topEZc6hKo7XVIE1a9YsevDBB2ncuHGNpvCff/55FRmdtUlWcLC42nz0qLQiok1BfX/TUXrt60M0/+aLKSPR+zch3n/VOyODElFgVOkY9Rhnh03unmU9FlP8TV5c9STekuNsFH8zD4sNI96PJERUeLBmccRZLz741n3GTa4jLnIdd4lsQVBQEIVE/yjOzFxOrHJVUXVZtRgfT45RyVHIWNniEyXXyOK9xXR8m2+lG3ifHmdxuWJ7wy8Wci00pndZc6gx1hnfi6kC68MPP6ShQ4fSq6++2uhIbrnlFuNHaGCPMoLj4Jkz9C1vaDfhbcHGUMz+cDcVHnHRy7d3anKiYYF1ZU4OocCogQElsStVBBaLGZGN+ukP/7/n4v0j4XHhIiPFR3uczUaFB0sTPZwdqyqtooriCio7XGbacmJVWRXxH868cbmFqCQIK4nhb7uu+YvA4Y2HRVw2VZWf23FWNqNXhtinZ7dLxhyqMgNTBZYHxNKlS2nEiBHncHnvvfdo+PDhKrMiGcHx9f79RPX1FBlq/iu2XDT01he2Usf0lvTna3K8sq+sqaGaujrqn+19j5bSjgtA46wSWJyJ4iNczgqpIBJLeUJExYWLJbrGlvWscpHs5UQhrFxVFBkXKd4KFBkrvCRilbuVfi5npvat3nf2M9KYse5itxBgrbu1tmUcyZhDVXaqJQLLc8hzQzC9evWi9evXq8xKisBavW8fBbdoQeEh+muh6IW2/2QFTfnH9zS2XzoN7dbKazdcYDQtJoZ+gQKjelGbfp/ZAstTEJOX9xJyEsQk4BFSel9BNxuaWE4srxZZLX+XEz0Zq8iESJGx4qNRIKzM9qj9nsdL2AfWHRDlOc7/3IjDnIsrKLt/thBhdrwgsCR6bfXq1fTVV1/RggULaMKECWefdObMGfr0009p06ZNEp/uf9cygsNKgbViy3F6YeUBmnNDB2qf6v01YV4e7JaWRq1RYNT/IDKph6uvvpoqTlXQa3Nfk7bJnQUJL7dxiQHOUvEhs7xsYbd9Id5comc5sbK0Uuz5YoEphFUihJVJIe+YxxzffpxO7z19wRIgH4eT/ItkSshOsO1YZcyhKsMwNYO1atUqWrlyJT377LM0fvz4s1xiY2PF8mC7du1UZuW4DNbcFXvpmz0l9NqdnSm4iUJ3fMBz38xMigkPV9o/MO5cArLKNIhlwJJKYgESnRIt3mYKBCHR1HIib85nocl7q1hoBgIPfN7kEBClG9YWiRc/eG8iX5wR5RpvmQWZml/0kGOlvl4hsPRx03TXjh07KD8/X9M9KjSWERxWZbA4+3DnK9vEm4MPD2/vFS8XGC12u2lIbi6hwKgKUei7DUYLLCEwSirF0kVcVpyoHq2ldo/vlqvf8vzlRBabibmJ4mw5LAWq7z/VLeRMqCjdwBnQoBbkOuaizD6ZxEvOdr5kzKEq8zA1g+UBwUfiLFq0iLZu3Upu949FAfkKxDINVgmsY2cq6a5F39GNl6XRqF7eDwnlAqNRoaHUU/Eq+yp/yKywbc6cOVS8u5gmjJ3g9xKhZ6M2n4vH2Rk+cDg47Oe6U1aMD88EAacT4ArvR7ceFZmr+Kx4SvlFiu2HDIFlggt/97vfUUJCAr3//vv0pz/9id544w3q3bs3zZ8/34Sn63+EjOCwSmCt3H6K/v7ZPpoxoj11zIjxCoULjOYnJVG7BPuu++v3uH3v9HeTO78FyJu9ubwCL3vxxnWUFrBvPMBy+xHgLOmRb49Q+alysbHdCV9qZMyhKnvWkgxWly5daPPmzdS5c2fasmULlZeXiz1YvNFd5UtGcFglsBZ+vp9YZL02vjOFhwR5xc77r3q1aUNJUdrPylLZl063Ta/A4uKf7tNuUfCTlwBjM2NtdRSH0/2K8QUWAf6Cw2/ocpkTJ1wy5lCVuVgisDhbtW7dOuLSDCtWrKC4uDixgbywsFBlVo7a5D7p9e+oZUQIPXZ903vh+A3CK9q1s6SMhNLBoLhxWgWWOLql9MfDYzlbFZMWI8os4AIBEAABowhAYBlFsol+Jk2aRI888ggtW7ZM/B0VFUUDBgwQbxeqfMkIDisyWCXl1fT7F/9Hw3u0ov93ebpX5FxgtKqujgaiwKjKYdmobb4ILF6C4E3rvHmdj6VhYcVvBXItK1wgAAIgYDQBGXOo0TYa2Z8lGayGA9i3bx+VlpZSp06djByXlL5kBIcVAuv/dhbTk//aS/cPzaEe7eK8suICo6nR0dQpNVUKT3Qqj0BTAstTbb2urk5kquLaxokjXPD2mzx/oGcQAAGSsgqkMldTBdahQ4eaZNGmTRuVWUkJDrMFVrGrmqYuLqTKmjpaeEtHigr3/jYYLw92bd1aVHHHZS8CXAqFK0Lntc87uzm2YbX1uOw4ik2PFQVCcYEACICAGQRkJCnMsFvvM0wVWFxIlL8l89LE+Rf/++7du/WOw5T7ZASHmQLLXV1LD7+7k/adcNPDw3ObfHuQgbLA6puVhQKjpkSX8Q/x1MHiJUDeY+XEauvGU0OPIAACsgjImENl2WpEv6YKLCMMtrIPGcFhlsDig52fXL6H1v1QQhOHZNGgi5OaRMntT1VU0OCcHAoOwp4cK+NOz7P51ITD/z1M3XK7UUzrGIrP/qnaehMV+/U8B/eAAAiAgK8EZMyhvj7binaWCKz9+/c3OtasrCwrGPj8TBnBYZbAen3NQXpv4zEa2TOVxhQ0vxTrqqoSbw72zsjwmQ8aqkOA92DVVdfR6pWrzx63oY51sAQEQCAQCciYQ1XmaInAysvLO7tUWFlZSQcPHhTnEO7atcsvVvPmzaNnnnmGePPu5MmT6Z577rmgvz179tDIkSNFG64oP2LECJo5c6ZPz5URHGYIrH//7wQt/KKI+uTF05Srsn068oYLjOYlJlJOYqJPbNBILQIssPhau3atWobBGhAAgYAlIGMOVRmmJQLrfCBcE+utt94iFkh6L66hNWzYMNq4caPY49W9e3dRYys3N/ecLlnQ8c8jIiKEwOrbty898cQTokxEc5eM4JAtsLYUldKs93dRTkoUPTIyr8miog3Hz/uveqWno8Boc0Gh6M8hsBR1DMwCgQAmIGMOVRmnEgKLAXHR0fXr1+tmNXv2bFERfsaMGaKP6dOnU3JyMt17771e+ywrK6N+/foJYedEgXXglJumv72DosODafYN+RQfFeoz36M/FRiNCEGxSZ+hKdQQAkshZ8AUEAABQQACy4RAePPNN88+hZfqvvnmG9qwYQOtWbNG99MnTpxIfATPuHHjRB8LFy4kflV97ty5F/R57NgxGjJkCO3cuZPuuusueuqpp3x6rozgkJXB4mKi097eQWXuGnr0+nzKSvL9FPaq2lqqqKkRFdxx2ZMABJY9/QarQcDJBGTMoSrzsiSDdeutt55lEhISIvZfsTBKSWn6tPCCggI6fPjwBTxHjRpFbrebunbtSrfffrv4+YIFC4SAakxgeTooKSmhG2+8kaZNm0b9+/e/oF/ez8V/PFdxcXGjz/fHwTIEVlVNHf1l2S7aecRFDwzLpa5tYzWZWOJ2U0p0NF2CAqOauKnU+LXXXhPm8MHquEAABEBABQIQWCp4QYcNc+bMIZfLdXaJ8P7776ekpKQmlwj5Mc899xxt3bqVnn766WafKiM4jBZYvL9s3if76OsdxXTnoEz65SXJzY7r/AYoMKoZGW4AARAAARBohoCMOVRl6JZksHiJjoUNv9FXU1Nzlo/nW7ceYLwc6NnkzsuOPXr0EJvcc3JyzumOS0Tw3iw+/5A3vHP265prrqHx48c3+1gZwWG0wFq89jC9vf4IDe2WQmP76SuxwALr8qwsig13xgnuzTrWgQ04tvkKhw8d6F0MCQTsSUDGHKoyCUsEVu/evWngwIFiSS+oQRHLG264wS9WvBzIS3qcxWlYpoEPkeZjengD/McffyyWBPm5tbW1Qlw9/vjj59jhzQgZwWGkwPrq+1M0/9N91LNdHN13TTsK1lFUkguMniwvpyG5uSgw6lc0Wnsz9mBZyx9PBwEQuJCAjDlUZc6WCCwuobBp0yaVuTRqm4zgMEpgbT9URn9ZuosykyJo5sg8igzzfsZgU+DLq6spNCiILsvMtJ1/YPDPBCCwEA0gAAKqEZAxh6o2xob2WCKwHn30UcrPz6fhw4dTaKjvpQOsBikjOIwQWEdOV9K0twspNDhIlGNIaqn/AF/OXuUmJoo/uOxLAALLvr6D5SDgVAIy5lCVWVkisBYvXky33Xab2APlOfyZ/66qqlKZlZQaHv4KLC7DMP2dHXSytJpmjcqjnFZRfjHk/Vc909MpOcq/fvwyAjf7TQACy2+E6AAEQMBgAhBYBgNtrDsuy/DBBx/QJZdcYsLTjHuEjODwR2BV19bRrPd/oG0Hymjqb3KoZ06c34PlAqODsrMp0kaZRb8H7cAOILAc6FQMCQRsTkDGHKoyEksyWFzk87PPPlOZS6O2yQgOvQKLN/Iv/LyIPv/uJI3tl05Du7Xym2d1bS2V19QIgcUZRVz2JXD33XcL47keHC4QAAEQUIGAjDlUhXF5s8ESgcW//Pmtvmuvvfac18jHjBmjMiullgjf23iUXl9zSNS5umNghiGC6ExlpTh7sDMKjCodhzAOBEAABOxIAALLBK81rOTueRxnTF5++WUTnq7/ETKCQ08Ga+2u0/TX5XuoS1YM3T80l0KCjck28f4rFlfpsdoqv+snijtBAARAAAQChYCMOVRldpZksFQG0pRtMoJDq8DaddRFD727k1rFhtNj1+eLg5yNulhg9cnMpLiICKO6RD8WEcASoUXg8VgQAAGvBGTMoSrjtkRgeavYrvq5aTKCQ4vAOl5aRdMWF1J9PYlyDCyyjLp4T9eJ8nIanJtLIQ2KvxrVP/oxlwA2uZvLG08DARBonoCMObT5p1rXwhKBxQc7ey4u1bBy5UpxtM2yZcusI+HDk2UEh68Cq7yylh5YsoO45tUjI/IoPy3aB4t9b1JRXS0qtxegwKjv0BRuCYGlsHNgGggEKAEZc6jKKC0RWOcDOXXqFN1xxx20ZMkSlVlZtsm9tq6eHv9wN3277wz98apsujw/wXBOpyoqKDs+nvKSkgzvGx2aTwACy3zmeCIIgEDTBCCwLIgQPpyZa2Jt27bNgqf7/kgZweFLBuvFlUX0ry0naExBGo3s2dp3gzW05P1Xl7ZpQynRxmbGNJiApgYSgMAyECa6AgEQMISAjDnUEMMkdWJJBouXCD11llhcbd68mTp27EiLFi2SNExjupURHM0JrOWbj9NLqw7QwIsTaeLgLEPKMTRGgwXWgOxsikKBUWOCxeJeILAsdgAeDwIgcAEBGXOoypgtEVivvvrqWSYhISHEld379OmjMidhm4zgaEpgbdxTQrM/2k0Xt2lJDw3PFWcNyrhq6uqorKqKrmjXTpqAk2E3+vROgPc28hUebtyLEOANAiAAAv4QkDGH+mOP7HstEVgnT56kmJgYCgv78VBiPoOwrKyMEhU/YFhGcHgTWHuPl9MDS3ZSQnQoPX59PsVEhkiLhdLKSoqPiKCuaWnSnoGOQQAEQAAEApuAjDlUZaKWCKzevXvTl19+SVE/HSjscrnoyiuvpLVr16rMyrQMVrGrmqYuLqTKmjp6/Lf51CZebl2q4y4XdWrVijLi/D/LUGkHBpBxnlIoqpc+CSCXYKggEPAEILBMCIGuXbvSf//733Oe1Ni/mWCKpkfICI7zM1ju6lp6+N2dtO+Emx4enksdM2I02ainMe+/4vIMnMXC5QwC2IPlDD9iFCDgJAIy5lCV+ViWwXr99dcpPz9fsCksLKSbb76ZNmzYoDIr6Rmsuvp6enL5Hlr3QwlNHJJFgy6WXzJBFBitqKDBOTkoMKp09GkzDgJLGy+0BgEQkE8AAks+Y/riiy+Ily4KCgqIJ/h169YRC66BAwea8HT9j5ARHA0zWK+vOUjvbTxGI3um0piCNvoN1XCnu6ZGtL48K0vDXWiqOgEILNU9BPtAIPAIyJhDVaZoSQaLgfBGd95zxQKLhVaSDQpcyggOj8Ba/f1pWvhFEfXJi6cpV2VTUAtjDnBuLvi4wGhWXBx1SE5uril+biMCEFg2chZMBYEAISBjDlUZnWUCS2Uo3myTERwssLYfdNGcj/ZQTkoUPTIyj8JD5JRjaGxcR38qMNoKBUbtGJJebYbAcpQ7MRgQcAQBGXOoymAgsDR4R0Zw/PO/hTRj6W6KDg8RBzjHR4VqsMj/psfKy2lA27YoMOo/SqV6WLVqlbBnwIABStkFY0AABAKXgIw5VGWaEFgavGN0cJwsq6Rf/20Vlbpr6bHr8ykrKVKDNf435QKjXAPrypwcFBj1Hyd6AAEQAAEQaIKA0XOo6rAhsDR4yOjg+P2iDbSy8Bj9+Zps6plj/AHOzQ2NxVVsRAR1R4HR5lDZ7uc7duwQNnve1LXdAGAwCICA4wgYPYeqDggCS4OHjA6OnUdL6d0tu6l/hwQKD5FXqd3bEI+Xl9MvUlLEJndcziKAPVjO8idGAwJOIGD0HKo6EwgsDR6SERzNHfaswTzNTXn/VUFGBgqMaian/g0QWOr7CBaCQKARkDGHqswQAkuDd2QEh1UCi8tjcAaLC4yGBgdroICmdiAAgWUHL8FGEAgsAjLmUJUJQmBp8I6M4LBKYHGB0Xoi6osCoxoiwD5NIbDs4ytYCgKBQkDGHKoyOwgsDd6RERxWCaziigpxuPNFKDCqIQLs0xQCyz6+gqUgECgEZMyhKrODwNLgHRnBYZXA4gKjPdLSKLVlSw0E0NQuBObMmSNMnTp1ql1Mhp0gAAIOJyBjDlUZGQSWBu/ICA4rBBaXZwgOCqKCzEwc8KzB/2gKAiAAAiCgn4CMOVS/NfLvhMDSwFhGcJgtsKpra6nY7RaHO8eGh2sYPZqCAAiAAAiAgH4CMuZQ/dbIvxMCSwNjGcFhpsDiNwd5abBzaiplovaVBs/br+nVV18tjF6+fLn9jIfFIAACjiQgYw5VGRQElgbvyAgOMwXWiYoKSo2Koi6tW+NoHA1+t2NTbHK3o9dgMwg4m4CMOVRlYhBYGrwjIzjMEljl1dXEZw/2ycy0pGq8BsxoagABCCwDIKILEAABQwnImEMNNdDgziCwNACVERxmCCwWVie5antmJiVEmnugtAa8aGogAQgsA2GiKxAAAUMIyJhDDTFMUicQWBrAyggOMwTW0bIy6pCcTLmJiRpGi6Z2JgCBZWfvwXYQcCYBGXOoyqQgsDR4R0ZwyBZYp91u8bZgjzZtKKhFCw2jRVM7E7juuuuE+cuWLbPzMGA7CICAgwjImENVxgOBpcE7MoJDpsDi43B47xUfhxMZGqphpGgKAiAAAiAAAsYSkDGHGmuhsb1BYGngKSM4ZAmsuvp6OuZyUa/0dEqJjtYwSjQFARAAARAAAeMJyJhDjbfSuB4hsDSwlBEcsgQWi6t28fF0UUqKhhGiqVMIzJw5UwzloYcecsqQMA4QAAGbE5Axh6qMBAJLg3dkBIcMgVXidlN4aCj1Tk/HUTga/Oukptjk7iRvYiwg4AwCMuZQlclAYGnwjozgMFpgVdXWEgusvm3bUsuwMA2jQ1MnEYDAcpI3MRYQcAYBGXOoymQgsDR4R0ZwGCmwPEfhdGvdmtrExmoYGZo6jQAEltM8ivGAgP0JyJhDVabiKIE1b948euaZZ6iuro4mT55M99xzj1f21dXVdOmll1JKSgr9+9//9slHMoLDSIF13OWi9NhY6tSqFY7C8cmjzm0EgeVc32JkIGBXAjLmUJVZOEZgFRYW0rBhw2jjxo3EmZzu3bvTihUrKDc3t1H+jz76KH3//fd0+PBhRwissqoqMU4+Cic0OFjlmINtJhCAwDIBMh4BAiCgiQAEliZc6jSePXs2lZeX04wZM4RR06dPp+TkZLr33nsvMJLF2KRJk2jatGnEQsvuGSxxFE5FBV2emUlxERHqOAWWWEZg79694tnZ2dmW2YAHgwAIgEBDAhBYNo2HiRMnUpcuXWjcuHFiBAsXLqQdO3bQ3LlzzxkRZ7cGDx4slhKPHDlCs2bNsr3AOlJWRh1TUig7IcGm3oPZIAACIAACTicAgaWwhwsKCsSS3vnXqFGjyO12U9euXen2228XP16wYAHt3LnzAoHFwov74EzXypUrmxRYLML4j+cqLi5u9Pn+IPN3DxZnrpKjoog3trfAUTj+uMJR93722WdiPEOGDHHUuDAYEAAB+xKAwLKp7+bMmUMul+vsEuH9999PSUlJFywR3nTTTbR69WoKCgoSoqykpIT69+9Pn3zySbMjlxEc/gisiupqqqytpcuzsigiJKRZ+9EgcAhgD1bg+BojBQG7EJAxh6o8dsdscuflQM8md36LsEePHmKTe05Ojlf+zWWwzr9RRnDoFVi1dXXiKJyCzExKiopSOcZgmwUEILAsgI5HggAINElAxhyqMnLHCCyGzPuteEmP91k1LNPw7LPP0qFDh85mtzwOsbPAOupyUV5iIuUlJakcX7DNIgIQWBaBx2NBAAS8EoDAQnCYGhx6Mlin3W5Rpf3SNm0oOCgIHgOBCwhAYCEoQAAEVCMAgaWaRxSyR0ZwaBVYlTU1xDWv+CicqNBQhejAFJUIQGCp5A3YAgIgwARkzKEqk3XUEqFs0DKCQ4vAqquvJ14avDQtjVrHxMgeLvq3MYF//vOfwvrRo0fbeBQwHQRAwEkEZMyhKvOBwNLgHRnBoUVg8ab2tvHx9IuUFA1WoykIgAAIgAAIWE9Axhxq/ai8WwCBpcE7MoLDV4FVWllJIUFBdFlmpvgbFwg0RaC0tFT8OAaZTgQKCICAIgRkzKGKDK1RMyCwNHhHRnD4IrCqa2up2O2mvllZFBMersFiNA1UAtiDFaiex7hBQF0CMuZQdUdLBIGlwTsygoN3gJAAAA4dSURBVKM5gcUlJ3jfVZfWrSkjNlaDtWgayAQgsALZ+xg7CKhJQMYcquZIf7QKAkuDd2QER3MC62R5OaW2bEmdU1NxFI4GXwV6UwisQI8AjB8E1CMgYw5Vb5Q/WwSBpcE7MoKjKYHlqqqi2vp6cRROWHCwBkvRNNAJQGAFegRg/CCgHgEZc6h6o4TA0uUTGcHhTWDV1NURH+RckJFBCZGRuuzFTYFLAAIrcH2PkYOAqgRkzKGqjhVLhBo9IyM4vAmsI2VlohxDu4QEjVaiOQiQOCqKr3nz5gEHCIAACChBQMYcqsTAvBiBJUIN3pERHI0JLH5jMD4igrqnpVFQixYaLERTEAABEAABEFCTgIw5VM2R/mgVBJYG78gIjvMFlrumhsqrq0VJhkgchaPBO2gKAiAAAiCgMgEZc6jK44XA0uAdGcHRUGDV1tXRsfJyuiwjg5KjojRYhqYgcC6B2267TfzDSy+9BDQgAAIgoAQBGXOoEgPzYgQElgbvyAiOhgKL613lJiRQh+RkDVahKQhcSACb3BEVIAACqhGQMYeqNsaG9kBgafCOjODwCKyKmhqxJNg7PZ2CcRSOBq+gaWMEILAQFyAAAqoRkDGHqjZGCCydHpERHCyw6urrifde8b6r6LAwndbhNhD4mQAEFqIBBEBANQIy5lDVxgiBpdMjMoKDBRZXa++dkUFpOJhXp2dw2/kEILAQEyAAAqoRkDGHqjZGCCydHpERHGuKiiguLIw6pabqtAq3gcCFBCCwEBUgAAKqEZAxh6o2RggsnR6RERzHXS5R8yoUR+Ho9ApuAwEQAAEQsAMBGXOoyuPGJncN3gm04NCABk1BAARAAARAoEkCgTaHQmBp+EAEWnBoQIOmIAACIAACIACB1YAABJaGDwQElgZYaAoCIAACIAACDQgE2hwKgaUh/AMtODSgQVMQAAEQAAEQQAYLGSx9nwIILH3ccBcIgAAIgAAIBNocigyWhpgPtODQgAZNQQAEQAAEQAAZLGSw9H0KILD0ccNdIAACIAACIBBocygyWBpiPtCCQwMaNAUBEAABEAABZLCQwdL3KYDA0scNd4EACIAACIBAoM2hyGBpiPlACw4NaNAUBEAABEAABJDBQgZL36cAAksfN9wFAiAAAiAAAoE2hyKDpSHmAy04NKBBUxAAARAAARBABgsZLH2fgtjYWMrIyNB3s5e7iouLKSEhwdA+Ve8s0MaM8aoekf7bBx/7z1DlHgLNv+wLGWM+cOAAnTlzRmVXG2obMliG4tTeWSBmxQJtzBiv9s+F3e6Aj+3mMW32Bpp/mU4gjllbVDTfGgKreUZSWwRiEAfamDFeqR8hJTqHj5VwgzQjAs2/EFjGhBIEljEcdfeCD65udLa5MdB8HGjjDcTJKNB8HGjjDcSYljGhQGDJoKqhz2eeeYYmTJig4Q77Nw20MWO89o/Z5kYAHzdHyN4/DzT/srcCccxGRykEltFE0R8IgAAIgAAIgEDAE4DACvgQAAAQAAEQAAEQAAGjCUBgGU3Ux/6+/PJLsTRYVVVF/fv3p+eff55CQkJ8vNt+zYqKimjs2LF06NAhCg4OpuHDh9OsWbPsNxAdFt99993CvzU1NTruttctZWVlxONdu3YtBQUF0ZQpU+jOO++01yA0WLtixQqaNm2auCMqKopeeukluvjiizX0oH7Te+65h5YtW0ZHjhw5J4b//Oc/09KlS4WfH3vsMRo1apT6g/HBwsbG+49//IOeeOIJqq+vp/DwcPrrX/9KAwcO9KE39Zt48y9bfvr0afE24dVXX00vvvii+oNRzEIILAscUltbS3l5efThhx9Sx44d6be//S39+te/pltvvdUCa8x55OHDh+ngwYN06aWXClE5ZMgQuvfee2nYsGHmGGDRU1avXi1+MfEv6EAQWHfccQe1b9+eePLlyej48ePUqlUri+jLf2xWVhZ98sknQlSxiP7ss8/onXfekf9gE5/w9ddfi99X6enpZ2P4008/FV+QvvjiCzp69Chddtll9N1331FMTIyJlsl5VGPj/c9//kMXXXQRJSYm0rZt2+jKK68UXxZZXNr9amy8njHx57miokKISggs7Z6GwNLOzO87+Ns9T0BfffWV6It/QT/99NNCcAXKxd+a8vPzif926lVZWUlXXHEFvffee5SWluZ4gVVaWkodOnSg/fv3Ozob2zBe27ZtS2+//Tb17t1bZDU4U/u3v/3NkSHNGXbPl4Tx48dTr1696Pe//70Y64033igyWCNHjnTM2BuOt+Gg+IsDF4fmOOfi0065zh8vr7IsWrSIBg0aRCzCILC0exoCSzszv+9YsmSJSLlzVoOv7du305gxY+jbb7/1u287dHDy5Enq2rUr8bdgpy2nNOT/wAMPUG5urpiEvP2ytoO/fLVx8+bNYhmYxcb69espMzOT5s+fT9nZ2b52Ybt2/CVpxIgRFBkZSdHR0bRmzRpKSkqy3Th8MbhhDP/mN7+hP/zhDyITzdfUqVOpTZs24t+ccnn7zPLv7QULFghfO+lqOF7OWvES6EcffUQff/wxBJZOR0Ng6QTnz20ssDir8cYbb4huOLV+0003BYTA4qzOVVddJZYGeX+OU68tW7bQH//4R7Fk1KJFi4AQWN988w317NmTli9fLpa8+Rvvm2++KZaRnHjxUj8LDd6bc8kll9DLL79M7777rpiQnHidL7AmT55MgwcPFkPljDwvITpdYG3atElk6fjLIS+bOulq6F8WzJyN5i+HnMVCBkufpyGw9HHz665169bRfffdd3aJkD+sf//73x2/RMgT0g033EDt2rUTyylOvhYuXEgzZ86ksLAwMcx9+/YRLydxltKpZ0/yXhzeEMsZSr7Ky8tFVoM3yjrxYkHJgsKTyeC9hexbl8vlxOGe8yXhrrvuEmLas0TIGXgWHk5eItyxY4f44sBfGjhL67SrocDq16+fWO7mi19c4S/GvFeYX+LA5TsBCCzfWRnWkoUG7z/iPVc8IY0ePZp+9atfOXqTO8O77bbbxMZn/pByVieQrkBYImR/DhgwgJ566inxMsP7778vsjtOW0rxxC2/uMGZK14a5ezNBx98QDNmzCAWXk68GsYwZ2bP3+TOm7+dsMnd47uG4+VDinkvEi8NepZFneZjb7+jkMHS72kILP3s/LqTl00mTpwYMGUaeJLt27cvderUSZRp4Iu//U6aNMkvjna5OVAEFi93s5DmLE58fDw999xzjt5n98orr9CTTz4psjstW7YUE3CXLl3sEpY+2cllNnjZk98CZiF5zTXXCL96yjTwlyUu03D99df71J/qjRobb11dnXiZgbPvnou3eThhf6E3/3rGCYGlP2IhsPSzw50gAAIgAAIgAAIg0CgBCCwEBgiAAAiAAAiAAAgYTAACy2Cg6A4EQAAEQAAEQAAEILAQAyAAAiAAAiAAAiBgMAEILIOBojsQAAEQAAEQAAEQgMBCDIAACIAACIAACICAwQQgsAwGiu5AAATkEuAaW0bUmsLr53L9hN5BINAJQGAFegRg/CAQoAQgsALU8Rg2CJhEAALLJNB4DAiAQOMEVq5cSQ8++CDxAbOJiYniTL+HHnpIHKDMRwvx0Tt8NAuf7ciXp2grH8XDZ3j+8MMPxIUgr732Wnr00UeppKSE7rjjDnHGZ1BQkKg4PnToUHEvV5Z/4YUXKDk5WRw4Xl1dLc5M5Gfz2Zh81hz/Nxdf5ELAuEAABEBALwEILL3kcB8IgIDfBE6dOiUqg69YsYLi4uJo8eLFtHTpUiGudu/eTZ9//rk407BHjx60bNkycTSNR2Dx/3/00Udnz0crLi4WZwGyEOMjmebOnUt79+6lPn36EB++zced8FmYGzZsoIiICBo4cKA4qooF1sMPPyyqlLOwcrvddPnll9Prr78ufo4LBEAABPQQgMDSQw33gAAIGEKABdItt9xCmZmZoj/ORPF5dnl5edSrVy+6++67xb9zdql9+/Y0YcKEswKLM1e//OUvacSIETR48GDxh49h6t69uxBHHTt2FPcOHz5cZLR27twpjnvhLBZf8+fPp61btwqBxfu6OHMVGhoqfnbmzBlxpuJ1111nyDjRCQiAQOARgMAKPJ9jxCCgDAE+8JwP/+Zz3RpeY8eOvUBgsehiwdXwXEdeDvz000/FOXGc6eIz87p160ZvvPHGOQKLM1OFhYV06NChRgUWZ8jYDl42xAUCIAACRhCAwDKCIvoAARDQReDEiRPUuXNnIZL4IPCamhravn27yB41t0TIS368ZysqKkoIJz5k+fjx416XCIuKimj06NHiDcTw8HAaNGiQOIiaM1i8B4yzW/zfnAXbtWsXpaamimwaLhAAARDQQwACSw813AMCIGAYgVWrVtHUqVPFEh0LLM5S8T4p3k/Fm9xZ+DS2yf1f//oXTZs2jVq0aCH2XE2fPl0IqOY2ubOI4v1WnK0qLS0Voor3Xd1333305Zdfiv6SkpJoyZIlYjM8LhAAARDQQwACSw813AMCICCVAC8R8p6qm2++Wepz0DkIgAAIyCIAgSWLLPoFARDQTQACSzc63AgCIKAIAQgsRRwBM0AABEAABEAABJxDAALLOb7ESEAABEAABEAABBQhAIGliCNgBgiAAAiAAAiAgHMIQGA5x5cYCQiAAAiAAAiAgCIEILAUcQTMAAEQAAEQAAEQcA4BCCzn+BIjAQEQAAEQAAEQUIQABJYijoAZIAACIAACIAACziEAgeUcX2IkIAACIAACIAACihCAwFLEETADBEAABEAABEDAOQQgsJzjS4wEBEAABEAABEBAEQL/HwJof7aABEfwAAAAAElFTkSuQmCC\" width=\"800\">"
      ],
      "text/plain": [
       "<IPython.core.display.HTML object>"
      ]
     },
     "metadata": {},
     "output_type": "display_data"
    },
    {
     "data": {
      "text/plain": [
       "<matplotlib.legend.Legend at 0x1e484b21df0>"
      ]
     },
     "execution_count": 62,
     "metadata": {},
     "output_type": "execute_result"
    }
   ],
   "source": [
    "%matplotlib notebook\n",
    "x1 = np.arange(0, n_exploratory_episodes, 1)\n",
    "x2 = np.arange(n_exploratory_episodes, n_exploratory_episodes+n_greedy_episodes, 1)\n",
    "\n",
    "fig, ax = plt.subplots(figsize=(8,5))\n",
    "plt.plot(x1, y[:n_exploratory_episodes], label='exploring')\n",
    "ax.fill_between(x1, Y[0,:n_exploratory_episodes], Y[1,:n_exploratory_episodes], color='teal', alpha=.2)\n",
    "\n",
    "plt.plot(x2, y[n_exploratory_episodes:], label='exploiting')\n",
    "ax.fill_between(x2, Y[0,n_exploratory_episodes:], Y[1,n_exploratory_episodes:], color='purple', alpha=.2)\n",
    "\n",
    "\n",
    "plt.plot([n_exploratory_episodes for i in range(10)], np.linspace(np.min(Y), np.max(Y), 10), ls='--', color='black', label='greedy threshold')\n",
    "plt.ylabel('cumulative discounted reward')\n",
    "plt.xlabel('episode')\n",
    "\n",
    "plt.legend()"
   ]
  },
  {
   "cell_type": "code",
   "execution_count": null,
   "metadata": {},
   "outputs": [],
   "source": []
  }
 ],
 "metadata": {
  "kernelspec": {
   "display_name": "Python 3",
   "language": "python",
   "name": "python3"
  },
  "language_info": {
   "codemirror_mode": {
    "name": "ipython",
    "version": 3
   },
   "file_extension": ".py",
   "mimetype": "text/x-python",
   "name": "python",
   "nbconvert_exporter": "python",
   "pygments_lexer": "ipython3",
   "version": "3.8.5"
  }
 },
 "nbformat": 4,
 "nbformat_minor": 4
}

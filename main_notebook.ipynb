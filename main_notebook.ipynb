{
 "cells": [
  {
   "cell_type": "markdown",
   "metadata": {},
   "source": [
    "## Rapid Reinforcement Learning"
   ]
  },
  {
   "cell_type": "markdown",
   "metadata": {},
   "source": [
    "author: Cesare Carissimo"
   ]
  },
  {
   "cell_type": "markdown",
   "metadata": {},
   "source": [
    "The goal of this notebook is to walk through the ambitions of Rapid Reinforcement Learning by discussing the ideas and giving examples with experiments. The main ambitions of Rapid RL are two:\n",
    "\n",
    "> Learn an optimal policy for the Willemsen Gridworld in three trajectories. \n",
    "\n",
    "> Efficiently find sparse rewards in arbitraty environments.\n",
    "\n",
    "What is the Willemsen Gridworld?"
   ]
  },
  {
   "cell_type": "markdown",
   "metadata": {},
   "source": [
    "#### Willemsen Gridworld"
   ]
  },
  {
   "cell_type": "code",
   "execution_count": 1,
   "metadata": {
    "tags": []
   },
   "outputs": [
    {
     "data": {
      "image/png": "[encoded data removed]",
      "text/plain": [
       "<Figure size 432x288 with 2 Axes>"
      ]
     },
     "metadata": {
      "needs_background": "light"
     },
     "output_type": "display_data"
    }
   ],
   "source": [
    "import numpy as np\n",
    "\n",
    "grid = np.ones((3, 9)) * -1\n",
    "grid[1,:8] = 0\n",
    "grid[1, 8] = 1\n",
    "grid[2, :8] = 0\n",
    "terminal_state = []\n",
    "for i in [0,2]:\n",
    "    for j in range(8):\n",
    "        terminal_state.append([i,j])\n",
    "terminal_state.append([1,8])\n",
    "terminal_state = np.array(terminal_state)\n",
    "initial_state = np.array([1, 0])\n",
    "blacked_state = np.array([[0, 8],[2, 8]])\n",
    "\n",
    "from MDP import *\n",
    "\n",
    "_, _, _, _ = plot_gridworld(grid, terminal_state, initial_state, blacked_state)\n",
    "\n",
    "episode_timeout = 33\n",
    "env = Gridworld(grid, terminal_state, initial_state, blacked_state, episode_timeout)\n",
    "env_greedy = Gridworld(grid, terminal_state, initial_state, blacked_state, episode_timeout)\n",
    "\n",
    "import warnings\n",
    "warnings.filterwarnings('ignore')"
   ]
  },
  {
   "cell_type": "markdown",
   "metadata": {},
   "source": [
    "The Willemsen Gridworld (WG) features a 3 x 9 grid, and is successfully completed by reaching the far right cell at (1, 8). The optimal policy for WG is to exclusively go RIGHT from the initial position at (1, 0). \n",
    "\n",
    "To learn this optimal policy we would will try different action selection methods. We define an action selection method as one that achieves both our ambitions: it finds an optimal policy in 3 trajectories in the WG, and it efficiently explores other environments with sparse rewards.\n",
    "\n",
    "### Simple Q-Learning\n",
    "\n",
    "Lets start our investigation by taking a look at the performance of a simple q-learner on WG. The exploration strategy for our simple Q learner will be epsilon greedy."
   ]
  },
  {
   "cell_type": "code",
   "execution_count": 2,
   "metadata": {
    "tags": []
   },
   "outputs": [],
   "source": [
    "max_steps = 100\n",
    "episode_timeout = 34\n",
    "gamma = 0.8\n",
    "alpha = 0.1\n",
    "batch_size = 1"
   ]
  },
  {
   "cell_type": "code",
   "execution_count": 3,
   "metadata": {
    "tags": []
   },
   "outputs": [],
   "source": [
    "agent = eGreedy(\n",
    "    estimators = [\n",
    "                Q_table(alpha=0.1, gamma=0.8, mask=identity()),\n",
    "                Q_table(alpha=0.1, gamma=0.8, mask=global_context())\n",
    "                ],\n",
    "    buffer = ReplayMemory(max_size=10000),\n",
    "    epsilon = 0.33,\n",
    "    targets = [Target()],\n",
    "    batch_size=batch_size)\n",
    "\n",
    "trajectories = []\n",
    "metrics = []\n",
    "epilen = []\n",
    "Gn = []\n",
    "step = 0"
   ]
  },
  {
   "cell_type": "code",
   "execution_count": 4,
   "metadata": {
    "tags": []
   },
   "outputs": [
    {
     "name": "stdout",
     "output_type": "stream",
     "text": [
      "[[0]\n",
      " [1]\n",
      " [2]\n",
      " [3]]\n"
     ]
    },
    {
     "ename": "ValueError",
     "evalue": "a must be 1-dimensional",
     "output_type": "error",
     "traceback": [
      "\u001b[1;31m---------------------------------------------------------------------------\u001b[0m",
      "\u001b[1;31mValueError\u001b[0m                                Traceback (most recent call last)",
      "\u001b[1;32m<ipython-input-4-b768d8d6f673>\u001b[0m in \u001b[0;36m<module>\u001b[1;34m\u001b[0m\n\u001b[0;32m     17\u001b[0m     \u001b[0menv_greedy\u001b[0m\u001b[1;33m.\u001b[0m\u001b[0mreset\u001b[0m\u001b[1;33m(\u001b[0m\u001b[1;33m)\u001b[0m\u001b[1;33m\u001b[0m\u001b[1;33m\u001b[0m\u001b[0m\n\u001b[0;32m     18\u001b[0m     \u001b[1;32mwhile\u001b[0m \u001b[1;32mnot\u001b[0m \u001b[0menv_greedy\u001b[0m\u001b[1;33m.\u001b[0m\u001b[0mterminal\u001b[0m \u001b[1;32mand\u001b[0m \u001b[1;32mnot\u001b[0m \u001b[0menv_greedy\u001b[0m\u001b[1;33m.\u001b[0m\u001b[0mtimeout\u001b[0m\u001b[1;33m:\u001b[0m\u001b[1;33m\u001b[0m\u001b[1;33m\u001b[0m\u001b[0m\n\u001b[1;32m---> 19\u001b[1;33m         \u001b[0maction\u001b[0m \u001b[1;33m=\u001b[0m \u001b[0magent\u001b[0m\u001b[1;33m.\u001b[0m\u001b[0mselect_action\u001b[0m\u001b[1;33m(\u001b[0m\u001b[0menv_greedy\u001b[0m\u001b[1;33m.\u001b[0m\u001b[0mtransition\u001b[0m\u001b[1;33m)\u001b[0m\u001b[1;33m\u001b[0m\u001b[1;33m\u001b[0m\u001b[0m\n\u001b[0m\u001b[0;32m     20\u001b[0m         \u001b[0mtransition\u001b[0m \u001b[1;33m=\u001b[0m \u001b[0menv_greedy\u001b[0m\u001b[1;33m.\u001b[0m\u001b[0mstep\u001b[0m\u001b[1;33m(\u001b[0m\u001b[0maction\u001b[0m\u001b[1;33m)\u001b[0m\u001b[1;33m\u001b[0m\u001b[1;33m\u001b[0m\u001b[0m\n\u001b[0;32m     21\u001b[0m         \u001b[0mGg\u001b[0m\u001b[1;33m.\u001b[0m\u001b[0mappend\u001b[0m\u001b[1;33m(\u001b[0m\u001b[0mtransition\u001b[0m\u001b[1;33m.\u001b[0m\u001b[0mreward\u001b[0m\u001b[1;33m)\u001b[0m\u001b[1;33m\u001b[0m\u001b[1;33m\u001b[0m\u001b[0m\n",
      "\u001b[1;32m~\\Documents\\MARL\\RapidRL\\MDP\\agent.py\u001b[0m in \u001b[0;36mselect_action\u001b[1;34m(self, transition)\u001b[0m\n\u001b[0;32m     76\u001b[0m             \u001b[0mmax_actions\u001b[0m \u001b[1;33m=\u001b[0m \u001b[0mnp\u001b[0m\u001b[1;33m.\u001b[0m\u001b[0margwhere\u001b[0m\u001b[1;33m(\u001b[0m\u001b[0mQ_s\u001b[0m \u001b[1;33m==\u001b[0m \u001b[0mmax_value\u001b[0m\u001b[1;33m)\u001b[0m\u001b[1;33m\u001b[0m\u001b[1;33m\u001b[0m\u001b[0m\n\u001b[0;32m     77\u001b[0m             \u001b[0mprint\u001b[0m\u001b[1;33m(\u001b[0m\u001b[0mmax_actions\u001b[0m\u001b[1;33m)\u001b[0m\u001b[1;33m\u001b[0m\u001b[1;33m\u001b[0m\u001b[0m\n\u001b[1;32m---> 78\u001b[1;33m             \u001b[0maction\u001b[0m \u001b[1;33m=\u001b[0m \u001b[0mself\u001b[0m\u001b[1;33m.\u001b[0m\u001b[0mactions\u001b[0m\u001b[1;33m[\u001b[0m\u001b[0mnp\u001b[0m\u001b[1;33m.\u001b[0m\u001b[0mrandom\u001b[0m\u001b[1;33m.\u001b[0m\u001b[0mchoice\u001b[0m\u001b[1;33m(\u001b[0m\u001b[0mmax_actions\u001b[0m\u001b[1;33m)\u001b[0m\u001b[1;33m]\u001b[0m\u001b[1;33m\u001b[0m\u001b[1;33m\u001b[0m\u001b[0m\n\u001b[0m\u001b[0;32m     79\u001b[0m \u001b[1;33m\u001b[0m\u001b[0m\n\u001b[0;32m     80\u001b[0m         \u001b[1;32mreturn\u001b[0m \u001b[0maction\u001b[0m\u001b[1;33m\u001b[0m\u001b[1;33m\u001b[0m\u001b[0m\n",
      "\u001b[1;32mmtrand.pyx\u001b[0m in \u001b[0;36mnumpy.random.mtrand.RandomState.choice\u001b[1;34m()\u001b[0m\n",
      "\u001b[1;31mValueError\u001b[0m: a must be 1-dimensional"
     ]
    }
   ],
   "source": [
    "# MAIN TRAINING and EVALUATION LOOP\n",
    "for i in range(max_steps):\n",
    "    # EXPLORE: by setting action selection to be explorative: \"exploratory\"\n",
    "    agent.action_selection = \"exploratory\"\n",
    "    action = agent.select_action(env.transition)\n",
    "    transition = env.step(action)\n",
    "    agent.observe(transition)\n",
    "    Gn.append(transition.reward)\n",
    "    agent.train()\n",
    "\n",
    "    # EXPLOIT: by setting action selection to be exploitative: \"greedy\"\n",
    "    agent.action_selection = \"greedy\"\n",
    "    agent.epsilon = 0\n",
    "    Gg = []\n",
    "\n",
    "    # RUN entire trajectory, and set greedy env to the initial state\n",
    "    env_greedy.reset()\n",
    "    while not env_greedy.terminal and not env_greedy.timeout:\n",
    "        action = agent.select_action(env_greedy.transition)\n",
    "        transition = env_greedy.step(action)\n",
    "        Gg.append(transition.reward)\n",
    "\n",
    "    step += 1\n",
    "\n",
    "    metrics.append({\n",
    "        'Qsa': dict(agent.estimators[0].approximator.table),\n",
    "        'Qa': dict(agent.estimators[1].evaluate(0)),\n",
    "        'S': transition.state_,\n",
    "        'V': dict(agent.counter.table),\n",
    "        'U': dict(agent.estimators[0].visits),\n",
    "        'Gn': Gn,\n",
    "        'Gg': Gg,\n",
    "        'steps': step\n",
    "        })\n",
    "\n",
    "    if env.terminal or env.timeout:\n",
    "        trajectories.append(agent.trajectory)\n",
    "        epilen.append([len(agent.trajectory), len(Gg)])\n",
    "\n",
    "        env.reset()\n",
    "        agent.reset_trajectory()\n",
    "        Gn = []\n",
    "\n",
    "x = np.arange(0, metrics[-1]['steps'])\n",
    "yn = []\n",
    "yg = []\n",
    "for i, metric in enumerate(metrics):\n",
    "    Yn = 0\n",
    "    Yg = 0\n",
    "    for j, g in enumerate(metric['Gn']):\n",
    "        Yn += gamma**j*g\n",
    "    for j, g in enumerate(metric['Gg']):\n",
    "        Yg += gamma**j*g\n",
    "\n",
    "    yn.append(Yn)\n",
    "    yg.append(Yg)\n",
    "\n",
    "cumEpilen = np.cumsum([ele[0] for ele in epilen])\n",
    "cumEpiG = np.cumsum([ele[1] for ele in epilen])\n",
    "\n",
    "%matplotlib inline\n",
    "\n",
    "fig, (ax1, ax2) = plt.subplots(nrows=2, figsize=(10,5))\n",
    "ax1.plot(x, yn, label='exploring')\n",
    "\n",
    "ax1.plot(x, yg, label='exploiting')\n",
    "\n",
    "ax1.set_ylabel('cumulative discounted reward')\n",
    "plt.xlabel('steps')\n",
    "\n",
    "ax1.legend(bbox_to_anchor=(1.02, 1), loc=\"upper left\")\n",
    "\n",
    "ax2.set_ylabel('trajectory length')\n",
    "ax2.scatter(cumEpilen, [ele[0] for ele in epilen], s=5)\n",
    "ax2.scatter(cumEpiG, [ele[1] for ele in epilen], s=5)\n",
    "plt.tight_layout()"
   ]
  },
  {
   "cell_type": "code",
   "execution_count": 5,
   "metadata": {
    "jupyter": {
     "source_hidden": true
    },
    "tags": []
   },
   "outputs": [],
   "source": [
    "from matplotlib import animation, rc\n",
    "\n",
    "dict_max = lambda x: max(v for v in x.values())\n",
    "dict_mean = lambda x: sum(v for v in x.values())/len(x)\n",
    "dict_min = lambda x: min(v for v in x.values())\n",
    "dict_sum = lambda x: sum(v for v in x.values())\n",
    "\n",
    "def generate_heatmap(grid, table, aggf=None, actions=False):\n",
    "    if actions:\n",
    "        hm = np.zeros((3,3))\n",
    "        if aggf is None:\n",
    "            aggf = lambda x: x\n",
    "\n",
    "        hm[0,1] = table['up']\n",
    "        hm[1,2] = table['right']\n",
    "        hm[1,0] = table['left']\n",
    "        hm[2,1] = table['down']\n",
    "\n",
    "    else:\n",
    "        hm = np.copy(grid) * 0\n",
    "        if aggf is None:\n",
    "            aggf = lambda x: x\n",
    "\n",
    "        for k, v in table.items():\n",
    "            hm[k] = aggf(v)\n",
    "\n",
    "    return hm\n",
    "\n",
    "def animate_values(data, fn=None):\n",
    "    fig, axs = plt.subplots(nrows=1, ncols=2, figsize=(grid.shape[1], grid.shape[0]))\n",
    "\n",
    "    for col in axs:\n",
    "        col.set_axis_off()\n",
    "\n",
    "    ims = []\n",
    "    for i in range(len(data)):\n",
    "        \n",
    "        imQsa = axs[0].imshow(generate_heatmap(grid=grid, table=data[i]['Qsa'], aggf=fn), animated=True, origin='upper')\n",
    "        imQa = axs[1].imshow(generate_heatmap(grid=grid, table=data[i]['Qa'], actions=True), animated=True, origin='upper')\n",
    "        agent_marker = axs[0].text(data[i]['S'][1], data[i]['S'][0], 'X', ha=\"center\", va=\"center\", color=\"black\", fontsize=20)\n",
    "        ims.append([imQsa, imQa])\n",
    "        agent_marker.remove()\n",
    "        \n",
    "    fig.colorbar(imQsa, ax=axs.ravel().tolist())\n",
    "    \n",
    "    ani = animation.ArtistAnimation(fig, ims, interval=150, blit=True, repeat_delay=1000)\n",
    "    plt.close()\n",
    "\n",
    "    return ani"
   ]
  },
  {
   "cell_type": "code",
   "execution_count": 6,
   "metadata": {
    "tags": []
   },
   "outputs": [],
   "source": [
    "from IPython.display import HTML\n",
    "ani = animate_values(metrics, fn=dict_max)\n",
    "estimator = ['Qsa', 'Qa']\n",
    "# HTML(ani.to_html5_video())\n",
    "# Writer = animation.writers['ffmpeg']\n",
    "# writer = Writer(fps=3, metadata=dict(artist='Cesare Carissimo'), bitrate=1800)\n",
    "# ani.save(f\"{FILE_SIG}-%s.mp4\" % estimator, writer=writer)"
   ]
  },
  {
   "cell_type": "markdown",
   "metadata": {},
   "source": [
    "### Action Selection: Epsilon Greedy with RMax"
   ]
  },
  {
   "cell_type": "code",
   "execution_count": 13,
   "metadata": {
    "tags": []
   },
   "outputs": [],
   "source": [
    "agent = eGreedy(\n",
    "    estimators = [\n",
    "        Estimator(approximator=bellman_RMax(alpha=0.1, gamma=0.8), mask=identity()),\n",
    "        Estimator(approximator=Q_ga_RMax(alpha=0.1, gamma=0.8),  mask=global_context())\n",
    "                ],\n",
    "    buffer = ReplayMemory(max_size=10000),\n",
    "    targets = [Target()],\n",
    "    counter = state_table(),\n",
    "    batch_size=batch_size)\n",
    "\n",
    "agent.epsilon = 0.33\n",
    "\n",
    "trajectories = []\n",
    "metrics = []\n",
    "epilen = []\n",
    "Gn = []\n",
    "step = 0"
   ]
  },
  {
   "cell_type": "code",
   "execution_count": 4,
   "metadata": {
    "jupyter": {
     "source_hidden": true
    },
    "tags": []
   },
   "outputs": [
    {
     "data": {
      "image/png": "[encoded data removed]",
      "text/plain": [
       "<Figure size 720x360 with 2 Axes>"
      ]
     },
     "metadata": {
      "needs_background": "light"
     },
     "output_type": "display_data"
    }
   ],
   "source": [
    "# MAIN TRAINING and EVALUATION LOOP\n",
    "for i in range(max_steps):\n",
    "    # EXPLORE: by setting action selection to be explorative: \"exploratory\"\n",
    "    agent.action_selection = \"exploratory\"\n",
    "    action = agent.select_action(env.transition)\n",
    "    transition = env.step(action)\n",
    "    agent.observe(transition)\n",
    "    Gn.append(transition.reward)\n",
    "    agent.train()\n",
    "\n",
    "    # EXPLOIT: by setting action selection to be exploitative: \"greedy\"\n",
    "    agent.action_selection = \"greedy\"\n",
    "    agent.epsilon = 0\n",
    "    Gg = []\n",
    "\n",
    "    # RUN entire trajectory, and set greedy env to the initial state\n",
    "    env_greedy.reset()\n",
    "    while not env_greedy.terminal and not env_greedy.timeout:\n",
    "        action = agent.select_action(env_greedy.transition)\n",
    "        transition = env_greedy.step(action)\n",
    "        Gg.append(transition.reward)\n",
    "\n",
    "    step += 1\n",
    "\n",
    "    metrics.append({\n",
    "        'Qsa': dict(agent.estimators[0].approximator.table),\n",
    "        'Qa': dict(agent.estimators[1].evaluate(0)),\n",
    "        'S': transition.state_,\n",
    "        'V': dict(agent.counter.table),\n",
    "        'U': dict(agent.estimators[0].visits),\n",
    "        'Gn': Gn,\n",
    "        'Gg': Gg,\n",
    "        'steps': step\n",
    "        })\n",
    "\n",
    "    if env.terminal or env.timeout:\n",
    "        trajectories.append(agent.trajectory)\n",
    "        epilen.append([len(agent.trajectory), len(Gg)])\n",
    "\n",
    "        env.reset()\n",
    "        agent.reset_trajectory()\n",
    "        Gn = []\n",
    "\n",
    "x = np.arange(0, metrics[-1]['steps'])\n",
    "yn = []\n",
    "yg = []\n",
    "for i, metric in enumerate(metrics):\n",
    "    Yn = 0\n",
    "    Yg = 0\n",
    "    for j, g in enumerate(metric['Gn']):\n",
    "        Yn += gamma**j*g\n",
    "    for j, g in enumerate(metric['Gg']):\n",
    "        Yg += gamma**j*g\n",
    "\n",
    "    yn.append(Yn)\n",
    "    yg.append(Yg)\n",
    "\n",
    "cumEpilen = np.cumsum([ele[0] for ele in epilen])\n",
    "cumEpiG = np.cumsum([ele[1] for ele in epilen])\n",
    "\n",
    "%matplotlib inline\n",
    "\n",
    "fig, (ax1, ax2) = plt.subplots(nrows=2, figsize=(10,5))\n",
    "ax1.plot(x, yn, label='exploring')\n",
    "\n",
    "ax1.plot(x, yg, label='exploiting')\n",
    "\n",
    "ax1.set_ylabel('cumulative discounted reward')\n",
    "plt.xlabel('steps')\n",
    "\n",
    "ax1.legend(bbox_to_anchor=(1.02, 1), loc=\"upper left\")\n",
    "\n",
    "ax2.set_ylabel('trajectory length')\n",
    "ax2.scatter(cumEpilen, [ele[0] for ele in epilen], s=5)\n",
    "ax2.scatter(cumEpiG, [ele[1] for ele in epilen], s=5)\n",
    "plt.tight_layout()"
   ]
  },
  {
   "cell_type": "markdown",
   "metadata": {},
   "source": [
    "### Action Selection: Combining Estimators"
   ]
  },
  {
   "cell_type": "code",
   "execution_count": 7,
   "metadata": {
    "tags": []
   },
   "outputs": [],
   "source": [
    "agent = LambChop(\n",
    "    estimators = [\n",
    "        Estimator(approximator=bellman_Q_table(alpha=0.1, gamma=0.8), mask=identity()),\n",
    "        Estimator(approximator=global_Q_abstractor(gamma=0.8),  mask=global_context())\n",
    "            ],\n",
    "    buffer = ReplayMemory(max_size=10000),\n",
    "    targets = [Target()],\n",
    "    counter = state_table(),\n",
    "    batch_size=batch_size)\n",
    "\n",
    "trajectories = []\n",
    "metrics = []\n",
    "epilen = []\n",
    "Gn = []\n",
    "step = 0"
   ]
  },
  {
   "cell_type": "code",
   "execution_count": 8,
   "metadata": {
    "jupyter": {
     "source_hidden": true
    },
    "tags": []
   },
   "outputs": [
    {
     "data": {
      "image/png": "[encoded data removed]",
      "text/plain": [
       "<Figure size 720x360 with 2 Axes>"
      ]
     },
     "metadata": {
      "needs_background": "light"
     },
     "output_type": "display_data"
    }
   ],
   "source": [
    "# MAIN TRAINING and EVALUATION LOOP\n",
    "for i in range(max_steps):\n",
    "    # EXPLORE: by setting action selection to be explorative: \"exploratory\"\n",
    "    agent.action_selection = \"exploratory\"\n",
    "    action = agent.select_action(env.transition)\n",
    "    transition = env.step(action)\n",
    "    agent.observe(transition)\n",
    "    Gn.append(transition.reward)\n",
    "    agent.train()\n",
    "\n",
    "    # EXPLOIT: by setting action selection to be exploitative: \"greedy\"\n",
    "    agent.action_selection = \"greedy\"\n",
    "    agent.epsilon = 0\n",
    "    Gg = []\n",
    "\n",
    "    # RUN entire trajectory, and set greedy env to the initial state\n",
    "    env_greedy.reset()\n",
    "    while not env_greedy.terminal and not env_greedy.timeout:\n",
    "        action = agent.select_action(env_greedy.transition)\n",
    "        transition = env_greedy.step(action)\n",
    "        Gg.append(transition.reward)\n",
    "\n",
    "    step += 1\n",
    "\n",
    "    metrics.append({\n",
    "        'Qsa': dict(agent.estimators[0].approximator.table),\n",
    "        'Qa': dict(agent.estimators[1].evaluate(0)),\n",
    "        'S': transition.state_,\n",
    "        'V': dict(agent.counter.table),\n",
    "        'U': dict(agent.estimators[0].visits),\n",
    "        'Gn': Gn,\n",
    "        'Gg': Gg,\n",
    "        'steps': step\n",
    "        })\n",
    "\n",
    "    if env.terminal or env.timeout:\n",
    "        trajectories.append(agent.trajectory)\n",
    "        epilen.append([len(agent.trajectory), len(Gg)])\n",
    "\n",
    "        env.reset()\n",
    "        agent.reset_trajectory()\n",
    "        Gn = []\n",
    "        \n",
    "x = np.arange(0, metrics[-1]['steps'])\n",
    "yn = []\n",
    "yg = []\n",
    "for i, metric in enumerate(metrics):\n",
    "    Yn = 0\n",
    "    Yg = 0\n",
    "    for j, g in enumerate(metric['Gn']):\n",
    "        Yn += gamma**j*g\n",
    "    for j, g in enumerate(metric['Gg']):\n",
    "        Yg += gamma**j*g\n",
    "    \n",
    "    yn.append(Yn)\n",
    "    yg.append(Yg)\n",
    "\n",
    "cumEpilen = np.cumsum([ele[0] for ele in epilen])\n",
    "cumEpiG = np.cumsum([ele[1] for ele in epilen])\n",
    "\n",
    "%matplotlib inline\n",
    "\n",
    "fig, (ax1, ax2) = plt.subplots(nrows=2, figsize=(10,5))\n",
    "ax1.plot(x, yn, label='exploring')\n",
    "\n",
    "ax1.plot(x, yg, label='exploiting')\n",
    "\n",
    "ax1.set_ylabel('cumulative discounted reward')\n",
    "plt.xlabel('steps')\n",
    "\n",
    "ax1.legend(bbox_to_anchor=(1.02, 1), loc=\"upper left\")\n",
    "\n",
    "ax2.set_ylabel('trajectory length')\n",
    "ax2.scatter(cumEpilen, [ele[0] for ele in epilen], s=5)\n",
    "ax2.scatter(cumEpiG, [ele[1] for ele in epilen], s=5)\n",
    "plt.tight_layout()"
   ]
  },
  {
   "cell_type": "markdown",
   "metadata": {},
   "source": [
    "### Action Selection: Combining Estimators & Rmax"
   ]
  },
  {
   "cell_type": "code",
   "execution_count": 9,
   "metadata": {},
   "outputs": [],
   "source": [
    "agent = LambChop(\n",
    "    estimators = [\n",
    "        Estimator(approximator=bellman_RMax(alpha=0.1, gamma=0.8), mask=identity()),\n",
    "        Estimator(approximator=Q_ga_RMax(alpha=0.1, gamma=0.8),  mask=global_context())\n",
    "                                ],\n",
    "    buffer = ReplayMemory(max_size=10000),\n",
    "    targets = [Target()],\n",
    "    counter = state_table(),\n",
    "    batch_size=batch_size)\n",
    "\n",
    "trajectories = []\n",
    "metrics = []\n",
    "epilen = []\n",
    "Gn = []\n",
    "step = 0"
   ]
  },
  {
   "cell_type": "code",
   "execution_count": 10,
   "metadata": {
    "jupyter": {
     "source_hidden": true
    },
    "tags": []
   },
   "outputs": [
    {
     "data": {
      "image/png": "[encoded data removed]",
      "text/plain": [
       "<Figure size 720x360 with 2 Axes>"
      ]
     },
     "metadata": {
      "needs_background": "light"
     },
     "output_type": "display_data"
    }
   ],
   "source": [
    "# MAIN TRAINING and EVALUATION LOOP\n",
    "for i in range(max_steps):\n",
    "    # EXPLORE: by setting action selection to be explorative: \"exploratory\"\n",
    "    agent.action_selection = \"exploratory\"\n",
    "    action = agent.select_action(env.transition)\n",
    "    transition = env.step(action)\n",
    "    agent.observe(transition)\n",
    "    Gn.append(transition.reward)\n",
    "    agent.train()\n",
    "\n",
    "    # EXPLOIT: by setting action selection to be exploitative: \"greedy\"\n",
    "    agent.action_selection = \"greedy\"\n",
    "    agent.epsilon = 0\n",
    "    Gg = []\n",
    "\n",
    "    # RUN entire trajectory, and set greedy env to the initial state\n",
    "    env_greedy.reset()\n",
    "    while not env_greedy.terminal and not env_greedy.timeout:\n",
    "        action = agent.select_action(env_greedy.transition)\n",
    "        transition = env_greedy.step(action)\n",
    "        Gg.append(transition.reward)\n",
    "\n",
    "    step += 1\n",
    "\n",
    "    metrics.append({\n",
    "        'Qsa': dict(agent.estimators[0].approximator.table),\n",
    "        'Qa': dict(agent.estimators[1].evaluate(0)),\n",
    "        'S': transition.state_,\n",
    "        'V': dict(agent.counter.table),\n",
    "        'U': dict(agent.estimators[0].visits),\n",
    "        'Gn': Gn,\n",
    "        'Gg': Gg,\n",
    "        'steps': step\n",
    "        })\n",
    "\n",
    "    if env.terminal or env.timeout:\n",
    "        trajectories.append(agent.trajectory)\n",
    "        epilen.append([len(agent.trajectory), len(Gg)])\n",
    "\n",
    "        env.reset()\n",
    "        agent.reset_trajectory()\n",
    "        Gn = []\n",
    "        \n",
    "x = np.arange(0, metrics[-1]['steps'])\n",
    "yn = []\n",
    "yg = []\n",
    "for i, metric in enumerate(metrics):\n",
    "    Yn = 0\n",
    "    Yg = 0\n",
    "    for j, g in enumerate(metric['Gn']):\n",
    "        Yn += gamma**j*g\n",
    "    for j, g in enumerate(metric['Gg']):\n",
    "        Yg += gamma**j*g\n",
    "    \n",
    "    yn.append(Yn)\n",
    "    yg.append(Yg)\n",
    "\n",
    "cumEpilen = np.cumsum([ele[0] for ele in epilen])\n",
    "cumEpiG = np.cumsum([ele[1] for ele in epilen])\n",
    "\n",
    "%matplotlib inline\n",
    "\n",
    "fig, (ax1, ax2) = plt.subplots(nrows=2, figsize=(10,5))\n",
    "ax1.plot(x, yn, label='exploring')\n",
    "\n",
    "ax1.plot(x, yg, label='exploiting')\n",
    "\n",
    "ax1.set_ylabel('cumulative discounted reward')\n",
    "plt.xlabel('steps')\n",
    "\n",
    "ax1.legend(bbox_to_anchor=(1.02, 1), loc=\"upper left\")\n",
    "\n",
    "ax2.set_ylabel('trajectory length')\n",
    "ax2.scatter(cumEpilen, [ele[0] for ele in epilen], s=5)\n",
    "ax2.scatter(cumEpilen, [ele[1] for ele in epilen], s=5)\n",
    "plt.tight_layout()"
   ]
  },
  {
   "cell_type": "markdown",
   "metadata": {},
   "source": [
    "### Action Selection: Novelty"
   ]
  },
  {
   "cell_type": "code",
   "execution_count": 11,
   "metadata": {},
   "outputs": [],
   "source": [
    "agent = LambChop(\n",
    "    estimators = [\n",
    "        Estimator(approximator=bellman_N_table(alpha=0.1, gamma=0.8), mask=identity()),\n",
    "        Estimator(approximator=global_N_abstractor(alpha=0.1, gamma=0.8),  mask=global_context())\n",
    "                ],\n",
    "    buffer = ReplayMemory(max_size=10000),\n",
    "    targets = [Target()],\n",
    "    counter = state_table(),\n",
    "    batch_size=batch_size)\n",
    "\n",
    "trajectories = []\n",
    "metrics = []\n",
    "epilen = []\n",
    "Gn = []\n",
    "step = 0"
   ]
  },
  {
   "cell_type": "code",
   "execution_count": 12,
   "metadata": {
    "jupyter": {
     "source_hidden": true
    },
    "tags": []
   },
   "outputs": [
    {
     "data": {
      "image/png": "[encoded data removed]",
      "text/plain": [
       "<Figure size 720x360 with 2 Axes>"
      ]
     },
     "metadata": {
      "needs_background": "light"
     },
     "output_type": "display_data"
    }
   ],
   "source": [
    "# MAIN TRAINING and EVALUATION LOOP\n",
    "for i in range(max_steps):\n",
    "    # EXPLORE: by setting action selection to be explorative: \"exploratory\"\n",
    "    agent.action_selection = \"exploratory\"\n",
    "    action = agent.select_action(env.transition)\n",
    "    transition = env.step(action)\n",
    "    agent.observe(transition)\n",
    "    Gn.append(transition.reward)\n",
    "    agent.train()\n",
    "\n",
    "    # EXPLOIT: by setting action selection to be exploitative: \"greedy\"\n",
    "    agent.action_selection = \"greedy\"\n",
    "    agent.epsilon = 0\n",
    "    Gg = []\n",
    "\n",
    "    # RUN entire trajectory, and set greedy env to the initial state\n",
    "    env_greedy.reset()\n",
    "    while not env_greedy.terminal and not env_greedy.timeout:\n",
    "        action = agent.select_action(env_greedy.transition)\n",
    "        transition = env_greedy.step(action)\n",
    "        Gg.append(transition.reward)\n",
    "\n",
    "    step += 1\n",
    "\n",
    "    metrics.append({\n",
    "        'Qsa': dict(agent.estimators[0].approximator.table),\n",
    "        'Qa': dict(agent.estimators[1].evaluate(0)),\n",
    "        'S': transition.state_,\n",
    "        'V': dict(agent.counter.table),\n",
    "        'U': dict(agent.estimators[0].visits),\n",
    "        'Gn': Gn,\n",
    "        'Gg': Gg,\n",
    "        'steps': step\n",
    "        })\n",
    "\n",
    "    if env.terminal or env.timeout:\n",
    "        trajectories.append(agent.trajectory)\n",
    "        epilen.append([len(agent.trajectory), len(Gg)])\n",
    "\n",
    "        env.reset()\n",
    "        agent.reset_trajectory()\n",
    "        Gn = []\n",
    "        \n",
    "x = np.arange(0, metrics[-1]['steps'])\n",
    "yn = []\n",
    "yg = []\n",
    "for i, metric in enumerate(metrics):\n",
    "    Yn = 0\n",
    "    Yg = 0\n",
    "    for j, g in enumerate(metric['Gn']):\n",
    "        Yn += gamma**j*g\n",
    "    for j, g in enumerate(metric['Gg']):\n",
    "        Yg += gamma**j*g\n",
    "    \n",
    "    yn.append(Yn)\n",
    "    yg.append(Yg)\n",
    "\n",
    "cumEpilen = np.cumsum([ele[0] for ele in epilen])\n",
    "cumEpiG = np.cumsum([ele[1] for ele in epilen])\n",
    "\n",
    "%matplotlib inline\n",
    "\n",
    "fig, (ax1, ax2) = plt.subplots(nrows=2, figsize=(10,5))\n",
    "ax1.plot(x, yn, label='exploring')\n",
    "\n",
    "ax1.plot(x, yg, label='exploiting')\n",
    "\n",
    "ax1.set_ylabel('cumulative discounted reward')\n",
    "plt.xlabel('steps')\n",
    "\n",
    "ax1.legend(bbox_to_anchor=(1.02, 1), loc=\"upper left\")\n",
    "\n",
    "ax2.set_ylabel('trajectory length')\n",
    "ax2.scatter(cumEpilen, [ele[0] for ele in epilen], s=5)\n",
    "ax2.scatter(cumEpilen, [ele[1] for ele in epilen], s=5)\n",
    "plt.tight_layout()"
   ]
  },
  {
   "cell_type": "code",
   "execution_count": null,
   "metadata": {},
   "outputs": [],
   "source": []
  },
  {
   "cell_type": "code",
   "execution_count": null,
   "metadata": {},
   "outputs": [],
   "source": []
  }
 ],
 "metadata": {
  "kernelspec": {
   "display_name": "Python 3",
   "language": "python",
   "name": "python3"
  },
  "language_info": {
   "codemirror_mode": {
    "name": "ipython",
    "version": 3
   },
   "file_extension": ".py",
   "mimetype": "text/x-python",
   "name": "python",
   "nbconvert_exporter": "python",
   "pygments_lexer": "ipython3",
   "version": "3.8.5"
  }
 },
 "nbformat": 4,
 "nbformat_minor": 5
}

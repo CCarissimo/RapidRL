{
 "cells": [
  {
   "cell_type": "code",
   "execution_count": 5,
   "metadata": {},
   "outputs": [],
   "source": [
    "import numpy as np\n",
    "from Agents import *\n",
    "from Environments import *\n",
    "from Experiments import *\n",
    "from Utils import *\n",
    "from warnings import filterwarnings\n",
    "import matplotlib.pyplot as plt\n",
    "import os\n",
    "from tqdm.auto import tqdm\n",
    "import pickle as cPickle"
   ]
  },
  {
   "cell_type": "code",
   "execution_count": 6,
   "metadata": {},
   "outputs": [
    {
     "name": "stdout",
     "output_type": "stream",
     "text": [
      "epochs_ME_Q_WILLEMSEN_n[10000]_alpha[0.1]_gamma[0.9]_batch[10]_weights[exp_size_corrected]_exploit[True]\n"
     ]
    }
   ],
   "source": [
    "EXPERIMENT = 'epochs'\n",
    "GRIDWORLD = 'WILLEMSEN'\n",
    "AGENT_TYPE = 'ME_Q'\n",
    "PLOT = True\n",
    "ANIMATE = False\n",
    "MAX_STEPS = 10000\n",
    "EPISODE_TIMEOUT = 33\n",
    "GAMMA = 0.9\n",
    "ALPHA = 0.1\n",
    "RSS_ALPHA = 0.1\n",
    "LIN_ALPHA = 0.0001\n",
    "BATCH_SIZE = 10\n",
    "WEIGHTS_METHOD = 'exp_size_corrected'\n",
    "EXPLOIT = True\n",
    "EPSILON = 0.1\n",
    "EPOCHS = 100\n",
    "\n",
    "cwd = os.getcwd()\n",
    "FOLDER = \"%s\\\\Results\" % (cwd)\n",
    "FILE_SIG = f\"{EXPERIMENT}_{AGENT_TYPE}_{GRIDWORLD}_n[{MAX_STEPS}]_alpha[{ALPHA}]_gamma[{GAMMA}]_batch[{BATCH_SIZE}]_weights[{WEIGHTS_METHOD}]_exploit[{EXPLOIT}]\"\n",
    "print(FILE_SIG)"
   ]
  },
  {
   "cell_type": "code",
   "execution_count": 7,
   "metadata": {},
   "outputs": [],
   "source": [
    "if GRIDWORLD == \"WILLEMSEN\":\n",
    "    grid = np.ones((3, 9)) * -1\n",
    "    grid[1, :8] = 0\n",
    "    grid[1, 8] = 1\n",
    "    grid[2, :8] = 0\n",
    "    terminal_state = []\n",
    "    for i in [0, 2]:\n",
    "        for j in range(8):\n",
    "            terminal_state.append([i, j])\n",
    "    terminal_state.append([1, 8])\n",
    "    # terminal_state.append([0, 8])\n",
    "    # terminal_state.append([2, 8])\n",
    "    terminal_state = np.array(terminal_state)\n",
    "    initial_state = np.array([1, 0])\n",
    "    blacked_state = np.array([[0, 8], [2, 8]])\n",
    "elif GRIDWORLD == \"STRAIGHT\":\n",
    "    grid = np.ones((3, 9)) * -1\n",
    "    grid[1, :8] = 0\n",
    "    grid[1, 8] = 1\n",
    "    grid[2, :8] = 0.1\n",
    "    terminal_state = []\n",
    "    for i in [0]:\n",
    "        for j in range(8):\n",
    "            terminal_state.append([i, j])\n",
    "    terminal_state.append([1, 8])\n",
    "    # terminal_state.append([0, 8])\n",
    "    # terminal_state.append([2, 8])\n",
    "    terminal_state = np.array(terminal_state)\n",
    "    initial_state = np.array([1, 0])\n",
    "    blacked_state = np.array([[0, 8], [2, 8]])\n",
    "elif GRIDWORLD == \"POOL\":\n",
    "    grid = np.ones((8, 8)) * 0\n",
    "    grid[3:6, 3:6] = -1\n",
    "    grid[7, 7] = 1\n",
    "    terminal_state = np.array([7, 7])\n",
    "    initial_state = np.array([1, 0])\n",
    "    blacked_state = np.array([[5, 5], [4, 5], [5, 4], [4, 4]])\n",
    "    # blacked_state = np.array([[np.nan, np.nan], [np.nan, np.nan]])\n",
    "elif GRIDWORLD == \"STAR\":\n",
    "    grid = np.ones((15, 15)) * 0.1\n",
    "    grid[7, 0] = -1\n",
    "    grid[14, 7] = -1\n",
    "    grid[7, 14] = 1\n",
    "    grid[0, 7] = 1\n",
    "    terminal_state = np.array([[7,0], [14,7], [7,14], [0,7]])\n",
    "    initial_state = np.array([7,7])\n",
    "    blacked_state = np.array([np.nan, np.nan])\n",
    "\n",
    "env = Gridworld(grid, terminal_state, initial_state, blacked_state)\n",
    "env_greedy = Gridworld(grid, terminal_state, initial_state, blacked_state)\n",
    "\n",
    "if GRIDWORLD == \"STRAIGHT\" or GRIDWORLD==\"WILLEMSEN\":\n",
    "    states = [(i, j) for i in [0, 1, 2] for j in range(env.grid_width)]\n",
    "    env_shape = (3, env.grid_width)\n",
    "elif GRIDWORLD == \"POOL\" or GRIDWORLD == \"STAR\":\n",
    "    states = [(i, j) for i in range(env.grid_height) for j in range(env.grid_width)]\n",
    "    env_shape = (env.grid_height, env.grid_width)\n",
    "else:\n",
    "    print(\"WORLD not found\")"
   ]
  },
  {
   "cell_type": "code",
   "execution_count": 8,
   "metadata": {},
   "outputs": [],
   "source": [
    "AGENTS = {\n",
    "    \"SIMPLE_Q\": SimpleQ,\n",
    "    \"ME_Q\": MEQ,\n",
    "    \"NOVELTOR\": Noveltor,\n",
    "    \"RMAX\": RMAXQ,\n",
    "    }\n",
    "\n",
    "agent = AGENTS[AGENT_TYPE]()\n",
    "rb = ReplayMemory(max_size=10000)"
   ]
  },
  {
   "cell_type": "code",
   "execution_count": 13,
   "metadata": {
    "tags": []
   },
   "outputs": [
    {
     "data": {
      "application/vnd.jupyter.widget-view+json": {
       "model_id": "0b4596381068433faa64c3e8312099b1",
       "version_major": 2,
       "version_minor": 0
      },
      "text/plain": [
       "  0%|          | 0/100 [00:00<?, ?it/s]"
      ]
     },
     "metadata": {},
     "output_type": "display_data"
    }
   ],
   "source": [
    "# MAIN TRAINING and EVALUATION LOOP\n",
    "M = []\n",
    "for n in tqdm(range(EPOCHS)):\n",
    "    agent = AGENTS[AGENT_TYPE]()\n",
    "    rb = ReplayMemory(max_size=10000)\n",
    "    env.reset()\n",
    "    env_greedy.reset()\n",
    "    metrics, trajectories = train_and_eval(MAX_STEPS, BATCH_SIZE, agent, rb, env, env_greedy, states, env_shape, EXPLOIT)\n",
    "    M.append(metrics)"
   ]
  },
  {
   "cell_type": "code",
   "execution_count": 9,
   "metadata": {
    "tags": []
   },
   "outputs": [],
   "source": [
    "# percentile based on\n",
    "# http://www.jtrive.com/the-empirical-bootstrap-for-confidence-intervals-in-python.html\n",
    "\n",
    "# adapted according to empirical on\n",
    "# https://github.com/LizaLebedeva/bootstrap-experiments/blob/master/bootstrap_methods.ipynb\n",
    "\n",
    "def bootstrap_empirical(data, n=1000, func=np.mean):\n",
    "    \"\"\"\n",
    "    Generate `n` bootstrap samples, evaluating `func`\n",
    "    at each resampling. `bootstrap` returns a function,\n",
    "    which can be called to obtain confidence intervals\n",
    "    of interest.\n",
    "    \"\"\"\n",
    "    simulations = list()\n",
    "    sample_size = len(data)\n",
    "    for c in range(n):\n",
    "        itersample = np.random.choice(data, size=sample_size, replace=True)\n",
    "        simulations.append(func(itersample))\n",
    "    simulations.sort()\n",
    "    obs_metric = func(data) # compute CI center from data directly\n",
    "#     simulations = simulations - obs_metric # now move bootstrap to differences\n",
    "    def ci(p):\n",
    "        \"\"\"\n",
    "        Return 2-sided symmetric confidence interval specified\n",
    "        by p.\n",
    "        \"\"\"\n",
    "        u_pval = (1+p)/2.\n",
    "        l_pval = (1-u_pval)\n",
    "        l_indx = int(np.floor(n*l_pval))\n",
    "        u_indx = int(np.floor(n*u_pval))\n",
    "        percentile_upper = simulations[l_indx]\n",
    "        percentile_lower = simulations[u_indx]\n",
    "        empirical_lower = 2*obs_metric - percentile_lower\n",
    "        empirical_upper = 2*obs_metric - percentile_upper\n",
    "        return(empirical_lower,empirical_upper)\n",
    "    return(ci)"
   ]
  },
  {
   "cell_type": "code",
   "execution_count": 10,
   "metadata": {},
   "outputs": [],
   "source": [
    "R = np.zeros((EPOCHS, MAX_STEPS, 2))\n",
    "\n",
    "for i, epoch in enumerate(M):\n",
    "    for j, metrics in enumerate(epoch):\n",
    "        for exp, g in enumerate(metrics['Gn']):\n",
    "            R[i,j, 0] += GAMMA**exp*g\n",
    "        for exp, g in enumerate(metrics['Gg']):\n",
    "            R[i,j, 1] += GAMMA**exp*g"
   ]
  },
  {
   "cell_type": "code",
   "execution_count": 11,
   "metadata": {},
   "outputs": [],
   "source": [
    "Rn = R[:,:,0]\n",
    "Rg = R[:,:,1]\n",
    "yn = np.mean(Rn, axis=0)\n",
    "yg = np.mean(Rg, axis=0)\n",
    "yCIn = list(map(lambda p: bootstrap_empirical(p)(0.95), Rn.T))\n",
    "yCIg = list(map(lambda p: bootstrap_empirical(p)(0.95), Rg.T))\n",
    "Yn = np.transpose(yCIn)\n",
    "Yg = np.transpose(yCIg)"
   ]
  },
  {
   "cell_type": "code",
   "execution_count": 18,
   "metadata": {},
   "outputs": [
    {
     "data": {
      "image/png": "[encoded data removed]",
      "text/plain": [
       "<Figure size 576x360 with 1 Axes>"
      ]
     },
     "metadata": {
      "needs_background": "light"
     },
     "output_type": "display_data"
    }
   ],
   "source": [
    "%matplotlib inline\n",
    "x = np.arange(0, MAX_STEPS, 1)\n",
    "\n",
    "fig, ax = plt.subplots(figsize=(8,5))\n",
    "# plt.plot(x, yn, label='exploring')\n",
    "# ax.fill_between(x, Yn[0], Yn[1], color='teal', alpha=.2)\n",
    "\n",
    "plt.plot(x, yg, label='exploiting')\n",
    "ax.fill_between(x, Yg[0], Yg[1], color='purple', alpha=.2)\n",
    "\n",
    "plt.ylabel('cumulative discounted reward')\n",
    "plt.xlabel('episode')\n",
    "\n",
    "plt.legend()\n",
    "plt.savefig(f'results/{FILE_SIG}_exploit.png')\n",
    "plt.show()"
   ]
  },
  {
   "cell_type": "code",
   "execution_count": 18,
   "metadata": {},
   "outputs": [],
   "source": [
    "with open('%s.txt'%FILE_SIG, 'wb') as fh:\n",
    "    cPickle.dump(M, fh)"
   ]
  },
  {
   "cell_type": "code",
   "execution_count": null,
   "metadata": {},
   "outputs": [],
   "source": [
    "# load me q willemsen\n",
    "with open ('results/epochs_ME_Q_WILLEMSEN_n[10000]_alpha[0.1]_gamma[0.9]_batch[10]_weights[exp_size_corrected]_exploit[True].txt', 'rb') as fh:\n",
    "    M = cPickle.load(fh)"
   ]
  },
  {
   "cell_type": "code",
   "execution_count": 3,
   "metadata": {},
   "outputs": [],
   "source": [
    "# load simple q willemsen\n",
    "with open ('results/epochs_SIMPLE_Q_WILLEMSEN_n[10000]_alpha[0.1]_gamma[0.9]_batch[10]_weights[exp_size_corrected]_exploit[True].txt', 'rb') as fh:\n",
    "    M = cPickle.load(fh)"
   ]
  },
  {
   "cell_type": "code",
   "execution_count": 26,
   "metadata": {},
   "outputs": [
    {
     "data": {
      "text/plain": [
       "dict_items([('t', 0), ('V', array([[0.       , 0.       , 0.       , 0.       , 0.       , 0.       ,\n",
       "        0.       , 0.       , 0.       ],\n",
       "       [0.4782969, 0.531441 , 0.59049  , 0.6561   , 0.729    , 0.81     ,\n",
       "        0.9      , 1.       , 0.       ],\n",
       "       [0.       , 0.       , 0.       , 0.       , 0.       , 0.       ,\n",
       "        0.       , 0.       , 0.       ]])), ('A', array([[0, 0, 0, 0, 0, 0, 0, 0, 0],\n",
       "       [3, 3, 3, 3, 3, 3, 3, 3, 0],\n",
       "       [0, 0, 0, 0, 0, 0, 0, 0, 0]], dtype=int64)), ('S', (1, 8)), ('Gn', [1.0]), ('Gg', [0.0, 0.0, 0.0, 0.0, 0.0, 0.0, 0.0, 1.0]), ('W', array([1.])), ('K', [109]), ('RSS', array([0.05474769])), ('AIC', array([-26144860.74743245])), ('steps', 1)])"
      ]
     },
     "execution_count": 26,
     "metadata": {},
     "output_type": "execute_result"
    }
   ],
   "source": [
    "M[90][0].items()"
   ]
  },
  {
   "cell_type": "code",
   "execution_count": null,
   "metadata": {},
   "outputs": [],
   "source": []
  }
 ],
 "metadata": {
  "kernelspec": {
   "display_name": "Python 3",
   "language": "python",
   "name": "python3"
  },
  "language_info": {
   "codemirror_mode": {
    "name": "ipython",
    "version": 3
   },
   "file_extension": ".py",
   "mimetype": "text/x-python",
   "name": "python",
   "nbconvert_exporter": "python",
   "pygments_lexer": "ipython3",
   "version": "3.8.5"
  }
 },
 "nbformat": 4,
 "nbformat_minor": 4
}

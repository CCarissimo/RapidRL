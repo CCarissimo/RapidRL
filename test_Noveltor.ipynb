{
 "cells": [
  {
   "cell_type": "code",
   "execution_count": 1,
   "metadata": {},
   "outputs": [],
   "source": [
    "from MDP import *\n",
    "import matplotlib.pyplot as plt\n",
    "import numpy as np\n",
    "from tqdm.auto import tqdm"
   ]
  },
  {
   "cell_type": "code",
   "execution_count": 2,
   "metadata": {},
   "outputs": [],
   "source": [
    "from math import floor"
   ]
  },
  {
   "cell_type": "markdown",
   "metadata": {},
   "source": [
    "### Define the GridWorld"
   ]
  },
  {
   "cell_type": "code",
   "execution_count": 18,
   "metadata": {},
   "outputs": [
    {
     "name": "stdout",
     "output_type": "stream",
     "text": [
      "(Creating Willemsen Gridworld)\n"
     ]
    },
    {
     "data": {
      "image/png": "[encoded data removed]",
      "text/plain": [
       "<Figure size 432x288 with 2 Axes>"
      ]
     },
     "metadata": {
      "needs_background": "light"
     },
     "output_type": "display_data"
    }
   ],
   "source": [
    "# Create the gridworld, and set cell values to equal rewards\n",
    "print('(Creating Willemsen Gridworld)')\n",
    "grid = np.ones((3, 9)) * -1\n",
    "grid[1,:8] = 0\n",
    "grid[1, 8] = 0.1\n",
    "grid[2, :8] = 0\n",
    "terminal_state = []\n",
    "for i in [0,2]:\n",
    "    for j in range(8):\n",
    "        terminal_state.append([i,j])\n",
    "terminal_state.append([1,8])\n",
    "terminal_state = np.array(terminal_state)\n",
    "initial_state = np.array([1, 0])\n",
    "blacked_state = np.array([[0, 8],[2, 8]])\n",
    "\n",
    "fig, ax, im, cb = plot_gridworld(grid, terminal_state, initial_state, blacked_state, fig=None, ax=None, show=True)\n",
    "\n",
    "n_episodes = 1\n",
    "max_steps = 40\n",
    "gamma = 0.8\n",
    "alpha = 0.1\n",
    "epsilon = 0.05\n",
    "\n",
    "Learn = True\n",
    "batch_size = 1\n",
    "\n",
    "env = gridworld(grid, terminal_state, initial_state, blacked_state, max_steps)"
   ]
  },
  {
   "cell_type": "markdown",
   "metadata": {},
   "source": [
    "### Initialize Parameters"
   ]
  },
  {
   "cell_type": "code",
   "execution_count": 19,
   "metadata": {},
   "outputs": [],
   "source": [
    "E = [Estimator(approximator=bellman_N_table(alpha=0.1, gamma=0.8), mask=identity()),\n",
    "    Estimator(approximator=bellman_Q_table(alpha=0.1, gamma=0.8), mask=identity()),\n",
    "    Estimator(approximator=table(), mask=arrival_state())]\n",
    "B = ReplayMemory(max_size=10000)\n",
    "T = [Target()]"
   ]
  },
  {
   "cell_type": "markdown",
   "metadata": {},
   "source": [
    "### Generate Trajectories"
   ]
  },
  {
   "cell_type": "code",
   "execution_count": 20,
   "metadata": {},
   "outputs": [
    {
     "data": {
      "application/vnd.jupyter.widget-view+json": {
       "model_id": "9dc9b65e1cb44636b6be5923c5eae077",
       "version_major": 2,
       "version_minor": 0
      },
      "text/plain": [
       "  0%|          | 0/1 [00:00<?, ?it/s]"
      ]
     },
     "metadata": {},
     "output_type": "display_data"
    }
   ],
   "source": [
    "agent = Agent(buffer=B, targets=T, estimators=E)\n",
    "\n",
    "epsilons = np.flip(np.linspace(0.05, 1, n_episodes))\n",
    "trajectories = []\n",
    "\n",
    "for i in tqdm(range(n_episodes)):\n",
    "    trajectory = run_trajectory(env, agent, epsilons[i], abstract=False)\n",
    "    \n",
    "    trajectories.append(trajectory)"
   ]
  },
  {
   "cell_type": "code",
   "execution_count": 25,
   "metadata": {},
   "outputs": [
    {
     "data": {
      "text/plain": [
       "'down'"
      ]
     },
     "execution_count": 25,
     "metadata": {},
     "output_type": "execute_result"
    }
   ],
   "source": [
    "trajectory[0].action"
   ]
  },
  {
   "cell_type": "code",
   "execution_count": 21,
   "metadata": {},
   "outputs": [],
   "source": [
    "q_table = agent.estimators[1].approximator.table\n",
    "visits = agent.estimators[2].approximator.table\n",
    "n_table = agent.estimators[0].approximator.table\n",
    "n_visits = agent.estimators[0].visits"
   ]
  },
  {
   "cell_type": "code",
   "execution_count": 28,
   "metadata": {},
   "outputs": [
    {
     "data": {
      "text/plain": [
       "{}"
      ]
     },
     "execution_count": 28,
     "metadata": {},
     "output_type": "execute_result"
    }
   ],
   "source": [
    "n_table"
   ]
  },
  {
   "cell_type": "code",
   "execution_count": 22,
   "metadata": {},
   "outputs": [
    {
     "data": {
      "text/plain": [
       "{}"
      ]
     },
     "execution_count": 22,
     "metadata": {},
     "output_type": "execute_result"
    }
   ],
   "source": [
    "{str(key.array): v for key,v in visits.items()} "
   ]
  },
  {
   "cell_type": "code",
   "execution_count": 23,
   "metadata": {},
   "outputs": [
    {
     "data": {
      "text/plain": [
       "{}"
      ]
     },
     "execution_count": 23,
     "metadata": {},
     "output_type": "execute_result"
    }
   ],
   "source": [
    "{str(key.array): v for key,v in n_visits.items()} "
   ]
  },
  {
   "cell_type": "markdown",
   "metadata": {},
   "source": [
    "### Process Trajectories"
   ]
  },
  {
   "cell_type": "code",
   "execution_count": 26,
   "metadata": {},
   "outputs": [
    {
     "name": "stdout",
     "output_type": "stream",
     "text": [
      "{}\n"
     ]
    },
    {
     "ename": "KeyError",
     "evalue": "<MDP.environments.State object at 0x0000020D938CAA30>",
     "output_type": "error",
     "traceback": [
      "\u001b[1;31m---------------------------------------------------------------------------\u001b[0m",
      "\u001b[1;31mKeyError\u001b[0m                                  Traceback (most recent call last)",
      "\u001b[1;32m<ipython-input-26-234fef80efd3>\u001b[0m in \u001b[0;36m<module>\u001b[1;34m\u001b[0m\n\u001b[0;32m      1\u001b[0m \u001b[0mreturns_table\u001b[0m \u001b[1;33m=\u001b[0m \u001b[0mcumulative_table\u001b[0m\u001b[1;33m(\u001b[0m\u001b[0mtrajectories\u001b[0m\u001b[1;33m,\u001b[0m \u001b[0mgamma\u001b[0m\u001b[1;33m,\u001b[0m \u001b[0mQpi_sa\u001b[0m\u001b[1;33m,\u001b[0m \u001b[0mq_table\u001b[0m\u001b[1;33m)\u001b[0m\u001b[1;33m\u001b[0m\u001b[1;33m\u001b[0m\u001b[0m\n\u001b[0;32m      2\u001b[0m \u001b[0mrho\u001b[0m \u001b[1;33m=\u001b[0m \u001b[0mstate_dist\u001b[0m\u001b[1;33m(\u001b[0m\u001b[0mvisits\u001b[0m\u001b[1;33m)\u001b[0m\u001b[1;33m\u001b[0m\u001b[1;33m\u001b[0m\u001b[0m\n\u001b[1;32m----> 3\u001b[1;33m \u001b[0mabs_action\u001b[0m \u001b[1;33m=\u001b[0m \u001b[0maction_abstraction\u001b[0m\u001b[1;33m(\u001b[0m\u001b[0mreturns_table\u001b[0m\u001b[1;33m,\u001b[0m \u001b[0mrho\u001b[0m\u001b[1;33m)\u001b[0m\u001b[1;33m\u001b[0m\u001b[1;33m\u001b[0m\u001b[0m\n\u001b[0m\u001b[0;32m      4\u001b[0m \u001b[0msa_values\u001b[0m\u001b[1;33m,\u001b[0m \u001b[0ma_values\u001b[0m\u001b[1;33m,\u001b[0m \u001b[0mbias_squared\u001b[0m \u001b[1;33m=\u001b[0m \u001b[0maction_abstraction_bias\u001b[0m\u001b[1;33m(\u001b[0m\u001b[0mreturns_table\u001b[0m\u001b[1;33m,\u001b[0m \u001b[0mabs_action\u001b[0m\u001b[1;33m)\u001b[0m\u001b[1;33m\u001b[0m\u001b[1;33m\u001b[0m\u001b[0m\n\u001b[0;32m      5\u001b[0m \u001b[0mheatmap\u001b[0m \u001b[1;33m=\u001b[0m \u001b[0mgenerate_heatmap\u001b[0m\u001b[1;33m(\u001b[0m\u001b[0mgrid\u001b[0m\u001b[1;33m,\u001b[0m \u001b[0mrho\u001b[0m\u001b[1;33m)\u001b[0m\u001b[1;33m\u001b[0m\u001b[1;33m\u001b[0m\u001b[0m\n",
      "\u001b[1;32m~\\Documents\\MARL\\RapidRL\\MDP\\functions.py\u001b[0m in \u001b[0;36maction_abstraction\u001b[1;34m(sa_values_table, state_dist_table)\u001b[0m\n\u001b[0;32m    175\u001b[0m             \u001b[1;32mpass\u001b[0m\u001b[1;33m\u001b[0m\u001b[1;33m\u001b[0m\u001b[0m\n\u001b[0;32m    176\u001b[0m         \u001b[1;32melse\u001b[0m\u001b[1;33m:\u001b[0m\u001b[1;33m\u001b[0m\u001b[1;33m\u001b[0m\u001b[0m\n\u001b[1;32m--> 177\u001b[1;33m             \u001b[0mabstraction\u001b[0m\u001b[1;33m[\u001b[0m\u001b[0maction\u001b[0m\u001b[1;33m]\u001b[0m \u001b[1;33m=\u001b[0m \u001b[0mQpi_a\u001b[0m\u001b[1;33m(\u001b[0m\u001b[0maction\u001b[0m\u001b[1;33m,\u001b[0m \u001b[0msa_values_table\u001b[0m\u001b[1;33m,\u001b[0m \u001b[0mstate_dist_table\u001b[0m\u001b[1;33m)\u001b[0m\u001b[1;33m\u001b[0m\u001b[1;33m\u001b[0m\u001b[0m\n\u001b[0m\u001b[0;32m    178\u001b[0m \u001b[1;33m\u001b[0m\u001b[0m\n\u001b[0;32m    179\u001b[0m     \u001b[1;32mreturn\u001b[0m \u001b[0mabstraction\u001b[0m\u001b[1;33m\u001b[0m\u001b[1;33m\u001b[0m\u001b[0m\n",
      "\u001b[1;32m~\\Documents\\MARL\\RapidRL\\MDP\\functions.py\u001b[0m in \u001b[0;36mQpi_a\u001b[1;34m(action, return_table, rho)\u001b[0m\n\u001b[0;32m     78\u001b[0m         \u001b[1;32mif\u001b[0m \u001b[0maction\u001b[0m \u001b[1;32min\u001b[0m \u001b[0mactions\u001b[0m\u001b[1;33m.\u001b[0m\u001b[0mkeys\u001b[0m\u001b[1;33m(\u001b[0m\u001b[1;33m)\u001b[0m\u001b[1;33m:\u001b[0m\u001b[1;33m\u001b[0m\u001b[1;33m\u001b[0m\u001b[0m\n\u001b[0;32m     79\u001b[0m             \u001b[0mprint\u001b[0m\u001b[1;33m(\u001b[0m\u001b[0mrho\u001b[0m\u001b[1;33m)\u001b[0m\u001b[1;33m\u001b[0m\u001b[1;33m\u001b[0m\u001b[0m\n\u001b[1;32m---> 80\u001b[1;33m             \u001b[0mabstraction\u001b[0m \u001b[1;33m+=\u001b[0m \u001b[0mrho\u001b[0m\u001b[1;33m[\u001b[0m\u001b[0mstate\u001b[0m\u001b[1;33m]\u001b[0m \u001b[1;33m*\u001b[0m \u001b[0mreturn_table\u001b[0m\u001b[1;33m[\u001b[0m\u001b[0mstate\u001b[0m\u001b[1;33m]\u001b[0m\u001b[1;33m[\u001b[0m\u001b[0maction\u001b[0m\u001b[1;33m]\u001b[0m\u001b[1;33m\u001b[0m\u001b[1;33m\u001b[0m\u001b[0m\n\u001b[0m\u001b[0;32m     81\u001b[0m     \u001b[1;32mreturn\u001b[0m \u001b[0mabstraction\u001b[0m\u001b[1;33m\u001b[0m\u001b[1;33m\u001b[0m\u001b[0m\n\u001b[0;32m     82\u001b[0m \u001b[1;33m\u001b[0m\u001b[0m\n",
      "\u001b[1;31mKeyError\u001b[0m: <MDP.environments.State object at 0x0000020D938CAA30>"
     ]
    }
   ],
   "source": [
    "returns_table = cumulative_table(trajectories, gamma, Qpi_sa, q_table)\n",
    "rho = state_dist(visits)\n",
    "abs_action = action_abstraction(returns_table, rho)\n",
    "sa_values, a_values, bias_squared = action_abstraction_bias(returns_table, abs_action)\n",
    "heatmap = generate_heatmap(grid, rho)\n",
    "heatmapQ = generate_heatmap(grid, q_table, aggf=lambda x: max(v for v in x.values()))\n",
    "n_maps = {}\n",
    "for a in agent.actions:\n",
    "    n_maps[a] = generate_heatmap(grid, n_table, aggf=lambda x: x[a])\n",
    "    \n",
    "nt_maps = {}\n",
    "for a in agent.actions:\n",
    "    hm = np.copy(grid)*0\n",
    "    for state, actions in n_visits.items():\n",
    "        if a in list(actions.keys()):\n",
    "            hm[int(state[1]), int(state[3])] = actions[a]\n",
    "    nt_maps[a] = hm"
   ]
  },
  {
   "cell_type": "markdown",
   "metadata": {},
   "source": [
    "### Plot Results"
   ]
  },
  {
   "cell_type": "code",
   "execution_count": null,
   "metadata": {
    "scrolled": false
   },
   "outputs": [],
   "source": [
    "# First plot\n",
    "%matplotlib notebook\n",
    "print('(Plotting 1 of 1)')\n",
    "fig, ax = plt.subplots(ncols=2, nrows=6, figsize=(8, 12))\n",
    "\n",
    "ax[0, 0].scatter(sa_values, a_values)\n",
    "ax[0, 0].set_title('Bias plot')\n",
    "ax[0, 0].set_xlabel('state action pair value')\n",
    "ax[0, 0].set_ylabel('action abstraction value')\n",
    "#ax[0, 0].set_ylim((0, 40))\n",
    "\n",
    "ax[0, 1].hist(bias_squared, cumulative=True, bins=25)\n",
    "ax[0, 1].set_title('Bias squared plot')\n",
    "ax[0, 1].set_xlabel(r'$(v_{sa} - v_{a})^2$')\n",
    "ax[0, 1].set_ylabel('freq')\n",
    "# plt.ylim((0, 40))\n",
    "\n",
    "ax[1, 0].imshow(heatmap, cmap='binary')\n",
    "ax[1, 0].set_title('gridworld visits heatmap')\n",
    "\n",
    "ax[1, 1].imshow(heatmapQ, cmap='binary')\n",
    "ax[1, 1].set_title('gridworld qvalues')\n",
    "\n",
    "ind = 4\n",
    "for action, n_map in n_maps.items():\n",
    "    x,y = (floor(ind/2), ind%2)\n",
    "    ax[x,y].imshow(n_maps[action], cmap='binary')\n",
    "    ax[x,y].set_title('n_values for action: %s' % action)\n",
    "    ind += 1\n",
    "\n",
    "for action, n_map in n_maps.items():\n",
    "    x,y = (floor(ind/2), ind%2)\n",
    "    ax[x,y].imshow(nt_maps[action], cmap='binary')\n",
    "    ax[x,y].set_title('n_visits for action: %s' % action)\n",
    "    ind += 1\n",
    "\n",
    "plt.tight_layout()\n",
    "plt.show()"
   ]
  },
  {
   "cell_type": "code",
   "execution_count": null,
   "metadata": {},
   "outputs": [],
   "source": []
  }
 ],
 "metadata": {
  "kernelspec": {
   "display_name": "Python 3",
   "language": "python",
   "name": "python3"
  },
  "language_info": {
   "codemirror_mode": {
    "name": "ipython",
    "version": 3
   },
   "file_extension": ".py",
   "mimetype": "text/x-python",
   "name": "python",
   "nbconvert_exporter": "python",
   "pygments_lexer": "ipython3",
   "version": "3.8.5"
  }
 },
 "nbformat": 4,
 "nbformat_minor": 2
}

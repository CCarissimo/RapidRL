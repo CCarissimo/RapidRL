{
 "cells": [
  {
   "cell_type": "code",
   "execution_count": 1,
   "metadata": {},
   "outputs": [],
   "source": [
    "from MDP import *\n",
    "import matplotlib.pyplot as plt\n",
    "import numpy as np\n",
    "from tqdm.auto import tqdm\n",
    "from math import floor"
   ]
  },
  {
   "cell_type": "code",
   "execution_count": 69,
   "metadata": {},
   "outputs": [
    {
     "name": "stdout",
     "output_type": "stream",
     "text": [
      "(Creating Willemsen Gridworld)\n"
     ]
    }
   ],
   "source": [
    "# Create the gridworld, and set cell values to equal rewards\n",
    "print('(Creating Willemsen Gridworld)')\n",
    "grid = np.ones((3, 9)) * -1\n",
    "grid[1,:8] = 0\n",
    "grid[1, 8] = 0.1\n",
    "grid[2, :8] = 0\n",
    "terminal_state = []\n",
    "for i in [0,2]:\n",
    "    for j in range(8):\n",
    "        terminal_state.append([i,j])\n",
    "terminal_state.append([1,8])\n",
    "terminal_state = np.array(terminal_state)\n",
    "initial_state = np.array([1, 0])\n",
    "blacked_state = np.array([[0, 8],[2, 8]])\n",
    "\n",
    "# fig, ax, im, cb = plot_gridworld(grid, terminal_state, initial_state, blacked_state, fig=None, ax=None, show=True)"
   ]
  },
  {
   "cell_type": "code",
   "execution_count": 70,
   "metadata": {},
   "outputs": [],
   "source": [
    "n_episodes = 100\n",
    "max_steps = 100\n",
    "gamma = 0.8\n",
    "alpha = 0.1\n",
    "\n",
    "EXPLORATION_TYPE = 'GREEDY'\n",
    "\n",
    "if EXPLORATION_TYPE == 'RANDOM':\n",
    "    epsilons = np.ones(n_episodes)\n",
    "elif EXPLORATION_TYPE == 'GREEDY':\n",
    "    epsilons = np.flip(np.linspace(0.05, 1, n_episodes))\n",
    "\n",
    "Learn = True\n",
    "batch_size = 1\n",
    "FILE_SIG = f\"Results_n={n_episodes}, nB={batch_size}, exp={EXPLORATION_TYPE} GW2\"\n",
    "\n",
    "env = Gridworld(grid, terminal_state, initial_state, blacked_state, max_steps)"
   ]
  },
  {
   "cell_type": "code",
   "execution_count": 71,
   "metadata": {},
   "outputs": [],
   "source": [
    "class global_context(Mask):\n",
    "    def apply(self, transition):\n",
    "        context = 0\n",
    "        return context\n",
    "\n",
    "class Noveltor(Agent):\n",
    "    def combine_state_estimators(self, transition):\n",
    "        # Epsilon Greey Action Selection based on Q values\n",
    "        if np.random.random() > 1 - self.epsilon:\n",
    "            action = self.actions[np.random.randint(self.n_actions)]\n",
    "        else:\n",
    "            Qs = self.estimators[1].evaluate(transition)\n",
    "            max_value = max(Qs.values())\n",
    "            max_actions = [k for k,v in Qs.items() if v == max_value]\n",
    "            action = np.random.choice(max_actions)\n",
    "        return action"
   ]
  },
  {
   "cell_type": "code",
   "execution_count": 72,
   "metadata": {},
   "outputs": [],
   "source": [
    "agent = Noveltor(estimators = [Estimator(approximator=bQt_novel_alpha(gamma=0.8), mask=identity()), \n",
    "                           Estimator(approximator=bellman_N_table(alpha=0.1, gamma=0.8), mask=identity()),\n",
    "                           Estimator(global_N_abstractor(alpha=0.1, gamma=0.8), mask=global_context()),\n",
    "                           Estimator(global_Q_abstractor(gamma=0.8), mask=global_context())],\n",
    "                buffer = ReplayMemory(max_size=10000),\n",
    "                targets = [Target()],\n",
    "                counter = state_table(),\n",
    "                batch_size=batch_size)"
   ]
  },
  {
   "cell_type": "code",
   "execution_count": 81,
   "metadata": {},
   "outputs": [],
   "source": [
    "env.reset()\n",
    "agent.reset_trajectory()\n",
    "agent.epsilon = epsilons[0]"
   ]
  },
  {
   "cell_type": "code",
   "execution_count": 82,
   "metadata": {},
   "outputs": [
    {
     "name": "stdout",
     "output_type": "stream",
     "text": [
      "up defaultdict(<function table.__init__.<locals>.<lambda> at 0x0000016FD7FD0CA0>, {(1, 0): {'up': 0, 'down': 0.15933333333333335, 'left': 0, 'right': 0}, (2, 0): {'up': 0, 'down': 0, 'left': 0, 'right': 0}})\n"
     ]
    }
   ],
   "source": [
    "action = agent.select_action(env.transition)\n",
    "\n",
    "transition = env.step(action)\n",
    "\n",
    "agent.observe(transition)\n",
    "\n",
    "print(action, agent.estimators[1].approximator.table)"
   ]
  },
  {
   "cell_type": "code",
   "execution_count": 84,
   "metadata": {},
   "outputs": [
    {
     "data": {
      "text/plain": [
       "[T((1, 0),up)-->(0, 0))]"
      ]
     },
     "execution_count": 84,
     "metadata": {},
     "output_type": "execute_result"
    }
   ],
   "source": [
    "agent.trajectory"
   ]
  },
  {
   "cell_type": "code",
   "execution_count": null,
   "metadata": {},
   "outputs": [],
   "source": []
  }
 ],
 "metadata": {
  "kernelspec": {
   "display_name": "Python 3",
   "language": "python",
   "name": "python3"
  },
  "language_info": {
   "codemirror_mode": {
    "name": "ipython",
    "version": 3
   },
   "file_extension": ".py",
   "mimetype": "text/x-python",
   "name": "python",
   "nbconvert_exporter": "python",
   "pygments_lexer": "ipython3",
   "version": "3.8.5"
  }
 },
 "nbformat": 4,
 "nbformat_minor": 4
}
